{
 "cells": [
  {
   "cell_type": "markdown",
   "id": "4bcaf08a",
   "metadata": {
    "papermill": {
     "duration": 0.003165,
     "end_time": "2022-06-25T16:49:34.659921",
     "exception": false,
     "start_time": "2022-06-25T16:49:34.656756",
     "status": "completed"
    },
    "tags": []
   },
   "source": [
    "# Text Extraction\n",
    "As a first step of the pipeline, we aim to extract text from PDFs in this notebook. The input PDFs for this notebook is in the `ROOT/data/pdfs` directory and the output json will be stored in `ROOT/data/extract` directory. The output from this notebook combined with the annotations will be used in the next step of curation."
   ]
  },
  {
   "cell_type": "code",
   "execution_count": null,
   "id": "8a565c11",
   "metadata": {
    "papermill": {
     "duration": 18.583018,
     "end_time": "2022-06-25T16:49:53.246348",
     "exception": false,
     "start_time": "2022-06-25T16:49:34.663330",
     "status": "completed"
    },
    "tags": []
   },
   "outputs": [],
   "source": [
    "# Author: ALLIANZ NLP esg data pipeline\n",
    "import os\n",
    "import pathlib\n",
    "from dotenv import load_dotenv\n",
    "\n",
    "import config\n",
    "from src.components.preprocessing.extractor import Extractor\n",
    "from src.data.s3_communication import S3Communication"
   ]
  },
  {
   "cell_type": "markdown",
   "id": "ea8fcf11",
   "metadata": {
    "papermill": {
     "duration": 0.002884,
     "end_time": "2022-06-25T16:49:53.252284",
     "exception": false,
     "start_time": "2022-06-25T16:49:53.249400",
     "status": "completed"
    },
    "tags": []
   },
   "source": [
    "### Injecting Credentials\n",
    "\n",
    "In order to run this notebook, we need credentials to connect with S3 storage to retrieve and store data.\n",
    "\n",
    "In an automated environment, the credentials can be specified in a pipeline's environment variables or through Openshift secrets.\n",
    "\n",
    "For running the notebook in automation in an elyra pipeline, the environment variables can be updated in the notebook \"Properties\" in the pipeline UI or under `\"env_vars\"` in the `demo2.pipeline yaml` file.\n",
    "\n",
    "For running the notebook in a local environment, we will define them as environment variables in a `credentials.env` file at the root of the project repository, and load them using dotenv. An example of what the contents of `credentials.env` could look like is shown below\n",
    "\n",
    "```\n",
    "# s3 credentials\n",
    "S3_ENDPOINT=https://s3.us-east-1.amazonaws.com\n",
    "S3_BUCKET=ocp-odh-os-demo-s3\n",
    "AWS_ACCESS_KEY_ID=xxx\n",
    "AWS_SECRET_ACCESS_KEY=xxx\n",
    "```"
   ]
  },
  {
   "cell_type": "code",
   "execution_count": null,
   "id": "a74d1cb5",
   "metadata": {
    "papermill": {
     "duration": 0.017522,
     "end_time": "2022-06-25T16:49:53.272233",
     "exception": false,
     "start_time": "2022-06-25T16:49:53.254711",
     "status": "completed"
    },
    "tags": []
   },
   "outputs": [],
   "source": [
    "# Load credentials\n",
    "dotenv_dir = os.environ.get(\n",
    "    \"CREDENTIAL_DOTENV_DIR\", os.environ.get(\"PWD\", \"/opt/app-root/src\")\n",
    ")\n",
    "dotenv_path = pathlib.Path(dotenv_dir) / \"credentials.env\"\n",
    "if os.path.exists(dotenv_path):\n",
    "    load_dotenv(dotenv_path=dotenv_path, override=True)"
   ]
  },
  {
   "cell_type": "code",
   "execution_count": null,
   "id": "8585042a",
   "metadata": {
    "papermill": {
     "duration": 0.206683,
     "end_time": "2022-06-25T16:49:53.481154",
     "exception": false,
     "start_time": "2022-06-25T16:49:53.274471",
     "status": "completed"
    },
    "tags": []
   },
   "outputs": [],
   "source": [
    "# init s3 connector\n",
    "s3c = S3Communication(\n",
    "    s3_endpoint_url=os.getenv(\"S3_ENDPOINT\"),\n",
    "    aws_access_key_id=os.getenv(\"S3_LANDING_ACCESS_KEY\"),\n",
    "    aws_secret_access_key=os.getenv(\"S3_LANDING_SECRET_KEY\"),\n",
    "    s3_bucket=os.getenv(\"S3_BUCKET\"),\n",
    ")"
   ]
  },
  {
   "cell_type": "code",
   "execution_count": null,
   "id": "9b56396a",
   "metadata": {
    "papermill": {
     "duration": null,
     "end_time": null,
     "exception": false,
     "start_time": "2022-06-25T16:49:53.484362",
     "status": "running"
    },
    "tags": []
   },
   "outputs": [],
   "source": [
    "# When running in Automation using Elyra and Kubeflow Pipelines,\n",
    "# set AUTOMATION = 1 as an environment variable\n",
    "if os.getenv(\"AUTOMATION\"):\n",
    "    if not os.path.exists(config.CHECKPOINT_FOLDER):\n",
    "        config.CHECKPOINT_FOLDER.mkdir(parents=True, exist_ok=True)\n",
    "\n",
    "    if not os.path.exists(config.BASE_PDF_FOLDER):\n",
    "        config.BASE_PDF_FOLDER.mkdir(parents=True, exist_ok=True)\n",
    "\n",
    "    if not os.path.exists(config.BASE_EXTRACTION_FOLDER):\n",
    "        config.BASE_EXTRACTION_FOLDER.mkdir(parents=True, exist_ok=True)\n",
    "\n",
    "    # download all files from which text is to be extracted\n",
    "    s3c.download_files_in_prefix_to_dir(\n",
    "        config.BASE_PDF_S3_PREFIX,\n",
    "        config.BASE_PDF_FOLDER,\n",
    "    )"
   ]
  },
  {
   "cell_type": "markdown",
   "id": "8c1214bf",
   "metadata": {
    "papermill": {
     "duration": null,
     "end_time": null,
     "exception": null,
     "start_time": null,
     "status": "pending"
    },
    "tags": []
   },
   "source": [
    "### Call text extracter"
   ]
  },
  {
   "cell_type": "code",
   "execution_count": null,
   "id": "b1f4fcc1",
   "metadata": {
    "papermill": {
     "duration": null,
     "end_time": null,
     "exception": null,
     "start_time": null,
     "status": "pending"
    },
    "tags": []
   },
   "outputs": [],
   "source": [
    "PDFTextExtractor_kwargs = {\n",
    "    \"min_paragraph_length\": 30,\n",
    "    \"annotation_folder\": None,\n",
    "    \"skip_extracted_files\": False,\n",
    "}"
   ]
  },
  {
   "cell_type": "code",
   "execution_count": null,
   "id": "af666e22",
   "metadata": {
    "papermill": {
     "duration": null,
     "end_time": null,
     "exception": null,
     "start_time": null,
     "status": "pending"
    },
    "tags": []
   },
   "outputs": [],
   "source": [
    "ext = Extractor([(\"PDFTextExtractor\", PDFTextExtractor_kwargs)])\n",
    "ext.run_folder(config.BASE_PDF_FOLDER, config.BASE_EXTRACTION_FOLDER)"
   ]
  },
  {
   "cell_type": "code",
   "execution_count": null,
   "id": "ae8a7c00",
   "metadata": {
    "papermill": {
     "duration": null,
     "end_time": null,
     "exception": null,
     "start_time": null,
     "status": "pending"
    },
    "tags": []
   },
   "outputs": [],
   "source": [
    "if os.getenv(\"AUTOMATION\"):\n",
    "    # upload the extracted files to s3\n",
    "    s3c.upload_files_in_dir_to_prefix(\n",
    "        config.BASE_EXTRACTION_FOLDER,\n",
    "        config.BASE_EXTRACTION_S3_PREFIX\n",
    "    )"
   ]
  },
  {
   "cell_type": "markdown",
   "id": "3a3fb75c",
   "metadata": {
    "papermill": {
     "duration": null,
     "end_time": null,
     "exception": null,
     "start_time": null,
     "status": "pending"
    },
    "tags": []
   },
   "source": [
    "### Conclusion\n",
    "We called the Extractor class to extract text from the PDF and store the ouput in the `ROOT/data/extraction` folder."
   ]
  }
 ],
 "metadata": {
  "dependency_resolution_engine": "pipenv",
  "kernelspec": {
   "display_name": "Python 3 (ipykernel)",
   "language": "python",
   "name": "python3"
  },
  "language_info": {
   "codemirror_mode": {
    "name": "ipython",
    "version": 3
   },
   "file_extension": ".py",
   "mimetype": "text/x-python",
   "name": "python",
   "nbconvert_exporter": "python",
   "pygments_lexer": "ipython3",
   "version": "3.8.8"
  },
  "papermill": {
   "default_parameters": {},
   "duration": null,
   "end_time": null,
   "environment_variables": {},
   "exception": null,
   "input_path": "/opt/app-root/src/aicoe-osc-demo/notebooks/demo2/pdf_text_extraction.ipynb",
   "output_path": "/opt/app-root/src/aicoe-osc-demo/notebooks/demo2/pdf_text_extraction.ipynb",
   "parameters": {},
   "start_time": "2022-06-25T16:49:32.425568",
   "version": "2.3.4"
  },
  "requirements": "{\"packages\":{\"config\":\"*\",\"src\":\"*\"},\"requires\":{\"python_version\":\"3.8\"},\"sources\":[{\"name\":\"pypi\",\"url\":\"https://pypi.org/simple\",\"verify_ssl\":true}]}",
  "requirements_lock": "{\"_meta\":{\"sources\":[{\"url\":\"https://pypi.org/simple\",\"verify_ssl\":true,\"name\":\"pypi\"}],\"requires\":{\"python_version\":\"3.8\"},\"hash\":{\"sha256\":\"e8a991415fecbbd714573539a77d69175edbedb517f135bd18e59629878bbc23\"},\"pipfile-spec\":6},\"default\":{\"config\":{\"version\":\"==0.5.1\",\"hashes\":[\"sha256:2dd4a03aa383d30711d5a3325a1858de225328d61950a85be5b74c100f63016d\",\"sha256:79ffa009ff2663cc8ca29e56bcec031c044609d4bafaa4f884132a413101ce84\"],\"index\":\"pypi\"},\"src\":{\"version\":\"==0.0.7\",\"hashes\":[\"sha256:2a33bd2995800b2d3fc80efb94a300951413e02ede94691aef58bffbd69e5b0e\"],\"index\":\"pypi\"}},\"develop\":{}}"
 },
 "nbformat": 4,
 "nbformat_minor": 5
}
