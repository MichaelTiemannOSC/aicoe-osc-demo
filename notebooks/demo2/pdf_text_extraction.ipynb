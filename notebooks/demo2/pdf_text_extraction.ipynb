{
 "cells": [
  {
   "cell_type": "markdown",
   "id": "4bcaf08a",
   "metadata": {
    "papermill": {
     "duration": 0.00316,
     "end_time": "2022-07-02T03:31:57.477214",
     "exception": false,
     "start_time": "2022-07-02T03:31:57.474054",
     "status": "completed"
    },
    "tags": []
   },
   "source": [
    "# Text Extraction\n",
    "As a first step of the pipeline, we aim to extract text from PDFs in this notebook. The input PDFs for this notebook is in the `ROOT/data/pdfs` directory and the output json will be stored in `ROOT/data/extract` directory. The output from this notebook combined with the annotations will be used in the next step of curation."
   ]
  },
  {
   "cell_type": "code",
   "execution_count": 1,
   "id": "8a565c11",
   "metadata": {
    "execution": {
     "iopub.execute_input": "2022-07-02T03:31:57.485976Z",
     "iopub.status.busy": "2022-07-02T03:31:57.485522Z",
     "iopub.status.idle": "2022-07-02T03:32:07.113061Z",
     "shell.execute_reply": "2022-07-02T03:32:07.112253Z"
    },
    "papermill": {
     "duration": 9.636404,
     "end_time": "2022-07-02T03:32:07.116204",
     "exception": false,
     "start_time": "2022-07-02T03:31:57.479800",
     "status": "completed"
    },
    "tags": []
   },
   "outputs": [],
   "source": [
    "# Author: ALLIANZ NLP esg data pipeline\n",
    "import os\n",
    "import pathlib\n",
    "from dotenv import load_dotenv\n",
    "\n",
    "import config\n",
    "from src.components.preprocessing.extractor import Extractor\n",
    "from src.data.s3_communication import S3Communication"
   ]
  },
  {
   "cell_type": "markdown",
   "id": "ea8fcf11",
   "metadata": {
    "papermill": {
     "duration": 0.002822,
     "end_time": "2022-07-02T03:32:07.123649",
     "exception": false,
     "start_time": "2022-07-02T03:32:07.120827",
     "status": "completed"
    },
    "tags": []
   },
   "source": [
    "### Injecting Credentials\n",
    "\n",
    "In order to run this notebook, we need credentials to connect with S3 storage to retrieve and store data.\n",
    "\n",
    "In an automated environment, the credentials can be specified in a pipeline's environment variables or through Openshift secrets.\n",
    "\n",
    "For running the notebook in automation in an elyra pipeline, the environment variables can be updated in the notebook \"Properties\" in the pipeline UI or under `\"env_vars\"` in the `demo2.pipeline yaml` file.\n",
    "\n",
    "For running the notebook in a local environment, we will define them as environment variables in a `credentials.env` file at the root of the project repository, and load them using dotenv. An example of what the contents of `credentials.env` could look like is shown below\n",
    "\n",
    "```\n",
    "# s3 credentials\n",
    "S3_ENDPOINT=https://s3.us-east-1.amazonaws.com\n",
    "S3_BUCKET=ocp-odh-os-demo-s3\n",
    "AWS_ACCESS_KEY_ID=xxx\n",
    "AWS_SECRET_ACCESS_KEY=xxx\n",
    "```"
   ]
  },
  {
   "cell_type": "code",
   "execution_count": 2,
   "id": "a74d1cb5",
   "metadata": {
    "execution": {
     "iopub.execute_input": "2022-07-02T03:32:07.130136Z",
     "iopub.status.busy": "2022-07-02T03:32:07.129454Z",
     "iopub.status.idle": "2022-07-02T03:32:07.140631Z",
     "shell.execute_reply": "2022-07-02T03:32:07.139980Z"
    },
    "papermill": {
     "duration": 0.016427,
     "end_time": "2022-07-02T03:32:07.142377",
     "exception": false,
     "start_time": "2022-07-02T03:32:07.125950",
     "status": "completed"
    },
    "tags": []
   },
   "outputs": [],
   "source": [
    "# Load credentials\n",
    "dotenv_dir = os.environ.get(\n",
    "    \"CREDENTIAL_DOTENV_DIR\", os.environ.get(\"PWD\", \"/opt/app-root/src\")\n",
    ")\n",
    "dotenv_path = pathlib.Path(dotenv_dir) / \"credentials.env\"\n",
    "if os.path.exists(dotenv_path):\n",
    "    load_dotenv(dotenv_path=dotenv_path, override=True)"
   ]
  },
  {
   "cell_type": "code",
   "execution_count": 3,
   "id": "8585042a",
   "metadata": {
    "execution": {
     "iopub.execute_input": "2022-07-02T03:32:07.148350Z",
     "iopub.status.busy": "2022-07-02T03:32:07.147745Z",
     "iopub.status.idle": "2022-07-02T03:32:07.229730Z",
     "shell.execute_reply": "2022-07-02T03:32:07.228969Z"
    },
    "papermill": {
     "duration": 0.08687,
     "end_time": "2022-07-02T03:32:07.231521",
     "exception": false,
     "start_time": "2022-07-02T03:32:07.144651",
     "status": "completed"
    },
    "tags": []
   },
   "outputs": [],
   "source": [
    "# init s3 connector\n",
    "s3c = S3Communication(\n",
    "    s3_endpoint_url=os.getenv(\"S3_ENDPOINT\"),\n",
    "    aws_access_key_id=os.getenv(\"S3_LANDING_ACCESS_KEY\"),\n",
    "    aws_secret_access_key=os.getenv(\"S3_LANDING_SECRET_KEY\"),\n",
    "    s3_bucket=os.getenv(\"S3_BUCKET\"),\n",
    ")"
   ]
  },
  {
   "cell_type": "code",
   "execution_count": 4,
   "id": "9b56396a",
   "metadata": {
    "execution": {
     "iopub.execute_input": "2022-07-02T03:32:07.237858Z",
     "iopub.status.busy": "2022-07-02T03:32:07.237339Z",
     "iopub.status.idle": "2022-07-02T03:32:07.706584Z",
     "shell.execute_reply": "2022-07-02T03:32:07.705710Z"
    },
    "papermill": {
     "duration": 0.476193,
     "end_time": "2022-07-02T03:32:07.710208",
     "exception": false,
     "start_time": "2022-07-02T03:32:07.234015",
     "status": "completed"
    },
    "tags": []
   },
   "outputs": [],
   "source": [
    "# When running in Automation using Elyra and Kubeflow Pipelines,\n",
    "# set AUTOMATION = 1 as an environment variable\n",
    "if os.getenv(\"AUTOMATION\"):\n",
    "    if not os.path.exists(config.CHECKPOINT_FOLDER):\n",
    "        config.CHECKPOINT_FOLDER.mkdir(parents=True, exist_ok=True)\n",
    "\n",
    "    if not os.path.exists(config.BASE_PDF_FOLDER):\n",
    "        config.BASE_PDF_FOLDER.mkdir(parents=True, exist_ok=True)\n",
    "\n",
    "    if not os.path.exists(config.BASE_EXTRACTION_FOLDER):\n",
    "        config.BASE_EXTRACTION_FOLDER.mkdir(parents=True, exist_ok=True)\n",
    "\n",
    "    # download all files from which text is to be extracted\n",
    "    s3c.download_files_in_prefix_to_dir(\n",
    "        config.BASE_PDF_S3_PREFIX,\n",
    "        config.BASE_PDF_FOLDER,\n",
    "    )"
   ]
  },
  {
   "cell_type": "markdown",
   "id": "8c1214bf",
   "metadata": {
    "papermill": {
     "duration": 0.002302,
     "end_time": "2022-07-02T03:32:07.716069",
     "exception": false,
     "start_time": "2022-07-02T03:32:07.713767",
     "status": "completed"
    },
    "tags": []
   },
   "source": [
    "### Call text extracter"
   ]
  },
  {
   "cell_type": "code",
   "execution_count": 5,
   "id": "b1f4fcc1",
   "metadata": {
    "execution": {
     "iopub.execute_input": "2022-07-02T03:32:07.722836Z",
     "iopub.status.busy": "2022-07-02T03:32:07.722162Z",
     "iopub.status.idle": "2022-07-02T03:32:07.726137Z",
     "shell.execute_reply": "2022-07-02T03:32:07.725503Z"
    },
    "papermill": {
     "duration": 0.026113,
     "end_time": "2022-07-02T03:32:07.744804",
     "exception": false,
     "start_time": "2022-07-02T03:32:07.718691",
     "status": "completed"
    },
    "tags": []
   },
   "outputs": [],
   "source": [
    "PDFTextExtractor_kwargs = {\n",
    "    \"min_paragraph_length\": 30,\n",
    "    \"annotation_folder\": None,\n",
    "    \"skip_extracted_files\": False,\n",
    "}"
   ]
  },
  {
   "cell_type": "code",
   "execution_count": 6,
   "id": "af666e22",
   "metadata": {
    "execution": {
     "iopub.execute_input": "2022-07-02T03:32:07.751249Z",
     "iopub.status.busy": "2022-07-02T03:32:07.750723Z"
    },
    "papermill": {
     "duration": null,
     "end_time": null,
     "exception": false,
     "start_time": "2022-07-02T03:32:07.747600",
     "status": "running"
    },
    "tags": []
   },
   "outputs": [
    {
     "name": "stdout",
     "output_type": "stream",
     "text": [
      "['/opt/app-root/data/pdfs/04_NOVATEK_AR_2016_ENG_11.pdf', '/opt/app-root/data/pdfs/04_NOVATEK_AR_2018_ENG_15.pdf', '/opt/app-root/data/pdfs/2013_book_mol_ar_eng_fin.pdf', '/opt/app-root/data/pdfs/2015_BASF_Report.pdf', '/opt/app-root/data/pdfs/2017 Sustainability Report.pdf', '/opt/app-root/data/pdfs/2017-Sustainability-Report.pdf', '/opt/app-root/data/pdfs/2017_SustainabilityReport_2_9_Web.pdf', '/opt/app-root/data/pdfs/2017_sustainability_report.pdf', '/opt/app-root/data/pdfs/2017_sustainability_report_tcm14-130393.pdf', '/opt/app-root/data/pdfs/2018 Annual Report.pdf', '/opt/app-root/data/pdfs/2018_sustainability_report.pdf', '/opt/app-root/data/pdfs/2019 Annual Report.pdf', '/opt/app-root/data/pdfs/2019_global_sustainability_plan_tcm14-148662.pdf', '/opt/app-root/data/pdfs/28022019-Repsol-Annual-Financial-Report-2018_tcm14-147383.pdf', '/opt/app-root/data/pdfs/2_LOTOS_Group Directors Report 2019.pdf', '/opt/app-root/data/pdfs/AGL Energy Ltd Annual Report 2019.pdf', '/opt/app-root/data/pdfs/AGL Energy Ltd FY19 Carbon Scenario Analysis.pdf', '/opt/app-root/data/pdfs/AKERBP-Annual-Report-2016.pdf', '/opt/app-root/data/pdfs/AKERBP-Annual-Report-2017.pdf', '/opt/app-root/data/pdfs/ANNUAL REPORT 2017.pdf', '/opt/app-root/data/pdfs/AR_FS_2017_ENG.pdf', '/opt/app-root/data/pdfs/Adani Group Adani Enterprises Annual Report 2019.pdf', '/opt/app-root/data/pdfs/Adani Group Adani Power Annual Report 2019.pdf', '/opt/app-root/data/pdfs/Aker-BP-Annual-report-2018.pdf', '/opt/app-root/data/pdfs/Aker-BP-Sustainability-Report-2018-1.pdf', '/opt/app-root/data/pdfs/Aker-BP-Sustainability-Report-2019.pdf', '/opt/app-root/data/pdfs/Aker-BP-Sustainability-report-2017.pdf', '/opt/app-root/data/pdfs/Ameren Corporation Climate Risk Report 2019.pdf', '/opt/app-root/data/pdfs/Ameren Corporation Sustainability Template 2019.pdf', '/opt/app-root/data/pdfs/Ameren_2019_Annual_Report.pdf', '/opt/app-root/data/pdfs/Annual Report 2016_0.pdf', '/opt/app-root/data/pdfs/Annual-Report-2018.pdf', '/opt/app-root/data/pdfs/Annual-report-2019.pdf', '/opt/app-root/data/pdfs/Annual_Report_and_Accounts_Galp_2017_1.pdf', '/opt/app-root/data/pdfs/BASF_Report_2016.pdf', '/opt/app-root/data/pdfs/BASF_Report_2017.pdf', '/opt/app-root/data/pdfs/BASF_Report_2018.pdf', '/opt/app-root/data/pdfs/China Resources Power Holdings Co Ltd Annual Report 2018.pdf', '/opt/app-root/data/pdfs/China Resources Power Holdings Co Ltd Sustainable Development Report 2018.pdf', '/opt/app-root/data/pdfs/Coal India Ltd Annual Report 2018-2019.pdf', '/opt/app-root/data/pdfs/DTE Energy Co ESG Report 2019.pdf', '/opt/app-root/data/pdfs/DTEK BV Group Integrated Report 2017.pdf', '/opt/app-root/data/pdfs/DTEK BV Group Integrated Report 2018.pdf', '/opt/app-root/data/pdfs/Duke Energy Corporation Annual Report 2018.pdf', '/opt/app-root/data/pdfs/Duke Energy Corporation Sustainability Report 2018.pdf', '/opt/app-root/data/pdfs/Electricity Generating Authority of Thailand (EGAT) Corporate Website.pdf', '/opt/app-root/data/pdfs/Endesa SA Annual Report 2018.pdf', '/opt/app-root/data/pdfs/Endesa SA Sustainability Report 2018.pdf', '/opt/app-root/data/pdfs/Enel SA sustainability-report-2018.pdf', '/opt/app-root/data/pdfs/Enel SpA Annual Report 2019.pdf', '/opt/app-root/data/pdfs/Enel annual-report-2018.pdf', '/opt/app-root/data/pdfs/EniFor-2018-eng.pdf', '/opt/app-root/data/pdfs/Ervia-Annual-Report-2018.pdf', '/opt/app-root/data/pdfs/Eskom Holdings SOC Ltd Integrated Report 2019.pdf', '/opt/app-root/data/pdfs/FUGRO_JV2019_Clickable.pdf', '/opt/app-root/data/pdfs/GO SNG 2018 Eng annual.pdf', '/opt/app-root/data/pdfs/Galp_Integrated_Report_2018.pdf', '/opt/app-root/data/pdfs/Galp_PartI_IntegratedManagementReport_2019_ENG.pdf', '/opt/app-root/data/pdfs/Great Plains Energy Inc Sustainability Template 2019.pdf', '/opt/app-root/data/pdfs/J-POWER (Electric Power Development Co., Ltd.)_report.pdf', '/opt/app-root/data/pdfs/LSE_WG_2016.pdf', '/opt/app-root/data/pdfs/LUKOIL_ANNUAL_REPORT_2018_ENG.pdf', '/opt/app-root/data/pdfs/LUKOIL_SUSTAINABILITY_REPORT_2018.pdf', '/opt/app-root/data/pdfs/Maharashtra State Power Generation Co. Ltd._website.pdf', '/opt/app-root/data/pdfs/NRG Energy Inc_2018-nrg-sustainability-report.pdf', '/opt/app-root/data/pdfs/NRG Energy Inc_Form 10 K.pdf', '/opt/app-root/data/pdfs/NTPC Limited-Report-FY-19.pdf', '/opt/app-root/data/pdfs/NYSE_TOT_2015 annual.pdf', '/opt/app-root/data/pdfs/NYSE_TOT_2016 annual.pdf', '/opt/app-root/data/pdfs/NYSE_TOT_2017 annual.pdf', '/opt/app-root/data/pdfs/NYSE_TOT_2018 annual.pdf', '/opt/app-root/data/pdfs/ORI20022020_2019_annual_financial_report_tcm14-174953.pdf', '/opt/app-root/data/pdfs/PAO OGK-2_AR 2018.pdf', '/opt/app-root/data/pdfs/PGE-Presentation_Q42018_EN.pdf', '/opt/app-root/data/pdfs/PGE-in-transition_june_2019v_with comments.pdf', '/opt/app-root/data/pdfs/PGE_Mngmnt_Board_consolidated_report_PGE_CG_2018_with comments.pdf', '/opt/app-root/data/pdfs/PJSC Tatneft annual report 2015.pdf', '/opt/app-root/data/pdfs/PJSC Tatneft annual report 2017.pdf', '/opt/app-root/data/pdfs/PJSC Tatneft annual report 2018.pdf', '/opt/app-root/data/pdfs/RN_SR2018_eng_web_1 sustainability 2017.pdf', '/opt/app-root/data/pdfs/RN_SR_2016_EN(2) sustainabilitz 2016.pdf', '/opt/app-root/data/pdfs/RN_SR_2016_EN_2_ sustainabilitz 2016.pdf', '/opt/app-root/data/pdfs/RWE ESG presentation.pdf', '/opt/app-root/data/pdfs/RWE Investor Presentation.pdf', '/opt/app-root/data/pdfs/RWE-annual-report-2019.pdf', '/opt/app-root/data/pdfs/RWE-csr_overall-report-2019.pdf', '/opt/app-root/data/pdfs/RWE-factbook_report-2018.pdf', '/opt/app-root/data/pdfs/Rosneft_CSR18_EN_Book sustainabilitz 2018 .pdf', '/opt/app-root/data/pdfs/SAIPEM SUSTAINABILITY 2016.pdf', '/opt/app-root/data/pdfs/SG-RSE2016-2017-EN.pdf', '/opt/app-root/data/pdfs/SUEK_AR19_ENG.pdf', '/opt/app-root/data/pdfs/SaipemSustainability2018.pdf', '/opt/app-root/data/pdfs/Sustainability Report 2012_EN.pdf', '/opt/app-root/data/pdfs/Sustainability Report 2013_EN.pdf', '/opt/app-root/data/pdfs/Sustainability Report 2014_EN.pdf', '/opt/app-root/data/pdfs/Sustainability Report 2015_EN.pdf', '/opt/app-root/data/pdfs/Sustainability Report 2016_EN.pdf', '/opt/app-root/data/pdfs/Sustainability Report 2017_EN.pdf', '/opt/app-root/data/pdfs/Sustainability_Report_2017_Eng_small_1_.pdf', '/opt/app-root/data/pdfs/TGS-AR2019-FINAL-WEB-PAGES-reduced annual .pdf', '/opt/app-root/data/pdfs/Teekay-Corporation-2018-Sustainability-Report.pdf', '/opt/app-root/data/pdfs/Transocean_Sustain_digital_FN_4 2017_2018.pdf', '/opt/app-root/data/pdfs/Uniper_Sustainability_Report_2018.pdf', '/opt/app-root/data/pdfs/Uniper_Sustainability_Report_2019_EN.pdf', '/opt/app-root/data/pdfs/University of Plymouth Sustainability_Report_2018.pdf', '/opt/app-root/data/pdfs/VERBUND-Integrated-Annual-Report-2018-English.pdf', '/opt/app-root/data/pdfs/VERBUND-Integrated-Annual-Report-2019-Englisch.pdf', '/opt/app-root/data/pdfs/Vietnam Electricity Corporation (EVN)_AnnualReport2018(1).pdf', '/opt/app-root/data/pdfs/Wintershall Dea annual report 2019.pdf', '/opt/app-root/data/pdfs/Wintershall-Dea_Sustainability_Report_2019.pdf', '/opt/app-root/data/pdfs/Wood_Sustainability_Report_2018-19_web-1.pdf', '/opt/app-root/data/pdfs/XCEL Energy Inc_AR 2018.pdf', '/opt/app-root/data/pdfs/XCEL Energy Inc_CRR-Performance-Summary.pdf', '/opt/app-root/data/pdfs/annual 2015.pdf', '/opt/app-root/data/pdfs/annual 2016.pdf', '/opt/app-root/data/pdfs/annual 2017.pdf', '/opt/app-root/data/pdfs/annual 2018.pdf', '/opt/app-root/data/pdfs/annual-report-and-accounts.pdf', '/opt/app-root/data/pdfs/annual_report_2019_eng.pdf', '/opt/app-root/data/pdfs/ar_2016_book_eng_0606.pdf', '/opt/app-root/data/pdfs/ar_2019_e.pdf', '/opt/app-root/data/pdfs/dload_Sustainability Report 2018_en.pdf', '/opt/app-root/data/pdfs/dload_sustainabilityreport2019_EN.pdf', '/opt/app-root/data/pdfs/equinor-2019-annual-report-and-form-20f.pdf', '/opt/app-root/data/pdfs/gazprom-environmental-report-2018-en.pdf', '/opt/app-root/data/pdfs/gb_2019-en_interaktiv.pdf', '/opt/app-root/data/pdfs/hunting-annual-report-2015_Tu.pdf', '/opt/app-root/data/pdfs/mol_group_integrated_annual_report_2018.pdf', '/opt/app-root/data/pdfs/mol_plc_s_parent_company_annual_report_2017_en.pdf', '/opt/app-root/data/pdfs/national-grid-plc-annual-report-and-accounts-2013-14.pdf', '/opt/app-root/data/pdfs/national-grid-plc-annual-report-and-accounts.pdf', '/opt/app-root/data/pdfs/ng-40940-ng-ar-final-lores-2013-05-23.pdf', '/opt/app-root/data/pdfs/ng-annual-report-and-accounts-2018-19.pdf', '/opt/app-root/data/pdfs/odfjell-se-annual-report-2018.pdf', '/opt/app-root/data/pdfs/shell_annual_report_2018.pdf', '/opt/app-root/data/pdfs/shell_annual_report_2019.pdf', '/opt/app-root/data/pdfs/shell_sustainability_report_2018.pdf', '/opt/app-root/data/pdfs/shell_sustainability_report_2019.pdf', '/opt/app-root/data/pdfs/sr_2019_e.pdf', '/opt/app-root/data/pdfs/sustainability 2015.pdf', '/opt/app-root/data/pdfs/sustainability-report-2019.pdf', '/opt/app-root/data/pdfs/sustainability-report-repsol-2016-eng-april-baja_tcm14-63403.pdf', '/opt/app-root/data/pdfs/sustainable development 2017.pdf', '/opt/app-root/data/pdfs/vopak_annual_report_2019.pdf']\n"
     ]
    },
    {
     "name": "stderr",
     "output_type": "stream",
     "text": [
      "The PDF <_io.BufferedReader name='/opt/app-root/data/pdfs/2015_BASF_Report.pdf'> contains a metadata field indicating that it should not allow text extraction. Ignoring this field and proceeding. Use the check_extractable if you want to raise an error in this case\n"
     ]
    }
   ],
   "source": [
    "ext = Extractor([(\"PDFTextExtractor\", PDFTextExtractor_kwargs)])\n",
    "ext.run_folder(config.BASE_PDF_FOLDER, config.BASE_EXTRACTION_FOLDER)"
   ]
  },
  {
   "cell_type": "code",
   "execution_count": null,
   "id": "ae8a7c00",
   "metadata": {
    "execution": {
     "iopub.execute_input": "2022-07-02T00:29:45.138429Z",
     "iopub.status.busy": "2022-07-02T00:29:45.137771Z",
     "iopub.status.idle": "2022-07-02T00:29:58.517963Z",
     "shell.execute_reply": "2022-07-02T00:29:58.517240Z"
    },
    "papermill": {
     "duration": null,
     "end_time": null,
     "exception": null,
     "start_time": null,
     "status": "pending"
    },
    "tags": []
   },
   "outputs": [],
   "source": [
    "if os.getenv(\"AUTOMATION\"):\n",
    "    # upload the extracted files to s3\n",
    "    s3c.upload_files_in_dir_to_prefix(\n",
    "        config.BASE_EXTRACTION_FOLDER,\n",
    "        config.BASE_EXTRACTION_S3_PREFIX\n",
    "    )"
   ]
  },
  {
   "cell_type": "markdown",
   "id": "3a3fb75c",
   "metadata": {
    "papermill": {
     "duration": null,
     "end_time": null,
     "exception": null,
     "start_time": null,
     "status": "pending"
    },
    "tags": []
   },
   "source": [
    "### Conclusion\n",
    "We called the Extractor class to extract text from the PDF and store the ouput in the `ROOT/data/extraction` folder."
   ]
  }
 ],
 "metadata": {
  "dependency_resolution_engine": "pipenv",
  "kernelspec": {
   "display_name": "Python 3 (ipykernel)",
   "language": "python",
   "name": "python3"
  },
  "language_info": {
   "codemirror_mode": {
    "name": "ipython",
    "version": 3
   },
   "file_extension": ".py",
   "mimetype": "text/x-python",
   "name": "python",
   "nbconvert_exporter": "python",
   "pygments_lexer": "ipython3",
   "version": "3.8.8"
  },
  "papermill": {
   "default_parameters": {},
   "duration": null,
   "end_time": null,
   "environment_variables": {},
   "exception": null,
   "input_path": "/opt/app-root/src/aicoe-osc-demo/notebooks/demo2/pdf_text_extraction.ipynb",
   "output_path": "/opt/app-root/src/aicoe-osc-demo/notebooks/demo2/pdf_text_extraction.ipynb",
   "parameters": {},
   "start_time": "2022-07-02T03:31:56.146806",
   "version": "2.3.4"
  },
  "requirements": "{\"packages\":{\"config\":\"*\",\"src\":\"*\"},\"requires\":{\"python_version\":\"3.8\"},\"sources\":[{\"name\":\"pypi\",\"url\":\"https://pypi.org/simple\",\"verify_ssl\":true}]}",
  "requirements_lock": "{\"_meta\":{\"sources\":[{\"url\":\"https://pypi.org/simple\",\"verify_ssl\":true,\"name\":\"pypi\"}],\"requires\":{\"python_version\":\"3.8\"},\"hash\":{\"sha256\":\"e8a991415fecbbd714573539a77d69175edbedb517f135bd18e59629878bbc23\"},\"pipfile-spec\":6},\"default\":{\"config\":{\"version\":\"==0.5.1\",\"hashes\":[\"sha256:2dd4a03aa383d30711d5a3325a1858de225328d61950a85be5b74c100f63016d\",\"sha256:79ffa009ff2663cc8ca29e56bcec031c044609d4bafaa4f884132a413101ce84\"],\"index\":\"pypi\"},\"src\":{\"version\":\"==0.0.7\",\"hashes\":[\"sha256:2a33bd2995800b2d3fc80efb94a300951413e02ede94691aef58bffbd69e5b0e\"],\"index\":\"pypi\"}},\"develop\":{}}"
 },
 "nbformat": 4,
 "nbformat_minor": 5
}