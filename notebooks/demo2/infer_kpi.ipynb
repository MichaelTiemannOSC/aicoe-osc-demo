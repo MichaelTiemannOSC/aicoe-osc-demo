{
 "cells": [
  {
   "cell_type": "markdown",
   "id": "0e85812e-ba28-45e1-9e01-cde16ef0b44b",
   "metadata": {},
   "source": [
    "# KPI Inference\n",
    "This notebook takes in the relevant paragraphs to KPIs found in the relevance infer stage, the fine tuned KPI EXTRACTION model from the training stage, and performs inference to return specific answers to the KPIs."
   ]
  },
  {
   "cell_type": "code",
   "execution_count": 2,
   "id": "f79c4be0-b1f8-4902-8950-05841cdc41d6",
   "metadata": {},
   "outputs": [
    {
     "name": "stderr",
     "output_type": "stream",
     "text": [
      "03/18/2022 15:57:45 - INFO - farm.modeling.prediction_head -   Better speed can be achieved with apex installed from https://www.github.com/nvidia/apex .\n"
     ]
    }
   ],
   "source": [
    "from config_qa_farm_train import QAFileConfig, QAInferConfig\n",
    "import pprint\n",
    "import pathlib\n",
    "import os\n",
    "from src.data.s3_communication import S3Communication\n",
    "from src.models.text_kpi_infer import TextKPIInfer\n",
    "from dotenv import load_dotenv\n",
    "import zipfile\n",
    "import config"
   ]
  },
  {
   "cell_type": "code",
   "execution_count": 3,
   "id": "1dfe6b89-357c-4c83-848f-d2f43faaf805",
   "metadata": {},
   "outputs": [],
   "source": [
    "# Load credentials\n",
    "dotenv_dir = os.environ.get(\n",
    "    \"CREDENTIAL_DOTENV_DIR\", os.environ.get(\"PWD\", \"/opt/app-root/src\")\n",
    ")\n",
    "dotenv_path = pathlib.Path(dotenv_dir) / \"credentials.env\"\n",
    "if os.path.exists(dotenv_path):\n",
    "    load_dotenv(dotenv_path=dotenv_path, override=True)"
   ]
  },
  {
   "cell_type": "code",
   "execution_count": 4,
   "id": "f0982f03-be7f-4abc-ba30-ff1e842cf147",
   "metadata": {},
   "outputs": [],
   "source": [
    "# init s3 connector\n",
    "s3c = S3Communication(\n",
    "    s3_endpoint_url=os.getenv(\"S3_ENDPOINT\"),\n",
    "    aws_access_key_id=os.getenv(\"AWS_ACCESS_KEY_ID\"),\n",
    "    aws_secret_access_key=os.getenv(\"AWS_SECRET_ACCESS_KEY\"),\n",
    "    s3_bucket=os.getenv(\"S3_BUCKET\"),\n",
    ")"
   ]
  },
  {
   "cell_type": "code",
   "execution_count": 5,
   "id": "2e5136cb-7e32-4ca2-a533-db0b990f288e",
   "metadata": {},
   "outputs": [],
   "source": [
    "#Settings data files and checkpoints parameters\n",
    "file_config = QAFileConfig(\"infer_demo\") \n",
    "infer_config = QAInferConfig(\"infer_demo\")"
   ]
  },
  {
   "cell_type": "code",
   "execution_count": 6,
   "id": "e5607a79-d139-40e4-ae56-646cd54a1838",
   "metadata": {},
   "outputs": [],
   "source": [
    "# When running in Automation using Elyra and Kubeflow Pipelines,\n",
    "# set AUTOMATION = 1 as an environment variable\n",
    "if os.getenv(\"AUTOMATION\"):\n",
    "        \n",
    "    # inference results dir\n",
    "    if not os.path.exists(infer_config.relevance_dir['Text']):\n",
    "        pathlib.Path(infer_config.relevance_dir['Text']).mkdir(parents=True, exist_ok=True)\n",
    "\n",
    "    # kpi inference results dir\n",
    "    if not os.path.exists(infer_config.result_dir['Text']):\n",
    "        pathlib.Path(infer_config.result_dir['Text']).mkdir(parents=True, exist_ok=True)\n",
    "\n",
    "    # load dir\n",
    "    if not os.path.exists(infer_config.load_dir['Text']):\n",
    "        pathlib.Path(infer_config.load_dir['Text']).mkdir(parents=True, exist_ok=True)\n",
    "\n",
    "    # download relevance predictions from s3 \n",
    "    s3c.download_files_in_prefix_to_dir(\n",
    "    config.BASE_INFER_RELEVANCE_S3_PREFIX,\n",
    "    infer_config.relevance_dir['Text'],\n",
    "    )"
   ]
  },
  {
   "cell_type": "code",
   "execution_count": 8,
   "id": "7c24a0d7-40c2-4da8-9e7f-66ce78386ec3",
   "metadata": {},
   "outputs": [],
   "source": [
    "model_root = pathlib.Path(file_config.saved_models_dir).parent\n",
    "model_rel_zip = pathlib.Path(model_root, 'KPI_EXTRACTION.zip')\n",
    "s3c.download_file_from_s3(model_rel_zip, config.CHECKPOINT_S3_PREFIX, \"KPI_EXTRACTION.zip\")\n",
    "with zipfile.ZipFile(pathlib.Path(model_root, 'KPI_EXTRACTION.zip'), 'r') as z:\n",
    "    z.extractall(model_root)"
   ]
  },
  {
   "cell_type": "markdown",
   "id": "bda4681d-2d84-414b-a701-b507acc99552",
   "metadata": {},
   "source": [
    "## Inference"
   ]
  },
  {
   "cell_type": "markdown",
   "id": "2af4fd06-c86d-42aa-b4f6-6992b60cf512",
   "metadata": {},
   "source": [
    "We can use the saved model and test it on some real examples.<br><br>\n",
    "First let's load the model:"
   ]
  },
  {
   "cell_type": "code",
   "execution_count": 9,
   "id": "38a70174-65b3-4365-ba6f-d020457de4b7",
   "metadata": {},
   "outputs": [
    {
     "data": {
      "text/plain": [
       "'/opt/app-root/src/aicoe-osc-demo-2022-02-28-14-32/models/KPI_EXTRACTION'"
      ]
     },
     "execution_count": 9,
     "metadata": {},
     "output_type": "execute_result"
    }
   ],
   "source": [
    "file_config.saved_models_dir"
   ]
  },
  {
   "cell_type": "code",
   "execution_count": 10,
   "id": "b840d5cf-3d42-4e9e-be2d-d95634c4ac96",
   "metadata": {},
   "outputs": [
    {
     "name": "stderr",
     "output_type": "stream",
     "text": [
      "03/18/2022 16:00:30 - WARNING - farm.modeling.prediction_head -   Some unused parameters are passed to the QuestionAnsweringHead. Might not be a problem. Params: {\"training\": false, \"num_labels\": 2, \"ph_output_type\": \"per_token_squad\", \"model_type\": \"span_classification\", \"label_tensor_name\": \"question_answering_label_ids\", \"label_list\": [\"start_token\", \"end_token\"], \"metric\": \"squad\", \"name\": \"QuestionAnsweringHead\"}\n",
      "03/18/2022 16:00:34 - WARNING - farm.infer -   QAInferencer always has task_type='question_answering' even if another value is provided to Inferencer.load() or QAInferencer()\n"
     ]
    }
   ],
   "source": [
    "tki = TextKPIInfer(infer_config)"
   ]
  },
  {
   "cell_type": "markdown",
   "id": "c534da63-f0b2-4e5b-bef1-d4d0a217e433",
   "metadata": {},
   "source": [
    "Now, let's make prediction on a pair of paragraph and question."
   ]
  },
  {
   "cell_type": "code",
   "execution_count": 11,
   "id": "d506a8b3-f013-4eef-98fc-d1cdd1525a14",
   "metadata": {},
   "outputs": [],
   "source": [
    "context = \"\"\"the paris agreement on climate change drafted in 2015 aims to reduce worldwide emissions of greenhouse \n",
    "gases to a level intended to limit a rise in global temperatures to below 2 degrees or, better still,\n",
    "to below 1.5 degrees. verbund’s target of reducing greenhouse gas emissions by 90% measured beginning from \n",
    "the basis year 2011 5 million tonnes co2e until 2021 includes scope 1, scope 2 market- based and parts of scope 3 emissions \n",
    "for energy and air travel. the science based targets initiative validated this goal as science-based in october 2016, \n",
    "i.e. it meets global standards. according to current planning, the target can be achieved. \n",
    "however, if the grid operator requires higher generation volumes \n",
    "\"\"\"\n",
    "question = \"What is the target year for climate commitment?\"\n",
    "    "
   ]
  },
  {
   "cell_type": "code",
   "execution_count": 12,
   "id": "e92e6380-5440-499b-b4e8-6871dfc0ec13",
   "metadata": {},
   "outputs": [
    {
     "name": "stderr",
     "output_type": "stream",
     "text": [
      "Inferencing Samples: 100%|██████████| 1/1 [00:00<00:00, 19.54 Batches/s]"
     ]
    },
    {
     "name": "stdout",
     "output_type": "stream",
     "text": [
      "{'predictions': [{'answers': [{'answer': '2021',\n",
      "                               'context': 'the basis year 2011 5 million '\n",
      "                                          'tonnes co2e until 2021 includes '\n",
      "                                          'scope 1, scope 2 market- based and '\n",
      "                                          'par',\n",
      "                               'document_id': '0-0',\n",
      "                               'offset_answer_end': 366,\n",
      "                               'offset_answer_start': 362,\n",
      "                               'offset_context_end': 414,\n",
      "                               'offset_context_start': 314,\n",
      "                               'probability': None,\n",
      "                               'score': 7.129114151000977},\n",
      "                              {'answer': 'no_answer',\n",
      "                               'context': '',\n",
      "                               'document_id': '0-0',\n",
      "                               'offset_answer_end': 0,\n",
      "                               'offset_answer_start': 0,\n",
      "                               'offset_context_end': 0,\n",
      "                               'offset_context_start': 0,\n",
      "                               'probability': None,\n",
      "                               'score': -20.135552406311035}],\n",
      "                  'ground_truth': [],\n",
      "                  'id': '0-0',\n",
      "                  'no_ans_gap': 27.26466655731201,\n",
      "                  'question': 'What is the target year for climate '\n",
      "                              'commitment?'}],\n",
      " 'task': 'qa'}\n"
     ]
    },
    {
     "name": "stderr",
     "output_type": "stream",
     "text": [
      "\n"
     ]
    }
   ],
   "source": [
    "QA_input = [\n",
    "        {\n",
    "            \"qas\": [question],\n",
    "            \"context\":  context\n",
    "        }]\n",
    "\n",
    "result = tki.infer_on_dict(QA_input)[0]\n",
    "pprint.pprint(result)"
   ]
  },
  {
   "cell_type": "markdown",
   "id": "25bdf450-5ffb-46b4-bf05-63febe597593",
   "metadata": {},
   "source": [
    "What does the prediction result show? "
   ]
  },
  {
   "cell_type": "code",
   "execution_count": 13,
   "id": "274ed119-f30a-43c6-9fae-a49a59167648",
   "metadata": {},
   "outputs": [
    {
     "data": {
      "text/plain": [
       "{'score': 7.129114151000977,\n",
       " 'probability': None,\n",
       " 'answer': '2021',\n",
       " 'offset_answer_start': 362,\n",
       " 'offset_answer_end': 366,\n",
       " 'context': 'the basis year 2011 5 million tonnes co2e until 2021 includes scope 1, scope 2 market- based and par',\n",
       " 'offset_context_start': 314,\n",
       " 'offset_context_end': 414,\n",
       " 'document_id': '0-0'}"
      ]
     },
     "execution_count": 13,
     "metadata": {},
     "output_type": "execute_result"
    }
   ],
   "source": [
    "# This is the best answer. Generally it can be span-based or it can be no-answer, which ever is higher\n",
    "# Here the top answer is the span '2021'\n",
    "result['predictions'][0]['answers'][0]"
   ]
  },
  {
   "cell_type": "code",
   "execution_count": 14,
   "id": "06544a27-29a1-43bc-a9b4-3983f9f8478c",
   "metadata": {},
   "outputs": [
    {
     "data": {
      "text/plain": [
       "{'score': -20.135552406311035,\n",
       " 'probability': None,\n",
       " 'answer': 'no_answer',\n",
       " 'offset_answer_start': 0,\n",
       " 'offset_answer_end': 0,\n",
       " 'context': '',\n",
       " 'offset_context_start': 0,\n",
       " 'offset_context_end': 0,\n",
       " 'document_id': '0-0'}"
      ]
     },
     "execution_count": 14,
     "metadata": {},
     "output_type": "execute_result"
    }
   ],
   "source": [
    "# Non-answerable score: The model is pretty confident that the answer to the question can be in the context.\n",
    "result['predictions'][0]['answers'][1]"
   ]
  },
  {
   "cell_type": "markdown",
   "id": "8d67eca9-c232-4531-aa10-f7171f28da9a",
   "metadata": {},
   "source": [
    "Now, let's use the model to infer kpi answers from the relevance results "
   ]
  },
  {
   "cell_type": "code",
   "execution_count": 15,
   "id": "9ddef850-c2bc-412a-ba61-7c473cded67c",
   "metadata": {},
   "outputs": [
    {
     "data": {
      "text/plain": [
       "{'Text': '/opt/app-root/src/aicoe-osc-demo-2022-02-28-14-32/data/infer_relevance'}"
      ]
     },
     "execution_count": 15,
     "metadata": {},
     "output_type": "execute_result"
    }
   ],
   "source": [
    "infer_config.relevance_dir"
   ]
  },
  {
   "cell_type": "code",
   "execution_count": 16,
   "id": "715e0399-beee-43ac-8ef3-50e97be6cbf6",
   "metadata": {},
   "outputs": [
    {
     "name": "stderr",
     "output_type": "stream",
     "text": [
      "03/18/2022 16:00:38 - INFO - src.models.text_kpi_infer -   #################### Starting KPI Inference for the following relevance CSV files found in /opt/app-root/src/aicoe-osc-demo-2022-02-28-14-32/data/infer_kpi:\n",
      "['75506106_BOA_2016-12-31_predictions_relevant.csv', 'sustainability-report-2019_predictions_relevant.csv', '90044053_Fisher & Paykel Hl_2017-11-07_predictions_relevant.csv', '88094292_Carriage Svcs Inc_2019-07-23_predictions_relevant.csv'] \n",
      "03/18/2022 16:00:38 - INFO - src.models.text_kpi_infer -   #################### 1/4\n",
      "03/18/2022 16:00:38 - INFO - src.models.text_kpi_infer -   Starting KPI Extraction for 75506106_BOA_2016-12-31\n",
      "Inferencing Samples: 100%|██████████| 5/5 [00:01<00:00,  4.29 Batches/s]\n",
      "03/18/2022 16:00:39 - INFO - src.models.text_kpi_infer -   Save the result of KPI extraction to /opt/app-root/src/aicoe-osc-demo-2022-02-28-14-32/data/infer_kpi/75506106_BOA_2016-12-31_predictions_kpi.csv\n",
      "03/18/2022 16:00:39 - INFO - src.models.text_kpi_infer -   #################### 2/4\n",
      "03/18/2022 16:00:39 - INFO - src.models.text_kpi_infer -   Starting KPI Extraction for sustainability-report-2019\n",
      "Inferencing Samples: 100%|██████████| 35/35 [00:07<00:00,  4.42 Batches/s]\n",
      "03/18/2022 16:00:49 - ERROR - farm.modeling.predictions -   Both start and end offsets should be 0: \n",
      "86, 86 with a no_answer. \n",
      "03/18/2022 16:00:49 - INFO - src.models.text_kpi_infer -   Save the result of KPI extraction to /opt/app-root/src/aicoe-osc-demo-2022-02-28-14-32/data/infer_kpi/sustainability-report-2019_predictions_kpi.csv\n",
      "03/18/2022 16:00:49 - INFO - src.models.text_kpi_infer -   #################### 3/4\n",
      "03/18/2022 16:00:49 - INFO - src.models.text_kpi_infer -   Starting KPI Extraction for 90044053_Fisher & Paykel Hl_2017-11-07\n",
      "Inferencing Samples: 100%|██████████| 9/9 [00:02<00:00,  4.47 Batches/s]\n",
      "03/18/2022 16:00:51 - INFO - src.models.text_kpi_infer -   Save the result of KPI extraction to /opt/app-root/src/aicoe-osc-demo-2022-02-28-14-32/data/infer_kpi/90044053_Fisher & Paykel Hl_2017-11-07_predictions_kpi.csv\n",
      "03/18/2022 16:00:51 - INFO - src.models.text_kpi_infer -   #################### 4/4\n",
      "03/18/2022 16:00:51 - INFO - src.models.text_kpi_infer -   Starting KPI Extraction for 88094292_Carriage Svcs Inc_2019-07-23\n",
      "Inferencing Samples: 100%|██████████| 1/1 [00:00<00:00, 28.57 Batches/s]\n",
      "03/18/2022 16:00:52 - INFO - src.models.text_kpi_infer -   Save the result of KPI extraction to /opt/app-root/src/aicoe-osc-demo-2022-02-28-14-32/data/infer_kpi/88094292_Carriage Svcs Inc_2019-07-23_predictions_kpi.csv\n"
     ]
    },
    {
     "data": {
      "text/html": [
       "<div>\n",
       "<style scoped>\n",
       "    .dataframe tbody tr th:only-of-type {\n",
       "        vertical-align: middle;\n",
       "    }\n",
       "\n",
       "    .dataframe tbody tr th {\n",
       "        vertical-align: top;\n",
       "    }\n",
       "\n",
       "    .dataframe thead th {\n",
       "        text-align: right;\n",
       "    }\n",
       "</style>\n",
       "<table border=\"1\" class=\"dataframe\">\n",
       "  <thead>\n",
       "    <tr style=\"text-align: right;\">\n",
       "      <th></th>\n",
       "      <th>pdf_name</th>\n",
       "      <th>kpi</th>\n",
       "      <th>kpi_id</th>\n",
       "      <th>answer</th>\n",
       "      <th>page</th>\n",
       "      <th>paragraph</th>\n",
       "      <th>source</th>\n",
       "      <th>score</th>\n",
       "      <th>no_ans_score</th>\n",
       "      <th>no_answer_score_plus_boost</th>\n",
       "      <th>index</th>\n",
       "    </tr>\n",
       "  </thead>\n",
       "  <tbody>\n",
       "    <tr>\n",
       "      <th>0</th>\n",
       "      <td>75506106_BOA_2016-12-31</td>\n",
       "      <td>In which year was the annual report or the sus...</td>\n",
       "      <td>NaN</td>\n",
       "      <td>2015-2016</td>\n",
       "      <td>24.0</td>\n",
       "      <td>Nombre de projets ayant atteint le closing fin...</td>\n",
       "      <td>Text</td>\n",
       "      <td>11.181186</td>\n",
       "      <td>-9.148028</td>\n",
       "      <td>-24.148028</td>\n",
       "      <td>NaN</td>\n",
       "    </tr>\n",
       "    <tr>\n",
       "      <th>1</th>\n",
       "      <td>75506106_BOA_2016-12-31</td>\n",
       "      <td>In which year was the annual report or the sus...</td>\n",
       "      <td>NaN</td>\n",
       "      <td>2016</td>\n",
       "      <td>30.0</td>\n",
       "      <td>L’Atelier Finance Climat pour l’Afrique Franc...</td>\n",
       "      <td>Text</td>\n",
       "      <td>11.143324</td>\n",
       "      <td>-9.074394</td>\n",
       "      <td>-24.074394</td>\n",
       "      <td>NaN</td>\n",
       "    </tr>\n",
       "    <tr>\n",
       "      <th>2</th>\n",
       "      <td>75506106_BOA_2016-12-31</td>\n",
       "      <td>In which year was the annual report or the sus...</td>\n",
       "      <td>NaN</td>\n",
       "      <td>2016</td>\n",
       "      <td>48.0</td>\n",
       "      <td>Au cours de l’anne 2016, EFE-Maroc a form 4 74...</td>\n",
       "      <td>Text</td>\n",
       "      <td>11.117598</td>\n",
       "      <td>-9.312975</td>\n",
       "      <td>-24.312975</td>\n",
       "      <td>NaN</td>\n",
       "    </tr>\n",
       "    <tr>\n",
       "      <th>3</th>\n",
       "      <td>75506106_BOA_2016-12-31</td>\n",
       "      <td>In which year was the annual report or the sus...</td>\n",
       "      <td>NaN</td>\n",
       "      <td>2016</td>\n",
       "      <td>30.0</td>\n",
       "      <td>Business Climate Summit, 28-29 juin 2016, Lond...</td>\n",
       "      <td>Text</td>\n",
       "      <td>11.020465</td>\n",
       "      <td>-8.655083</td>\n",
       "      <td>-23.655083</td>\n",
       "      <td>NaN</td>\n",
       "    </tr>\n",
       "    <tr>\n",
       "      <th>4</th>\n",
       "      <td>75506106_BOA_2016-12-31</td>\n",
       "      <td>What is the base year for carbon reduction com...</td>\n",
       "      <td>NaN</td>\n",
       "      <td>2016</td>\n",
       "      <td>30.0</td>\n",
       "      <td>Business Climate Summit, 28-29 juin 2016, Lond...</td>\n",
       "      <td>Text</td>\n",
       "      <td>-8.263815</td>\n",
       "      <td>6.064293</td>\n",
       "      <td>-8.935707</td>\n",
       "      <td>NaN</td>\n",
       "    </tr>\n",
       "    <tr>\n",
       "      <th>...</th>\n",
       "      <td>...</td>\n",
       "      <td>...</td>\n",
       "      <td>...</td>\n",
       "      <td>...</td>\n",
       "      <td>...</td>\n",
       "      <td>...</td>\n",
       "      <td>...</td>\n",
       "      <td>...</td>\n",
       "      <td>...</td>\n",
       "      <td>...</td>\n",
       "      <td>...</td>\n",
       "    </tr>\n",
       "    <tr>\n",
       "      <th>51</th>\n",
       "      <td>90044053_Fisher &amp; Paykel Hl_2017-11-07</td>\n",
       "      <td>What is the volume of estimated proven hydroca...</td>\n",
       "      <td>NaN</td>\n",
       "      <td>no_answer</td>\n",
       "      <td>NaN</td>\n",
       "      <td>NaN</td>\n",
       "      <td>Text</td>\n",
       "      <td>2.527988</td>\n",
       "      <td>NaN</td>\n",
       "      <td>NaN</td>\n",
       "      <td>NaN</td>\n",
       "    </tr>\n",
       "    <tr>\n",
       "      <th>52</th>\n",
       "      <td>90044053_Fisher &amp; Paykel Hl_2017-11-07</td>\n",
       "      <td>What is the volume of estimated proven hydroca...</td>\n",
       "      <td>NaN</td>\n",
       "      <td>3</td>\n",
       "      <td>26.0</td>\n",
       "      <td>Within the ﬁrst month, we were able to increas...</td>\n",
       "      <td>Text</td>\n",
       "      <td>-9.606719</td>\n",
       "      <td>17.527988</td>\n",
       "      <td>2.527988</td>\n",
       "      <td>NaN</td>\n",
       "    </tr>\n",
       "    <tr>\n",
       "      <th>53</th>\n",
       "      <td>90044053_Fisher &amp; Paykel Hl_2017-11-07</td>\n",
       "      <td>What is the volume of estimated proven hydroca...</td>\n",
       "      <td>NaN</td>\n",
       "      <td>0.33 tCO2e/ NZ$M</td>\n",
       "      <td>25.0</td>\n",
       "      <td>This ﬁnancial year we measured waste outputs i...</td>\n",
       "      <td>Text</td>\n",
       "      <td>-9.643618</td>\n",
       "      <td>17.502722</td>\n",
       "      <td>2.502722</td>\n",
       "      <td>NaN</td>\n",
       "    </tr>\n",
       "    <tr>\n",
       "      <th>0</th>\n",
       "      <td>88094292_Carriage Svcs Inc_2019-07-23</td>\n",
       "      <td>In which year was the annual report or the sus...</td>\n",
       "      <td>NaN</td>\n",
       "      <td>February 15, 2017</td>\n",
       "      <td>0.0</td>\n",
       "      <td>CARRIAGE SERVICES, INC. (the Company) CORPORAT...</td>\n",
       "      <td>Text</td>\n",
       "      <td>8.340643</td>\n",
       "      <td>-9.459160</td>\n",
       "      <td>-24.459160</td>\n",
       "      <td>NaN</td>\n",
       "    </tr>\n",
       "    <tr>\n",
       "      <th>1</th>\n",
       "      <td>88094292_Carriage Svcs Inc_2019-07-23</td>\n",
       "      <td>What is the company name?</td>\n",
       "      <td>NaN</td>\n",
       "      <td>STOCKHOLDER</td>\n",
       "      <td>5.0</td>\n",
       "      <td>STOCKHOLDER COMMUNICATIONS WITH DIRECTORS</td>\n",
       "      <td>Text</td>\n",
       "      <td>11.089083</td>\n",
       "      <td>-5.213624</td>\n",
       "      <td>-20.213624</td>\n",
       "      <td>NaN</td>\n",
       "    </tr>\n",
       "  </tbody>\n",
       "</table>\n",
       "<p>189 rows × 11 columns</p>\n",
       "</div>"
      ],
      "text/plain": [
       "                                  pdf_name  \\\n",
       "0                  75506106_BOA_2016-12-31   \n",
       "1                  75506106_BOA_2016-12-31   \n",
       "2                  75506106_BOA_2016-12-31   \n",
       "3                  75506106_BOA_2016-12-31   \n",
       "4                  75506106_BOA_2016-12-31   \n",
       "..                                     ...   \n",
       "51  90044053_Fisher & Paykel Hl_2017-11-07   \n",
       "52  90044053_Fisher & Paykel Hl_2017-11-07   \n",
       "53  90044053_Fisher & Paykel Hl_2017-11-07   \n",
       "0    88094292_Carriage Svcs Inc_2019-07-23   \n",
       "1    88094292_Carriage Svcs Inc_2019-07-23   \n",
       "\n",
       "                                                  kpi  kpi_id  \\\n",
       "0   In which year was the annual report or the sus...     NaN   \n",
       "1   In which year was the annual report or the sus...     NaN   \n",
       "2   In which year was the annual report or the sus...     NaN   \n",
       "3   In which year was the annual report or the sus...     NaN   \n",
       "4   What is the base year for carbon reduction com...     NaN   \n",
       "..                                                ...     ...   \n",
       "51  What is the volume of estimated proven hydroca...     NaN   \n",
       "52  What is the volume of estimated proven hydroca...     NaN   \n",
       "53  What is the volume of estimated proven hydroca...     NaN   \n",
       "0   In which year was the annual report or the sus...     NaN   \n",
       "1                           What is the company name?     NaN   \n",
       "\n",
       "               answer  page  \\\n",
       "0           2015-2016  24.0   \n",
       "1                2016  30.0   \n",
       "2                2016  48.0   \n",
       "3                2016  30.0   \n",
       "4                2016  30.0   \n",
       "..                ...   ...   \n",
       "51          no_answer   NaN   \n",
       "52                  3  26.0   \n",
       "53   0.33 tCO2e/ NZ$M  25.0   \n",
       "0   February 15, 2017   0.0   \n",
       "1         STOCKHOLDER   5.0   \n",
       "\n",
       "                                            paragraph source      score  \\\n",
       "0   Nombre de projets ayant atteint le closing fin...   Text  11.181186   \n",
       "1    L’Atelier Finance Climat pour l’Afrique Franc...   Text  11.143324   \n",
       "2   Au cours de l’anne 2016, EFE-Maroc a form 4 74...   Text  11.117598   \n",
       "3   Business Climate Summit, 28-29 juin 2016, Lond...   Text  11.020465   \n",
       "4   Business Climate Summit, 28-29 juin 2016, Lond...   Text  -8.263815   \n",
       "..                                                ...    ...        ...   \n",
       "51                                                NaN   Text   2.527988   \n",
       "52  Within the ﬁrst month, we were able to increas...   Text  -9.606719   \n",
       "53  This ﬁnancial year we measured waste outputs i...   Text  -9.643618   \n",
       "0   CARRIAGE SERVICES, INC. (the Company) CORPORAT...   Text   8.340643   \n",
       "1          STOCKHOLDER COMMUNICATIONS WITH DIRECTORS    Text  11.089083   \n",
       "\n",
       "    no_ans_score  no_answer_score_plus_boost index  \n",
       "0      -9.148028                  -24.148028   NaN  \n",
       "1      -9.074394                  -24.074394   NaN  \n",
       "2      -9.312975                  -24.312975   NaN  \n",
       "3      -8.655083                  -23.655083   NaN  \n",
       "4       6.064293                   -8.935707   NaN  \n",
       "..           ...                         ...   ...  \n",
       "51           NaN                         NaN   NaN  \n",
       "52     17.527988                    2.527988   NaN  \n",
       "53     17.502722                    2.502722   NaN  \n",
       "0      -9.459160                  -24.459160   NaN  \n",
       "1      -5.213624                  -20.213624   NaN  \n",
       "\n",
       "[189 rows x 11 columns]"
      ]
     },
     "execution_count": 16,
     "metadata": {},
     "output_type": "execute_result"
    }
   ],
   "source": [
    "tki.infer_on_relevance_results(infer_config.relevance_dir['Text'])"
   ]
  },
  {
   "cell_type": "code",
   "execution_count": 17,
   "id": "ebfbd2f9-1bd8-4dc4-a581-67b86b0df92f",
   "metadata": {},
   "outputs": [],
   "source": [
    "# upload the predicted files to s3\n",
    "s3c.upload_files_in_dir_to_prefix(\n",
    "    infer_config.result_dir['Text'],\n",
    "    config.BASE_INFER_KPI_S3_PREFIX\n",
    ")"
   ]
  },
  {
   "cell_type": "markdown",
   "id": "a37bba54-3d44-4080-aaee-ff28390480b4",
   "metadata": {},
   "source": [
    "# Conclusion\n",
    "This notebook ran the _KPI_ inference on a sample dataset and stored the output in a csv format."
   ]
  }
 ],
 "metadata": {
  "kernelspec": {
   "display_name": "Python 3 (ipykernel)",
   "language": "python",
   "name": "python3"
  },
  "language_info": {
   "codemirror_mode": {
    "name": "ipython",
    "version": 3
   },
   "file_extension": ".py",
   "mimetype": "text/x-python",
   "name": "python",
   "nbconvert_exporter": "python",
   "pygments_lexer": "ipython3",
   "version": "3.8.8"
  }
 },
 "nbformat": 4,
 "nbformat_minor": 5
}
