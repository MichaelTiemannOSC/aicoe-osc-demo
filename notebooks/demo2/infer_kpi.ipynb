{
 "cells": [
  {
   "cell_type": "markdown",
   "id": "0e85812e-ba28-45e1-9e01-cde16ef0b44b",
   "metadata": {
    "papermill": {
     "duration": 0.004932,
     "end_time": "2022-07-09T14:17:15.044579",
     "exception": false,
     "start_time": "2022-07-09T14:17:15.039647",
     "status": "completed"
    },
    "tags": []
   },
   "source": [
    "# KPI Inference\n",
    "This notebook takes in the relevant paragraphs to KPIs found in the relevance infer stage, the fine tuned KPI EXTRACTION model from the training stage, and performs inference to return specific answers to the KPIs."
   ]
  },
  {
   "cell_type": "code",
   "execution_count": 1,
   "id": "f79c4be0-b1f8-4902-8950-05841cdc41d6",
   "metadata": {
    "papermill": {
     "duration": 6.269338,
     "end_time": "2022-07-09T14:17:21.319268",
     "exception": false,
     "start_time": "2022-07-09T14:17:15.049930",
     "status": "completed"
    },
    "tags": []
   },
   "outputs": [
    {
     "name": "stderr",
     "output_type": "stream",
     "text": [
      "07/10/2022 10:32:46 - INFO - farm.modeling.prediction_head -   Better speed can be achieved with apex installed from https://www.github.com/nvidia/apex .\n"
     ]
    }
   ],
   "source": [
    "from config_qa_farm_train import QAFileConfig, QAInferConfig\n",
    "import pprint\n",
    "import pathlib\n",
    "import os\n",
    "from src.data.s3_communication import S3Communication, S3FileType\n",
    "from src.models.text_kpi_infer import TextKPIInfer\n",
    "from dotenv import load_dotenv\n",
    "import zipfile\n",
    "import config"
   ]
  },
  {
   "cell_type": "code",
   "execution_count": 2,
   "id": "1dfe6b89-357c-4c83-848f-d2f43faaf805",
   "metadata": {
    "papermill": {
     "duration": 0.022557,
     "end_time": "2022-07-09T14:17:21.402093",
     "exception": false,
     "start_time": "2022-07-09T14:17:21.379536",
     "status": "completed"
    },
    "tags": []
   },
   "outputs": [],
   "source": [
    "# Load credentials\n",
    "dotenv_dir = os.environ.get(\n",
    "    \"CREDENTIAL_DOTENV_DIR\", os.environ.get(\"PWD\", \"/opt/app-root/src\")\n",
    ")\n",
    "dotenv_path = pathlib.Path(dotenv_dir) / \"credentials.env\"\n",
    "if os.path.exists(dotenv_path):\n",
    "    load_dotenv(dotenv_path=dotenv_path, override=True)"
   ]
  },
  {
   "cell_type": "code",
   "execution_count": 3,
   "id": "f0982f03-be7f-4abc-ba30-ff1e842cf147",
   "metadata": {
    "papermill": {
     "duration": 0.197668,
     "end_time": "2022-07-09T14:17:21.607751",
     "exception": false,
     "start_time": "2022-07-09T14:17:21.410083",
     "status": "completed"
    },
    "tags": []
   },
   "outputs": [],
   "source": [
    "# init s3 connector\n",
    "s3c = S3Communication(\n",
    "    s3_endpoint_url=os.getenv(\"S3_ENDPOINT\"),\n",
    "    aws_access_key_id=os.getenv(\"S3_LANDING_ACCESS_KEY\"),\n",
    "    aws_secret_access_key=os.getenv(\"S3_LANDING_SECRET_KEY\"),\n",
    "    s3_bucket=os.getenv(\"S3_BUCKET\"),\n",
    ")"
   ]
  },
  {
   "cell_type": "code",
   "execution_count": 4,
   "id": "2e5136cb-7e32-4ca2-a533-db0b990f288e",
   "metadata": {
    "papermill": {
     "duration": 0.059337,
     "end_time": "2022-07-09T14:17:21.676208",
     "exception": false,
     "start_time": "2022-07-09T14:17:21.616871",
     "status": "completed"
    },
    "tags": []
   },
   "outputs": [],
   "source": [
    "#Settings data files and checkpoints parameters\n",
    "file_config = QAFileConfig(\"infer_demo\")\n",
    "infer_config = QAInferConfig(\"infer_demo\")"
   ]
  },
  {
   "cell_type": "code",
   "execution_count": 5,
   "id": "e5607a79-d139-40e4-ae56-646cd54a1838",
   "metadata": {
    "papermill": {
     "duration": 0.294493,
     "end_time": "2022-07-09T14:17:21.979172",
     "exception": false,
     "start_time": "2022-07-09T14:17:21.684679",
     "status": "completed"
    },
    "tags": []
   },
   "outputs": [],
   "source": [
    "# When running in Automation using Elyra and Kubeflow Pipelines,\n",
    "# set AUTOMATION = 1 as an environment variable\n",
    "if os.getenv(\"AUTOMATION\"):\n",
    "\n",
    "    # inference results dir\n",
    "    if not os.path.exists(infer_config.relevance_dir['Text']):\n",
    "        pathlib.Path(infer_config.relevance_dir['Text']).mkdir(parents=True, exist_ok=True)\n",
    "\n",
    "    # kpi inference results dir\n",
    "    if not os.path.exists(infer_config.result_dir['Text']):\n",
    "        pathlib.Path(infer_config.result_dir['Text']).mkdir(parents=True, exist_ok=True)\n",
    "\n",
    "    # load dir\n",
    "    if not os.path.exists(infer_config.load_dir['Text']):\n",
    "        pathlib.Path(infer_config.load_dir['Text']).mkdir(parents=True, exist_ok=True)\n",
    "\n",
    "    # download relevance predictions from s3\n",
    "    s3c.download_files_in_prefix_to_dir(\n",
    "        config.BASE_INFER_RELEVANCE_S3_PREFIX,\n",
    "        infer_config.relevance_dir['Text'],\n",
    "    )"
   ]
  },
  {
   "cell_type": "code",
   "execution_count": 6,
   "id": "bf9eb27a-9a61-4ed2-a108-d5bf8017c8b0",
   "metadata": {},
   "outputs": [
    {
     "data": {
      "text/plain": [
       "'test_cdp/saved_models'"
      ]
     },
     "execution_count": 6,
     "metadata": {},
     "output_type": "execute_result"
    }
   ],
   "source": [
    "config.CHECKPOINT_S3_PREFIX"
   ]
  },
  {
   "cell_type": "code",
   "execution_count": 8,
   "id": "412af221-71db-4555-8fe6-09d5d88380a0",
   "metadata": {},
   "outputs": [
    {
     "data": {
      "text/plain": [
       "'/opt/app-root/src/aicoe-osc-demo/models/KPI_EXTRACTION.zip'"
      ]
     },
     "execution_count": 8,
     "metadata": {},
     "output_type": "execute_result"
    }
   ],
   "source": [
    "str(model_rel_zip)"
   ]
  },
  {
   "cell_type": "code",
   "execution_count": 12,
   "id": "7c24a0d7-40c2-4da8-9e7f-66ce78386ec3",
   "metadata": {
    "papermill": {
     "duration": 65.288901,
     "end_time": "2022-07-09T14:18:27.276310",
     "exception": false,
     "start_time": "2022-07-09T14:17:21.987409",
     "status": "completed"
    },
    "tags": []
   },
   "outputs": [],
   "source": [
    "model_root = pathlib.Path(file_config.saved_models_dir).parent\n",
    "model_rel_zip = pathlib.Path(model_root, 'KPI_EXTRACTION.zip')\n",
    "s3c.download_file_from_s3(model_rel_zip, config.CHECKPOINT_S3_PREFIX, \"KPI_EXTRACTION.zip\")\n",
    "with zipfile.ZipFile(model_rel_zip, 'r') as z:\n",
    "    z.extractall(model_root)"
   ]
  },
  {
   "cell_type": "markdown",
   "id": "bda4681d-2d84-414b-a701-b507acc99552",
   "metadata": {
    "papermill": {
     "duration": 0.003911,
     "end_time": "2022-07-09T14:18:27.285826",
     "exception": false,
     "start_time": "2022-07-09T14:18:27.281915",
     "status": "completed"
    },
    "tags": []
   },
   "source": [
    "## Inference"
   ]
  },
  {
   "cell_type": "markdown",
   "id": "2af4fd06-c86d-42aa-b4f6-6992b60cf512",
   "metadata": {
    "papermill": {
     "duration": 0.003894,
     "end_time": "2022-07-09T14:18:27.293679",
     "exception": false,
     "start_time": "2022-07-09T14:18:27.289785",
     "status": "completed"
    },
    "tags": []
   },
   "source": [
    "We can use the saved model and test it on some real examples.<br><br>\n",
    "First let's load the model:"
   ]
  },
  {
   "cell_type": "code",
   "execution_count": 13,
   "id": "38a70174-65b3-4365-ba6f-d020457de4b7",
   "metadata": {
    "papermill": {
     "duration": 0.014467,
     "end_time": "2022-07-09T14:18:27.312072",
     "exception": false,
     "start_time": "2022-07-09T14:18:27.297605",
     "status": "completed"
    },
    "tags": []
   },
   "outputs": [
    {
     "data": {
      "text/plain": [
       "'/opt/app-root/src/aicoe-osc-demo/models/KPI_EXTRACTION'"
      ]
     },
     "execution_count": 13,
     "metadata": {},
     "output_type": "execute_result"
    }
   ],
   "source": [
    "file_config.saved_models_dir"
   ]
  },
  {
   "cell_type": "code",
   "execution_count": 14,
   "id": "b840d5cf-3d42-4e9e-be2d-d95634c4ac96",
   "metadata": {
    "papermill": {
     "duration": 25.891891,
     "end_time": "2022-07-09T14:18:53.208039",
     "exception": false,
     "start_time": "2022-07-09T14:18:27.316148",
     "status": "completed"
    },
    "tags": []
   },
   "outputs": [
    {
     "name": "stderr",
     "output_type": "stream",
     "text": [
      "07/10/2022 11:03:42 - WARNING - farm.modeling.prediction_head -   Some unused parameters are passed to the QuestionAnsweringHead. Might not be a problem. Params: {\"training\": false, \"num_labels\": 2, \"ph_output_type\": \"per_token_squad\", \"model_type\": \"span_classification\", \"label_tensor_name\": \"question_answering_label_ids\", \"label_list\": [\"start_token\", \"end_token\"], \"metric\": \"squad\", \"name\": \"QuestionAnsweringHead\"}\n",
      "07/10/2022 11:03:46 - WARNING - farm.infer -   QAInferencer always has task_type='question_answering' even if another value is provided to Inferencer.load() or QAInferencer()\n"
     ]
    }
   ],
   "source": [
    "tki = TextKPIInfer(infer_config)"
   ]
  },
  {
   "cell_type": "markdown",
   "id": "c534da63-f0b2-4e5b-bef1-d4d0a217e433",
   "metadata": {
    "papermill": {
     "duration": 0.059206,
     "end_time": "2022-07-09T14:18:53.275172",
     "exception": false,
     "start_time": "2022-07-09T14:18:53.215966",
     "status": "completed"
    },
    "tags": []
   },
   "source": [
    "Now, let's make prediction on a pair of paragraph and question."
   ]
  },
  {
   "cell_type": "code",
   "execution_count": 15,
   "id": "d506a8b3-f013-4eef-98fc-d1cdd1525a14",
   "metadata": {
    "papermill": {
     "duration": 0.021187,
     "end_time": "2022-07-09T14:18:53.305883",
     "exception": false,
     "start_time": "2022-07-09T14:18:53.284696",
     "status": "completed"
    },
    "tags": []
   },
   "outputs": [],
   "source": [
    "context = \"\"\"the paris agreement on climate change drafted in 2015 aims to reduce worldwide emissions of greenhouse\n",
    "gases to a level intended to limit a rise in global temperatures to below 2 degrees or, better still,\n",
    "to below 1.5 degrees. verbund’s target of reducing greenhouse gas emissions by 90% measured beginning from\n",
    "the basis year 2011 5 million tonnes co2e until 2021 includes scope 1, scope 2 market- based and parts of scope 3 emissions\n",
    "for energy and air travel. the science based targets initiative validated this goal as science-based in october 2016,\n",
    "i.e. it meets global standards. according to current planning, the target can be achieved.\n",
    "however, if the grid operator requires higher generation volumes\n",
    "\"\"\"\n",
    "question = \"What is the target year for climate commitment?\"\n"
   ]
  },
  {
   "cell_type": "code",
   "execution_count": 16,
   "id": "e92e6380-5440-499b-b4e8-6871dfc0ec13",
   "metadata": {
    "papermill": {
     "duration": 0.774896,
     "end_time": "2022-07-09T14:18:54.089408",
     "exception": false,
     "start_time": "2022-07-09T14:18:53.314512",
     "status": "completed"
    },
    "tags": []
   },
   "outputs": [
    {
     "name": "stderr",
     "output_type": "stream",
     "text": [
      "Inferencing Samples: 100%|██████████| 1/1 [00:00<00:00, 23.68 Batches/s]\n"
     ]
    },
    {
     "name": "stdout",
     "output_type": "stream",
     "text": [
      "{'predictions': [{'answers': [{'answer': '2021',\n",
      "                               'context': 'the basis year 2011 5 million '\n",
      "                                          'tonnes co2e until 2021 includes '\n",
      "                                          'scope 1, scope 2 market- based and '\n",
      "                                          'par',\n",
      "                               'document_id': '0-0',\n",
      "                               'offset_answer_end': 364,\n",
      "                               'offset_answer_start': 360,\n",
      "                               'offset_context_end': 412,\n",
      "                               'offset_context_start': 312,\n",
      "                               'probability': None,\n",
      "                               'score': -3.186553478240967},\n",
      "                              {'answer': 'no_answer',\n",
      "                               'context': '',\n",
      "                               'document_id': '0-0',\n",
      "                               'offset_answer_end': 0,\n",
      "                               'offset_answer_start': 0,\n",
      "                               'offset_context_end': 0,\n",
      "                               'offset_context_start': 0,\n",
      "                               'probability': None,\n",
      "                               'score': -6.710481643676758}],\n",
      "                  'ground_truth': [],\n",
      "                  'id': '0-0',\n",
      "                  'no_ans_gap': 3.523928165435791,\n",
      "                  'question': 'What is the target year for climate '\n",
      "                              'commitment?'}],\n",
      " 'task': 'qa'}\n"
     ]
    }
   ],
   "source": [
    "QA_input = [\n",
    "    {\n",
    "        \"qas\": [question],\n",
    "        \"context\":  context\n",
    "    }\n",
    "]\n",
    "\n",
    "result = tki.infer_on_dict(QA_input)[0]\n",
    "pprint.pprint(result)"
   ]
  },
  {
   "cell_type": "markdown",
   "id": "25bdf450-5ffb-46b4-bf05-63febe597593",
   "metadata": {
    "papermill": {
     "duration": 0.004446,
     "end_time": "2022-07-09T14:18:54.180618",
     "exception": false,
     "start_time": "2022-07-09T14:18:54.176172",
     "status": "completed"
    },
    "tags": []
   },
   "source": [
    "What does the prediction result show? "
   ]
  },
  {
   "cell_type": "code",
   "execution_count": 17,
   "id": "274ed119-f30a-43c6-9fae-a49a59167648",
   "metadata": {
    "papermill": {
     "duration": 0.013246,
     "end_time": "2022-07-09T14:18:54.198530",
     "exception": false,
     "start_time": "2022-07-09T14:18:54.185284",
     "status": "completed"
    },
    "tags": []
   },
   "outputs": [
    {
     "data": {
      "text/plain": [
       "{'score': -3.186553478240967,\n",
       " 'probability': None,\n",
       " 'answer': '2021',\n",
       " 'offset_answer_start': 360,\n",
       " 'offset_answer_end': 364,\n",
       " 'context': 'the basis year 2011 5 million tonnes co2e until 2021 includes scope 1, scope 2 market- based and par',\n",
       " 'offset_context_start': 312,\n",
       " 'offset_context_end': 412,\n",
       " 'document_id': '0-0'}"
      ]
     },
     "execution_count": 17,
     "metadata": {},
     "output_type": "execute_result"
    }
   ],
   "source": [
    "# This is the best answer. Generally it can be span-based or it can be no-answer, which ever is higher\n",
    "# Here the top answer is the span '2021'\n",
    "result['predictions'][0]['answers'][0]"
   ]
  },
  {
   "cell_type": "code",
   "execution_count": 18,
   "id": "06544a27-29a1-43bc-a9b4-3983f9f8478c",
   "metadata": {
    "papermill": {
     "duration": 0.012235,
     "end_time": "2022-07-09T14:18:54.215637",
     "exception": false,
     "start_time": "2022-07-09T14:18:54.203402",
     "status": "completed"
    },
    "tags": []
   },
   "outputs": [
    {
     "data": {
      "text/plain": [
       "{'score': -6.710481643676758,\n",
       " 'probability': None,\n",
       " 'answer': 'no_answer',\n",
       " 'offset_answer_start': 0,\n",
       " 'offset_answer_end': 0,\n",
       " 'context': '',\n",
       " 'offset_context_start': 0,\n",
       " 'offset_context_end': 0,\n",
       " 'document_id': '0-0'}"
      ]
     },
     "execution_count": 18,
     "metadata": {},
     "output_type": "execute_result"
    }
   ],
   "source": [
    "# Non-answerable score: The model is pretty confident that the answer to the question can be in the context.\n",
    "result['predictions'][0]['answers'][1]"
   ]
  },
  {
   "cell_type": "markdown",
   "id": "8d67eca9-c232-4531-aa10-f7171f28da9a",
   "metadata": {
    "papermill": {
     "duration": 0.005286,
     "end_time": "2022-07-09T14:18:54.279081",
     "exception": false,
     "start_time": "2022-07-09T14:18:54.273795",
     "status": "completed"
    },
    "tags": []
   },
   "source": [
    "Now, let's use the model to infer kpi answers from the relevance results "
   ]
  },
  {
   "cell_type": "code",
   "execution_count": 19,
   "id": "9ddef850-c2bc-412a-ba61-7c473cded67c",
   "metadata": {
    "papermill": {
     "duration": 0.012837,
     "end_time": "2022-07-09T14:18:54.296728",
     "exception": false,
     "start_time": "2022-07-09T14:18:54.283891",
     "status": "completed"
    },
    "tags": []
   },
   "outputs": [
    {
     "data": {
      "text/plain": [
       "{'Text': '/opt/app-root/src/aicoe-osc-demo/data/infer_relevance'}"
      ]
     },
     "execution_count": 19,
     "metadata": {},
     "output_type": "execute_result"
    }
   ],
   "source": [
    "infer_config.relevance_dir"
   ]
  },
  {
   "cell_type": "code",
   "execution_count": 20,
   "id": "6eccfd28-a107-4e41-9293-8348b9d59f80",
   "metadata": {
    "papermill": {
     "duration": 0.272385,
     "end_time": "2022-07-09T14:18:54.573924",
     "exception": false,
     "start_time": "2022-07-09T14:18:54.301539",
     "status": "completed"
    },
    "tags": []
   },
   "outputs": [
    {
     "data": {
      "text/html": [
       "<div>\n",
       "<style scoped>\n",
       "    .dataframe tbody tr th:only-of-type {\n",
       "        vertical-align: middle;\n",
       "    }\n",
       "\n",
       "    .dataframe tbody tr th {\n",
       "        vertical-align: top;\n",
       "    }\n",
       "\n",
       "    .dataframe thead th {\n",
       "        text-align: right;\n",
       "    }\n",
       "</style>\n",
       "<table border=\"1\" class=\"dataframe\">\n",
       "  <thead>\n",
       "    <tr style=\"text-align: right;\">\n",
       "      <th></th>\n",
       "      <th>kpi_id</th>\n",
       "      <th>question</th>\n",
       "      <th>sectors</th>\n",
       "      <th>add_year</th>\n",
       "      <th>kpi_category</th>\n",
       "      <th>Unnamed: 5</th>\n",
       "      <th>Unnamed: 6</th>\n",
       "    </tr>\n",
       "  </thead>\n",
       "  <tbody>\n",
       "    <tr>\n",
       "      <th>0</th>\n",
       "      <td>0.0</td>\n",
       "      <td>What is the company name?</td>\n",
       "      <td>OG, CM, CU</td>\n",
       "      <td>False</td>\n",
       "      <td>TEXT</td>\n",
       "      <td>NaN</td>\n",
       "      <td>NaN</td>\n",
       "    </tr>\n",
       "    <tr>\n",
       "      <th>1</th>\n",
       "      <td>1.0</td>\n",
       "      <td>In which year was the annual report or the sus...</td>\n",
       "      <td>OG, CM, CU</td>\n",
       "      <td>False</td>\n",
       "      <td>TEXT</td>\n",
       "      <td>NaN</td>\n",
       "      <td>NaN</td>\n",
       "    </tr>\n",
       "    <tr>\n",
       "      <th>2</th>\n",
       "      <td>2.0</td>\n",
       "      <td>What is the total volume of proven and probabl...</td>\n",
       "      <td>OG</td>\n",
       "      <td>True</td>\n",
       "      <td>TEXT, TABLE</td>\n",
       "      <td>NaN</td>\n",
       "      <td>NaN</td>\n",
       "    </tr>\n",
       "    <tr>\n",
       "      <th>3</th>\n",
       "      <td>2.1</td>\n",
       "      <td>What is the volume of estimated proven hydroca...</td>\n",
       "      <td>OG</td>\n",
       "      <td>True</td>\n",
       "      <td>TEXT, TABLE</td>\n",
       "      <td>NaN</td>\n",
       "      <td>NaN</td>\n",
       "    </tr>\n",
       "    <tr>\n",
       "      <th>4</th>\n",
       "      <td>2.2</td>\n",
       "      <td>What is the volume of estimated probable hydro...</td>\n",
       "      <td>OG</td>\n",
       "      <td>True</td>\n",
       "      <td>TEXT, TABLE</td>\n",
       "      <td>NaN</td>\n",
       "      <td>NaN</td>\n",
       "    </tr>\n",
       "  </tbody>\n",
       "</table>\n",
       "</div>"
      ],
      "text/plain": [
       "   kpi_id                                           question     sectors  \\\n",
       "0     0.0                          What is the company name?  OG, CM, CU   \n",
       "1     1.0  In which year was the annual report or the sus...  OG, CM, CU   \n",
       "2     2.0  What is the total volume of proven and probabl...          OG   \n",
       "3     2.1  What is the volume of estimated proven hydroca...          OG   \n",
       "4     2.2  What is the volume of estimated probable hydro...          OG   \n",
       "\n",
       "   add_year kpi_category  Unnamed: 5  Unnamed: 6  \n",
       "0     False         TEXT         NaN         NaN  \n",
       "1     False         TEXT         NaN         NaN  \n",
       "2      True  TEXT, TABLE         NaN         NaN  \n",
       "3      True  TEXT, TABLE         NaN         NaN  \n",
       "4      True  TEXT, TABLE         NaN         NaN  "
      ]
     },
     "execution_count": 20,
     "metadata": {},
     "output_type": "execute_result"
    }
   ],
   "source": [
    "kpi_df = s3c.download_df_from_s3(\n",
    "    \"aicoe-osc-demo/kpi_mapping\",\n",
    "    config.KPI_MAPPING_CSV,\n",
    "    filetype=S3FileType.CSV,\n",
    "    header=0,\n",
    ")\n",
    "kpi_df.head()"
   ]
  },
  {
   "cell_type": "code",
   "execution_count": 21,
   "id": "715e0399-beee-43ac-8ef3-50e97be6cbf6",
   "metadata": {
    "papermill": {
     "duration": 52.414748,
     "end_time": "2022-07-09T14:19:46.994260",
     "exception": false,
     "start_time": "2022-07-09T14:18:54.579512",
     "status": "completed"
    },
    "tags": []
   },
   "outputs": [
    {
     "name": "stderr",
     "output_type": "stream",
     "text": [
      "07/10/2022 11:04:26 - INFO - src.models.text_kpi_infer -   #################### Starting KPI Inference for the following relevance CSV files found in /opt/app-root/src/aicoe-osc-demo/data/infer_kpi:\n",
      "['sustainability-report-2019_predictions_relevant.csv', '2020-cdp-climate-response_predictions_relevant.csv', 'PGE_Corporation_CDP_Climate_Change_Questionnaire_2021_predictions_relevant.csv', 'vodafone-group-cdp-climate-change-questionnaire2021_predictions_relevant.csv', 'Unilever CDP Climate Response_predictions_relevant.csv', 'gap_inc-_cdp_climate_change_questionnaire_2021_predictions_relevant.csv', 'Corning_Incorporated_CDP_Climate_Change_Questionnaire_2021_FINAL_predictions_relevant.csv', 'Michelin-CDP-Climate-Change-2021_def_predictions_relevant.csv', 'bp-cdp-climate-change-questionnaire-2021_predictions_relevant.csv', 'Adobe_CDP_Climate_Change_Questionnaire_2021_predictions_relevant.csv', '2020-cdp-climate-response-checkpoint_predictions_relevant.csv', 'Apple_CDP-Climate-Change-Questionnaire_2021_predictions_relevant.csv', 'NextEra Energy 2021 CDP Response_predictions_relevant.csv', 'Bayer AG Climate Change 2021_predictions_relevant.csv'] \n",
      "07/10/2022 11:04:26 - INFO - src.models.text_kpi_infer -   #################### 1/14\n",
      "07/10/2022 11:04:26 - INFO - src.models.text_kpi_infer -   Starting KPI Extraction for sustainability-report-2019\n",
      "Inferencing Samples: 100%|██████████| 186/186 [00:11<00:00, 16.04 Batches/s]\n",
      "07/10/2022 11:04:41 - ERROR - farm.modeling.predictions -   Both start and end offsets should be 0: \n",
      "219, 219 with a no_answer. \n",
      "07/10/2022 11:04:41 - ERROR - farm.modeling.predictions -   Both start and end offsets should be 0: \n",
      "219, 219 with a no_answer. \n",
      "07/10/2022 11:04:41 - ERROR - farm.modeling.predictions -   Both start and end offsets should be 0: \n",
      "86, 86 with a no_answer. \n",
      "07/10/2022 11:04:41 - ERROR - farm.modeling.predictions -   Both start and end offsets should be 0: \n",
      "240, 240 with a no_answer. \n",
      "07/10/2022 11:04:41 - ERROR - farm.modeling.predictions -   Both start and end offsets should be 0: \n",
      "86, 86 with a no_answer. \n",
      "07/10/2022 11:04:41 - ERROR - farm.modeling.predictions -   Both start and end offsets should be 0: \n",
      "240, 240 with a no_answer. \n",
      "07/10/2022 11:04:41 - ERROR - farm.modeling.predictions -   Both start and end offsets should be 0: \n",
      "219, 219 with a no_answer. \n",
      "07/10/2022 11:04:41 - ERROR - farm.modeling.predictions -   Both start and end offsets should be 0: \n",
      "219, 219 with a no_answer. \n",
      "07/10/2022 11:04:41 - ERROR - farm.modeling.predictions -   Both start and end offsets should be 0: \n",
      "240, 240 with a no_answer. \n",
      "07/10/2022 11:04:41 - ERROR - farm.modeling.predictions -   Both start and end offsets should be 0: \n",
      "219, 219 with a no_answer. \n",
      "07/10/2022 11:04:41 - ERROR - farm.modeling.predictions -   Both start and end offsets should be 0: \n",
      "240, 240 with a no_answer. \n",
      "07/10/2022 11:04:41 - ERROR - farm.modeling.predictions -   Both start and end offsets should be 0: \n",
      "219, 219 with a no_answer. \n",
      "07/10/2022 11:04:41 - ERROR - farm.modeling.predictions -   Both start and end offsets should be 0: \n",
      "240, 240 with a no_answer. \n",
      "07/10/2022 11:04:41 - ERROR - farm.modeling.predictions -   Both start and end offsets should be 0: \n",
      "86, 86 with a no_answer. \n",
      "07/10/2022 11:04:41 - ERROR - farm.modeling.predictions -   Both start and end offsets should be 0: \n",
      "219, 219 with a no_answer. \n",
      "07/10/2022 11:04:41 - ERROR - farm.modeling.predictions -   Both start and end offsets should be 0: \n",
      "219, 219 with a no_answer. \n",
      "07/10/2022 11:04:41 - ERROR - farm.modeling.predictions -   Both start and end offsets should be 0: \n",
      "219, 219 with a no_answer. \n",
      "07/10/2022 11:04:41 - INFO - src.models.text_kpi_infer -   Save the result of KPI extraction to /opt/app-root/src/aicoe-osc-demo/data/infer_kpi/sustainability-report-2019_predictions_kpi.csv\n",
      "07/10/2022 11:04:41 - INFO - src.models.text_kpi_infer -   #################### 2/14\n",
      "07/10/2022 11:04:41 - INFO - src.models.text_kpi_infer -   Starting KPI Extraction for 2020-cdp-climate-response\n",
      "Inferencing Samples: 100%|██████████| 355/355 [00:22<00:00, 15.93 Batches/s]\n",
      "Inferencing Samples: 100%|██████████| 217/217 [00:13<00:00, 15.78 Batches/s]\n",
      "07/10/2022 11:05:28 - INFO - src.models.text_kpi_infer -   Save the result of KPI extraction to /opt/app-root/src/aicoe-osc-demo/data/infer_kpi/2020-cdp-climate-response_predictions_kpi.csv\n",
      "07/10/2022 11:05:28 - INFO - src.models.text_kpi_infer -   #################### 3/14\n",
      "07/10/2022 11:05:28 - INFO - src.models.text_kpi_infer -   Starting KPI Extraction for PGE_Corporation_CDP_Climate_Change_Questionnaire_2021\n",
      "Inferencing Samples: 100%|██████████| 250/250 [00:15<00:00, 15.82 Batches/s]\n",
      "Inferencing Samples: 100%|██████████| 250/250 [00:15<00:00, 16.03 Batches/s]\n",
      "Inferencing Samples: 100%|██████████| 250/250 [00:15<00:00, 15.86 Batches/s]\n",
      "Inferencing Samples: 100%|██████████| 15/15 [00:00<00:00, 16.29 Batches/s]\n",
      "07/10/2022 11:06:26 - INFO - src.models.text_kpi_infer -   Save the result of KPI extraction to /opt/app-root/src/aicoe-osc-demo/data/infer_kpi/PGE_Corporation_CDP_Climate_Change_Questionnaire_2021_predictions_kpi.csv\n",
      "07/10/2022 11:06:26 - INFO - src.models.text_kpi_infer -   #################### 4/14\n",
      "07/10/2022 11:06:26 - INFO - src.models.text_kpi_infer -   Starting KPI Extraction for vodafone-group-cdp-climate-change-questionnaire2021\n",
      "Inferencing Samples: 100%|██████████| 251/251 [00:15<00:00, 15.96 Batches/s]\n",
      "Inferencing Samples: 100%|██████████| 250/250 [00:15<00:00, 15.94 Batches/s]\n",
      "Inferencing Samples: 100%|██████████| 250/250 [00:15<00:00, 15.83 Batches/s]\n",
      "Inferencing Samples: 100%|██████████| 187/187 [00:11<00:00, 15.90 Batches/s]\n",
      "07/10/2022 11:07:41 - INFO - src.models.text_kpi_infer -   Save the result of KPI extraction to /opt/app-root/src/aicoe-osc-demo/data/infer_kpi/vodafone-group-cdp-climate-change-questionnaire2021_predictions_kpi.csv\n",
      "07/10/2022 11:07:41 - INFO - src.models.text_kpi_infer -   #################### 5/14\n",
      "07/10/2022 11:07:41 - INFO - src.models.text_kpi_infer -   Starting KPI Extraction for Unilever CDP Climate Response\n",
      "Inferencing Samples: 100%|██████████| 254/254 [00:16<00:00, 15.86 Batches/s]\n",
      "Inferencing Samples: 100%|██████████| 257/257 [00:16<00:00, 15.81 Batches/s]\n",
      "Inferencing Samples: 100%|██████████| 253/253 [00:15<00:00, 15.87 Batches/s]\n",
      "Inferencing Samples: 100%|██████████| 126/126 [00:08<00:00, 15.65 Batches/s]\n",
      "07/10/2022 11:08:50 - INFO - src.models.text_kpi_infer -   Save the result of KPI extraction to /opt/app-root/src/aicoe-osc-demo/data/infer_kpi/Unilever CDP Climate Response_predictions_kpi.csv\n",
      "07/10/2022 11:08:50 - INFO - src.models.text_kpi_infer -   #################### 6/14\n",
      "07/10/2022 11:08:50 - INFO - src.models.text_kpi_infer -   Starting KPI Extraction for gap_inc-_cdp_climate_change_questionnaire_2021\n",
      "Inferencing Samples: 100%|██████████| 250/250 [00:15<00:00, 15.88 Batches/s]\n",
      "Inferencing Samples: 100%|██████████| 91/91 [00:05<00:00, 16.10 Batches/s]\n",
      "07/10/2022 11:09:16 - INFO - src.models.text_kpi_infer -   Save the result of KPI extraction to /opt/app-root/src/aicoe-osc-demo/data/infer_kpi/gap_inc-_cdp_climate_change_questionnaire_2021_predictions_kpi.csv\n",
      "07/10/2022 11:09:16 - INFO - src.models.text_kpi_infer -   #################### 7/14\n",
      "07/10/2022 11:09:16 - INFO - src.models.text_kpi_infer -   Starting KPI Extraction for Corning_Incorporated_CDP_Climate_Change_Questionnaire_2021_FINAL\n",
      "Inferencing Samples: 100%|██████████| 251/251 [00:15<00:00, 15.87 Batches/s]\n",
      "Inferencing Samples: 100%|██████████| 34/34 [00:02<00:00, 15.88 Batches/s]\n",
      "07/10/2022 11:09:37 - INFO - src.models.text_kpi_infer -   Save the result of KPI extraction to /opt/app-root/src/aicoe-osc-demo/data/infer_kpi/Corning_Incorporated_CDP_Climate_Change_Questionnaire_2021_FINAL_predictions_kpi.csv\n",
      "07/10/2022 11:09:37 - INFO - src.models.text_kpi_infer -   #################### 8/14\n",
      "07/10/2022 11:09:37 - INFO - src.models.text_kpi_infer -   Starting KPI Extraction for Michelin-CDP-Climate-Change-2021_def\n",
      "Inferencing Samples: 100%|██████████| 323/323 [00:20<00:00, 15.57 Batches/s]\n",
      "Inferencing Samples: 100%|██████████| 319/319 [00:20<00:00, 15.74 Batches/s]\n",
      "Inferencing Samples: 100%|██████████| 177/177 [00:11<00:00, 15.99 Batches/s]\n",
      "07/10/2022 11:10:44 - INFO - src.models.text_kpi_infer -   Save the result of KPI extraction to /opt/app-root/src/aicoe-osc-demo/data/infer_kpi/Michelin-CDP-Climate-Change-2021_def_predictions_kpi.csv\n",
      "07/10/2022 11:10:44 - INFO - src.models.text_kpi_infer -   #################### 9/14\n",
      "07/10/2022 11:10:44 - INFO - src.models.text_kpi_infer -   Starting KPI Extraction for bp-cdp-climate-change-questionnaire-2021\n",
      "Inferencing Samples: 100%|██████████| 294/294 [00:18<00:00, 15.92 Batches/s]\n",
      "Inferencing Samples: 100%|██████████| 284/284 [00:18<00:00, 15.76 Batches/s]\n",
      "Inferencing Samples: 100%|██████████| 271/271 [00:17<00:00, 15.68 Batches/s]\n",
      "Inferencing Samples: 100%|██████████| 2/2 [00:00<00:00, 22.04 Batches/s]\n",
      "07/10/2022 11:11:52 - INFO - src.models.text_kpi_infer -   Save the result of KPI extraction to /opt/app-root/src/aicoe-osc-demo/data/infer_kpi/bp-cdp-climate-change-questionnaire-2021_predictions_kpi.csv\n",
      "07/10/2022 11:11:52 - INFO - src.models.text_kpi_infer -   #################### 10/14\n",
      "07/10/2022 11:11:52 - INFO - src.models.text_kpi_infer -   Starting KPI Extraction for Adobe_CDP_Climate_Change_Questionnaire_2021\n",
      "Inferencing Samples: 100%|██████████| 255/255 [00:16<00:00, 15.82 Batches/s]\n",
      "Inferencing Samples: 100%|██████████| 252/252 [00:15<00:00, 15.99 Batches/s]\n",
      "Inferencing Samples: 100%|██████████| 111/111 [00:06<00:00, 16.06 Batches/s]\n",
      "07/10/2022 11:12:40 - INFO - src.models.text_kpi_infer -   Save the result of KPI extraction to /opt/app-root/src/aicoe-osc-demo/data/infer_kpi/Adobe_CDP_Climate_Change_Questionnaire_2021_predictions_kpi.csv\n",
      "07/10/2022 11:12:40 - INFO - src.models.text_kpi_infer -   #################### 11/14\n",
      "07/10/2022 11:12:40 - INFO - src.models.text_kpi_infer -   Starting KPI Extraction for 2020-cdp-climate-response-checkpoint\n",
      "Inferencing Samples: 100%|██████████| 355/355 [00:22<00:00, 15.65 Batches/s]\n",
      "Inferencing Samples: 100%|██████████| 217/217 [00:13<00:00, 15.78 Batches/s]\n",
      "07/10/2022 11:13:27 - INFO - src.models.text_kpi_infer -   Save the result of KPI extraction to /opt/app-root/src/aicoe-osc-demo/data/infer_kpi/2020-cdp-climate-response-checkpoint_predictions_kpi.csv\n",
      "07/10/2022 11:13:27 - INFO - src.models.text_kpi_infer -   #################### 12/14\n",
      "07/10/2022 11:13:27 - INFO - src.models.text_kpi_infer -   Starting KPI Extraction for Apple_CDP-Climate-Change-Questionnaire_2021\n",
      "Inferencing Samples: 100%|██████████| 261/261 [00:16<00:00, 15.84 Batches/s]\n",
      "Inferencing Samples: 100%|██████████| 117/117 [00:07<00:00, 15.61 Batches/s]\n",
      "07/10/2022 11:13:57 - INFO - src.models.text_kpi_infer -   Save the result of KPI extraction to /opt/app-root/src/aicoe-osc-demo/data/infer_kpi/Apple_CDP-Climate-Change-Questionnaire_2021_predictions_kpi.csv\n",
      "07/10/2022 11:13:57 - INFO - src.models.text_kpi_infer -   #################### 13/14\n",
      "07/10/2022 11:13:57 - INFO - src.models.text_kpi_infer -   Starting KPI Extraction for NextEra Energy 2021 CDP Response\n",
      "Inferencing Samples: 100%|██████████| 257/257 [00:16<00:00, 15.92 Batches/s]\n",
      "07/10/2022 11:14:17 - INFO - src.models.text_kpi_infer -   Save the result of KPI extraction to /opt/app-root/src/aicoe-osc-demo/data/infer_kpi/NextEra Energy 2021 CDP Response_predictions_kpi.csv\n",
      "07/10/2022 11:14:17 - INFO - src.models.text_kpi_infer -   #################### 14/14\n",
      "07/10/2022 11:14:17 - INFO - src.models.text_kpi_infer -   Starting KPI Extraction for Bayer AG Climate Change 2021\n",
      "Inferencing Samples: 100%|██████████| 274/274 [00:17<00:00, 15.78 Batches/s]\n",
      "Inferencing Samples: 100%|██████████| 259/259 [00:16<00:00, 15.73 Batches/s]\n",
      "Inferencing Samples: 100%|██████████| 179/179 [00:11<00:00, 15.95 Batches/s]\n",
      "07/10/2022 11:15:16 - INFO - src.models.text_kpi_infer -   Save the result of KPI extraction to /opt/app-root/src/aicoe-osc-demo/data/infer_kpi/Bayer AG Climate Change 2021_predictions_kpi.csv\n"
     ]
    },
    {
     "data": {
      "text/html": [
       "<div>\n",
       "<style scoped>\n",
       "    .dataframe tbody tr th:only-of-type {\n",
       "        vertical-align: middle;\n",
       "    }\n",
       "\n",
       "    .dataframe tbody tr th {\n",
       "        vertical-align: top;\n",
       "    }\n",
       "\n",
       "    .dataframe thead th {\n",
       "        text-align: right;\n",
       "    }\n",
       "</style>\n",
       "<table border=\"1\" class=\"dataframe\">\n",
       "  <thead>\n",
       "    <tr style=\"text-align: right;\">\n",
       "      <th></th>\n",
       "      <th>pdf_name</th>\n",
       "      <th>kpi</th>\n",
       "      <th>kpi_id</th>\n",
       "      <th>answer</th>\n",
       "      <th>page</th>\n",
       "      <th>paragraph</th>\n",
       "      <th>source</th>\n",
       "      <th>score</th>\n",
       "      <th>no_ans_score</th>\n",
       "      <th>no_answer_score_plus_boost</th>\n",
       "      <th>index</th>\n",
       "    </tr>\n",
       "  </thead>\n",
       "  <tbody>\n",
       "    <tr>\n",
       "      <th>0</th>\n",
       "      <td>sustainability-report-2019</td>\n",
       "      <td>Absolute target</td>\n",
       "      <td>NaN</td>\n",
       "      <td>US</td>\n",
       "      <td>25.0</td>\n",
       "      <td>US This year Equinor’s Empire Wind project suc...</td>\n",
       "      <td>Text</td>\n",
       "      <td>-1.477865</td>\n",
       "      <td>6.261431</td>\n",
       "      <td>-8.738569</td>\n",
       "      <td>NaN</td>\n",
       "    </tr>\n",
       "    <tr>\n",
       "      <th>1</th>\n",
       "      <td>sustainability-report-2019</td>\n",
       "      <td>Absolute target</td>\n",
       "      <td>NaN</td>\n",
       "      <td>’s Climate Roadmap sets out new short-, mid- a...</td>\n",
       "      <td>10.0</td>\n",
       "      <td>Equinor’s Climate Roadmap sets out new short-,...</td>\n",
       "      <td>Text</td>\n",
       "      <td>-5.128082</td>\n",
       "      <td>5.475263</td>\n",
       "      <td>-9.524737</td>\n",
       "      <td>NaN</td>\n",
       "    </tr>\n",
       "    <tr>\n",
       "      <th>2</th>\n",
       "      <td>sustainability-report-2019</td>\n",
       "      <td>Absolute target</td>\n",
       "      <td>NaN</td>\n",
       "      <td>Process safety</td>\n",
       "      <td>18.0</td>\n",
       "      <td>Process safety We continued to see a reduction...</td>\n",
       "      <td>Text</td>\n",
       "      <td>-5.214777</td>\n",
       "      <td>6.629411</td>\n",
       "      <td>-8.370589</td>\n",
       "      <td>NaN</td>\n",
       "    </tr>\n",
       "    <tr>\n",
       "      <th>3</th>\n",
       "      <td>sustainability-report-2019</td>\n",
       "      <td>Absolute target</td>\n",
       "      <td>NaN</td>\n",
       "      <td>’s broader leadership is in the same way asses...</td>\n",
       "      <td>6.0</td>\n",
       "      <td>At Equinor climate and sustainability is embed...</td>\n",
       "      <td>Text</td>\n",
       "      <td>-5.421431</td>\n",
       "      <td>6.867361</td>\n",
       "      <td>-8.132639</td>\n",
       "      <td>NaN</td>\n",
       "    </tr>\n",
       "    <tr>\n",
       "      <th>4</th>\n",
       "      <td>sustainability-report-2019</td>\n",
       "      <td>Absolute target changes</td>\n",
       "      <td>NaN</td>\n",
       "      <td>targeted tailored</td>\n",
       "      <td>24.0</td>\n",
       "      <td>In 2019, we increased the number of targeted t...</td>\n",
       "      <td>Text</td>\n",
       "      <td>-3.673779</td>\n",
       "      <td>-0.187777</td>\n",
       "      <td>-15.187777</td>\n",
       "      <td>NaN</td>\n",
       "    </tr>\n",
       "    <tr>\n",
       "      <th>...</th>\n",
       "      <td>...</td>\n",
       "      <td>...</td>\n",
       "      <td>...</td>\n",
       "      <td>...</td>\n",
       "      <td>...</td>\n",
       "      <td>...</td>\n",
       "      <td>...</td>\n",
       "      <td>...</td>\n",
       "      <td>...</td>\n",
       "      <td>...</td>\n",
       "      <td>...</td>\n",
       "    </tr>\n",
       "    <tr>\n",
       "      <th>131</th>\n",
       "      <td>Bayer AG Climate Change 2021</td>\n",
       "      <td>What percentage of your total operational spen...</td>\n",
       "      <td>NaN</td>\n",
       "      <td>6</td>\n",
       "      <td>19.0</td>\n",
       "      <td>Figure or percentage in reporting year 6</td>\n",
       "      <td>Text</td>\n",
       "      <td>-0.602398</td>\n",
       "      <td>6.323046</td>\n",
       "      <td>-8.676954</td>\n",
       "      <td>NaN</td>\n",
       "    </tr>\n",
       "    <tr>\n",
       "      <th>132</th>\n",
       "      <td>Bayer AG Climate Change 2021</td>\n",
       "      <td>What were your organization’s gross global Sco...</td>\n",
       "      <td>NaN</td>\n",
       "      <td>2010000</td>\n",
       "      <td>28.0</td>\n",
       "      <td>Gross global Scope 1 emissions (metric tons CO...</td>\n",
       "      <td>Text</td>\n",
       "      <td>7.808585</td>\n",
       "      <td>10.135893</td>\n",
       "      <td>-4.864107</td>\n",
       "      <td>NaN</td>\n",
       "    </tr>\n",
       "    <tr>\n",
       "      <th>133</th>\n",
       "      <td>Bayer AG Climate Change 2021</td>\n",
       "      <td>What were your organization’s gross global Sco...</td>\n",
       "      <td>NaN</td>\n",
       "      <td>3580000</td>\n",
       "      <td>34.0</td>\n",
       "      <td>Metric numerator (Gross global combined Scope ...</td>\n",
       "      <td>Text</td>\n",
       "      <td>2.033325</td>\n",
       "      <td>10.106841</td>\n",
       "      <td>-4.893159</td>\n",
       "      <td>NaN</td>\n",
       "    </tr>\n",
       "    <tr>\n",
       "      <th>134</th>\n",
       "      <td>Bayer AG Climate Change 2021</td>\n",
       "      <td>What were your organization’s gross global Sco...</td>\n",
       "      <td>NaN</td>\n",
       "      <td>3580000</td>\n",
       "      <td>34.0</td>\n",
       "      <td>Metric numerator (Gross global combined Scope ...</td>\n",
       "      <td>Text</td>\n",
       "      <td>2.033325</td>\n",
       "      <td>10.106841</td>\n",
       "      <td>-4.893159</td>\n",
       "      <td>NaN</td>\n",
       "    </tr>\n",
       "    <tr>\n",
       "      <th>135</th>\n",
       "      <td>Bayer AG Climate Change 2021</td>\n",
       "      <td>What were your organization’s gross global Sco...</td>\n",
       "      <td>NaN</td>\n",
       "      <td>2180800</td>\n",
       "      <td>16.0</td>\n",
       "      <td>Covered emissions in target year (metric tons ...</td>\n",
       "      <td>Text</td>\n",
       "      <td>-0.430300</td>\n",
       "      <td>10.082930</td>\n",
       "      <td>-4.917070</td>\n",
       "      <td>NaN</td>\n",
       "    </tr>\n",
       "  </tbody>\n",
       "</table>\n",
       "<p>1814 rows × 11 columns</p>\n",
       "</div>"
      ],
      "text/plain": [
       "                         pdf_name  \\\n",
       "0      sustainability-report-2019   \n",
       "1      sustainability-report-2019   \n",
       "2      sustainability-report-2019   \n",
       "3      sustainability-report-2019   \n",
       "4      sustainability-report-2019   \n",
       "..                            ...   \n",
       "131  Bayer AG Climate Change 2021   \n",
       "132  Bayer AG Climate Change 2021   \n",
       "133  Bayer AG Climate Change 2021   \n",
       "134  Bayer AG Climate Change 2021   \n",
       "135  Bayer AG Climate Change 2021   \n",
       "\n",
       "                                                   kpi  kpi_id  \\\n",
       "0                                      Absolute target     NaN   \n",
       "1                                      Absolute target     NaN   \n",
       "2                                      Absolute target     NaN   \n",
       "3                                      Absolute target     NaN   \n",
       "4                              Absolute target changes     NaN   \n",
       "..                                                 ...     ...   \n",
       "131  What percentage of your total operational spen...     NaN   \n",
       "132  What were your organization’s gross global Sco...     NaN   \n",
       "133  What were your organization’s gross global Sco...     NaN   \n",
       "134  What were your organization’s gross global Sco...     NaN   \n",
       "135  What were your organization’s gross global Sco...     NaN   \n",
       "\n",
       "                                                answer  page  \\\n",
       "0                                                   US  25.0   \n",
       "1    ’s Climate Roadmap sets out new short-, mid- a...  10.0   \n",
       "2                                       Process safety  18.0   \n",
       "3    ’s broader leadership is in the same way asses...   6.0   \n",
       "4                                    targeted tailored  24.0   \n",
       "..                                                 ...   ...   \n",
       "131                                                  6  19.0   \n",
       "132                                            2010000  28.0   \n",
       "133                                            3580000  34.0   \n",
       "134                                            3580000  34.0   \n",
       "135                                            2180800  16.0   \n",
       "\n",
       "                                             paragraph source     score  \\\n",
       "0    US This year Equinor’s Empire Wind project suc...   Text -1.477865   \n",
       "1    Equinor’s Climate Roadmap sets out new short-,...   Text -5.128082   \n",
       "2    Process safety We continued to see a reduction...   Text -5.214777   \n",
       "3    At Equinor climate and sustainability is embed...   Text -5.421431   \n",
       "4    In 2019, we increased the number of targeted t...   Text -3.673779   \n",
       "..                                                 ...    ...       ...   \n",
       "131           Figure or percentage in reporting year 6   Text -0.602398   \n",
       "132  Gross global Scope 1 emissions (metric tons CO...   Text  7.808585   \n",
       "133  Metric numerator (Gross global combined Scope ...   Text  2.033325   \n",
       "134  Metric numerator (Gross global combined Scope ...   Text  2.033325   \n",
       "135  Covered emissions in target year (metric tons ...   Text -0.430300   \n",
       "\n",
       "     no_ans_score  no_answer_score_plus_boost index  \n",
       "0        6.261431                   -8.738569   NaN  \n",
       "1        5.475263                   -9.524737   NaN  \n",
       "2        6.629411                   -8.370589   NaN  \n",
       "3        6.867361                   -8.132639   NaN  \n",
       "4       -0.187777                  -15.187777   NaN  \n",
       "..            ...                         ...   ...  \n",
       "131      6.323046                   -8.676954   NaN  \n",
       "132     10.135893                   -4.864107   NaN  \n",
       "133     10.106841                   -4.893159   NaN  \n",
       "134     10.106841                   -4.893159   NaN  \n",
       "135     10.082930                   -4.917070   NaN  \n",
       "\n",
       "[1814 rows x 11 columns]"
      ]
     },
     "execution_count": 21,
     "metadata": {},
     "output_type": "execute_result"
    }
   ],
   "source": [
    "tki.infer_on_relevance_results(infer_config.relevance_dir['Text'], kpi_df)"
   ]
  },
  {
   "cell_type": "code",
   "execution_count": 22,
   "id": "388d7a54-19fc-452e-b5a2-e07a8fbe79b6",
   "metadata": {
    "papermill": {
     "duration": 0.259651,
     "end_time": "2022-07-09T14:19:47.340021",
     "exception": false,
     "start_time": "2022-07-09T14:19:47.080370",
     "status": "completed"
    },
    "tags": []
   },
   "outputs": [],
   "source": [
    "if os.getenv(\"AUTOMATION\"):\n",
    "    # upload the predicted files to s3\n",
    "    s3c.upload_files_in_dir_to_prefix(\n",
    "        infer_config.result_dir['Text'],\n",
    "        config.BASE_INFER_KPI_S3_PREFIX\n",
    "    )"
   ]
  },
  {
   "cell_type": "markdown",
   "id": "a37bba54-3d44-4080-aaee-ff28390480b4",
   "metadata": {
    "papermill": {
     "duration": 0.015212,
     "end_time": "2022-07-09T14:19:47.391055",
     "exception": false,
     "start_time": "2022-07-09T14:19:47.375843",
     "status": "completed"
    },
    "tags": []
   },
   "source": [
    "# Conclusion\n",
    "This notebook ran the _KPI_ inference on a sample dataset and stored the output in a csv format."
   ]
  },
  {
   "cell_type": "code",
   "execution_count": 9,
   "id": "9eb2bc8f-2b5e-475f-aded-e83d7c3eb795",
   "metadata": {},
   "outputs": [
    {
     "data": {
      "text/plain": [
       "'test_cdp/pipeline_run/small/infer_KPI'"
      ]
     },
     "execution_count": 9,
     "metadata": {},
     "output_type": "execute_result"
    }
   ],
   "source": [
    "config.BASE_INFER_KPI_S3_PREFIX"
   ]
  },
  {
   "cell_type": "code",
   "execution_count": 10,
   "id": "74ce6693-8a64-476d-9f46-977b708ebb3a",
   "metadata": {},
   "outputs": [
    {
     "data": {
      "text/plain": [
       "'test_cdp/saved_models'"
      ]
     },
     "execution_count": 10,
     "metadata": {},
     "output_type": "execute_result"
    }
   ],
   "source": [
    "config.CHECKPOINT_S3_PREFIX"
   ]
  },
  {
   "cell_type": "code",
   "execution_count": 11,
   "id": "d81066b8-1404-483b-8bd2-0aadfbf95093",
   "metadata": {},
   "outputs": [
    {
     "data": {
      "text/plain": [
       "{'ResponseMetadata': {'RequestId': 'Q7Z5DBH1BBXSWM3V',\n",
       "  'HostId': 'E8jq+aBgRY9xhgohZfMp+hXVQnPipYKuAu8i1esmTdWMn5IbN+Hz8H7e6YP0J057ne52nOmWguI=',\n",
       "  'HTTPStatusCode': 200,\n",
       "  'HTTPHeaders': {'x-amz-id-2': 'E8jq+aBgRY9xhgohZfMp+hXVQnPipYKuAu8i1esmTdWMn5IbN+Hz8H7e6YP0J057ne52nOmWguI=',\n",
       "   'x-amz-request-id': 'Q7Z5DBH1BBXSWM3V',\n",
       "   'date': 'Sun, 10 Jul 2022 11:01:48 GMT',\n",
       "   'etag': '\"9ff39b913cc404563ee70807ced14a15\"',\n",
       "   'server': 'AmazonS3',\n",
       "   'content-length': '0'},\n",
       "  'RetryAttempts': 0},\n",
       " 'ETag': '\"9ff39b913cc404563ee70807ced14a15\"'}"
      ]
     },
     "execution_count": 11,
     "metadata": {},
     "output_type": "execute_result"
    }
   ],
   "source": [
    "s3c.upload_file_to_s3('/opt/app-root/src/aicoe-osc-demo/models/KPI_EXTRACTION.zip', config.CHECKPOINT_S3_PREFIX, \"KPI_EXTRACTION.zip\")"
   ]
  },
  {
   "cell_type": "code",
   "execution_count": null,
   "id": "a840ad94-4308-4c36-a1ce-6a4119f7f7eb",
   "metadata": {},
   "outputs": [],
   "source": []
  }
 ],
 "metadata": {
  "kernelspec": {
   "display_name": "Python 3 (ipykernel)",
   "language": "python",
   "name": "python3"
  },
  "language_info": {
   "codemirror_mode": {
    "name": "ipython",
    "version": 3
   },
   "file_extension": ".py",
   "mimetype": "text/x-python",
   "name": "python",
   "nbconvert_exporter": "python",
   "pygments_lexer": "ipython3",
   "version": "3.8.8"
  },
  "papermill": {
   "default_parameters": {},
   "duration": 157.293533,
   "end_time": "2022-07-09T14:19:49.993882",
   "environment_variables": {},
   "exception": null,
   "input_path": "/opt/app-root/src/aicoe-osc-demo/notebooks/demo2/infer_kpi.ipynb",
   "output_path": "/opt/app-root/src/aicoe-osc-demo/notebooks/demo2/infer_kpi.ipynb",
   "parameters": {},
   "start_time": "2022-07-09T14:17:12.700349",
   "version": "2.3.4"
  }
 },
 "nbformat": 4,
 "nbformat_minor": 5
}
