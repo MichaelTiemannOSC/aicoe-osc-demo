{
 "cells": [
  {
   "cell_type": "markdown",
   "id": "0e85812e-ba28-45e1-9e01-cde16ef0b44b",
   "metadata": {},
   "source": [
    "# KPI Inference\n",
    "This notebook takes in the relevant paragraphs to KPIs found in the relevance infer stage, the fine tuned KPI EXTRACTION model from the training stage, and performs inference to return specific answers to the KPIs."
   ]
  },
  {
   "cell_type": "code",
   "execution_count": null,
   "id": "f79c4be0-b1f8-4902-8950-05841cdc41d6",
   "metadata": {},
   "outputs": [],
   "source": [
    "from config_qa_farm_train import QAFileConfig, QAInferConfig\n",
    "import pprint\n",
    "import pathlib\n",
    "import os\n",
    "from src.data.s3_communication import S3Communication, S3FileType\n",
    "from src.models.text_kpi_infer import TextKPIInfer\n",
    "from dotenv import load_dotenv\n",
    "import zipfile\n",
    "import config"
   ]
  },
  {
   "cell_type": "code",
   "execution_count": null,
   "id": "1dfe6b89-357c-4c83-848f-d2f43faaf805",
   "metadata": {},
   "outputs": [],
   "source": [
    "# Load credentials\n",
    "dotenv_dir = os.environ.get(\n",
    "    \"CREDENTIAL_DOTENV_DIR\", os.environ.get(\"PWD\", \"/opt/app-root/src\")\n",
    ")\n",
    "dotenv_path = pathlib.Path(dotenv_dir) / \"credentials.env\"\n",
    "if os.path.exists(dotenv_path):\n",
    "    load_dotenv(dotenv_path=dotenv_path, override=True)"
   ]
  },
  {
   "cell_type": "code",
   "execution_count": null,
   "id": "f0982f03-be7f-4abc-ba30-ff1e842cf147",
   "metadata": {},
   "outputs": [],
   "source": [
    "# init s3 connector\n",
    "s3c = S3Communication(\n",
    "    s3_endpoint_url=os.getenv(\"S3_ENDPOINT\"),\n",
    "    aws_access_key_id=os.getenv(\"S3_LANDING_ACCESS_KEY\"),\n",
    "    aws_secret_access_key=os.getenv(\"S3_LANDING_SECRET_KEY\"),\n",
    "    s3_bucket=os.getenv(\"S3_BUCKET\"),\n",
    ")"
   ]
  },
  {
   "cell_type": "code",
   "execution_count": null,
   "id": "2e5136cb-7e32-4ca2-a533-db0b990f288e",
   "metadata": {},
   "outputs": [],
   "source": [
    "#Settings data files and checkpoints parameters\n",
    "file_config = QAFileConfig(\"infer_demo\")\n",
    "infer_config = QAInferConfig(\"infer_demo\")"
   ]
  },
  {
   "cell_type": "code",
   "execution_count": null,
   "id": "e5607a79-d139-40e4-ae56-646cd54a1838",
   "metadata": {},
   "outputs": [],
   "source": [
    "# When running in Automation using Elyra and Kubeflow Pipelines,\n",
    "# set AUTOMATION = 1 as an environment variable\n",
    "if os.getenv(\"AUTOMATION\"):\n",
    "\n",
    "    # inference results dir\n",
    "    if not os.path.exists(infer_config.relevance_dir['Text']):\n",
    "        pathlib.Path(infer_config.relevance_dir['Text']).mkdir(parents=True, exist_ok=True)\n",
    "\n",
    "    # kpi inference results dir\n",
    "    if not os.path.exists(infer_config.result_dir['Text']):\n",
    "        pathlib.Path(infer_config.result_dir['Text']).mkdir(parents=True, exist_ok=True)\n",
    "\n",
    "    # load dir\n",
    "    if not os.path.exists(infer_config.load_dir['Text']):\n",
    "        pathlib.Path(infer_config.load_dir['Text']).mkdir(parents=True, exist_ok=True)\n",
    "\n",
    "    # download relevance predictions from s3\n",
    "    s3c.download_files_in_prefix_to_dir(\n",
    "        config.BASE_INFER_RELEVANCE_S3_PREFIX,\n",
    "        infer_config.relevance_dir['Text'],\n",
    "    )"
   ]
  },
  {
   "cell_type": "code",
   "execution_count": null,
   "id": "7c24a0d7-40c2-4da8-9e7f-66ce78386ec3",
   "metadata": {},
   "outputs": [],
   "source": [
    "model_root = pathlib.Path(file_config.saved_models_dir).parent\n",
    "model_rel_zip = pathlib.Path(model_root, 'KPI_EXTRACTION.zip')\n",
    "s3c.download_file_from_s3(model_rel_zip, config.CHECKPOINT_S3_PREFIX, \"KPI_EXTRACTION.zip\")\n",
    "with zipfile.ZipFile(pathlib.Path(model_root, 'KPI_EXTRACTION.zip'), 'r') as z:\n",
    "    z.extractall(model_root)"
   ]
  },
  {
   "cell_type": "markdown",
   "id": "bda4681d-2d84-414b-a701-b507acc99552",
   "metadata": {},
   "source": [
    "## Inference"
   ]
  },
  {
   "cell_type": "markdown",
   "id": "2af4fd06-c86d-42aa-b4f6-6992b60cf512",
   "metadata": {},
   "source": [
    "We can use the saved model and test it on some real examples.<br><br>\n",
    "First let's load the model:"
   ]
  },
  {
   "cell_type": "code",
   "execution_count": null,
   "id": "38a70174-65b3-4365-ba6f-d020457de4b7",
   "metadata": {},
   "outputs": [],
   "source": [
    "file_config.saved_models_dir"
   ]
  },
  {
   "cell_type": "code",
   "execution_count": null,
   "id": "b840d5cf-3d42-4e9e-be2d-d95634c4ac96",
   "metadata": {},
   "outputs": [],
   "source": [
    "tki = TextKPIInfer(infer_config)"
   ]
  },
  {
   "cell_type": "markdown",
   "id": "c534da63-f0b2-4e5b-bef1-d4d0a217e433",
   "metadata": {},
   "source": [
    "Now, let's make prediction on a pair of paragraph and question."
   ]
  },
  {
   "cell_type": "code",
   "execution_count": null,
   "id": "d506a8b3-f013-4eef-98fc-d1cdd1525a14",
   "metadata": {},
   "outputs": [],
   "source": [
    "context = \"\"\"the paris agreement on climate change drafted in 2015 aims to reduce worldwide emissions of greenhouse\n",
    "gases to a level intended to limit a rise in global temperatures to below 2 degrees or, better still,\n",
    "to below 1.5 degrees. verbund’s target of reducing greenhouse gas emissions by 90% measured beginning from\n",
    "the basis year 2011 5 million tonnes co2e until 2021 includes scope 1, scope 2 market- based and parts of scope 3 emissions\n",
    "for energy and air travel. the science based targets initiative validated this goal as science-based in october 2016,\n",
    "i.e. it meets global standards. according to current planning, the target can be achieved.\n",
    "however, if the grid operator requires higher generation volumes\n",
    "\"\"\"\n",
    "question = \"What is the target year for climate commitment?\"\n"
   ]
  },
  {
   "cell_type": "code",
   "execution_count": null,
   "id": "e92e6380-5440-499b-b4e8-6871dfc0ec13",
   "metadata": {},
   "outputs": [],
   "source": [
    "QA_input = [\n",
    "    {\n",
    "        \"qas\": [question],\n",
    "        \"context\":  context\n",
    "    }\n",
    "]\n",
    "\n",
    "result = tki.infer_on_dict(QA_input)[0]\n",
    "pprint.pprint(result)"
   ]
  },
  {
   "cell_type": "markdown",
   "id": "25bdf450-5ffb-46b4-bf05-63febe597593",
   "metadata": {},
   "source": [
    "What does the prediction result show? "
   ]
  },
  {
   "cell_type": "code",
   "execution_count": null,
   "id": "274ed119-f30a-43c6-9fae-a49a59167648",
   "metadata": {},
   "outputs": [],
   "source": [
    "# This is the best answer. Generally it can be span-based or it can be no-answer, which ever is higher\n",
    "# Here the top answer is the span '2021'\n",
    "result['predictions'][0]['answers'][0]"
   ]
  },
  {
   "cell_type": "code",
   "execution_count": null,
   "id": "06544a27-29a1-43bc-a9b4-3983f9f8478c",
   "metadata": {},
   "outputs": [],
   "source": [
    "# Non-answerable score: The model is pretty confident that the answer to the question can be in the context.\n",
    "result['predictions'][0]['answers'][1]"
   ]
  },
  {
   "cell_type": "markdown",
   "id": "8d67eca9-c232-4531-aa10-f7171f28da9a",
   "metadata": {},
   "source": [
    "Now, let's use the model to infer kpi answers from the relevance results "
   ]
  },
  {
   "cell_type": "code",
   "execution_count": null,
   "id": "9ddef850-c2bc-412a-ba61-7c473cded67c",
   "metadata": {},
   "outputs": [],
   "source": [
    "infer_config.relevance_dir"
   ]
  },
  {
   "cell_type": "code",
   "execution_count": null,
   "id": "6eccfd28-a107-4e41-9293-8348b9d59f80",
   "metadata": {},
   "outputs": [],
   "source": [
    "kpi_df = s3c.download_df_from_s3(\n",
    "    \"aicoe-osc-demo/kpi_mapping\",\n",
    "    \"kpi_mapping.csv\",\n",
    "    filetype=S3FileType.CSV,\n",
    "    header=0,\n",
    ")\n",
    "kpi_df.head()"
   ]
  },
  {
   "cell_type": "code",
   "execution_count": null,
   "id": "715e0399-beee-43ac-8ef3-50e97be6cbf6",
   "metadata": {},
   "outputs": [],
   "source": [
    "tki.infer_on_relevance_results(infer_config.relevance_dir['Text'], kpi_df)"
   ]
  },
  {
   "cell_type": "code",
   "execution_count": null,
   "id": "388d7a54-19fc-452e-b5a2-e07a8fbe79b6",
   "metadata": {},
   "outputs": [],
   "source": [
    "if os.getenv(\"AUTOMATION\"):\n",
    "    # upload the predicted files to s3\n",
    "    s3c.upload_files_in_dir_to_prefix(\n",
    "        infer_config.result_dir['Text'],\n",
    "        config.BASE_INFER_KPI_S3_PREFIX\n",
    "    )"
   ]
  },
  {
   "cell_type": "markdown",
   "id": "a37bba54-3d44-4080-aaee-ff28390480b4",
   "metadata": {},
   "source": [
    "# Conclusion\n",
    "This notebook ran the _KPI_ inference on a sample dataset and stored the output in a csv format."
   ]
  }
 ],
 "metadata": {
  "kernelspec": {
   "display_name": "Python 3 (ipykernel)",
   "language": "python",
   "name": "python3"
  },
  "language_info": {
   "codemirror_mode": {
    "name": "ipython",
    "version": 3
   },
   "file_extension": ".py",
   "mimetype": "text/x-python",
   "name": "python",
   "nbconvert_exporter": "python",
   "pygments_lexer": "ipython3",
   "version": "3.8.8"
  }
 },
 "nbformat": 4,
 "nbformat_minor": 5
}
