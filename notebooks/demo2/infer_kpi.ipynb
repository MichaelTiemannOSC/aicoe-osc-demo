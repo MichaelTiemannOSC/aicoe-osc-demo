{
 "cells": [
  {
   "cell_type": "markdown",
   "id": "0e85812e-ba28-45e1-9e01-cde16ef0b44b",
   "metadata": {
    "papermill": {
     "duration": 0.004919,
     "end_time": "2022-07-02T00:30:29.987143",
     "exception": false,
     "start_time": "2022-07-02T00:30:29.982224",
     "status": "completed"
    },
    "tags": []
   },
   "source": [
    "# KPI Inference\n",
    "This notebook takes in the relevant paragraphs to KPIs found in the relevance infer stage, the fine tuned KPI EXTRACTION model from the training stage, and performs inference to return specific answers to the KPIs."
   ]
  },
  {
   "cell_type": "code",
   "execution_count": 1,
   "id": "f79c4be0-b1f8-4902-8950-05841cdc41d6",
   "metadata": {
    "papermill": {
     "duration": 3.488551,
     "end_time": "2022-07-02T00:30:33.479940",
     "exception": false,
     "start_time": "2022-07-02T00:30:29.991389",
     "status": "completed"
    },
    "tags": []
   },
   "outputs": [
    {
     "name": "stderr",
     "output_type": "stream",
     "text": [
      "07/16/2022 15:55:21 - INFO - farm.modeling.prediction_head -   Better speed can be achieved with apex installed from https://www.github.com/nvidia/apex .\n"
     ]
    }
   ],
   "source": [
    "from config_qa_farm_train import QAFileConfig, QAInferConfig\n",
    "import pprint\n",
    "import pathlib\n",
    "\n",
    "import os\n",
    "from src.data.s3_communication import S3Communication, S3FileType\n",
    "from src.models.text_kpi_infer import TextKPIInfer\n",
    "from dotenv import load_dotenv\n",
    "import zipfile\n",
    "import config"
   ]
  },
  {
   "cell_type": "code",
   "execution_count": 2,
   "id": "1dfe6b89-357c-4c83-848f-d2f43faaf805",
   "metadata": {
    "papermill": {
     "duration": 0.0182,
     "end_time": "2022-07-02T00:30:33.503253",
     "exception": false,
     "start_time": "2022-07-02T00:30:33.485053",
     "status": "completed"
    },
    "tags": []
   },
   "outputs": [],
   "source": [
    "# Load credentials\n",
    "dotenv_dir = os.environ.get(\n",
    "    \"CREDENTIAL_DOTENV_DIR\", os.environ.get(\"PWD\", \"/opt/app-root/src\")\n",
    ")\n",
    "dotenv_path = pathlib.Path(dotenv_dir) / \"credentials.env\"\n",
    "if os.path.exists(dotenv_path):\n",
    "    load_dotenv(dotenv_path=dotenv_path, override=True)"
   ]
  },
  {
   "cell_type": "code",
   "execution_count": 3,
   "id": "f0982f03-be7f-4abc-ba30-ff1e842cf147",
   "metadata": {
    "papermill": {
     "duration": 0.098028,
     "end_time": "2022-07-02T00:30:33.605260",
     "exception": false,
     "start_time": "2022-07-02T00:30:33.507232",
     "status": "completed"
    },
    "tags": []
   },
   "outputs": [],
   "source": [
    "# init s3 connector\n",
    "s3c = S3Communication(\n",
    "    s3_endpoint_url=os.getenv(\"S3_ENDPOINT\"),\n",
    "    aws_access_key_id=os.getenv(\"S3_LANDING_ACCESS_KEY\"),\n",
    "    aws_secret_access_key=os.getenv(\"S3_LANDING_SECRET_KEY\"),\n",
    "    s3_bucket=os.getenv(\"S3_BUCKET\"),\n",
    ")"
   ]
  },
  {
   "cell_type": "code",
   "execution_count": 4,
   "id": "2e5136cb-7e32-4ca2-a533-db0b990f288e",
   "metadata": {
    "papermill": {
     "duration": 0.011196,
     "end_time": "2022-07-02T00:30:33.620983",
     "exception": false,
     "start_time": "2022-07-02T00:30:33.609787",
     "status": "completed"
    },
    "tags": []
   },
   "outputs": [],
   "source": [
    "#Settings data files and checkpoints parameters\n",
    "file_config = QAFileConfig(\"infer_demo\")\n",
    "infer_config = QAInferConfig(\"infer_demo\")"
   ]
  },
  {
   "cell_type": "code",
   "execution_count": 5,
   "id": "e5607a79-d139-40e4-ae56-646cd54a1838",
   "metadata": {
    "papermill": {
     "duration": 0.152377,
     "end_time": "2022-07-02T00:30:33.777607",
     "exception": false,
     "start_time": "2022-07-02T00:30:33.625230",
     "status": "completed"
    },
    "tags": []
   },
   "outputs": [],
   "source": [
    "# When running in Automation using Elyra and Kubeflow Pipelines,\n",
    "# set AUTOMATION = 1 as an environment variable\n",
    "if os.getenv(\"AUTOMATION\"):\n",
    "\n",
    "    # inference results dir\n",
    "    if not os.path.exists(infer_config.relevance_dir['Text']):\n",
    "        pathlib.Path(infer_config.relevance_dir['Text']).mkdir(parents=True, exist_ok=True)\n",
    "\n",
    "    # kpi inference results dir\n",
    "    if not os.path.exists(infer_config.result_dir['Text']):\n",
    "        pathlib.Path(infer_config.result_dir['Text']).mkdir(parents=True, exist_ok=True)\n",
    "\n",
    "    # load dir\n",
    "    if not os.path.exists(infer_config.load_dir['Text']):\n",
    "        pathlib.Path(infer_config.load_dir['Text']).mkdir(parents=True, exist_ok=True)\n",
    "\n",
    "    # download relevance predictions from s3\n",
    "    s3c.download_files_in_prefix_to_dir(\n",
    "        config.BASE_INFER_RELEVANCE_S3_PREFIX,\n",
    "        infer_config.relevance_dir['Text'],\n",
    "    )"
   ]
  },
  {
   "cell_type": "code",
   "execution_count": 6,
   "id": "7c24a0d7-40c2-4da8-9e7f-66ce78386ec3",
   "metadata": {
    "papermill": {
     "duration": 44.222679,
     "end_time": "2022-07-02T00:31:18.004580",
     "exception": false,
     "start_time": "2022-07-02T00:30:33.781901",
     "status": "completed"
    },
    "tags": []
   },
   "outputs": [],
   "source": [
    "model_root = pathlib.Path(file_config.saved_models_dir).parent\n",
    "model_rel_zip = pathlib.Path(model_root, 'KPI_EXTRACTION.zip')\n",
    "\n",
    "# This file must be download because model training doesn't save a local copy\n",
    "s3c.download_file_from_s3(model_rel_zip, config.CHECKPOINT_S3_PREFIX, \"KPI_EXTRACTION.zip\")\n",
    "\n",
    "with zipfile.ZipFile(pathlib.Path(model_root, 'KPI_EXTRACTION.zip'), 'r') as z:\n",
    "    z.extractall(model_root)"
   ]
  },
  {
   "cell_type": "markdown",
   "id": "bda4681d-2d84-414b-a701-b507acc99552",
   "metadata": {
    "papermill": {
     "duration": 0.004738,
     "end_time": "2022-07-02T00:31:18.014443",
     "exception": false,
     "start_time": "2022-07-02T00:31:18.009705",
     "status": "completed"
    },
    "tags": []
   },
   "source": [
    "## Inference"
   ]
  },
  {
   "cell_type": "markdown",
   "id": "2af4fd06-c86d-42aa-b4f6-6992b60cf512",
   "metadata": {
    "papermill": {
     "duration": 0.003976,
     "end_time": "2022-07-02T00:31:18.023076",
     "exception": false,
     "start_time": "2022-07-02T00:31:18.019100",
     "status": "completed"
    },
    "tags": []
   },
   "source": [
    "We can use the saved model and test it on some real examples.<br><br>\n",
    "First let's load the model:"
   ]
  },
  {
   "cell_type": "code",
   "execution_count": 7,
   "id": "38a70174-65b3-4365-ba6f-d020457de4b7",
   "metadata": {
    "papermill": {
     "duration": 0.014463,
     "end_time": "2022-07-02T00:31:18.041568",
     "exception": false,
     "start_time": "2022-07-02T00:31:18.027105",
     "status": "completed"
    },
    "tags": []
   },
   "outputs": [
    {
     "data": {
      "text/plain": [
       "'/opt/app-root/src/aicoe-osc-demo-MichaelTiemannOSC/models/KPI_EXTRACTION'"
      ]
     },
     "execution_count": 7,
     "metadata": {},
     "output_type": "execute_result"
    }
   ],
   "source": [
    "file_config.saved_models_dir"
   ]
  },
  {
   "cell_type": "code",
   "execution_count": 8,
   "id": "b840d5cf-3d42-4e9e-be2d-d95634c4ac96",
   "metadata": {
    "papermill": {
     "duration": 13.440374,
     "end_time": "2022-07-02T00:31:31.486055",
     "exception": false,
     "start_time": "2022-07-02T00:31:18.045681",
     "status": "completed"
    },
    "tags": []
   },
   "outputs": [
    {
     "name": "stderr",
     "output_type": "stream",
     "text": [
      "07/16/2022 15:56:07 - WARNING - farm.modeling.prediction_head -   Some unused parameters are passed to the QuestionAnsweringHead. Might not be a problem. Params: {\"training\": false, \"num_labels\": 2, \"ph_output_type\": \"per_token_squad\", \"model_type\": \"span_classification\", \"label_tensor_name\": \"question_answering_label_ids\", \"label_list\": [\"start_token\", \"end_token\"], \"metric\": \"squad\", \"name\": \"QuestionAnsweringHead\"}\n",
      "07/16/2022 15:56:10 - WARNING - farm.infer -   QAInferencer always has task_type='question_answering' even if another value is provided to Inferencer.load() or QAInferencer()\n"
     ]
    }
   ],
   "source": [
    "tki = TextKPIInfer(infer_config)"
   ]
  },
  {
   "cell_type": "markdown",
   "id": "c534da63-f0b2-4e5b-bef1-d4d0a217e433",
   "metadata": {
    "papermill": {
     "duration": 0.004276,
     "end_time": "2022-07-02T00:31:31.495925",
     "exception": false,
     "start_time": "2022-07-02T00:31:31.491649",
     "status": "completed"
    },
    "tags": []
   },
   "source": [
    "Now, let's make prediction on a pair of paragraph and question."
   ]
  },
  {
   "cell_type": "code",
   "execution_count": 9,
   "id": "d506a8b3-f013-4eef-98fc-d1cdd1525a14",
   "metadata": {
    "papermill": {
     "duration": 0.014743,
     "end_time": "2022-07-02T00:31:31.515812",
     "exception": false,
     "start_time": "2022-07-02T00:31:31.501069",
     "status": "completed"
    },
    "tags": []
   },
   "outputs": [],
   "source": [
    "context = \"\"\"the paris agreement on climate change drafted in 2015 aims to reduce worldwide emissions of greenhouse\n",
    "gases to a level intended to limit a rise in global temperatures to below 2 degrees or, better still,\n",
    "to below 1.5 degrees. verbund’s target of reducing greenhouse gas emissions by 90% measured beginning from\n",
    "the basis year 2011 5 million tonnes co2e until 2021 includes scope 1, scope 2 market- based and parts of scope 3 emissions\n",
    "for energy and air travel. the science based targets initiative validated this goal as science-based in october 2016,\n",
    "i.e. it meets global standards. according to current planning, the target can be achieved.\n",
    "however, if the grid operator requires higher generation volumes\n",
    "\"\"\"\n",
    "question = \"What is the target year for climate commitment?\"\n"
   ]
  },
  {
   "cell_type": "code",
   "execution_count": 10,
   "id": "e92e6380-5440-499b-b4e8-6871dfc0ec13",
   "metadata": {
    "papermill": {
     "duration": 0.535398,
     "end_time": "2022-07-02T00:31:32.055442",
     "exception": false,
     "start_time": "2022-07-02T00:31:31.520044",
     "status": "completed"
    },
    "tags": []
   },
   "outputs": [
    {
     "name": "stderr",
     "output_type": "stream",
     "text": [
      "Inferencing Samples: 100%|██████████| 1/1 [00:00<00:00, 19.46 Batches/s]"
     ]
    },
    {
     "name": "stdout",
     "output_type": "stream",
     "text": [
      "{'predictions': [{'answers': [{'answer': '2021',\n",
      "                               'context': 'the basis year 2011 5 million '\n",
      "                                          'tonnes co2e until 2021 includes '\n",
      "                                          'scope 1, scope 2 market- based and '\n",
      "                                          'par',\n",
      "                               'document_id': '0-0',\n",
      "                               'offset_answer_end': 364,\n",
      "                               'offset_answer_start': 360,\n",
      "                               'offset_context_end': 412,\n",
      "                               'offset_context_start': 312,\n",
      "                               'probability': None,\n",
      "                               'score': 7.129114151000977},\n",
      "                              {'answer': 'no_answer',\n",
      "                               'context': '',\n",
      "                               'document_id': '0-0',\n",
      "                               'offset_answer_end': 0,\n",
      "                               'offset_answer_start': 0,\n",
      "                               'offset_context_end': 0,\n",
      "                               'offset_context_start': 0,\n",
      "                               'probability': None,\n",
      "                               'score': -20.135552406311035}],\n",
      "                  'ground_truth': [],\n",
      "                  'id': '0-0',\n",
      "                  'no_ans_gap': 27.26466655731201,\n",
      "                  'question': 'What is the target year for climate '\n",
      "                              'commitment?'}],\n",
      " 'task': 'qa'}\n"
     ]
    },
    {
     "name": "stderr",
     "output_type": "stream",
     "text": [
      "\n"
     ]
    }
   ],
   "source": [
    "QA_input = [\n",
    "    {\n",
    "        \"qas\": [question],\n",
    "        \"context\":  context\n",
    "    }\n",
    "]\n",
    "\n",
    "result = tki.infer_on_dict(QA_input)[0]\n",
    "pprint.pprint(result)"
   ]
  },
  {
   "cell_type": "markdown",
   "id": "25bdf450-5ffb-46b4-bf05-63febe597593",
   "metadata": {
    "papermill": {
     "duration": 0.004521,
     "end_time": "2022-07-02T00:31:32.065752",
     "exception": false,
     "start_time": "2022-07-02T00:31:32.061231",
     "status": "completed"
    },
    "tags": []
   },
   "source": [
    "What does the prediction result show? "
   ]
  },
  {
   "cell_type": "code",
   "execution_count": 11,
   "id": "274ed119-f30a-43c6-9fae-a49a59167648",
   "metadata": {
    "papermill": {
     "duration": 0.014124,
     "end_time": "2022-07-02T00:31:32.084294",
     "exception": false,
     "start_time": "2022-07-02T00:31:32.070170",
     "status": "completed"
    },
    "tags": []
   },
   "outputs": [
    {
     "data": {
      "text/plain": [
       "{'score': 7.129114151000977,\n",
       " 'probability': None,\n",
       " 'answer': '2021',\n",
       " 'offset_answer_start': 360,\n",
       " 'offset_answer_end': 364,\n",
       " 'context': 'the basis year 2011 5 million tonnes co2e until 2021 includes scope 1, scope 2 market- based and par',\n",
       " 'offset_context_start': 312,\n",
       " 'offset_context_end': 412,\n",
       " 'document_id': '0-0'}"
      ]
     },
     "execution_count": 11,
     "metadata": {},
     "output_type": "execute_result"
    }
   ],
   "source": [
    "# This is the best answer. Generally it can be span-based or it can be no-answer, which ever is higher\n",
    "# Here the top answer is the span '2021'\n",
    "result['predictions'][0]['answers'][0]"
   ]
  },
  {
   "cell_type": "code",
   "execution_count": 12,
   "id": "06544a27-29a1-43bc-a9b4-3983f9f8478c",
   "metadata": {
    "papermill": {
     "duration": 0.013691,
     "end_time": "2022-07-02T00:31:32.102514",
     "exception": false,
     "start_time": "2022-07-02T00:31:32.088823",
     "status": "completed"
    },
    "tags": []
   },
   "outputs": [
    {
     "data": {
      "text/plain": [
       "{'score': -20.135552406311035,\n",
       " 'probability': None,\n",
       " 'answer': 'no_answer',\n",
       " 'offset_answer_start': 0,\n",
       " 'offset_answer_end': 0,\n",
       " 'context': '',\n",
       " 'offset_context_start': 0,\n",
       " 'offset_context_end': 0,\n",
       " 'document_id': '0-0'}"
      ]
     },
     "execution_count": 12,
     "metadata": {},
     "output_type": "execute_result"
    }
   ],
   "source": [
    "# Non-answerable score: The model is pretty confident that the answer to the question can be in the context.\n",
    "result['predictions'][0]['answers'][1]"
   ]
  },
  {
   "cell_type": "markdown",
   "id": "8d67eca9-c232-4531-aa10-f7171f28da9a",
   "metadata": {
    "papermill": {
     "duration": 0.004551,
     "end_time": "2022-07-02T00:31:32.111695",
     "exception": false,
     "start_time": "2022-07-02T00:31:32.107144",
     "status": "completed"
    },
    "tags": []
   },
   "source": [
    "Now, let's use the model to infer kpi answers from the relevance results "
   ]
  },
  {
   "cell_type": "code",
   "execution_count": 13,
   "id": "9ddef850-c2bc-412a-ba61-7c473cded67c",
   "metadata": {
    "papermill": {
     "duration": 0.039486,
     "end_time": "2022-07-02T00:31:32.156057",
     "exception": false,
     "start_time": "2022-07-02T00:31:32.116571",
     "status": "completed"
    },
    "tags": []
   },
   "outputs": [
    {
     "data": {
      "text/plain": [
       "{'Text': '/opt/app-root/src/aicoe-osc-demo-MichaelTiemannOSC/data/infer_relevance'}"
      ]
     },
     "execution_count": 13,
     "metadata": {},
     "output_type": "execute_result"
    }
   ],
   "source": [
    "infer_config.relevance_dir"
   ]
  },
  {
   "cell_type": "code",
   "execution_count": 18,
   "id": "6eccfd28-a107-4e41-9293-8348b9d59f80",
   "metadata": {
    "papermill": {
     "duration": 0.136891,
     "end_time": "2022-07-02T00:31:32.298121",
     "exception": false,
     "start_time": "2022-07-02T00:31:32.161230",
     "status": "completed"
    },
    "tags": []
   },
   "outputs": [
    {
     "data": {
      "text/html": [
       "<div>\n",
       "<style scoped>\n",
       "    .dataframe tbody tr th:only-of-type {\n",
       "        vertical-align: middle;\n",
       "    }\n",
       "\n",
       "    .dataframe tbody tr th {\n",
       "        vertical-align: top;\n",
       "    }\n",
       "\n",
       "    .dataframe thead th {\n",
       "        text-align: right;\n",
       "    }\n",
       "</style>\n",
       "<table border=\"1\" class=\"dataframe\">\n",
       "  <thead>\n",
       "    <tr style=\"text-align: right;\">\n",
       "      <th></th>\n",
       "      <th>kpi_id</th>\n",
       "      <th>question</th>\n",
       "      <th>sectors</th>\n",
       "      <th>add_year</th>\n",
       "      <th>kpi_category</th>\n",
       "    </tr>\n",
       "  </thead>\n",
       "  <tbody>\n",
       "    <tr>\n",
       "      <th>0</th>\n",
       "      <td>1.0</td>\n",
       "      <td>What is the company name?</td>\n",
       "      <td>OG, CM, CU</td>\n",
       "      <td>False</td>\n",
       "      <td>TEXT</td>\n",
       "    </tr>\n",
       "    <tr>\n",
       "      <th>1</th>\n",
       "      <td>2.0</td>\n",
       "      <td>What is the Start Date of the CDP report publi...</td>\n",
       "      <td>OG, CM, CU</td>\n",
       "      <td>False</td>\n",
       "      <td>TEXT</td>\n",
       "    </tr>\n",
       "    <tr>\n",
       "      <th>2</th>\n",
       "      <td>3.0</td>\n",
       "      <td>What is the End Date of the CDP report published?</td>\n",
       "      <td>OG, CM, CU</td>\n",
       "      <td>False</td>\n",
       "      <td>TEXT</td>\n",
       "    </tr>\n",
       "    <tr>\n",
       "      <th>3</th>\n",
       "      <td>4.0</td>\n",
       "      <td>What is the currency used for all financial in...</td>\n",
       "      <td>OG, CM, CU</td>\n",
       "      <td>False</td>\n",
       "      <td>TEXT</td>\n",
       "    </tr>\n",
       "    <tr>\n",
       "      <th>4</th>\n",
       "      <td>5.0</td>\n",
       "      <td>Did you have an emissions target that was acti...</td>\n",
       "      <td>OG, CM, CU</td>\n",
       "      <td>False</td>\n",
       "      <td>TEXT</td>\n",
       "    </tr>\n",
       "  </tbody>\n",
       "</table>\n",
       "</div>"
      ],
      "text/plain": [
       "   kpi_id                                           question     sectors  \\\n",
       "0     1.0                          What is the company name?  OG, CM, CU   \n",
       "1     2.0  What is the Start Date of the CDP report publi...  OG, CM, CU   \n",
       "2     3.0  What is the End Date of the CDP report published?  OG, CM, CU   \n",
       "3     4.0  What is the currency used for all financial in...  OG, CM, CU   \n",
       "4     5.0  Did you have an emissions target that was acti...  OG, CM, CU   \n",
       "\n",
       "   add_year kpi_category  \n",
       "0     False         TEXT  \n",
       "1     False         TEXT  \n",
       "2     False         TEXT  \n",
       "3     False         TEXT  \n",
       "4     False         TEXT  "
      ]
     },
     "execution_count": 18,
     "metadata": {},
     "output_type": "execute_result"
    }
   ],
   "source": [
    "kpi_df = s3c.download_df_from_s3(\n",
    "    f\"{config.EXPERIMENT_NAME}/kpi_mapping\",\n",
    "    \"kpi_mapping.csv\",\n",
    "    filetype=S3FileType.CSV,\n",
    "    header=0,\n",
    ")\n",
    "kpi_df.head()"
   ]
  },
  {
   "cell_type": "code",
   "execution_count": 19,
   "id": "715e0399-beee-43ac-8ef3-50e97be6cbf6",
   "metadata": {
    "papermill": {
     "duration": 10.803834,
     "end_time": "2022-07-02T00:31:43.107061",
     "exception": false,
     "start_time": "2022-07-02T00:31:32.303227",
     "status": "completed"
    },
    "tags": []
   },
   "outputs": [
    {
     "name": "stderr",
     "output_type": "stream",
     "text": [
      "07/16/2022 16:22:24 - INFO - src.models.text_kpi_infer -   #################### Starting KPI Inference for the following relevance CSV files found in /opt/app-root/src/aicoe-osc-demo-MichaelTiemannOSC/data/infer_kpi:\n",
      "['2020-cdp-climate-response_predictions_relevant.csv', 'PGE_Corporation_CDP_Climate_Change_Questionnaire_2021_predictions_relevant.csv', 'vodafone-group-cdp-climate-change-questionnaire2021_predictions_relevant.csv', 'Unilever CDP Climate Response_predictions_relevant.csv', 'NextEra Energy 2021 CDP Response_predictions_relevant-checkpoint.csv', 'gap_inc-_cdp_climate_change_questionnaire_2021_predictions_relevant.csv', 'Corning_Incorporated_CDP_Climate_Change_Questionnaire_2021_FINAL_predictions_relevant.csv', 'Michelin-CDP-Climate-Change-2021_def_predictions_relevant.csv', 'bp-cdp-climate-change-questionnaire-2021_predictions_relevant.csv', 'Adobe_CDP_Climate_Change_Questionnaire_2021_predictions_relevant.csv', '2020-cdp-climate-response_predictions_relevant-checkpoint.csv', '2020-cdp-climate-response-checkpoint_predictions_relevant.csv', 'Apple_CDP-Climate-Change-Questionnaire_2021_predictions_relevant.csv', 'NextEra Energy 2021 CDP Response_predictions_relevant.csv', '2020-cdp-climate-response-checkpoint_predictions_relevant-checkpoint.csv', 'Bayer AG Climate Change 2021_predictions_relevant.csv'] \n",
      "07/16/2022 16:22:24 - INFO - src.models.text_kpi_infer -   #################### 1/16\n",
      "07/16/2022 16:22:24 - INFO - src.models.text_kpi_infer -   Starting KPI Extraction for 2020-cdp-climate-response\n",
      "Inferencing Samples: 100%|██████████| 408/408 [00:26<00:00, 15.52 Batches/s]\n",
      "Inferencing Samples: 100%|██████████| 314/314 [00:19<00:00, 15.73 Batches/s]\n",
      "Inferencing Samples: 100%|██████████| 161/161 [00:10<00:00, 15.87 Batches/s]\n",
      "07/16/2022 16:23:38 - INFO - src.models.text_kpi_infer -   Save the result of KPI extraction to /opt/app-root/src/aicoe-osc-demo-MichaelTiemannOSC/data/infer_kpi/2020-cdp-climate-response_predictions_kpi.csv\n",
      "07/16/2022 16:23:38 - INFO - src.models.text_kpi_infer -   #################### 2/16\n",
      "07/16/2022 16:23:38 - INFO - src.models.text_kpi_infer -   Starting KPI Extraction for PGE_Corporation_CDP_Climate_Change_Questionnaire_2021\n",
      "Inferencing Samples: 100%|██████████| 251/251 [00:15<00:00, 15.82 Batches/s]\n",
      "Inferencing Samples: 100%|██████████| 251/251 [00:15<00:00, 15.87 Batches/s]\n",
      "Inferencing Samples: 100%|██████████| 251/251 [00:15<00:00, 15.80 Batches/s]\n",
      "Inferencing Samples: 100%|██████████| 251/251 [00:15<00:00, 15.83 Batches/s]\n",
      "Inferencing Samples: 100%|██████████| 251/251 [00:15<00:00, 15.87 Batches/s]\n",
      "Inferencing Samples: 100%|██████████| 250/250 [00:15<00:00, 15.82 Batches/s]\n",
      "Inferencing Samples: 100%|██████████| 250/250 [00:15<00:00, 15.86 Batches/s]\n",
      "Inferencing Samples: 100%|██████████| 85/85 [00:05<00:00, 15.71 Batches/s]\n",
      "07/16/2022 16:25:56 - INFO - src.models.text_kpi_infer -   Save the result of KPI extraction to /opt/app-root/src/aicoe-osc-demo-MichaelTiemannOSC/data/infer_kpi/PGE_Corporation_CDP_Climate_Change_Questionnaire_2021_predictions_kpi.csv\n",
      "07/16/2022 16:25:56 - INFO - src.models.text_kpi_infer -   #################### 3/16\n",
      "07/16/2022 16:25:56 - INFO - src.models.text_kpi_infer -   Starting KPI Extraction for vodafone-group-cdp-climate-change-questionnaire2021\n",
      "Inferencing Samples: 100%|██████████| 251/251 [00:15<00:00, 15.78 Batches/s]\n",
      "Inferencing Samples: 100%|██████████| 250/250 [00:15<00:00, 15.85 Batches/s]\n",
      "Inferencing Samples: 100%|██████████| 250/250 [00:15<00:00, 15.91 Batches/s]\n",
      "Inferencing Samples: 100%|██████████| 250/250 [00:15<00:00, 15.75 Batches/s]\n",
      "Inferencing Samples: 100%|██████████| 250/250 [00:15<00:00, 15.79 Batches/s]\n",
      "Inferencing Samples: 100%|██████████| 250/250 [00:15<00:00, 15.72 Batches/s]\n",
      "Inferencing Samples: 100%|██████████| 230/230 [00:14<00:00, 15.39 Batches/s]\n",
      "07/16/2022 16:28:11 - INFO - src.models.text_kpi_infer -   Save the result of KPI extraction to /opt/app-root/src/aicoe-osc-demo-MichaelTiemannOSC/data/infer_kpi/vodafone-group-cdp-climate-change-questionnaire2021_predictions_kpi.csv\n",
      "07/16/2022 16:28:11 - INFO - src.models.text_kpi_infer -   #################### 4/16\n",
      "07/16/2022 16:28:11 - INFO - src.models.text_kpi_infer -   Starting KPI Extraction for Unilever CDP Climate Response\n",
      "Inferencing Samples: 100%|██████████| 253/253 [00:15<00:00, 15.99 Batches/s]\n",
      "Inferencing Samples: 100%|██████████| 256/256 [00:16<00:00, 15.82 Batches/s]\n",
      "Inferencing Samples: 100%|██████████| 256/256 [00:16<00:00, 15.63 Batches/s]\n",
      "Inferencing Samples: 100%|██████████| 255/255 [00:16<00:00, 15.89 Batches/s]\n",
      "Inferencing Samples: 100%|██████████| 253/253 [00:15<00:00, 15.90 Batches/s]\n",
      "Inferencing Samples: 100%|██████████| 253/253 [00:16<00:00, 15.72 Batches/s]\n",
      "Inferencing Samples: 100%|██████████| 254/254 [00:16<00:00, 15.82 Batches/s]\n",
      "Inferencing Samples: 100%|██████████| 166/166 [00:10<00:00, 15.84 Batches/s]\n",
      "07/16/2022 16:30:41 - INFO - src.models.text_kpi_infer -   Save the result of KPI extraction to /opt/app-root/src/aicoe-osc-demo-MichaelTiemannOSC/data/infer_kpi/Unilever CDP Climate Response_predictions_kpi.csv\n",
      "07/16/2022 16:30:41 - INFO - src.models.text_kpi_infer -   #################### 5/16\n",
      "07/16/2022 16:30:41 - INFO - src.models.text_kpi_infer -   Starting KPI Extraction for NextEra Energy 2021 CDP Response\n",
      "Inferencing Samples: 100%|██████████| 257/257 [00:16<00:00, 15.60 Batches/s]\n",
      "07/16/2022 16:31:01 - INFO - src.models.text_kpi_infer -   Save the result of KPI extraction to /opt/app-root/src/aicoe-osc-demo-MichaelTiemannOSC/data/infer_kpi/NextEra Energy 2021 CDP Response_predictions_kpi.csv\n",
      "07/16/2022 16:31:01 - INFO - src.models.text_kpi_infer -   #################### 6/16\n",
      "07/16/2022 16:31:01 - INFO - src.models.text_kpi_infer -   Starting KPI Extraction for gap_inc-_cdp_climate_change_questionnaire_2021\n",
      "Inferencing Samples: 100%|██████████| 250/250 [00:15<00:00, 15.84 Batches/s]\n",
      "Inferencing Samples: 100%|██████████| 250/250 [00:15<00:00, 15.95 Batches/s]\n",
      "Inferencing Samples: 100%|██████████| 226/226 [00:14<00:00, 15.89 Batches/s]\n",
      "07/16/2022 16:31:56 - INFO - src.models.text_kpi_infer -   Save the result of KPI extraction to /opt/app-root/src/aicoe-osc-demo-MichaelTiemannOSC/data/infer_kpi/gap_inc-_cdp_climate_change_questionnaire_2021_predictions_kpi.csv\n",
      "07/16/2022 16:31:56 - INFO - src.models.text_kpi_infer -   #################### 7/16\n",
      "07/16/2022 16:31:56 - INFO - src.models.text_kpi_infer -   Starting KPI Extraction for Corning_Incorporated_CDP_Climate_Change_Questionnaire_2021_FINAL\n",
      "Inferencing Samples: 100%|██████████| 251/251 [00:16<00:00, 15.62 Batches/s]\n",
      "Inferencing Samples: 100%|██████████| 250/250 [00:15<00:00, 15.84 Batches/s]\n",
      "Inferencing Samples: 100%|██████████| 95/95 [00:05<00:00, 15.93 Batches/s]\n",
      "07/16/2022 16:32:40 - INFO - src.models.text_kpi_infer -   Save the result of KPI extraction to /opt/app-root/src/aicoe-osc-demo-MichaelTiemannOSC/data/infer_kpi/Corning_Incorporated_CDP_Climate_Change_Questionnaire_2021_FINAL_predictions_kpi.csv\n",
      "07/16/2022 16:32:40 - INFO - src.models.text_kpi_infer -   #################### 8/16\n",
      "07/16/2022 16:32:40 - INFO - src.models.text_kpi_infer -   Starting KPI Extraction for Michelin-CDP-Climate-Change-2021_def\n",
      "Inferencing Samples: 100%|██████████| 324/324 [00:21<00:00, 14.83 Batches/s]\n",
      "Inferencing Samples: 100%|██████████| 332/332 [00:21<00:00, 15.69 Batches/s]\n",
      "Inferencing Samples: 100%|██████████| 335/335 [00:21<00:00, 15.66 Batches/s]\n",
      "Inferencing Samples: 100%|██████████| 303/303 [00:19<00:00, 15.74 Batches/s]\n",
      "Inferencing Samples: 100%|██████████| 93/93 [00:06<00:00, 15.29 Batches/s]\n",
      "07/16/2022 16:34:35 - INFO - src.models.text_kpi_infer -   Save the result of KPI extraction to /opt/app-root/src/aicoe-osc-demo-MichaelTiemannOSC/data/infer_kpi/Michelin-CDP-Climate-Change-2021_def_predictions_kpi.csv\n",
      "07/16/2022 16:34:35 - INFO - src.models.text_kpi_infer -   #################### 9/16\n",
      "07/16/2022 16:34:35 - INFO - src.models.text_kpi_infer -   Starting KPI Extraction for bp-cdp-climate-change-questionnaire-2021\n",
      "Inferencing Samples: 100%|██████████| 287/287 [00:18<00:00, 15.75 Batches/s]\n",
      "Inferencing Samples: 100%|██████████| 300/300 [00:19<00:00, 15.56 Batches/s]\n",
      "Inferencing Samples: 100%|██████████| 285/285 [00:18<00:00, 15.77 Batches/s]\n",
      "Inferencing Samples: 100%|██████████| 269/269 [00:17<00:00, 15.72 Batches/s]\n",
      "Inferencing Samples: 100%|██████████| 274/274 [00:17<00:00, 15.89 Batches/s]\n",
      "Inferencing Samples: 100%|██████████| 269/269 [00:17<00:00, 15.71 Batches/s]\n",
      "Inferencing Samples: 100%|██████████| 52/52 [00:03<00:00, 15.12 Batches/s]\n",
      "07/16/2022 16:36:55 - INFO - src.models.text_kpi_infer -   Save the result of KPI extraction to /opt/app-root/src/aicoe-osc-demo-MichaelTiemannOSC/data/infer_kpi/bp-cdp-climate-change-questionnaire-2021_predictions_kpi.csv\n",
      "07/16/2022 16:36:55 - INFO - src.models.text_kpi_infer -   #################### 10/16\n",
      "07/16/2022 16:36:55 - INFO - src.models.text_kpi_infer -   Starting KPI Extraction for Adobe_CDP_Climate_Change_Questionnaire_2021\n",
      "Inferencing Samples: 100%|██████████| 255/255 [00:16<00:00, 15.04 Batches/s]\n",
      "Inferencing Samples: 100%|██████████| 257/257 [00:16<00:00, 15.16 Batches/s]\n",
      "Inferencing Samples: 100%|██████████| 255/255 [00:16<00:00, 15.25 Batches/s]\n",
      "Inferencing Samples: 100%|██████████| 255/255 [00:17<00:00, 14.81 Batches/s]\n",
      "Inferencing Samples: 100%|██████████| 251/251 [00:16<00:00, 15.06 Batches/s]\n",
      "Inferencing Samples: 100%|██████████| 103/103 [00:06<00:00, 15.15 Batches/s]\n",
      "07/16/2022 16:38:46 - INFO - src.models.text_kpi_infer -   Save the result of KPI extraction to /opt/app-root/src/aicoe-osc-demo-MichaelTiemannOSC/data/infer_kpi/Adobe_CDP_Climate_Change_Questionnaire_2021_predictions_kpi.csv\n",
      "07/16/2022 16:38:46 - INFO - src.models.text_kpi_infer -   #################### 11/16\n",
      "07/16/2022 16:38:46 - INFO - src.models.text_kpi_infer -   Starting KPI Extraction for 2020-cdp-climate-response\n",
      "Inferencing Samples: 100%|██████████| 355/355 [00:26<00:00, 13.42 Batches/s]\n",
      "Inferencing Samples: 100%|██████████| 217/217 [00:14<00:00, 15.00 Batches/s]\n",
      "07/16/2022 16:39:38 - INFO - src.models.text_kpi_infer -   Save the result of KPI extraction to /opt/app-root/src/aicoe-osc-demo-MichaelTiemannOSC/data/infer_kpi/2020-cdp-climate-response_predictions_kpi.csv\n",
      "07/16/2022 16:39:38 - INFO - src.models.text_kpi_infer -   #################### 12/16\n",
      "07/16/2022 16:39:38 - INFO - src.models.text_kpi_infer -   Starting KPI Extraction for 2020-cdp-climate-response-checkpoint\n",
      "Inferencing Samples: 100%|██████████| 408/408 [00:27<00:00, 14.69 Batches/s]\n",
      "Inferencing Samples: 100%|██████████| 314/314 [00:23<00:00, 13.35 Batches/s]\n",
      "Inferencing Samples: 100%|██████████| 161/161 [00:10<00:00, 15.07 Batches/s]\n",
      "07/16/2022 16:40:59 - INFO - src.models.text_kpi_infer -   Save the result of KPI extraction to /opt/app-root/src/aicoe-osc-demo-MichaelTiemannOSC/data/infer_kpi/2020-cdp-climate-response-checkpoint_predictions_kpi.csv\n",
      "07/16/2022 16:40:59 - INFO - src.models.text_kpi_infer -   #################### 13/16\n",
      "07/16/2022 16:40:59 - INFO - src.models.text_kpi_infer -   Starting KPI Extraction for Apple_CDP-Climate-Change-Questionnaire_2021\n",
      "Inferencing Samples: 100%|██████████| 273/273 [00:18<00:00, 14.45 Batches/s]\n",
      "Inferencing Samples: 100%|██████████| 257/257 [00:17<00:00, 14.91 Batches/s]\n",
      "Inferencing Samples: 100%|██████████| 82/82 [00:06<00:00, 13.62 Batches/s]\n",
      "07/16/2022 16:41:53 - INFO - src.models.text_kpi_infer -   Save the result of KPI extraction to /opt/app-root/src/aicoe-osc-demo-MichaelTiemannOSC/data/infer_kpi/Apple_CDP-Climate-Change-Questionnaire_2021_predictions_kpi.csv\n",
      "07/16/2022 16:41:53 - INFO - src.models.text_kpi_infer -   #################### 14/16\n",
      "07/16/2022 16:41:53 - INFO - src.models.text_kpi_infer -   Starting KPI Extraction for NextEra Energy 2021 CDP Response\n",
      "Inferencing Samples: 100%|██████████| 305/305 [00:20<00:00, 14.68 Batches/s]\n",
      "Inferencing Samples: 100%|██████████| 258/258 [00:17<00:00, 14.53 Batches/s]\n",
      "Inferencing Samples: 100%|██████████| 252/252 [00:17<00:00, 14.76 Batches/s]\n",
      "Inferencing Samples: 100%|██████████| 25/25 [00:01<00:00, 15.58 Batches/s]\n",
      "07/16/2022 16:43:03 - INFO - src.models.text_kpi_infer -   Save the result of KPI extraction to /opt/app-root/src/aicoe-osc-demo-MichaelTiemannOSC/data/infer_kpi/NextEra Energy 2021 CDP Response_predictions_kpi.csv\n",
      "07/16/2022 16:43:03 - INFO - src.models.text_kpi_infer -   #################### 15/16\n",
      "07/16/2022 16:43:03 - INFO - src.models.text_kpi_infer -   Starting KPI Extraction for 2020-cdp-climate-response-checkpoint\n",
      "Inferencing Samples: 100%|██████████| 408/408 [00:27<00:00, 14.77 Batches/s]\n",
      "Inferencing Samples: 100%|██████████| 314/314 [00:21<00:00, 14.71 Batches/s]\n",
      "Inferencing Samples: 100%|██████████| 161/161 [00:11<00:00, 14.56 Batches/s]\n",
      "07/16/2022 16:44:22 - INFO - src.models.text_kpi_infer -   Save the result of KPI extraction to /opt/app-root/src/aicoe-osc-demo-MichaelTiemannOSC/data/infer_kpi/2020-cdp-climate-response-checkpoint_predictions_kpi.csv\n",
      "07/16/2022 16:44:22 - INFO - src.models.text_kpi_infer -   #################### 16/16\n",
      "07/16/2022 16:44:22 - INFO - src.models.text_kpi_infer -   Starting KPI Extraction for Bayer AG Climate Change 2021\n",
      "Inferencing Samples: 100%|██████████| 277/277 [00:18<00:00, 14.94 Batches/s]\n",
      "Inferencing Samples: 100%|██████████| 280/280 [00:19<00:00, 14.63 Batches/s]\n",
      "Inferencing Samples: 100%|██████████| 270/270 [00:18<00:00, 14.98 Batches/s]\n",
      "Inferencing Samples: 100%|██████████| 257/257 [00:17<00:00, 15.06 Batches/s]\n",
      "Inferencing Samples: 100%|██████████| 141/141 [00:09<00:00, 14.72 Batches/s]\n",
      "07/16/2022 16:46:11 - INFO - src.models.text_kpi_infer -   Save the result of KPI extraction to /opt/app-root/src/aicoe-osc-demo-MichaelTiemannOSC/data/infer_kpi/Bayer AG Climate Change 2021_predictions_kpi.csv\n"
     ]
    },
    {
     "data": {
      "text/html": [
       "<div>\n",
       "<style scoped>\n",
       "    .dataframe tbody tr th:only-of-type {\n",
       "        vertical-align: middle;\n",
       "    }\n",
       "\n",
       "    .dataframe tbody tr th {\n",
       "        vertical-align: top;\n",
       "    }\n",
       "\n",
       "    .dataframe thead th {\n",
       "        text-align: right;\n",
       "    }\n",
       "</style>\n",
       "<table border=\"1\" class=\"dataframe\">\n",
       "  <thead>\n",
       "    <tr style=\"text-align: right;\">\n",
       "      <th></th>\n",
       "      <th>pdf_name</th>\n",
       "      <th>kpi</th>\n",
       "      <th>kpi_id</th>\n",
       "      <th>answer</th>\n",
       "      <th>page</th>\n",
       "      <th>paragraph</th>\n",
       "      <th>source</th>\n",
       "      <th>score</th>\n",
       "      <th>no_ans_score</th>\n",
       "      <th>no_answer_score_plus_boost</th>\n",
       "    </tr>\n",
       "  </thead>\n",
       "  <tbody>\n",
       "    <tr>\n",
       "      <th>0</th>\n",
       "      <td>2020-cdp-climate-response</td>\n",
       "      <td>Account for your organization’s gross global S...</td>\n",
       "      <td>NaN</td>\n",
       "      <td>2030</td>\n",
       "      <td>15.0</td>\n",
       "      <td>Emissions from refrigeration equipment account...</td>\n",
       "      <td>Text</td>\n",
       "      <td>-3.801866</td>\n",
       "      <td>16.341036</td>\n",
       "      <td>1.341036</td>\n",
       "    </tr>\n",
       "    <tr>\n",
       "      <th>1</th>\n",
       "      <td>2020-cdp-climate-response</td>\n",
       "      <td>Account for your organization’s gross global S...</td>\n",
       "      <td>NaN</td>\n",
       "      <td>52608307.5</td>\n",
       "      <td>17.0</td>\n",
       "      <td>Covered emissions in reporting year (metric to...</td>\n",
       "      <td>Text</td>\n",
       "      <td>-4.640134</td>\n",
       "      <td>15.346012</td>\n",
       "      <td>0.346012</td>\n",
       "    </tr>\n",
       "    <tr>\n",
       "      <th>2</th>\n",
       "      <td>2020-cdp-climate-response</td>\n",
       "      <td>Account for your organization’s gross global S...</td>\n",
       "      <td>NaN</td>\n",
       "      <td>1558901</td>\n",
       "      <td>37.0</td>\n",
       "      <td>Metric numerator (Gross global combined Scope ...</td>\n",
       "      <td>Text</td>\n",
       "      <td>-6.075352</td>\n",
       "      <td>15.499842</td>\n",
       "      <td>0.499842</td>\n",
       "    </tr>\n",
       "    <tr>\n",
       "      <th>3</th>\n",
       "      <td>2020-cdp-climate-response</td>\n",
       "      <td>Account for your organization’s gross global S...</td>\n",
       "      <td>NaN</td>\n",
       "      <td>1558901</td>\n",
       "      <td>37.0</td>\n",
       "      <td>Metric numerator (Gross global combined Scope ...</td>\n",
       "      <td>Text</td>\n",
       "      <td>-6.075352</td>\n",
       "      <td>15.499842</td>\n",
       "      <td>0.499842</td>\n",
       "    </tr>\n",
       "    <tr>\n",
       "      <th>4</th>\n",
       "      <td>2020-cdp-climate-response</td>\n",
       "      <td>Break down your total gross global Scope 1 emi...</td>\n",
       "      <td>NaN</td>\n",
       "      <td>687597</td>\n",
       "      <td>30.0</td>\n",
       "      <td>Gross global Scope 1 emissions (metric tons CO...</td>\n",
       "      <td>Text</td>\n",
       "      <td>8.747887</td>\n",
       "      <td>11.323345</td>\n",
       "      <td>-3.676655</td>\n",
       "    </tr>\n",
       "    <tr>\n",
       "      <th>...</th>\n",
       "      <td>...</td>\n",
       "      <td>...</td>\n",
       "      <td>...</td>\n",
       "      <td>...</td>\n",
       "      <td>...</td>\n",
       "      <td>...</td>\n",
       "      <td>...</td>\n",
       "      <td>...</td>\n",
       "      <td>...</td>\n",
       "      <td>...</td>\n",
       "    </tr>\n",
       "    <tr>\n",
       "      <th>179</th>\n",
       "      <td>Bayer AG Climate Change 2021</td>\n",
       "      <td>What percentage of your total operational spen...</td>\n",
       "      <td>NaN</td>\n",
       "      <td>6</td>\n",
       "      <td>19.0</td>\n",
       "      <td>Figure or percentage in reporting year 6</td>\n",
       "      <td>Text</td>\n",
       "      <td>-15.731588</td>\n",
       "      <td>3.175036</td>\n",
       "      <td>-11.824964</td>\n",
       "    </tr>\n",
       "    <tr>\n",
       "      <th>180</th>\n",
       "      <td>Bayer AG Climate Change 2021</td>\n",
       "      <td>What were your organization’s gross global Sco...</td>\n",
       "      <td>NaN</td>\n",
       "      <td>313000</td>\n",
       "      <td>47.0</td>\n",
       "      <td>Verified Scope 1 emissions in metric tons CO2e...</td>\n",
       "      <td>Text</td>\n",
       "      <td>8.552532</td>\n",
       "      <td>13.830592</td>\n",
       "      <td>-1.169408</td>\n",
       "    </tr>\n",
       "    <tr>\n",
       "      <th>181</th>\n",
       "      <td>Bayer AG Climate Change 2021</td>\n",
       "      <td>What were your organization’s gross global Sco...</td>\n",
       "      <td>NaN</td>\n",
       "      <td>3.761202 million t CO2e</td>\n",
       "      <td>37.0</td>\n",
       "      <td>i) Calculation: In 2020, the divestment/closur...</td>\n",
       "      <td>Text</td>\n",
       "      <td>8.039323</td>\n",
       "      <td>17.400318</td>\n",
       "      <td>2.400318</td>\n",
       "    </tr>\n",
       "    <tr>\n",
       "      <th>182</th>\n",
       "      <td>Bayer AG Climate Change 2021</td>\n",
       "      <td>What were your organization’s gross global Sco...</td>\n",
       "      <td>NaN</td>\n",
       "      <td>3.761202 million t CO2e</td>\n",
       "      <td>37.0</td>\n",
       "      <td>i) Calculation: In 2020, 0.134120 million t CO...</td>\n",
       "      <td>Text</td>\n",
       "      <td>5.642964</td>\n",
       "      <td>17.551994</td>\n",
       "      <td>2.551994</td>\n",
       "    </tr>\n",
       "    <tr>\n",
       "      <th>183</th>\n",
       "      <td>Bayer AG Climate Change 2021</td>\n",
       "      <td>What were your organization’s gross global Sco...</td>\n",
       "      <td>NaN</td>\n",
       "      <td>2010000</td>\n",
       "      <td>28.0</td>\n",
       "      <td>Gross global Scope 1 emissions (metric tons CO...</td>\n",
       "      <td>Text</td>\n",
       "      <td>5.509048</td>\n",
       "      <td>10.976402</td>\n",
       "      <td>-4.023598</td>\n",
       "    </tr>\n",
       "  </tbody>\n",
       "</table>\n",
       "<p>2762 rows × 10 columns</p>\n",
       "</div>"
      ],
      "text/plain": [
       "                         pdf_name  \\\n",
       "0       2020-cdp-climate-response   \n",
       "1       2020-cdp-climate-response   \n",
       "2       2020-cdp-climate-response   \n",
       "3       2020-cdp-climate-response   \n",
       "4       2020-cdp-climate-response   \n",
       "..                            ...   \n",
       "179  Bayer AG Climate Change 2021   \n",
       "180  Bayer AG Climate Change 2021   \n",
       "181  Bayer AG Climate Change 2021   \n",
       "182  Bayer AG Climate Change 2021   \n",
       "183  Bayer AG Climate Change 2021   \n",
       "\n",
       "                                                   kpi  kpi_id  \\\n",
       "0    Account for your organization’s gross global S...     NaN   \n",
       "1    Account for your organization’s gross global S...     NaN   \n",
       "2    Account for your organization’s gross global S...     NaN   \n",
       "3    Account for your organization’s gross global S...     NaN   \n",
       "4    Break down your total gross global Scope 1 emi...     NaN   \n",
       "..                                                 ...     ...   \n",
       "179  What percentage of your total operational spen...     NaN   \n",
       "180  What were your organization’s gross global Sco...     NaN   \n",
       "181  What were your organization’s gross global Sco...     NaN   \n",
       "182  What were your organization’s gross global Sco...     NaN   \n",
       "183  What were your organization’s gross global Sco...     NaN   \n",
       "\n",
       "                      answer  page  \\\n",
       "0                       2030  15.0   \n",
       "1                 52608307.5  17.0   \n",
       "2                    1558901  37.0   \n",
       "3                    1558901  37.0   \n",
       "4                     687597  30.0   \n",
       "..                       ...   ...   \n",
       "179                        6  19.0   \n",
       "180                   313000  47.0   \n",
       "181  3.761202 million t CO2e  37.0   \n",
       "182  3.761202 million t CO2e  37.0   \n",
       "183                  2010000  28.0   \n",
       "\n",
       "                                             paragraph source      score  \\\n",
       "0    Emissions from refrigeration equipment account...   Text  -3.801866   \n",
       "1    Covered emissions in reporting year (metric to...   Text  -4.640134   \n",
       "2    Metric numerator (Gross global combined Scope ...   Text  -6.075352   \n",
       "3    Metric numerator (Gross global combined Scope ...   Text  -6.075352   \n",
       "4    Gross global Scope 1 emissions (metric tons CO...   Text   8.747887   \n",
       "..                                                 ...    ...        ...   \n",
       "179           Figure or percentage in reporting year 6   Text -15.731588   \n",
       "180  Verified Scope 1 emissions in metric tons CO2e...   Text   8.552532   \n",
       "181  i) Calculation: In 2020, the divestment/closur...   Text   8.039323   \n",
       "182  i) Calculation: In 2020, 0.134120 million t CO...   Text   5.642964   \n",
       "183  Gross global Scope 1 emissions (metric tons CO...   Text   5.509048   \n",
       "\n",
       "     no_ans_score  no_answer_score_plus_boost  \n",
       "0       16.341036                    1.341036  \n",
       "1       15.346012                    0.346012  \n",
       "2       15.499842                    0.499842  \n",
       "3       15.499842                    0.499842  \n",
       "4       11.323345                   -3.676655  \n",
       "..            ...                         ...  \n",
       "179      3.175036                  -11.824964  \n",
       "180     13.830592                   -1.169408  \n",
       "181     17.400318                    2.400318  \n",
       "182     17.551994                    2.551994  \n",
       "183     10.976402                   -4.023598  \n",
       "\n",
       "[2762 rows x 10 columns]"
      ]
     },
     "execution_count": 19,
     "metadata": {},
     "output_type": "execute_result"
    }
   ],
   "source": [
    "tki.infer_on_relevance_results(infer_config.relevance_dir['Text'], kpi_df)"
   ]
  },
  {
   "cell_type": "code",
   "execution_count": 16,
   "id": "388d7a54-19fc-452e-b5a2-e07a8fbe79b6",
   "metadata": {
    "papermill": {
     "duration": 0.129255,
     "end_time": "2022-07-02T00:31:43.244364",
     "exception": false,
     "start_time": "2022-07-02T00:31:43.115109",
     "status": "completed"
    },
    "tags": []
   },
   "outputs": [],
   "source": [
    "if os.getenv(\"AUTOMATION\"):\n",
    "    # upload the predicted files to s3\n",
    "    s3c.upload_files_in_dir_to_prefix(\n",
    "        infer_config.result_dir['Text'],\n",
    "        config.BASE_INFER_KPI_S3_PREFIX\n",
    "    )"
   ]
  },
  {
   "cell_type": "markdown",
   "id": "a37bba54-3d44-4080-aaee-ff28390480b4",
   "metadata": {
    "papermill": {
     "duration": 0.007055,
     "end_time": "2022-07-02T00:31:43.258855",
     "exception": false,
     "start_time": "2022-07-02T00:31:43.251800",
     "status": "completed"
    },
    "tags": []
   },
   "source": [
    "# Conclusion\n",
    "This notebook ran the _KPI_ inference on a sample dataset and stored the output in a csv format."
   ]
  }
 ],
 "metadata": {
  "kernelspec": {
   "display_name": "Python 3 (ipykernel)",
   "language": "python",
   "name": "python3"
  },
  "language_info": {
   "codemirror_mode": {
    "name": "ipython",
    "version": 3
   },
   "file_extension": ".py",
   "mimetype": "text/x-python",
   "name": "python",
   "nbconvert_exporter": "python",
   "pygments_lexer": "ipython3",
   "version": "3.8.8"
  },
  "papermill": {
   "default_parameters": {},
   "duration": 75.749055,
   "end_time": "2022-07-02T00:31:44.387648",
   "environment_variables": {},
   "exception": null,
   "input_path": "/opt/app-root/src/aicoe-osc-demo/notebooks/demo2/infer_kpi.ipynb",
   "output_path": "/opt/app-root/src/aicoe-osc-demo/notebooks/demo2/infer_kpi.ipynb",
   "parameters": {},
   "start_time": "2022-07-02T00:30:28.638593",
   "version": "2.3.4"
  }
 },
 "nbformat": 4,
 "nbformat_minor": 5
}
