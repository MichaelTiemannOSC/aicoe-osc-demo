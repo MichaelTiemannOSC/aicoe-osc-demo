{
 "cells": [
  {
   "cell_type": "markdown",
   "id": "0d98e978-4549-47f4-984f-85f183706479",
   "metadata": {
    "tags": []
   },
   "source": [
    "# Relevance Inference\n",
    "This notebook takes in the extracted text from PDF preprocessing stage, the fine tuned relevance model from the training stage, and performs inference on the input text."
   ]
  },
  {
   "cell_type": "code",
   "execution_count": 1,
   "id": "c027591e-edf8-4b5b-8b29-1f74d20527da",
   "metadata": {},
   "outputs": [
    {
     "name": "stderr",
     "output_type": "stream",
     "text": [
      "07/16/2022 15:48:16 - INFO - farm.modeling.prediction_head -   Better speed can be achieved with apex installed from https://www.github.com/nvidia/apex .\n"
     ]
    }
   ],
   "source": [
    "import os\n",
    "import pandas as pd\n",
    "import pathlib\n",
    "\n",
    "from src.models.relevance_infer import TextRelevanceInfer\n",
    "from config_farm_train import InferConfig\n",
    "import config\n",
    "from src.data.s3_communication import S3Communication, S3FileType\n",
    "from dotenv import load_dotenv\n",
    "import zipfile"
   ]
  },
  {
   "cell_type": "code",
   "execution_count": 2,
   "id": "5532cf65-84d9-4790-bfa9-f58e89f7b771",
   "metadata": {},
   "outputs": [],
   "source": [
    "# Load credentials\n",
    "dotenv_dir = os.environ.get(\n",
    "    \"CREDENTIAL_DOTENV_DIR\", os.environ.get(\"PWD\", \"/opt/app-root/src\")\n",
    ")\n",
    "dotenv_path = pathlib.Path(dotenv_dir) / \"credentials.env\"\n",
    "if os.path.exists(dotenv_path):\n",
    "    load_dotenv(dotenv_path=dotenv_path, override=True)"
   ]
  },
  {
   "cell_type": "code",
   "execution_count": 3,
   "id": "9cd13d4d-925d-4be0-93f2-b1463cdd5d6e",
   "metadata": {},
   "outputs": [],
   "source": [
    "# init s3 connector\n",
    "s3c = S3Communication(\n",
    "    s3_endpoint_url=os.getenv(\"S3_ENDPOINT\"),\n",
    "    aws_access_key_id=os.getenv(\"AWS_ACCESS_KEY_ID\"),\n",
    "    aws_secret_access_key=os.getenv(\"AWS_SECRET_ACCESS_KEY\"),\n",
    "    s3_bucket=os.getenv(\"S3_BUCKET\"),\n",
    ")"
   ]
  },
  {
   "cell_type": "code",
   "execution_count": 4,
   "id": "75d26d30-1ec1-4343-a551-d0b27f825909",
   "metadata": {},
   "outputs": [],
   "source": [
    "infer_config = InferConfig(\"infer_demo\")"
   ]
  },
  {
   "cell_type": "code",
   "execution_count": 5,
   "id": "88d46b7b-f93a-4b2b-a631-39c05cbf81f0",
   "metadata": {},
   "outputs": [],
   "source": [
    "# When running in Automation using Elyra and Kubeflow Pipelines,\n",
    "# set AUTOMATION = 1 as an environment variable\n",
    "if os.getenv(\"AUTOMATION\"):\n",
    "    # extracted pdfs\n",
    "    if not os.path.exists(config.BASE_EXTRACTION_FOLDER):\n",
    "        config.BASE_EXTRACTION_FOLDER.mkdir(parents=True, exist_ok=True)\n",
    "\n",
    "    # inference results dir\n",
    "    if not os.path.exists(infer_config.result_dir['Text']):\n",
    "        pathlib.Path(infer_config.result_dir['Text']).mkdir(parents=True, exist_ok=True)\n",
    "\n",
    "    # load dir\n",
    "    if not os.path.exists(infer_config.load_dir['Text']):\n",
    "        pathlib.Path(infer_config.load_dir['Text']).mkdir(parents=True, exist_ok=True)\n",
    "\n",
    "    # download extracted pdfs from s3\n",
    "    s3c.download_files_in_prefix_to_dir(\n",
    "        config.BASE_EXTRACTION_S3_PREFIX,\n",
    "        config.BASE_EXTRACTION_FOLDER,\n",
    "    )"
   ]
  },
  {
   "cell_type": "code",
   "execution_count": 6,
   "id": "62fa59b1-4fc0-4e03-8d0b-9066d0643bbe",
   "metadata": {},
   "outputs": [],
   "source": [
    "model_root = pathlib.Path(infer_config.load_dir['Text']).parent\n",
    "model_rel_zip = pathlib.Path(model_root, 'RELEVANCE.zip')\n",
    "\n",
    "# This file must be download because model training doesn't save a local copy\n",
    "s3c.download_file_from_s3(model_rel_zip, config.BASE_SAVED_MODELS_S3_PREFIX, \"RELEVANCE.zip\")\n",
    "\n",
    "with zipfile.ZipFile(pathlib.Path(model_root, 'RELEVANCE.zip'), 'r') as z:\n",
    "    z.extractall(model_root)"
   ]
  },
  {
   "cell_type": "markdown",
   "id": "caf22ac3-2a27-40ce-a59f-e1b7c96089af",
   "metadata": {},
   "source": [
    "However, we advise that you manually update the parameters in the corresponding config file\n",
    "\n",
    "`esg_data_pipeline/config/config_farm_trainer.py`"
   ]
  },
  {
   "cell_type": "markdown",
   "id": "32da3ba2-6a6c-459f-be90-cd6ede593f47",
   "metadata": {},
   "source": [
    "## Inference"
   ]
  },
  {
   "cell_type": "markdown",
   "id": "d9d8dfe2-5b84-4b2a-ae90-03d14a2807a9",
   "metadata": {},
   "source": [
    "### Loading the model"
   ]
  },
  {
   "cell_type": "markdown",
   "id": "750dcc9b-fd03-4f7e-91cc-f7350897ba43",
   "metadata": {},
   "source": [
    "The following cell will load the trained model."
   ]
  },
  {
   "cell_type": "code",
   "execution_count": 7,
   "id": "394e543f-507b-4450-9493-f9e734186972",
   "metadata": {},
   "outputs": [
    {
     "name": "stdout",
     "output_type": "stream",
     "text": [
      "{'Text': '/opt/app-root/src/aicoe-osc-demo-MichaelTiemannOSC/models/RELEVANCE'}\n",
      "/opt/app-root/src/aicoe-osc-demo-MichaelTiemannOSC/data/extraction\n",
      "{'Text': '/opt/app-root/src/aicoe-osc-demo-MichaelTiemannOSC/data/infer_relevance'}\n"
     ]
    }
   ],
   "source": [
    "print(infer_config.load_dir)\n",
    "print(infer_config.extracted_dir)\n",
    "print(infer_config.result_dir)"
   ]
  },
  {
   "cell_type": "code",
   "execution_count": 8,
   "id": "04a68cfa-d266-4846-9802-bbfb38376720",
   "metadata": {},
   "outputs": [
    {
     "data": {
      "text/html": [
       "<div>\n",
       "<style scoped>\n",
       "    .dataframe tbody tr th:only-of-type {\n",
       "        vertical-align: middle;\n",
       "    }\n",
       "\n",
       "    .dataframe tbody tr th {\n",
       "        vertical-align: top;\n",
       "    }\n",
       "\n",
       "    .dataframe thead th {\n",
       "        text-align: right;\n",
       "    }\n",
       "</style>\n",
       "<table border=\"1\" class=\"dataframe\">\n",
       "  <thead>\n",
       "    <tr style=\"text-align: right;\">\n",
       "      <th></th>\n",
       "      <th>kpi_id</th>\n",
       "      <th>question</th>\n",
       "      <th>sectors</th>\n",
       "      <th>add_year</th>\n",
       "      <th>kpi_category</th>\n",
       "    </tr>\n",
       "  </thead>\n",
       "  <tbody>\n",
       "    <tr>\n",
       "      <th>0</th>\n",
       "      <td>1.0</td>\n",
       "      <td>What is the company name?</td>\n",
       "      <td>OG, CM, CU</td>\n",
       "      <td>False</td>\n",
       "      <td>TEXT</td>\n",
       "    </tr>\n",
       "    <tr>\n",
       "      <th>1</th>\n",
       "      <td>2.0</td>\n",
       "      <td>What is the Start Date of the CDP report publi...</td>\n",
       "      <td>OG, CM, CU</td>\n",
       "      <td>False</td>\n",
       "      <td>TEXT</td>\n",
       "    </tr>\n",
       "    <tr>\n",
       "      <th>2</th>\n",
       "      <td>3.0</td>\n",
       "      <td>What is the End Date of the CDP report published?</td>\n",
       "      <td>OG, CM, CU</td>\n",
       "      <td>False</td>\n",
       "      <td>TEXT</td>\n",
       "    </tr>\n",
       "    <tr>\n",
       "      <th>3</th>\n",
       "      <td>4.0</td>\n",
       "      <td>What is the currency used for all financial in...</td>\n",
       "      <td>OG, CM, CU</td>\n",
       "      <td>False</td>\n",
       "      <td>TEXT</td>\n",
       "    </tr>\n",
       "    <tr>\n",
       "      <th>4</th>\n",
       "      <td>5.0</td>\n",
       "      <td>Did you have an emissions target that was acti...</td>\n",
       "      <td>OG, CM, CU</td>\n",
       "      <td>False</td>\n",
       "      <td>TEXT</td>\n",
       "    </tr>\n",
       "  </tbody>\n",
       "</table>\n",
       "</div>"
      ],
      "text/plain": [
       "   kpi_id                                           question     sectors  \\\n",
       "0     1.0                          What is the company name?  OG, CM, CU   \n",
       "1     2.0  What is the Start Date of the CDP report publi...  OG, CM, CU   \n",
       "2     3.0  What is the End Date of the CDP report published?  OG, CM, CU   \n",
       "3     4.0  What is the currency used for all financial in...  OG, CM, CU   \n",
       "4     5.0  Did you have an emissions target that was acti...  OG, CM, CU   \n",
       "\n",
       "   add_year kpi_category  \n",
       "0     False         TEXT  \n",
       "1     False         TEXT  \n",
       "2     False         TEXT  \n",
       "3     False         TEXT  \n",
       "4     False         TEXT  "
      ]
     },
     "execution_count": 8,
     "metadata": {},
     "output_type": "execute_result"
    }
   ],
   "source": [
    "kpi_df = s3c.download_df_from_s3(\n",
    "    f\"{config.EXPERIMENT_NAME}/kpi_mapping\",\n",
    "    \"kpi_mapping.csv\",\n",
    "    filetype=S3FileType.CSV,\n",
    "    header=0,\n",
    ")\n",
    "kpi_df.head()"
   ]
  },
  {
   "cell_type": "code",
   "execution_count": 9,
   "id": "992f3875-85dc-4bf2-ac01-59c107142de3",
   "metadata": {
    "scrolled": true
   },
   "outputs": [
    {
     "name": "stderr",
     "output_type": "stream",
     "text": [
      "07/16/2022 15:48:24 - WARNING - farm.modeling.prediction_head -   `layer_dims` will be deprecated in future releases\n"
     ]
    }
   ],
   "source": [
    "component = TextRelevanceInfer(infer_config, kpi_df)"
   ]
  },
  {
   "cell_type": "markdown",
   "id": "a51bdd61-ed72-491b-bf92-d3006761f3ba",
   "metadata": {},
   "source": [
    "### Prediction on a Single Example"
   ]
  },
  {
   "cell_type": "code",
   "execution_count": 10,
   "id": "0522d7ba-538b-4503-8f11-2decbcb78244",
   "metadata": {
    "scrolled": true
   },
   "outputs": [
    {
     "name": "stderr",
     "output_type": "stream",
     "text": [
      "/opt/app-root/lib64/python3.8/site-packages/transformers/tokenization_utils.py:458: FutureWarning: `is_pretokenized` is deprecated and will be removed in a future version, use `is_split_into_words` instead.\n",
      "  warnings.warn(\n"
     ]
    },
    {
     "data": {
      "text/plain": [
       "[{'task': 'text_classification',\n",
       "  'predictions': [{'start': None,\n",
       "    'end': None,\n",
       "    'context': 'Is the company going to go green?|The company is going to reduce 8% in gas production',\n",
       "    'label': '1',\n",
       "    'probability': 0.99976236}]}]"
      ]
     },
     "execution_count": 10,
     "metadata": {},
     "output_type": "execute_result"
    }
   ],
   "source": [
    "input_text = \"The company is going to reduce 8% in gas production\"\n",
    "input_question = \"Is the company going to go green?\"\n",
    "component.run_text(input_text=input_text, input_question=input_question)"
   ]
  },
  {
   "cell_type": "code",
   "execution_count": 11,
   "id": "83c465be-fd3b-4e31-9561-8d9a14fe22bd",
   "metadata": {},
   "outputs": [
    {
     "data": {
      "text/plain": [
       "[{'task': 'text_classification',\n",
       "  'predictions': [{'start': None,\n",
       "    'end': None,\n",
       "    'context': 'Is the company going to go green?|The company is about semi conductors',\n",
       "    'label': '0',\n",
       "    'probability': 0.5169579}]}]"
      ]
     },
     "execution_count": 11,
     "metadata": {},
     "output_type": "execute_result"
    }
   ],
   "source": [
    "input_text = \"The company is about semi conductors\"\n",
    "input_question = \"Is the company going to go green?\"\n",
    "component.run_text(input_text=input_text, input_question=input_question)"
   ]
  },
  {
   "cell_type": "markdown",
   "id": "bd60bba1-2a06-4067-baf0-04dd4220bc38",
   "metadata": {},
   "source": [
    "### Prediction on an Entire Folder"
   ]
  },
  {
   "cell_type": "markdown",
   "id": "924a1b23-011c-40e9-b04a-a8ce9fd896fb",
   "metadata": {},
   "source": [
    "`run_folder()` will make prediction on all the JSON files in the /data/extraction folder. This will take some time, based on the number of json files."
   ]
  },
  {
   "cell_type": "code",
   "execution_count": 12,
   "id": "461d2c9f-be3a-4856-a956-d6d0f5694574",
   "metadata": {
    "scrolled": true
   },
   "outputs": [
    {
     "name": "stderr",
     "output_type": "stream",
     "text": [
      "07/16/2022 15:48:28 - INFO - src.models.relevance_infer -   #################### Starting Relevence Inference for the following extracted pdf files found in /opt/app-root/src/aicoe-osc-demo-MichaelTiemannOSC/data/infer_relevance:\n",
      "['2020-cdp-climate-response-checkpoint', '2020-cdp-climate-response', 'Adobe_CDP_Climate_Change_Questionnaire_2021', 'Apple_CDP-Climate-Change-Questionnaire_2021', 'Bayer AG Climate Change 2021', 'Corning_Incorporated_CDP_Climate_Change_Questionnaire_2021_FINAL', 'Michelin-CDP-Climate-Change-2021_def', 'NextEra Energy 2021 CDP Response', 'PGE_Corporation_CDP_Climate_Change_Questionnaire_2021', 'Unilever CDP Climate Response', 'bp-cdp-climate-change-questionnaire-2021', 'gap_inc-_cdp_climate_change_questionnaire_2021', 'vodafone-group-cdp-climate-change-questionnaire2021'] \n",
      "07/16/2022 15:48:28 - INFO - src.models.relevance_infer -   #################### 1/13 PDFs\n",
      "07/16/2022 15:48:28 - INFO - src.models.relevance_infer -   The relevance infer results for 2020-cdp-climate-response-checkpoint already exists. Skipping.\n",
      "07/16/2022 15:48:28 - INFO - src.models.relevance_infer -   If you would like to re-process the already processed files, set `skip_processed_files` to False in the config file. \n",
      "07/16/2022 15:48:28 - INFO - src.models.relevance_infer -   #################### 2/13 PDFs\n",
      "07/16/2022 15:48:28 - INFO - src.models.relevance_infer -   The relevance infer results for 2020-cdp-climate-response already exists. Skipping.\n",
      "07/16/2022 15:48:28 - INFO - src.models.relevance_infer -   If you would like to re-process the already processed files, set `skip_processed_files` to False in the config file. \n",
      "07/16/2022 15:48:28 - INFO - src.models.relevance_infer -   #################### 3/13 PDFs\n",
      "07/16/2022 15:48:28 - INFO - src.models.relevance_infer -   The relevance infer results for Adobe_CDP_Climate_Change_Questionnaire_2021 already exists. Skipping.\n",
      "07/16/2022 15:48:28 - INFO - src.models.relevance_infer -   If you would like to re-process the already processed files, set `skip_processed_files` to False in the config file. \n",
      "07/16/2022 15:48:28 - INFO - src.models.relevance_infer -   #################### 4/13 PDFs\n",
      "07/16/2022 15:48:28 - INFO - src.models.relevance_infer -   The relevance infer results for Apple_CDP-Climate-Change-Questionnaire_2021 already exists. Skipping.\n",
      "07/16/2022 15:48:28 - INFO - src.models.relevance_infer -   If you would like to re-process the already processed files, set `skip_processed_files` to False in the config file. \n",
      "07/16/2022 15:48:28 - INFO - src.models.relevance_infer -   #################### 5/13 PDFs\n",
      "07/16/2022 15:48:28 - INFO - src.models.relevance_infer -   The relevance infer results for Bayer AG Climate Change 2021 already exists. Skipping.\n",
      "07/16/2022 15:48:28 - INFO - src.models.relevance_infer -   If you would like to re-process the already processed files, set `skip_processed_files` to False in the config file. \n",
      "07/16/2022 15:48:28 - INFO - src.models.relevance_infer -   #################### 6/13 PDFs\n",
      "07/16/2022 15:48:28 - INFO - src.models.relevance_infer -   The relevance infer results for Corning_Incorporated_CDP_Climate_Change_Questionnaire_2021_FINAL already exists. Skipping.\n",
      "07/16/2022 15:48:28 - INFO - src.models.relevance_infer -   If you would like to re-process the already processed files, set `skip_processed_files` to False in the config file. \n",
      "07/16/2022 15:48:28 - INFO - src.models.relevance_infer -   #################### 7/13 PDFs\n",
      "07/16/2022 15:48:28 - INFO - src.models.relevance_infer -   The relevance infer results for Michelin-CDP-Climate-Change-2021_def already exists. Skipping.\n",
      "07/16/2022 15:48:28 - INFO - src.models.relevance_infer -   If you would like to re-process the already processed files, set `skip_processed_files` to False in the config file. \n",
      "07/16/2022 15:48:28 - INFO - src.models.relevance_infer -   #################### 8/13 PDFs\n",
      "07/16/2022 15:48:28 - INFO - src.models.relevance_infer -   The relevance infer results for NextEra Energy 2021 CDP Response already exists. Skipping.\n",
      "07/16/2022 15:48:28 - INFO - src.models.relevance_infer -   If you would like to re-process the already processed files, set `skip_processed_files` to False in the config file. \n",
      "07/16/2022 15:48:28 - INFO - src.models.relevance_infer -   #################### 9/13 PDFs\n",
      "07/16/2022 15:48:28 - INFO - src.models.relevance_infer -   The relevance infer results for PGE_Corporation_CDP_Climate_Change_Questionnaire_2021 already exists. Skipping.\n",
      "07/16/2022 15:48:28 - INFO - src.models.relevance_infer -   If you would like to re-process the already processed files, set `skip_processed_files` to False in the config file. \n",
      "07/16/2022 15:48:28 - INFO - src.models.relevance_infer -   #################### 10/13 PDFs\n",
      "07/16/2022 15:48:28 - INFO - src.models.relevance_infer -   The relevance infer results for Unilever CDP Climate Response already exists. Skipping.\n",
      "07/16/2022 15:48:28 - INFO - src.models.relevance_infer -   If you would like to re-process the already processed files, set `skip_processed_files` to False in the config file. \n",
      "07/16/2022 15:48:28 - INFO - src.models.relevance_infer -   #################### 11/13 PDFs\n",
      "07/16/2022 15:48:28 - INFO - src.models.relevance_infer -   The relevance infer results for bp-cdp-climate-change-questionnaire-2021 already exists. Skipping.\n",
      "07/16/2022 15:48:28 - INFO - src.models.relevance_infer -   If you would like to re-process the already processed files, set `skip_processed_files` to False in the config file. \n",
      "07/16/2022 15:48:28 - INFO - src.models.relevance_infer -   #################### 12/13 PDFs\n",
      "07/16/2022 15:48:28 - INFO - src.models.relevance_infer -   The relevance infer results for gap_inc-_cdp_climate_change_questionnaire_2021 already exists. Skipping.\n",
      "07/16/2022 15:48:28 - INFO - src.models.relevance_infer -   If you would like to re-process the already processed files, set `skip_processed_files` to False in the config file. \n",
      "07/16/2022 15:48:28 - INFO - src.models.relevance_infer -   #################### 13/13 PDFs\n",
      "07/16/2022 15:48:28 - INFO - src.models.relevance_infer -   The relevance infer results for vodafone-group-cdp-climate-change-questionnaire2021 already exists. Skipping.\n",
      "07/16/2022 15:48:28 - INFO - src.models.relevance_infer -   If you would like to re-process the already processed files, set `skip_processed_files` to False in the config file. \n"
     ]
    },
    {
     "data": {
      "text/html": [
       "<div>\n",
       "<style scoped>\n",
       "    .dataframe tbody tr th:only-of-type {\n",
       "        vertical-align: middle;\n",
       "    }\n",
       "\n",
       "    .dataframe tbody tr th {\n",
       "        vertical-align: top;\n",
       "    }\n",
       "\n",
       "    .dataframe thead th {\n",
       "        text-align: right;\n",
       "    }\n",
       "</style>\n",
       "<table border=\"1\" class=\"dataframe\">\n",
       "  <thead>\n",
       "    <tr style=\"text-align: right;\">\n",
       "      <th></th>\n",
       "    </tr>\n",
       "  </thead>\n",
       "  <tbody>\n",
       "  </tbody>\n",
       "</table>\n",
       "</div>"
      ],
      "text/plain": [
       "Empty DataFrame\n",
       "Columns: []\n",
       "Index: []"
      ]
     },
     "execution_count": 12,
     "metadata": {},
     "output_type": "execute_result"
    }
   ],
   "source": [
    "component.run_folder()"
   ]
  },
  {
   "cell_type": "markdown",
   "id": "2d78421f-ace9-4c19-ab0f-65e31fabcd06",
   "metadata": {},
   "source": [
    "The results are saved in a CSV. For each table, the extracted text, as well as the page number from the source pdf file are saved."
   ]
  },
  {
   "cell_type": "code",
   "execution_count": 13,
   "id": "4ef54093-09ae-4fb9-bb77-6d71693a01ea",
   "metadata": {},
   "outputs": [
    {
     "data": {
      "text/html": [
       "<div>\n",
       "<style scoped>\n",
       "    .dataframe tbody tr th:only-of-type {\n",
       "        vertical-align: middle;\n",
       "    }\n",
       "\n",
       "    .dataframe tbody tr th {\n",
       "        vertical-align: top;\n",
       "    }\n",
       "\n",
       "    .dataframe thead th {\n",
       "        text-align: right;\n",
       "    }\n",
       "</style>\n",
       "<table border=\"1\" class=\"dataframe\">\n",
       "  <thead>\n",
       "    <tr style=\"text-align: right;\">\n",
       "      <th></th>\n",
       "      <th>Unnamed: 0</th>\n",
       "      <th>page</th>\n",
       "      <th>pdf_name</th>\n",
       "      <th>text</th>\n",
       "      <th>text_b</th>\n",
       "      <th>source</th>\n",
       "    </tr>\n",
       "  </thead>\n",
       "  <tbody>\n",
       "    <tr>\n",
       "      <th>0</th>\n",
       "      <td>0</td>\n",
       "      <td>0</td>\n",
       "      <td>NextEra Energy 2021 CDP Response</td>\n",
       "      <td>What is the company name?</td>\n",
       "      <td>NextEra Energy, Inc. (NextEra Energy) is one o...</td>\n",
       "      <td>Text</td>\n",
       "    </tr>\n",
       "    <tr>\n",
       "      <th>1</th>\n",
       "      <td>1</td>\n",
       "      <td>0</td>\n",
       "      <td>NextEra Energy 2021 CDP Response</td>\n",
       "      <td>What is the company name?</td>\n",
       "      <td>FPL is the largest electric utility in the sta...</td>\n",
       "      <td>Text</td>\n",
       "    </tr>\n",
       "    <tr>\n",
       "      <th>2</th>\n",
       "      <td>2</td>\n",
       "      <td>0</td>\n",
       "      <td>NextEra Energy 2021 CDP Response</td>\n",
       "      <td>What is the company name?</td>\n",
       "      <td>NextEra Energy Resources, together with its af...</td>\n",
       "      <td>Text</td>\n",
       "    </tr>\n",
       "    <tr>\n",
       "      <th>3</th>\n",
       "      <td>3</td>\n",
       "      <td>0</td>\n",
       "      <td>NextEra Energy 2021 CDP Response</td>\n",
       "      <td>What is the company name?</td>\n",
       "      <td>Capital investment is central to executing our...</td>\n",
       "      <td>Text</td>\n",
       "    </tr>\n",
       "    <tr>\n",
       "      <th>4</th>\n",
       "      <td>4</td>\n",
       "      <td>0</td>\n",
       "      <td>NextEra Energy 2021 CDP Response</td>\n",
       "      <td>What is the company name?</td>\n",
       "      <td>For decades, we have focused on building a bus...</td>\n",
       "      <td>Text</td>\n",
       "    </tr>\n",
       "    <tr>\n",
       "      <th>5</th>\n",
       "      <td>5</td>\n",
       "      <td>0</td>\n",
       "      <td>NextEra Energy 2021 CDP Response</td>\n",
       "      <td>What is the company name?</td>\n",
       "      <td>Executing on this vision exemplifies what it m...</td>\n",
       "      <td>Text</td>\n",
       "    </tr>\n",
       "    <tr>\n",
       "      <th>6</th>\n",
       "      <td>6</td>\n",
       "      <td>3</td>\n",
       "      <td>NextEra Energy 2021 CDP Response</td>\n",
       "      <td>What is the company name?</td>\n",
       "      <td>President and CEO of NextEra Energy Resources:</td>\n",
       "      <td>Text</td>\n",
       "    </tr>\n",
       "    <tr>\n",
       "      <th>7</th>\n",
       "      <td>7</td>\n",
       "      <td>3</td>\n",
       "      <td>NextEra Energy 2021 CDP Response</td>\n",
       "      <td>What is the company name?</td>\n",
       "      <td>Rationale for why these responsibilities are a...</td>\n",
       "      <td>Text</td>\n",
       "    </tr>\n",
       "    <tr>\n",
       "      <th>8</th>\n",
       "      <td>8</td>\n",
       "      <td>10</td>\n",
       "      <td>NextEra Energy 2021 CDP Response</td>\n",
       "      <td>What is the company name?</td>\n",
       "      <td>Company-specific description The transition to...</td>\n",
       "      <td>Text</td>\n",
       "    </tr>\n",
       "    <tr>\n",
       "      <th>9</th>\n",
       "      <td>9</td>\n",
       "      <td>19</td>\n",
       "      <td>NextEra Energy 2021 CDP Response</td>\n",
       "      <td>What is the company name?</td>\n",
       "      <td>NextEra Energy Resources is at the leading edg...</td>\n",
       "      <td>Text</td>\n",
       "    </tr>\n",
       "    <tr>\n",
       "      <th>10</th>\n",
       "      <td>10</td>\n",
       "      <td>21</td>\n",
       "      <td>NextEra Energy 2021 CDP Response</td>\n",
       "      <td>What is the company name?</td>\n",
       "      <td>NextEra Energy Resources participates in natur...</td>\n",
       "      <td>Text</td>\n",
       "    </tr>\n",
       "    <tr>\n",
       "      <th>11</th>\n",
       "      <td>11</td>\n",
       "      <td>29</td>\n",
       "      <td>NextEra Energy 2021 CDP Response</td>\n",
       "      <td>What is the company name?</td>\n",
       "      <td>IPCC Fifth Assessment Report (AR5 – 100 year)</td>\n",
       "      <td>Text</td>\n",
       "    </tr>\n",
       "    <tr>\n",
       "      <th>12</th>\n",
       "      <td>12</td>\n",
       "      <td>29</td>\n",
       "      <td>NextEra Energy 2021 CDP Response</td>\n",
       "      <td>What is the company name?</td>\n",
       "      <td>IPCC Fifth Assessment Report (AR5 – 100 year)</td>\n",
       "      <td>Text</td>\n",
       "    </tr>\n",
       "    <tr>\n",
       "      <th>13</th>\n",
       "      <td>13</td>\n",
       "      <td>29</td>\n",
       "      <td>NextEra Energy 2021 CDP Response</td>\n",
       "      <td>What is the company name?</td>\n",
       "      <td>IPCC Fifth Assessment Report (AR5 – 100 year)</td>\n",
       "      <td>Text</td>\n",
       "    </tr>\n",
       "    <tr>\n",
       "      <th>14</th>\n",
       "      <td>14</td>\n",
       "      <td>29</td>\n",
       "      <td>NextEra Energy 2021 CDP Response</td>\n",
       "      <td>What is the company name?</td>\n",
       "      <td>IPCC Fifth Assessment Report (AR5 – 100 year)</td>\n",
       "      <td>Text</td>\n",
       "    </tr>\n",
       "    <tr>\n",
       "      <th>15</th>\n",
       "      <td>15</td>\n",
       "      <td>38</td>\n",
       "      <td>NextEra Energy 2021 CDP Response</td>\n",
       "      <td>What is the company name?</td>\n",
       "      <td>NextEra Energy Resources planned capex for 201...</td>\n",
       "      <td>Text</td>\n",
       "    </tr>\n",
       "    <tr>\n",
       "      <th>16</th>\n",
       "      <td>16</td>\n",
       "      <td>38</td>\n",
       "      <td>NextEra Energy 2021 CDP Response</td>\n",
       "      <td>What is the company name?</td>\n",
       "      <td>NextEra Energy invested in our first wind and ...</td>\n",
       "      <td>Text</td>\n",
       "    </tr>\n",
       "    <tr>\n",
       "      <th>17</th>\n",
       "      <td>17</td>\n",
       "      <td>39</td>\n",
       "      <td>NextEra Energy 2021 CDP Response</td>\n",
       "      <td>What is the company name?</td>\n",
       "      <td>Scope 2 (location-based or market-based)</td>\n",
       "      <td>Text</td>\n",
       "    </tr>\n",
       "    <tr>\n",
       "      <th>18</th>\n",
       "      <td>18</td>\n",
       "      <td>39</td>\n",
       "      <td>NextEra Energy 2021 CDP Response</td>\n",
       "      <td>What is the company name?</td>\n",
       "      <td>Attach the statement NextEra _Verification_CY ...</td>\n",
       "      <td>Text</td>\n",
       "    </tr>\n",
       "    <tr>\n",
       "      <th>19</th>\n",
       "      <td>19</td>\n",
       "      <td>40</td>\n",
       "      <td>NextEra Energy 2021 CDP Response</td>\n",
       "      <td>What is the company name?</td>\n",
       "      <td>Attach the statement NextEra _Verification_CY ...</td>\n",
       "      <td>Text</td>\n",
       "    </tr>\n",
       "  </tbody>\n",
       "</table>\n",
       "</div>"
      ],
      "text/plain": [
       "    Unnamed: 0  page                          pdf_name  \\\n",
       "0            0     0  NextEra Energy 2021 CDP Response   \n",
       "1            1     0  NextEra Energy 2021 CDP Response   \n",
       "2            2     0  NextEra Energy 2021 CDP Response   \n",
       "3            3     0  NextEra Energy 2021 CDP Response   \n",
       "4            4     0  NextEra Energy 2021 CDP Response   \n",
       "5            5     0  NextEra Energy 2021 CDP Response   \n",
       "6            6     3  NextEra Energy 2021 CDP Response   \n",
       "7            7     3  NextEra Energy 2021 CDP Response   \n",
       "8            8    10  NextEra Energy 2021 CDP Response   \n",
       "9            9    19  NextEra Energy 2021 CDP Response   \n",
       "10          10    21  NextEra Energy 2021 CDP Response   \n",
       "11          11    29  NextEra Energy 2021 CDP Response   \n",
       "12          12    29  NextEra Energy 2021 CDP Response   \n",
       "13          13    29  NextEra Energy 2021 CDP Response   \n",
       "14          14    29  NextEra Energy 2021 CDP Response   \n",
       "15          15    38  NextEra Energy 2021 CDP Response   \n",
       "16          16    38  NextEra Energy 2021 CDP Response   \n",
       "17          17    39  NextEra Energy 2021 CDP Response   \n",
       "18          18    39  NextEra Energy 2021 CDP Response   \n",
       "19          19    40  NextEra Energy 2021 CDP Response   \n",
       "\n",
       "                         text  \\\n",
       "0   What is the company name?   \n",
       "1   What is the company name?   \n",
       "2   What is the company name?   \n",
       "3   What is the company name?   \n",
       "4   What is the company name?   \n",
       "5   What is the company name?   \n",
       "6   What is the company name?   \n",
       "7   What is the company name?   \n",
       "8   What is the company name?   \n",
       "9   What is the company name?   \n",
       "10  What is the company name?   \n",
       "11  What is the company name?   \n",
       "12  What is the company name?   \n",
       "13  What is the company name?   \n",
       "14  What is the company name?   \n",
       "15  What is the company name?   \n",
       "16  What is the company name?   \n",
       "17  What is the company name?   \n",
       "18  What is the company name?   \n",
       "19  What is the company name?   \n",
       "\n",
       "                                               text_b source  \n",
       "0   NextEra Energy, Inc. (NextEra Energy) is one o...   Text  \n",
       "1   FPL is the largest electric utility in the sta...   Text  \n",
       "2   NextEra Energy Resources, together with its af...   Text  \n",
       "3   Capital investment is central to executing our...   Text  \n",
       "4   For decades, we have focused on building a bus...   Text  \n",
       "5   Executing on this vision exemplifies what it m...   Text  \n",
       "6      President and CEO of NextEra Energy Resources:   Text  \n",
       "7   Rationale for why these responsibilities are a...   Text  \n",
       "8   Company-specific description The transition to...   Text  \n",
       "9   NextEra Energy Resources is at the leading edg...   Text  \n",
       "10  NextEra Energy Resources participates in natur...   Text  \n",
       "11      IPCC Fifth Assessment Report (AR5 – 100 year)   Text  \n",
       "12      IPCC Fifth Assessment Report (AR5 – 100 year)   Text  \n",
       "13      IPCC Fifth Assessment Report (AR5 – 100 year)   Text  \n",
       "14      IPCC Fifth Assessment Report (AR5 – 100 year)   Text  \n",
       "15  NextEra Energy Resources planned capex for 201...   Text  \n",
       "16  NextEra Energy invested in our first wind and ...   Text  \n",
       "17           Scope 2 (location-based or market-based)   Text  \n",
       "18  Attach the statement NextEra _Verification_CY ...   Text  \n",
       "19  Attach the statement NextEra _Verification_CY ...   Text  "
      ]
     },
     "execution_count": 13,
     "metadata": {},
     "output_type": "execute_result"
    }
   ],
   "source": [
    "df_table_results = pd.read_csv(infer_config.result_dir['Text'] + \"/NextEra Energy 2021 CDP Response_predictions_relevant.csv\")\n",
    "df_table_results.head(20)"
   ]
  },
  {
   "cell_type": "code",
   "execution_count": 14,
   "id": "015c992b-5460-4af8-ae15-09e68b4d62c9",
   "metadata": {},
   "outputs": [],
   "source": [
    "# upload the predicted files to s3\n",
    "s3c.upload_files_in_dir_to_prefix(\n",
    "    infer_config.result_dir['Text'],\n",
    "    config.BASE_INFER_RELEVANCE_S3_PREFIX\n",
    ")"
   ]
  },
  {
   "cell_type": "markdown",
   "id": "5226fc3d-87dc-432a-a571-5109d0ecfc86",
   "metadata": {},
   "source": [
    "# Conclusion\n",
    "This notebook ran the _Relevance_ inference on a sample dataset and stored the output in a csv format."
   ]
  }
 ],
 "metadata": {
  "kernelspec": {
   "display_name": "Python 3 (ipykernel)",
   "language": "python",
   "name": "python3"
  },
  "language_info": {
   "codemirror_mode": {
    "name": "ipython",
    "version": 3
   },
   "file_extension": ".py",
   "mimetype": "text/x-python",
   "name": "python",
   "nbconvert_exporter": "python",
   "pygments_lexer": "ipython3",
   "version": "3.8.8"
  }
 },
 "nbformat": 4,
 "nbformat_minor": 5
}
