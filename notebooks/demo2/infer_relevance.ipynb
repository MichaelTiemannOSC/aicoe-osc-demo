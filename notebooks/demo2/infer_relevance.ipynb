{
 "cells": [
  {
   "cell_type": "markdown",
   "id": "0d98e978-4549-47f4-984f-85f183706479",
   "metadata": {
    "papermill": {
     "duration": 0.00524,
     "end_time": "2022-07-02T00:30:00.591376",
     "exception": false,
     "start_time": "2022-07-02T00:30:00.586136",
     "status": "completed"
    },
    "tags": []
   },
   "source": [
    "# Relevance Inference\n",
    "This notebook takes in the extracted text from PDF preprocessing stage, the fine tuned relevance model from the training stage, and performs inference on the input text."
   ]
  },
  {
   "cell_type": "code",
   "execution_count": 1,
   "id": "c027591e-edf8-4b5b-8b29-1f74d20527da",
   "metadata": {
    "execution": {
     "iopub.execute_input": "2022-07-02T00:30:00.601851Z",
     "iopub.status.busy": "2022-07-02T00:30:00.601221Z",
     "iopub.status.idle": "2022-07-02T00:30:04.037220Z",
     "shell.execute_reply": "2022-07-02T00:30:04.036452Z"
    },
    "papermill": {
     "duration": 3.443413,
     "end_time": "2022-07-02T00:30:04.039357",
     "exception": false,
     "start_time": "2022-07-02T00:30:00.595944",
     "status": "completed"
    },
    "tags": []
   },
   "outputs": [
    {
     "name": "stderr",
     "output_type": "stream",
     "text": [
      "07/02/2022 00:30:04 - INFO - farm.modeling.prediction_head -   Better speed can be achieved with apex installed from https://www.github.com/nvidia/apex .\n"
     ]
    }
   ],
   "source": [
    "import os\n",
    "import pandas as pd\n",
    "import pathlib\n",
    "from src.models.relevance_infer import TextRelevanceInfer\n",
    "from config_farm_train import InferConfig\n",
    "import config\n",
    "from src.data.s3_communication import S3Communication, S3FileType\n",
    "from dotenv import load_dotenv\n",
    "import zipfile\n",
    "\n",
    "import glob"
   ]
  },
  {
   "cell_type": "code",
   "execution_count": 2,
   "id": "5532cf65-84d9-4790-bfa9-f58e89f7b771",
   "metadata": {
    "execution": {
     "iopub.execute_input": "2022-07-02T00:30:04.051873Z",
     "iopub.status.busy": "2022-07-02T00:30:04.051380Z",
     "iopub.status.idle": "2022-07-02T00:30:04.062661Z",
     "shell.execute_reply": "2022-07-02T00:30:04.061932Z"
    },
    "papermill": {
     "duration": 0.018386,
     "end_time": "2022-07-02T00:30:04.064591",
     "exception": false,
     "start_time": "2022-07-02T00:30:04.046205",
     "status": "completed"
    },
    "tags": []
   },
   "outputs": [],
   "source": [
    "# Load credentials\n",
    "dotenv_dir = os.environ.get(\n",
    "    \"CREDENTIAL_DOTENV_DIR\", os.environ.get(\"PWD\", \"/opt/app-root/src\")\n",
    ")\n",
    "dotenv_path = pathlib.Path(dotenv_dir) / \"credentials.env\"\n",
    "if os.path.exists(dotenv_path):\n",
    "    load_dotenv(dotenv_path=dotenv_path, override=True)"
   ]
  },
  {
   "cell_type": "code",
   "execution_count": 3,
   "id": "9cd13d4d-925d-4be0-93f2-b1463cdd5d6e",
   "metadata": {
    "execution": {
     "iopub.execute_input": "2022-07-02T00:30:04.073892Z",
     "iopub.status.busy": "2022-07-02T00:30:04.073422Z",
     "iopub.status.idle": "2022-07-02T00:30:04.160220Z",
     "shell.execute_reply": "2022-07-02T00:30:04.159481Z"
    },
    "papermill": {
     "duration": 0.093678,
     "end_time": "2022-07-02T00:30:04.162274",
     "exception": false,
     "start_time": "2022-07-02T00:30:04.068596",
     "status": "completed"
    },
    "tags": []
   },
   "outputs": [],
   "source": [
    "# init s3 connector\n",
    "s3c = S3Communication(\n",
    "    s3_endpoint_url=os.getenv(\"S3_ENDPOINT\"),\n",
    "    aws_access_key_id=os.getenv(\"S3_LANDING_ACCESS_KEY\"),\n",
    "    aws_secret_access_key=os.getenv(\"S3_LANDING_SECRET_KEY\"),\n",
    "    s3_bucket=os.getenv(\"S3_BUCKET\"),\n",
    ")"
   ]
  },
  {
   "cell_type": "code",
   "execution_count": 4,
   "id": "75d26d30-1ec1-4343-a551-d0b27f825909",
   "metadata": {
    "execution": {
     "iopub.execute_input": "2022-07-02T00:30:04.173011Z",
     "iopub.status.busy": "2022-07-02T00:30:04.172541Z",
     "iopub.status.idle": "2022-07-02T00:30:04.176619Z",
     "shell.execute_reply": "2022-07-02T00:30:04.175904Z"
    },
    "papermill": {
     "duration": 0.010987,
     "end_time": "2022-07-02T00:30:04.178520",
     "exception": false,
     "start_time": "2022-07-02T00:30:04.167533",
     "status": "completed"
    },
    "tags": []
   },
   "outputs": [],
   "source": [
    "infer_config = InferConfig(\"infer_demo\")"
   ]
  },
  {
   "cell_type": "code",
   "execution_count": 5,
   "id": "88d46b7b-f93a-4b2b-a631-39c05cbf81f0",
   "metadata": {
    "execution": {
     "iopub.execute_input": "2022-07-02T00:30:04.188033Z",
     "iopub.status.busy": "2022-07-02T00:30:04.187482Z",
     "iopub.status.idle": "2022-07-02T00:30:04.360763Z",
     "shell.execute_reply": "2022-07-02T00:30:04.360032Z"
    },
    "papermill": {
     "duration": 0.180079,
     "end_time": "2022-07-02T00:30:04.362696",
     "exception": false,
     "start_time": "2022-07-02T00:30:04.182617",
     "status": "completed"
    },
    "tags": []
   },
   "outputs": [],
   "source": [
    "# When running in Automation using Elyra and Kubeflow Pipelines,\n",
    "# set AUTOMATION = 1 as an environment variable\n",
    "if os.getenv(\"AUTOMATION\"):\n",
    "    # extracted pdfs\n",
    "    if not os.path.exists(config.BASE_EXTRACTION_FOLDER):\n",
    "        config.BASE_EXTRACTION_FOLDER.mkdir(parents=True, exist_ok=True)\n",
    "\n",
    "    # inference results dir\n",
    "    if not os.path.exists(infer_config.result_dir['Text']):\n",
    "        pathlib.Path(infer_config.result_dir['Text']).mkdir(parents=True, exist_ok=True)\n",
    "\n",
    "    # load dir\n",
    "    if not os.path.exists(infer_config.load_dir['Text']):\n",
    "        pathlib.Path(infer_config.load_dir['Text']).mkdir(parents=True, exist_ok=True)\n",
    "\n",
    "    # download extracted pdfs from s3\n",
    "    s3c.download_files_in_prefix_to_dir(\n",
    "        config.BASE_EXTRACTION_S3_PREFIX,\n",
    "        config.BASE_EXTRACTION_FOLDER,\n",
    "    )"
   ]
  },
  {
   "cell_type": "code",
   "execution_count": 6,
   "id": "62fa59b1-4fc0-4e03-8d0b-9066d0643bbe",
   "metadata": {
    "execution": {
     "iopub.execute_input": "2022-07-02T00:30:04.372652Z",
     "iopub.status.busy": "2022-07-02T00:30:04.372124Z",
     "iopub.status.idle": "2022-07-02T00:30:18.915858Z",
     "shell.execute_reply": "2022-07-02T00:30:18.915023Z"
    },
    "papermill": {
     "duration": 14.550814,
     "end_time": "2022-07-02T00:30:18.918110",
     "exception": false,
     "start_time": "2022-07-02T00:30:04.367296",
     "status": "completed"
    },
    "tags": []
   },
   "outputs": [],
   "source": [
    "model_root = pathlib.Path(infer_config.load_dir['Text']).parent\n",
    "model_rel_zip = pathlib.Path(model_root, 'RELEVANCE.zip')\n",
    "s3c.download_file_from_s3(model_rel_zip, config.CHECKPOINT_S3_PREFIX, \"RELEVANCE.zip\")\n",
    "\n",
    "with zipfile.ZipFile(pathlib.Path(model_root, 'RELEVANCE.zip'), 'r') as z:\n",
    "    z.extractall(model_root)"
   ]
  },
  {
   "cell_type": "markdown",
   "id": "caf22ac3-2a27-40ce-a59f-e1b7c96089af",
   "metadata": {
    "papermill": {
     "duration": 0.006351,
     "end_time": "2022-07-02T00:30:18.929256",
     "exception": false,
     "start_time": "2022-07-02T00:30:18.922905",
     "status": "completed"
    },
    "tags": []
   },
   "source": [
    "However, we advise that you manually update the parameters in the corresponding config file\n",
    "\n",
    "`esg_data_pipeline/config/config_farm_trainer.py`"
   ]
  },
  {
   "cell_type": "markdown",
   "id": "32da3ba2-6a6c-459f-be90-cd6ede593f47",
   "metadata": {
    "papermill": {
     "duration": 0.003886,
     "end_time": "2022-07-02T00:30:18.937054",
     "exception": false,
     "start_time": "2022-07-02T00:30:18.933168",
     "status": "completed"
    },
    "tags": []
   },
   "source": [
    "## Inference"
   ]
  },
  {
   "cell_type": "markdown",
   "id": "d9d8dfe2-5b84-4b2a-ae90-03d14a2807a9",
   "metadata": {
    "papermill": {
     "duration": 0.003928,
     "end_time": "2022-07-02T00:30:18.944940",
     "exception": false,
     "start_time": "2022-07-02T00:30:18.941012",
     "status": "completed"
    },
    "tags": []
   },
   "source": [
    "### Loading the model"
   ]
  },
  {
   "cell_type": "markdown",
   "id": "750dcc9b-fd03-4f7e-91cc-f7350897ba43",
   "metadata": {
    "papermill": {
     "duration": 0.003896,
     "end_time": "2022-07-02T00:30:18.952899",
     "exception": false,
     "start_time": "2022-07-02T00:30:18.949003",
     "status": "completed"
    },
    "tags": []
   },
   "source": [
    "The following cell will load the trained model."
   ]
  },
  {
   "cell_type": "code",
   "execution_count": 7,
   "id": "394e543f-507b-4450-9493-f9e734186972",
   "metadata": {
    "execution": {
     "iopub.execute_input": "2022-07-02T00:30:18.962535Z",
     "iopub.status.busy": "2022-07-02T00:30:18.962020Z",
     "iopub.status.idle": "2022-07-02T00:30:18.966939Z",
     "shell.execute_reply": "2022-07-02T00:30:18.966095Z"
    },
    "papermill": {
     "duration": 0.01206,
     "end_time": "2022-07-02T00:30:18.968931",
     "exception": false,
     "start_time": "2022-07-02T00:30:18.956871",
     "status": "completed"
    },
    "tags": []
   },
   "outputs": [
    {
     "name": "stdout",
     "output_type": "stream",
     "text": [
      "{'Text': '/opt/app-root/src/aicoe-osc-demo/models/RELEVANCE'}\n",
      "/opt/app-root/src/aicoe-osc-demo/data/extraction\n",
      "{'Text': '/opt/app-root/src/aicoe-osc-demo/data/infer_relevance'}\n"
     ]
    }
   ],
   "source": [
    "print(infer_config.load_dir)\n",
    "print(infer_config.extracted_dir)\n",
    "print(infer_config.result_dir)"
   ]
  },
  {
   "cell_type": "code",
   "execution_count": 8,
   "id": "04a68cfa-d266-4846-9802-bbfb38376720",
   "metadata": {
    "execution": {
     "iopub.execute_input": "2022-07-02T00:30:18.978914Z",
     "iopub.status.busy": "2022-07-02T00:30:18.978323Z",
     "iopub.status.idle": "2022-07-02T00:30:19.100257Z",
     "shell.execute_reply": "2022-07-02T00:30:19.099412Z"
    },
    "papermill": {
     "duration": 0.129086,
     "end_time": "2022-07-02T00:30:19.102093",
     "exception": false,
     "start_time": "2022-07-02T00:30:18.973007",
     "status": "completed"
    },
    "tags": []
   },
   "outputs": [
    {
     "data": {
      "text/html": [
       "<div>\n",
       "<style scoped>\n",
       "    .dataframe tbody tr th:only-of-type {\n",
       "        vertical-align: middle;\n",
       "    }\n",
       "\n",
       "    .dataframe tbody tr th {\n",
       "        vertical-align: top;\n",
       "    }\n",
       "\n",
       "    .dataframe thead th {\n",
       "        text-align: right;\n",
       "    }\n",
       "</style>\n",
       "<table border=\"1\" class=\"dataframe\">\n",
       "  <thead>\n",
       "    <tr style=\"text-align: right;\">\n",
       "      <th></th>\n",
       "      <th>kpi_id</th>\n",
       "      <th>question</th>\n",
       "      <th>sectors</th>\n",
       "      <th>add_year</th>\n",
       "      <th>kpi_category</th>\n",
       "      <th>Unnamed: 5</th>\n",
       "      <th>Unnamed: 6</th>\n",
       "    </tr>\n",
       "  </thead>\n",
       "  <tbody>\n",
       "    <tr>\n",
       "      <th>0</th>\n",
       "      <td>0.0</td>\n",
       "      <td>What is the company name?</td>\n",
       "      <td>OG, CM, CU</td>\n",
       "      <td>False</td>\n",
       "      <td>TEXT</td>\n",
       "      <td>NaN</td>\n",
       "      <td>NaN</td>\n",
       "    </tr>\n",
       "    <tr>\n",
       "      <th>1</th>\n",
       "      <td>1.0</td>\n",
       "      <td>In which year was the annual report or the sus...</td>\n",
       "      <td>OG, CM, CU</td>\n",
       "      <td>False</td>\n",
       "      <td>TEXT</td>\n",
       "      <td>NaN</td>\n",
       "      <td>NaN</td>\n",
       "    </tr>\n",
       "    <tr>\n",
       "      <th>2</th>\n",
       "      <td>2.0</td>\n",
       "      <td>What is the total volume of proven and probabl...</td>\n",
       "      <td>OG</td>\n",
       "      <td>True</td>\n",
       "      <td>TEXT, TABLE</td>\n",
       "      <td>NaN</td>\n",
       "      <td>NaN</td>\n",
       "    </tr>\n",
       "    <tr>\n",
       "      <th>3</th>\n",
       "      <td>2.1</td>\n",
       "      <td>What is the volume of estimated proven hydroca...</td>\n",
       "      <td>OG</td>\n",
       "      <td>True</td>\n",
       "      <td>TEXT, TABLE</td>\n",
       "      <td>NaN</td>\n",
       "      <td>NaN</td>\n",
       "    </tr>\n",
       "    <tr>\n",
       "      <th>4</th>\n",
       "      <td>2.2</td>\n",
       "      <td>What is the volume of estimated probable hydro...</td>\n",
       "      <td>OG</td>\n",
       "      <td>True</td>\n",
       "      <td>TEXT, TABLE</td>\n",
       "      <td>NaN</td>\n",
       "      <td>NaN</td>\n",
       "    </tr>\n",
       "  </tbody>\n",
       "</table>\n",
       "</div>"
      ],
      "text/plain": [
       "   kpi_id                                           question     sectors  \\\n",
       "0     0.0                          What is the company name?  OG, CM, CU   \n",
       "1     1.0  In which year was the annual report or the sus...  OG, CM, CU   \n",
       "2     2.0  What is the total volume of proven and probabl...          OG   \n",
       "3     2.1  What is the volume of estimated proven hydroca...          OG   \n",
       "4     2.2  What is the volume of estimated probable hydro...          OG   \n",
       "\n",
       "   add_year kpi_category  Unnamed: 5  Unnamed: 6  \n",
       "0     False         TEXT         NaN         NaN  \n",
       "1     False         TEXT         NaN         NaN  \n",
       "2      True  TEXT, TABLE         NaN         NaN  \n",
       "3      True  TEXT, TABLE         NaN         NaN  \n",
       "4      True  TEXT, TABLE         NaN         NaN  "
      ]
     },
     "execution_count": 8,
     "metadata": {},
     "output_type": "execute_result"
    }
   ],
   "source": [
    "kpi_df = s3c.download_df_from_s3(\n",
    "    \"aicoe-osc-demo/kpi_mapping\",\n",
    "    \"kpi_mapping.csv\",\n",
    "    filetype=S3FileType.CSV,\n",
    "    header=0,\n",
    ")\n",
    "kpi_df.head()"
   ]
  },
  {
   "cell_type": "code",
   "execution_count": 9,
   "id": "992f3875-85dc-4bf2-ac01-59c107142de3",
   "metadata": {
    "execution": {
     "iopub.execute_input": "2022-07-02T00:30:19.112236Z",
     "iopub.status.busy": "2022-07-02T00:30:19.111741Z",
     "iopub.status.idle": "2022-07-02T00:30:26.525148Z",
     "shell.execute_reply": "2022-07-02T00:30:26.523753Z"
    },
    "papermill": {
     "duration": 7.421377,
     "end_time": "2022-07-02T00:30:26.527961",
     "exception": false,
     "start_time": "2022-07-02T00:30:19.106584",
     "status": "completed"
    },
    "scrolled": true,
    "tags": []
   },
   "outputs": [
    {
     "name": "stderr",
     "output_type": "stream",
     "text": [
      "07/02/2022 00:30:22 - WARNING - farm.modeling.prediction_head -   `layer_dims` will be deprecated in future releases\n"
     ]
    }
   ],
   "source": [
    "component = TextRelevanceInfer(infer_config, kpi_df)"
   ]
  },
  {
   "cell_type": "markdown",
   "id": "a51bdd61-ed72-491b-bf92-d3006761f3ba",
   "metadata": {
    "papermill": {
     "duration": 0.004389,
     "end_time": "2022-07-02T00:30:26.548454",
     "exception": false,
     "start_time": "2022-07-02T00:30:26.544065",
     "status": "completed"
    },
    "tags": []
   },
   "source": [
    "### Prediction on a Single Example"
   ]
  },
  {
   "cell_type": "code",
   "execution_count": 10,
   "id": "0522d7ba-538b-4503-8f11-2decbcb78244",
   "metadata": {
    "execution": {
     "iopub.execute_input": "2022-07-02T00:30:26.559847Z",
     "iopub.status.busy": "2022-07-02T00:30:26.559232Z",
     "iopub.status.idle": "2022-07-02T00:30:26.772471Z",
     "shell.execute_reply": "2022-07-02T00:30:26.771791Z"
    },
    "papermill": {
     "duration": 0.221391,
     "end_time": "2022-07-02T00:30:26.774447",
     "exception": false,
     "start_time": "2022-07-02T00:30:26.553056",
     "status": "completed"
    },
    "scrolled": true,
    "tags": []
   },
   "outputs": [
    {
     "data": {
      "text/plain": [
       "[{'task': 'text_classification',\n",
       "  'predictions': [{'start': None,\n",
       "    'end': None,\n",
       "    'context': 'Is the company going to go green?|The company is going to reduce 8% in gas production',\n",
       "    'label': '1',\n",
       "    'probability': 0.7343753}]}]"
      ]
     },
     "execution_count": 10,
     "metadata": {},
     "output_type": "execute_result"
    }
   ],
   "source": [
    "input_text = \"The company is going to reduce 8% in gas production\"\n",
    "input_question = \"Is the company going to go green?\"\n",
    "component.run_text(input_text=input_text, input_question=input_question)"
   ]
  },
  {
   "cell_type": "code",
   "execution_count": 11,
   "id": "83c465be-fd3b-4e31-9561-8d9a14fe22bd",
   "metadata": {
    "execution": {
     "iopub.execute_input": "2022-07-02T00:30:26.785620Z",
     "iopub.status.busy": "2022-07-02T00:30:26.785229Z",
     "iopub.status.idle": "2022-07-02T00:30:26.958652Z",
     "shell.execute_reply": "2022-07-02T00:30:26.957899Z"
    },
    "papermill": {
     "duration": 0.180917,
     "end_time": "2022-07-02T00:30:26.960658",
     "exception": false,
     "start_time": "2022-07-02T00:30:26.779741",
     "status": "completed"
    },
    "tags": []
   },
   "outputs": [
    {
     "data": {
      "text/plain": [
       "[{'task': 'text_classification',\n",
       "  'predictions': [{'start': None,\n",
       "    'end': None,\n",
       "    'context': 'Is the company going to go green?|The company is about semi conductors',\n",
       "    'label': '0',\n",
       "    'probability': 0.9893261}]}]"
      ]
     },
     "execution_count": 11,
     "metadata": {},
     "output_type": "execute_result"
    }
   ],
   "source": [
    "input_text = \"The company is about semi conductors\"\n",
    "input_question = \"Is the company going to go green?\"\n",
    "component.run_text(input_text=input_text, input_question=input_question)"
   ]
  },
  {
   "cell_type": "markdown",
   "id": "bd60bba1-2a06-4067-baf0-04dd4220bc38",
   "metadata": {
    "papermill": {
     "duration": 0.004479,
     "end_time": "2022-07-02T00:30:26.971803",
     "exception": false,
     "start_time": "2022-07-02T00:30:26.967324",
     "status": "completed"
    },
    "tags": []
   },
   "source": [
    "### Prediction on an Entire Folder"
   ]
  },
  {
   "cell_type": "markdown",
   "id": "924a1b23-011c-40e9-b04a-a8ce9fd896fb",
   "metadata": {
    "papermill": {
     "duration": 0.00442,
     "end_time": "2022-07-02T00:30:26.980918",
     "exception": false,
     "start_time": "2022-07-02T00:30:26.976498",
     "status": "completed"
    },
    "tags": []
   },
   "source": [
    "`run_folder()` will make prediction on all the JSON files in the /data/extraction folder. This will take some time, based on the number of json files."
   ]
  },
  {
   "cell_type": "code",
   "execution_count": 12,
   "id": "461d2c9f-be3a-4856-a956-d6d0f5694574",
   "metadata": {
    "execution": {
     "iopub.execute_input": "2022-07-02T00:30:26.991386Z",
     "iopub.status.busy": "2022-07-02T00:30:26.990849Z",
     "iopub.status.idle": "2022-07-02T00:30:27.256591Z",
     "shell.execute_reply": "2022-07-02T00:30:27.255889Z"
    },
    "papermill": {
     "duration": 0.272991,
     "end_time": "2022-07-02T00:30:27.258388",
     "exception": false,
     "start_time": "2022-07-02T00:30:26.985397",
     "status": "completed"
    },
    "scrolled": true,
    "tags": []
   },
   "outputs": [
    {
     "name": "stderr",
     "output_type": "stream",
     "text": [
      "07/02/2022 00:30:26 - INFO - src.models.relevance_infer -   #################### Starting Relevence Inference for the following extracted pdf files found in /opt/app-root/src/aicoe-osc-demo/data/infer_relevance:\n",
      "['sustainability-report-2019'] \n"
     ]
    },
    {
     "name": "stderr",
     "output_type": "stream",
     "text": [
      "07/02/2022 00:30:26 - INFO - src.models.relevance_infer -   #################### 1/1 PDFs\n"
     ]
    },
    {
     "name": "stderr",
     "output_type": "stream",
     "text": [
      "07/02/2022 00:30:26 - INFO - src.models.relevance_infer -   The relevance infer results for sustainability-report-2019 already exists. Skipping.\n"
     ]
    },
    {
     "name": "stderr",
     "output_type": "stream",
     "text": [
      "07/02/2022 00:30:26 - INFO - src.models.relevance_infer -   If you would like to re-process the already processed files, set `skip_processed_files` to False in the config file. \n"
     ]
    },
    {
     "data": {
      "text/html": [
       "<div>\n",
       "<style scoped>\n",
       "    .dataframe tbody tr th:only-of-type {\n",
       "        vertical-align: middle;\n",
       "    }\n",
       "\n",
       "    .dataframe tbody tr th {\n",
       "        vertical-align: top;\n",
       "    }\n",
       "\n",
       "    .dataframe thead th {\n",
       "        text-align: right;\n",
       "    }\n",
       "</style>\n",
       "<table border=\"1\" class=\"dataframe\">\n",
       "  <thead>\n",
       "    <tr style=\"text-align: right;\">\n",
       "      <th></th>\n",
       "    </tr>\n",
       "  </thead>\n",
       "  <tbody>\n",
       "  </tbody>\n",
       "</table>\n",
       "</div>"
      ],
      "text/plain": [
       "Empty DataFrame\n",
       "Columns: []\n",
       "Index: []"
      ]
     },
     "execution_count": 12,
     "metadata": {},
     "output_type": "execute_result"
    }
   ],
   "source": [
    "component.run_folder()"
   ]
  },
  {
   "cell_type": "markdown",
   "id": "2d78421f-ace9-4c19-ab0f-65e31fabcd06",
   "metadata": {
    "papermill": {
     "duration": 0.00472,
     "end_time": "2022-07-02T00:30:27.269127",
     "exception": false,
     "start_time": "2022-07-02T00:30:27.264407",
     "status": "completed"
    },
    "tags": []
   },
   "source": [
    "The results are saved in a CSV. For each table, the extracted text, as well as the page number from the source pdf file are saved."
   ]
  },
  {
   "cell_type": "code",
   "execution_count": 13,
   "id": "4ef54093-09ae-4fb9-bb77-6d71693a01ea",
   "metadata": {
    "execution": {
     "iopub.execute_input": "2022-07-02T00:30:27.280244Z",
     "iopub.status.busy": "2022-07-02T00:30:27.279731Z",
     "iopub.status.idle": "2022-07-02T00:30:27.296605Z",
     "shell.execute_reply": "2022-07-02T00:30:27.295956Z"
    },
    "papermill": {
     "duration": 0.024431,
     "end_time": "2022-07-02T00:30:27.298328",
     "exception": false,
     "start_time": "2022-07-02T00:30:27.273897",
     "status": "completed"
    },
    "tags": []
   },
   "outputs": [
    {
     "name": "stdout",
     "output_type": "stream",
     "text": [
      "for file /opt/app-root/src/aicoe-osc-demo/data/infer_relevance/sustainability-report-2019_predictions_relevant.csv:\n",
      "    Unnamed: 0  page                    pdf_name                       text  \\\n",
      "0            0     1  sustainability-report-2019  What is the company name?   \n",
      "1            1     1  sustainability-report-2019  What is the company name?   \n",
      "2            2     1  sustainability-report-2019  What is the company name?   \n",
      "3            3     1  sustainability-report-2019  What is the company name?   \n",
      "4            4     1  sustainability-report-2019  What is the company name?   \n",
      "5            5     1  sustainability-report-2019  What is the company name?   \n",
      "6            6     1  sustainability-report-2019  What is the company name?   \n",
      "7            7     1  sustainability-report-2019  What is the company name?   \n",
      "8            8     1  sustainability-report-2019  What is the company name?   \n",
      "9            9     2  sustainability-report-2019  What is the company name?   \n",
      "10          10     3  sustainability-report-2019  What is the company name?   \n",
      "11          11     4  sustainability-report-2019  What is the company name?   \n",
      "12          12     4  sustainability-report-2019  What is the company name?   \n",
      "13          13     5  sustainability-report-2019  What is the company name?   \n",
      "14          14     8  sustainability-report-2019  What is the company name?   \n",
      "15          15    10  sustainability-report-2019  What is the company name?   \n",
      "16          16    10  sustainability-report-2019  What is the company name?   \n",
      "17          17    10  sustainability-report-2019  What is the company name?   \n",
      "18          18    10  sustainability-report-2019  What is the company name?   \n",
      "19          19    11  sustainability-report-2019  What is the company name?   \n",
      "\n",
      "                                               text_b source  \n",
      "0   Equinor supports the Paris agreement and a net...   Text  \n",
      "1   broad energy company is founded on a strong co...   Text  \n",
      "2   Equinor and partners reached a final investmen...   Text  \n",
      "3   awarded five major contracts. Equinor is posit...   Text  \n",
      "4   Equinor is a values-based company. How we deli...   Text  \n",
      "5   2019 marked the start-up of Johan Sverdrup – t...   Text  \n",
      "6   For almost 50 years, Equinor has dedicated its...   Text  \n",
      "7   Equinor is partnering with SSE Renewables to d...   Text  \n",
      "8     Equinor Sustainability report 2019Introduction    Text  \n",
      "9   We are Equinor, an international energy compan...   Text  \n",
      "10  Equinor.com For further information about sust...   Text  \n",
      "11          Sustainability is embedded in Equinor's:    Text  \n",
      "12  Equinor’s purpose is to turn natural resources...   Text  \n",
      "13    To be an industry leader in safety and security   Text  \n",
      "14  us. Equinor has low carbon as one of the main ...   Text  \n",
      "15  In 2019, Equinor reviewed its climate ambition...   Text  \n",
      "16  Equinor’s Climate Roadmap sets out new short-,...   Text  \n",
      "17  Equinor aims to reduce the CO₂ intensity of it...   Text  \n",
      "18  Equinor Sustainability report 2019 Equinor Sus...   Text  \n",
      "19  Global offshore wind major The past few years ...   Text  \n"
     ]
    }
   ],
   "source": [
    "csvfiles = [f for f in glob.glob(infer_config.result_dir['Text'] + \"/*.csv\")]\n",
    "for i in range(len(csvfiles)):\n",
    "    f = csvfiles[i]\n",
    "    df_table_results = pd.read_csv(f)\n",
    "    if i < 5:\n",
    "        print(f\"for file {f}:\")\n",
    "        print(df_table_results.head(20))\n",
    "    else:\n",
    "        print (f\"and file {f} (len = {len(df_table_results)})\")"
   ]
  },
  {
   "cell_type": "code",
   "execution_count": 14,
   "id": "14ae0386-ae1c-4eff-b826-5e07d7f46f47",
   "metadata": {
    "execution": {
     "iopub.execute_input": "2022-07-02T00:30:27.309919Z",
     "iopub.status.busy": "2022-07-02T00:30:27.309443Z",
     "iopub.status.idle": "2022-07-02T00:30:27.474525Z",
     "shell.execute_reply": "2022-07-02T00:30:27.473821Z"
    },
    "papermill": {
     "duration": 0.172658,
     "end_time": "2022-07-02T00:30:27.476387",
     "exception": false,
     "start_time": "2022-07-02T00:30:27.303729",
     "status": "completed"
    },
    "tags": []
   },
   "outputs": [],
   "source": [
    "if os.getenv(\"AUTOMATION\"):\n",
    "    # upload the predicted files to s3\n",
    "    s3c.upload_files_in_dir_to_prefix(\n",
    "        infer_config.result_dir['Text'],\n",
    "        config.BASE_INFER_RELEVANCE_S3_PREFIX\n",
    "    )"
   ]
  },
  {
   "cell_type": "markdown",
   "id": "5226fc3d-87dc-432a-a571-5109d0ecfc86",
   "metadata": {
    "papermill": {
     "duration": 0.004923,
     "end_time": "2022-07-02T00:30:27.486643",
     "exception": false,
     "start_time": "2022-07-02T00:30:27.481720",
     "status": "completed"
    },
    "tags": []
   },
   "source": [
    "# Conclusion\n",
    "This notebook ran the _Relevance_ inference on a sample dataset and stored the output in a csv format."
   ]
  }
 ],
 "metadata": {
  "kernelspec": {
   "display_name": "Python 3 (ipykernel)",
   "language": "python",
   "name": "python3"
  },
  "language_info": {
   "codemirror_mode": {
    "name": "ipython",
    "version": 3
   },
   "file_extension": ".py",
   "mimetype": "text/x-python",
   "name": "python",
   "nbconvert_exporter": "python",
   "pygments_lexer": "ipython3",
   "version": "3.8.8"
  },
  "papermill": {
   "default_parameters": {},
   "duration": 29.248741,
   "end_time": "2022-07-02T00:30:28.613627",
   "environment_variables": {},
   "exception": null,
   "input_path": "/opt/app-root/src/aicoe-osc-demo/notebooks/demo2/infer_relevance.ipynb",
   "output_path": "/opt/app-root/src/aicoe-osc-demo/notebooks/demo2/infer_relevance.ipynb",
   "parameters": {},
   "start_time": "2022-07-02T00:29:59.364886",
   "version": "2.3.4"
  }
 },
 "nbformat": 4,
 "nbformat_minor": 5
}