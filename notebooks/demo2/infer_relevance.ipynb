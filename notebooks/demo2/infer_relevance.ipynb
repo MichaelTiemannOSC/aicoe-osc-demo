{
 "cells": [
  {
   "cell_type": "markdown",
   "id": "781aee5f",
   "metadata": {
    "tags": [
     "papermill-error-cell-tag"
    ]
   },
   "source": [
    "<span style=\"color:red; font-family:Helvetica Neue, Helvetica, Arial, sans-serif; font-size:2em;\">An Exception was encountered at '<a href=\"#papermill-error-cell\">In [9]</a>'.</span>"
   ]
  },
  {
   "cell_type": "markdown",
   "id": "0d98e978-4549-47f4-984f-85f183706479",
   "metadata": {
    "papermill": {
     "duration": 0.005193,
     "end_time": "2022-07-09T15:06:41.882213",
     "exception": false,
     "start_time": "2022-07-09T15:06:41.877020",
     "status": "completed"
    },
    "tags": []
   },
   "source": [
    "# Relevance Inference\n",
    "This notebook takes in the extracted text from PDF preprocessing stage, the fine tuned relevance model from the training stage, and performs inference on the input text."
   ]
  },
  {
   "cell_type": "code",
   "execution_count": 1,
   "id": "c027591e-edf8-4b5b-8b29-1f74d20527da",
   "metadata": {
    "papermill": {
     "duration": 3.219209,
     "end_time": "2022-07-09T15:06:45.105527",
     "exception": false,
     "start_time": "2022-07-09T15:06:41.886318",
     "status": "completed"
    },
    "tags": []
   },
   "outputs": [
    {
     "name": "stderr",
     "output_type": "stream",
     "text": [
      "07/10/2022 10:38:30 - INFO - farm.modeling.prediction_head -   Better speed can be achieved with apex installed from https://www.github.com/nvidia/apex .\n"
     ]
    }
   ],
   "source": [
    "import os\n",
    "from os.path import exists\n",
    "import pandas as pd\n",
    "import pathlib\n",
    "from src.models.relevance_infer import TextRelevanceInfer\n",
    "from config_farm_train import InferConfig\n",
    "import config\n",
    "from src.data.s3_communication import S3Communication, S3FileType\n",
    "from dotenv import load_dotenv\n",
    "import zipfile\n",
    "\n",
    "import glob"
   ]
  },
  {
   "cell_type": "code",
   "execution_count": 2,
   "id": "5532cf65-84d9-4790-bfa9-f58e89f7b771",
   "metadata": {
    "papermill": {
     "duration": 0.018373,
     "end_time": "2022-07-09T15:06:45.129309",
     "exception": false,
     "start_time": "2022-07-09T15:06:45.110936",
     "status": "completed"
    },
    "tags": []
   },
   "outputs": [],
   "source": [
    "# Load credentials\n",
    "dotenv_dir = os.environ.get(\n",
    "    \"CREDENTIAL_DOTENV_DIR\", os.environ.get(\"PWD\", \"/opt/app-root/src\")\n",
    ")\n",
    "dotenv_path = pathlib.Path(dotenv_dir) / \"credentials.env\"\n",
    "if os.path.exists(dotenv_path):\n",
    "    load_dotenv(dotenv_path=dotenv_path, override=True)"
   ]
  },
  {
   "cell_type": "code",
   "execution_count": 3,
   "id": "9cd13d4d-925d-4be0-93f2-b1463cdd5d6e",
   "metadata": {
    "papermill": {
     "duration": 0.085018,
     "end_time": "2022-07-09T15:06:45.218716",
     "exception": false,
     "start_time": "2022-07-09T15:06:45.133698",
     "status": "completed"
    },
    "tags": []
   },
   "outputs": [],
   "source": [
    "# init s3 connector\n",
    "s3c = S3Communication(\n",
    "    s3_endpoint_url=os.getenv(\"S3_ENDPOINT\"),\n",
    "    aws_access_key_id=os.getenv(\"S3_LANDING_ACCESS_KEY\"),\n",
    "    aws_secret_access_key=os.getenv(\"S3_LANDING_SECRET_KEY\"),\n",
    "    s3_bucket=os.getenv(\"S3_BUCKET\"),\n",
    ")"
   ]
  },
  {
   "cell_type": "code",
   "execution_count": 4,
   "id": "75d26d30-1ec1-4343-a551-d0b27f825909",
   "metadata": {
    "papermill": {
     "duration": 0.010279,
     "end_time": "2022-07-09T15:06:45.233227",
     "exception": false,
     "start_time": "2022-07-09T15:06:45.222948",
     "status": "completed"
    },
    "tags": []
   },
   "outputs": [],
   "source": [
    "infer_config = InferConfig(\"infer_demo\")"
   ]
  },
  {
   "cell_type": "code",
   "execution_count": 5,
   "id": "88d46b7b-f93a-4b2b-a631-39c05cbf81f0",
   "metadata": {
    "papermill": {
     "duration": 7.639293,
     "end_time": "2022-07-09T15:06:52.876386",
     "exception": false,
     "start_time": "2022-07-09T15:06:45.237093",
     "status": "completed"
    },
    "tags": []
   },
   "outputs": [],
   "source": [
    "# When running in Automation using Elyra and Kubeflow Pipelines,\n",
    "# set AUTOMATION = 1 as an environment variable\n",
    "if os.getenv(\"AUTOMATION\"):\n",
    "    # extracted pdfs\n",
    "    if not os.path.exists(config.BASE_EXTRACTION_FOLDER):\n",
    "        config.BASE_EXTRACTION_FOLDER.mkdir(parents=True, exist_ok=True)\n",
    "\n",
    "    # inference results dir\n",
    "    if not os.path.exists(infer_config.result_dir['Text']):\n",
    "        pathlib.Path(infer_config.result_dir['Text']).mkdir(parents=True, exist_ok=True)\n",
    "\n",
    "    # load dir\n",
    "    if not os.path.exists(infer_config.load_dir['Text']):\n",
    "        pathlib.Path(infer_config.load_dir['Text']).mkdir(parents=True, exist_ok=True)\n",
    "\n",
    "    # download extracted pdfs from s3\n",
    "    s3c.download_files_in_prefix_to_dir(\n",
    "        config.BASE_EXTRACTION_S3_PREFIX,\n",
    "        config.BASE_EXTRACTION_FOLDER,\n",
    "    )"
   ]
  },
  {
   "cell_type": "code",
   "execution_count": 6,
   "id": "62fa59b1-4fc0-4e03-8d0b-9066d0643bbe",
   "metadata": {
    "papermill": {
     "duration": 0.011663,
     "end_time": "2022-07-09T15:06:52.892846",
     "exception": false,
     "start_time": "2022-07-09T15:06:52.881183",
     "status": "completed"
    },
    "tags": []
   },
   "outputs": [],
   "source": [
    "model_root = pathlib.Path(infer_config.load_dir['Text']).parent\n",
    "model_zfilename = \"RELEVANCE.zip\"\n",
    "\n",
    "model_rel_zip = pathlib.Path(model_root, model_zfilename)\n",
    "\n",
    "# Do we really need to download RELEVANCE.zip each and every time?\n",
    "if False and not exists(model_rel_zip):\n",
    "    s3c.download_file_from_s3(model_rel_zip, config.CHECKPOINT_S3_PREFIX, model_zfilename)\n",
    "\n",
    "    with zipfile.ZipFile(model_rel_zip, 'r') as z:\n",
    "        z.extractall(model_root)"
   ]
  },
  {
   "cell_type": "markdown",
   "id": "caf22ac3-2a27-40ce-a59f-e1b7c96089af",
   "metadata": {
    "papermill": {
     "duration": 0.003807,
     "end_time": "2022-07-09T15:06:52.900475",
     "exception": false,
     "start_time": "2022-07-09T15:06:52.896668",
     "status": "completed"
    },
    "tags": []
   },
   "source": [
    "However, we advise that you manually update the parameters in the corresponding config file\n",
    "\n",
    "`esg_data_pipeline/config/config_farm_trainer.py`"
   ]
  },
  {
   "cell_type": "markdown",
   "id": "32da3ba2-6a6c-459f-be90-cd6ede593f47",
   "metadata": {
    "papermill": {
     "duration": 0.003743,
     "end_time": "2022-07-09T15:06:52.908193",
     "exception": false,
     "start_time": "2022-07-09T15:06:52.904450",
     "status": "completed"
    },
    "tags": []
   },
   "source": [
    "## Inference"
   ]
  },
  {
   "cell_type": "markdown",
   "id": "d9d8dfe2-5b84-4b2a-ae90-03d14a2807a9",
   "metadata": {
    "papermill": {
     "duration": 0.003786,
     "end_time": "2022-07-09T15:06:52.915832",
     "exception": false,
     "start_time": "2022-07-09T15:06:52.912046",
     "status": "completed"
    },
    "tags": []
   },
   "source": [
    "### Loading the model"
   ]
  },
  {
   "cell_type": "markdown",
   "id": "750dcc9b-fd03-4f7e-91cc-f7350897ba43",
   "metadata": {
    "papermill": {
     "duration": 0.003921,
     "end_time": "2022-07-09T15:06:52.923606",
     "exception": false,
     "start_time": "2022-07-09T15:06:52.919685",
     "status": "completed"
    },
    "tags": []
   },
   "source": [
    "The following cell will load the trained model."
   ]
  },
  {
   "cell_type": "code",
   "execution_count": 7,
   "id": "394e543f-507b-4450-9493-f9e734186972",
   "metadata": {
    "papermill": {
     "duration": 0.010756,
     "end_time": "2022-07-09T15:06:52.938219",
     "exception": false,
     "start_time": "2022-07-09T15:06:52.927463",
     "status": "completed"
    },
    "tags": []
   },
   "outputs": [
    {
     "name": "stdout",
     "output_type": "stream",
     "text": [
      "{'Text': '/opt/app-root/src/aicoe-osc-demo/models/RELEVANCE'}\n",
      "/opt/app-root/src/aicoe-osc-demo/data/extraction\n",
      "{'Text': '/opt/app-root/src/aicoe-osc-demo/data/infer_relevance'}\n"
     ]
    }
   ],
   "source": [
    "print(infer_config.load_dir)\n",
    "print(infer_config.extracted_dir)\n",
    "print(infer_config.result_dir)"
   ]
  },
  {
   "cell_type": "code",
   "execution_count": 9,
   "id": "04a68cfa-d266-4846-9802-bbfb38376720",
   "metadata": {
    "papermill": {
     "duration": 0.061695,
     "end_time": "2022-07-09T15:06:53.003858",
     "exception": false,
     "start_time": "2022-07-09T15:06:52.942163",
     "status": "completed"
    },
    "tags": []
   },
   "outputs": [
    {
     "data": {
      "text/html": [
       "<div>\n",
       "<style scoped>\n",
       "    .dataframe tbody tr th:only-of-type {\n",
       "        vertical-align: middle;\n",
       "    }\n",
       "\n",
       "    .dataframe tbody tr th {\n",
       "        vertical-align: top;\n",
       "    }\n",
       "\n",
       "    .dataframe thead th {\n",
       "        text-align: right;\n",
       "    }\n",
       "</style>\n",
       "<table border=\"1\" class=\"dataframe\">\n",
       "  <thead>\n",
       "    <tr style=\"text-align: right;\">\n",
       "      <th></th>\n",
       "      <th>kpi_id</th>\n",
       "      <th>question</th>\n",
       "      <th>sectors</th>\n",
       "      <th>add_year</th>\n",
       "      <th>kpi_category</th>\n",
       "    </tr>\n",
       "  </thead>\n",
       "  <tbody>\n",
       "    <tr>\n",
       "      <th>0</th>\n",
       "      <td>1</td>\n",
       "      <td>What is the company name?</td>\n",
       "      <td>OG, CM, CU</td>\n",
       "      <td>False</td>\n",
       "      <td>TEXT</td>\n",
       "    </tr>\n",
       "    <tr>\n",
       "      <th>1</th>\n",
       "      <td>2</td>\n",
       "      <td>What is the Start Date of the CDP report publi...</td>\n",
       "      <td>OG, CM, CU</td>\n",
       "      <td>True</td>\n",
       "      <td>TEXT</td>\n",
       "    </tr>\n",
       "    <tr>\n",
       "      <th>2</th>\n",
       "      <td>3</td>\n",
       "      <td>What is the End Date of the CDP report published?</td>\n",
       "      <td>OG, CM, CU</td>\n",
       "      <td>True</td>\n",
       "      <td>TEXT</td>\n",
       "    </tr>\n",
       "    <tr>\n",
       "      <th>3</th>\n",
       "      <td>4</td>\n",
       "      <td>What is the currency used for all financial in...</td>\n",
       "      <td>OG, CM, CU</td>\n",
       "      <td>False</td>\n",
       "      <td>TEXT</td>\n",
       "    </tr>\n",
       "    <tr>\n",
       "      <th>4</th>\n",
       "      <td>5</td>\n",
       "      <td>Did you have an emissions target that was acti...</td>\n",
       "      <td>OG, CM, CU</td>\n",
       "      <td>True</td>\n",
       "      <td>TEXT</td>\n",
       "    </tr>\n",
       "  </tbody>\n",
       "</table>\n",
       "</div>"
      ],
      "text/plain": [
       "   kpi_id                                           question     sectors  \\\n",
       "0       1                          What is the company name?  OG, CM, CU   \n",
       "1       2  What is the Start Date of the CDP report publi...  OG, CM, CU   \n",
       "2       3  What is the End Date of the CDP report published?  OG, CM, CU   \n",
       "3       4  What is the currency used for all financial in...  OG, CM, CU   \n",
       "4       5  Did you have an emissions target that was acti...  OG, CM, CU   \n",
       "\n",
       "   add_year kpi_category  \n",
       "0     False         TEXT  \n",
       "1      True         TEXT  \n",
       "2      True         TEXT  \n",
       "3     False         TEXT  \n",
       "4      True         TEXT  "
      ]
     },
     "execution_count": 9,
     "metadata": {},
     "output_type": "execute_result"
    }
   ],
   "source": [
    "kpi_df = s3c.download_df_from_s3(\n",
    "    f\"{config.EXPERIMENT_NAME}/kpi_mapping\",\n",
    "    config.KPI_MAPPING_CSV,\n",
    "    filetype=S3FileType.CSV,\n",
    "    header=0,\n",
    ")\n",
    "kpi_df.head()"
   ]
  },
  {
   "cell_type": "markdown",
   "id": "31eb81b6",
   "metadata": {
    "tags": [
     "papermill-error-cell-tag"
    ]
   },
   "source": [
    "<span id=\"papermill-error-cell\" style=\"color:red; font-family:Helvetica Neue, Helvetica, Arial, sans-serif; font-size:2em;\">Execution using papermill encountered an exception here and stopped:</span>"
   ]
  },
  {
   "cell_type": "code",
   "execution_count": 10,
   "id": "992f3875-85dc-4bf2-ac01-59c107142de3",
   "metadata": {
    "papermill": {
     "duration": 0.685184,
     "end_time": "2022-07-09T15:06:53.693773",
     "exception": true,
     "start_time": "2022-07-09T15:06:53.008589",
     "status": "failed"
    },
    "scrolled": true,
    "tags": []
   },
   "outputs": [
    {
     "name": "stderr",
     "output_type": "stream",
     "text": [
      "07/10/2022 01:50:28 - WARNING - farm.modeling.prediction_head -   `layer_dims` will be deprecated in future releases\n",
      "/opt/app-root/lib64/python3.8/site-packages/transformers/tokenization_utils.py:458: FutureWarning: `is_pretokenized` is deprecated and will be removed in a future version, use `is_split_into_words` instead.\n",
      "  warnings.warn(\n",
      "/opt/app-root/lib64/python3.8/site-packages/transformers/tokenization_utils.py:458: FutureWarning: `is_pretokenized` is deprecated and will be removed in a future version, use `is_split_into_words` instead.\n",
      "  warnings.warn(\n",
      "/opt/app-root/lib64/python3.8/site-packages/transformers/tokenization_utils.py:458: FutureWarning: `is_pretokenized` is deprecated and will be removed in a future version, use `is_split_into_words` instead.\n",
      "  warnings.warn(\n",
      "/opt/app-root/lib64/python3.8/site-packages/transformers/tokenization_utils.py:458: FutureWarning: `is_pretokenized` is deprecated and will be removed in a future version, use `is_split_into_words` instead.\n",
      "  warnings.warn(\n",
      "/opt/app-root/lib64/python3.8/site-packages/transformers/tokenization_utils.py:458: FutureWarning: `is_pretokenized` is deprecated and will be removed in a future version, use `is_split_into_words` instead.\n",
      "  warnings.warn(\n",
      "/opt/app-root/lib64/python3.8/site-packages/transformers/tokenization_utils.py:458: FutureWarning: `is_pretokenized` is deprecated and will be removed in a future version, use `is_split_into_words` instead.\n",
      "  warnings.warn(\n",
      "/opt/app-root/lib64/python3.8/site-packages/transformers/tokenization_utils.py:458: FutureWarning: `is_pretokenized` is deprecated and will be removed in a future version, use `is_split_into_words` instead.\n",
      "  warnings.warn(\n"
     ]
    }
   ],
   "source": [
    "component = TextRelevanceInfer(infer_config, kpi_df)"
   ]
  },
  {
   "cell_type": "markdown",
   "id": "a51bdd61-ed72-491b-bf92-d3006761f3ba",
   "metadata": {
    "papermill": {
     "duration": null,
     "end_time": null,
     "exception": null,
     "start_time": null,
     "status": "pending"
    },
    "tags": []
   },
   "source": [
    "### Prediction on a Single Example"
   ]
  },
  {
   "cell_type": "code",
   "execution_count": 11,
   "id": "0522d7ba-538b-4503-8f11-2decbcb78244",
   "metadata": {
    "papermill": {
     "duration": null,
     "end_time": null,
     "exception": null,
     "start_time": null,
     "status": "pending"
    },
    "scrolled": true,
    "tags": []
   },
   "outputs": [
    {
     "data": {
      "text/plain": [
       "[{'task': 'text_classification',\n",
       "  'predictions': [{'start': None,\n",
       "    'end': None,\n",
       "    'context': 'Is the company going to go green?|The company is going to reduce 8% in gas production',\n",
       "    'label': '1',\n",
       "    'probability': 0.7343753}]}]"
      ]
     },
     "execution_count": 11,
     "metadata": {},
     "output_type": "execute_result"
    }
   ],
   "source": [
    "input_text = \"The company is going to reduce 8% in gas production\"\n",
    "input_question = \"Is the company going to go green?\"\n",
    "component.run_text(input_text=input_text, input_question=input_question)"
   ]
  },
  {
   "cell_type": "code",
   "execution_count": 12,
   "id": "83c465be-fd3b-4e31-9561-8d9a14fe22bd",
   "metadata": {
    "papermill": {
     "duration": null,
     "end_time": null,
     "exception": null,
     "start_time": null,
     "status": "pending"
    },
    "tags": []
   },
   "outputs": [
    {
     "data": {
      "text/plain": [
       "[{'task': 'text_classification',\n",
       "  'predictions': [{'start': None,\n",
       "    'end': None,\n",
       "    'context': 'Is the company going to go green?|The company is about semi conductors',\n",
       "    'label': '0',\n",
       "    'probability': 0.9893261}]}]"
      ]
     },
     "execution_count": 12,
     "metadata": {},
     "output_type": "execute_result"
    }
   ],
   "source": [
    "input_text = \"The company is about semi conductors\"\n",
    "input_question = \"Is the company going to go green?\"\n",
    "component.run_text(input_text=input_text, input_question=input_question)"
   ]
  },
  {
   "cell_type": "markdown",
   "id": "bd60bba1-2a06-4067-baf0-04dd4220bc38",
   "metadata": {
    "papermill": {
     "duration": null,
     "end_time": null,
     "exception": null,
     "start_time": null,
     "status": "pending"
    },
    "tags": []
   },
   "source": [
    "### Prediction on an Entire Folder"
   ]
  },
  {
   "cell_type": "markdown",
   "id": "924a1b23-011c-40e9-b04a-a8ce9fd896fb",
   "metadata": {
    "papermill": {
     "duration": null,
     "end_time": null,
     "exception": null,
     "start_time": null,
     "status": "pending"
    },
    "tags": []
   },
   "source": [
    "`run_folder()` will make prediction on all the JSON files in the /data/extraction folder. This will take some time, based on the number of json files."
   ]
  },
  {
   "cell_type": "code",
   "execution_count": 13,
   "id": "461d2c9f-be3a-4856-a956-d6d0f5694574",
   "metadata": {
    "papermill": {
     "duration": null,
     "end_time": null,
     "exception": null,
     "start_time": null,
     "status": "pending"
    },
    "scrolled": true,
    "tags": []
   },
   "outputs": [
    {
     "name": "stderr",
     "output_type": "stream",
     "text": [
      "07/10/2022 01:50:45 - INFO - src.models.relevance_infer -   #################### Starting Relevence Inference for the following extracted pdf files found in /opt/app-root/src/aicoe-osc-demo/data/infer_relevance:\n",
      "['2020-cdp-climate-response-checkpoint', '2020-cdp-climate-response', 'Adobe_CDP_Climate_Change_Questionnaire_2021', 'Apple_CDP-Climate-Change-Questionnaire_2021', 'Bayer AG Climate Change 2021', 'Corning_Incorporated_CDP_Climate_Change_Questionnaire_2021_FINAL', 'Michelin-CDP-Climate-Change-2021_def', 'NextEra Energy 2021 CDP Response', 'PGE_Corporation_CDP_Climate_Change_Questionnaire_2021', 'Unilever CDP Climate Response', 'bp-cdp-climate-change-questionnaire-2021', 'gap_inc-_cdp_climate_change_questionnaire_2021', 'sustainability-report-2019', 'vodafone-group-cdp-climate-change-questionnaire2021'] \n",
      "07/10/2022 01:50:45 - INFO - src.models.relevance_infer -   #################### 1/14 PDFs\n",
      "07/10/2022 01:50:45 - INFO - src.models.relevance_infer -   Running inference for 2020-cdp-climate-response-checkpoint:\n",
      "07/10/2022 01:50:45 - INFO - src.models.relevance_infer -   ###### Received 782 examples for Text, number of questions: 34\n",
      "07/10/2022 01:58:14 - INFO - src.models.relevance_infer -   Saved 1719 relevant Text examples for 2020-cdp-climate-response-checkpoint in /opt/app-root/src/aicoe-osc-demo/data/infer_relevance/2020-cdp-climate-response-checkpoint_predictions_relevant.csv\n",
      "07/10/2022 01:58:14 - INFO - src.models.relevance_infer -   #################### 2/14 PDFs\n",
      "07/10/2022 01:58:14 - INFO - src.models.relevance_infer -   Running inference for 2020-cdp-climate-response:\n",
      "07/10/2022 01:58:14 - INFO - src.models.relevance_infer -   ###### Received 782 examples for Text, number of questions: 34\n",
      "07/10/2022 02:05:25 - INFO - src.models.relevance_infer -   Saved 1719 relevant Text examples for 2020-cdp-climate-response in /opt/app-root/src/aicoe-osc-demo/data/infer_relevance/2020-cdp-climate-response_predictions_relevant.csv\n",
      "07/10/2022 02:05:25 - INFO - src.models.relevance_infer -   #################### 3/14 PDFs\n",
      "07/10/2022 02:05:25 - INFO - src.models.relevance_infer -   Running inference for Adobe_CDP_Climate_Change_Questionnaire_2021:\n",
      "07/10/2022 02:05:25 - INFO - src.models.relevance_infer -   ###### Received 825 examples for Text, number of questions: 34\n",
      "07/10/2022 02:12:43 - INFO - src.models.relevance_infer -   Saved 2440 relevant Text examples for Adobe_CDP_Climate_Change_Questionnaire_2021 in /opt/app-root/src/aicoe-osc-demo/data/infer_relevance/Adobe_CDP_Climate_Change_Questionnaire_2021_predictions_relevant.csv\n",
      "07/10/2022 02:12:43 - INFO - src.models.relevance_infer -   #################### 4/14 PDFs\n",
      "07/10/2022 02:12:43 - INFO - src.models.relevance_infer -   Running inference for Apple_CDP-Climate-Change-Questionnaire_2021:\n",
      "07/10/2022 02:12:43 - INFO - src.models.relevance_infer -   ###### Received 682 examples for Text, number of questions: 34\n",
      "07/10/2022 02:19:14 - INFO - src.models.relevance_infer -   Saved 1457 relevant Text examples for Apple_CDP-Climate-Change-Questionnaire_2021 in /opt/app-root/src/aicoe-osc-demo/data/infer_relevance/Apple_CDP-Climate-Change-Questionnaire_2021_predictions_relevant.csv\n",
      "07/10/2022 02:19:14 - INFO - src.models.relevance_infer -   #################### 5/14 PDFs\n",
      "07/10/2022 02:19:14 - INFO - src.models.relevance_infer -   Running inference for Bayer AG Climate Change 2021:\n",
      "07/10/2022 02:19:14 - INFO - src.models.relevance_infer -   ###### Received 987 examples for Text, number of questions: 34\n",
      "07/10/2022 02:28:42 - INFO - src.models.relevance_infer -   Saved 2703 relevant Text examples for Bayer AG Climate Change 2021 in /opt/app-root/src/aicoe-osc-demo/data/infer_relevance/Bayer AG Climate Change 2021_predictions_relevant.csv\n",
      "07/10/2022 02:28:42 - INFO - src.models.relevance_infer -   #################### 6/14 PDFs\n",
      "07/10/2022 02:28:42 - INFO - src.models.relevance_infer -   Running inference for Corning_Incorporated_CDP_Climate_Change_Questionnaire_2021_FINAL:\n",
      "07/10/2022 02:28:42 - INFO - src.models.relevance_infer -   ###### Received 546 examples for Text, number of questions: 34\n",
      "07/10/2022 02:33:07 - INFO - src.models.relevance_infer -   Saved 1133 relevant Text examples for Corning_Incorporated_CDP_Climate_Change_Questionnaire_2021_FINAL in /opt/app-root/src/aicoe-osc-demo/data/infer_relevance/Corning_Incorporated_CDP_Climate_Change_Questionnaire_2021_FINAL_predictions_relevant.csv\n",
      "07/10/2022 02:33:07 - INFO - src.models.relevance_infer -   #################### 7/14 PDFs\n",
      "07/10/2022 02:33:07 - INFO - src.models.relevance_infer -   Running inference for Michelin-CDP-Climate-Change-2021_def:\n",
      "07/10/2022 02:33:07 - INFO - src.models.relevance_infer -   ###### Received 1315 examples for Text, number of questions: 34\n",
      "07/10/2022 02:46:03 - INFO - src.models.relevance_infer -   Saved 2600 relevant Text examples for Michelin-CDP-Climate-Change-2021_def in /opt/app-root/src/aicoe-osc-demo/data/infer_relevance/Michelin-CDP-Climate-Change-2021_def_predictions_relevant.csv\n",
      "07/10/2022 02:46:03 - INFO - src.models.relevance_infer -   #################### 8/14 PDFs\n",
      "07/10/2022 02:46:03 - INFO - src.models.relevance_infer -   The relevance infer results for NextEra Energy 2021 CDP Response already exists. Skipping.\n",
      "07/10/2022 02:46:03 - INFO - src.models.relevance_infer -   If you would like to re-process the already processed files, set `skip_processed_files` to False in the config file. \n",
      "07/10/2022 02:46:03 - INFO - src.models.relevance_infer -   #################### 9/14 PDFs\n",
      "07/10/2022 02:46:03 - INFO - src.models.relevance_infer -   Running inference for PGE_Corporation_CDP_Climate_Change_Questionnaire_2021:\n",
      "07/10/2022 02:46:03 - INFO - src.models.relevance_infer -   ###### Received 1184 examples for Text, number of questions: 34\n",
      "07/10/2022 02:56:41 - INFO - src.models.relevance_infer -   Saved 3059 relevant Text examples for PGE_Corporation_CDP_Climate_Change_Questionnaire_2021 in /opt/app-root/src/aicoe-osc-demo/data/infer_relevance/PGE_Corporation_CDP_Climate_Change_Questionnaire_2021_predictions_relevant.csv\n",
      "07/10/2022 02:56:41 - INFO - src.models.relevance_infer -   #################### 10/14 PDFs\n",
      "07/10/2022 02:56:41 - INFO - src.models.relevance_infer -   Running inference for Unilever CDP Climate Response:\n",
      "07/10/2022 02:56:41 - INFO - src.models.relevance_infer -   ###### Received 1734 examples for Text, number of questions: 34\n",
      "07/10/2022 03:11:01 - INFO - src.models.relevance_infer -   Saved 3493 relevant Text examples for Unilever CDP Climate Response in /opt/app-root/src/aicoe-osc-demo/data/infer_relevance/Unilever CDP Climate Response_predictions_relevant.csv\n",
      "07/10/2022 03:11:01 - INFO - src.models.relevance_infer -   #################### 11/14 PDFs\n",
      "07/10/2022 03:11:01 - INFO - src.models.relevance_infer -   Running inference for bp-cdp-climate-change-questionnaire-2021:\n",
      "07/10/2022 03:11:01 - INFO - src.models.relevance_infer -   ###### Received 1094 examples for Text, number of questions: 34\n",
      "07/10/2022 03:21:23 - INFO - src.models.relevance_infer -   Saved 3005 relevant Text examples for bp-cdp-climate-change-questionnaire-2021 in /opt/app-root/src/aicoe-osc-demo/data/infer_relevance/bp-cdp-climate-change-questionnaire-2021_predictions_relevant.csv\n",
      "07/10/2022 03:21:23 - INFO - src.models.relevance_infer -   #################### 12/14 PDFs\n",
      "07/10/2022 03:21:23 - INFO - src.models.relevance_infer -   Running inference for gap_inc-_cdp_climate_change_questionnaire_2021:\n",
      "07/10/2022 03:21:23 - INFO - src.models.relevance_infer -   ###### Received 591 examples for Text, number of questions: 34\n",
      "07/10/2022 03:26:27 - INFO - src.models.relevance_infer -   Saved 1362 relevant Text examples for gap_inc-_cdp_climate_change_questionnaire_2021 in /opt/app-root/src/aicoe-osc-demo/data/infer_relevance/gap_inc-_cdp_climate_change_questionnaire_2021_predictions_relevant.csv\n",
      "07/10/2022 03:26:27 - INFO - src.models.relevance_infer -   #################### 13/14 PDFs\n",
      "07/10/2022 03:26:27 - INFO - src.models.relevance_infer -   Running inference for sustainability-report-2019:\n",
      "07/10/2022 03:26:27 - INFO - src.models.relevance_infer -   ###### Received 726 examples for Text, number of questions: 34\n",
      "07/10/2022 03:33:26 - INFO - src.models.relevance_infer -   Saved 742 relevant Text examples for sustainability-report-2019 in /opt/app-root/src/aicoe-osc-demo/data/infer_relevance/sustainability-report-2019_predictions_relevant.csv\n",
      "07/10/2022 03:33:26 - INFO - src.models.relevance_infer -   #################### 14/14 PDFs\n",
      "07/10/2022 03:33:26 - INFO - src.models.relevance_infer -   Running inference for vodafone-group-cdp-climate-change-questionnaire2021:\n",
      "07/10/2022 03:33:26 - INFO - src.models.relevance_infer -   ###### Received 1040 examples for Text, number of questions: 34\n",
      "07/10/2022 03:42:26 - INFO - src.models.relevance_infer -   Saved 3748 relevant Text examples for vodafone-group-cdp-climate-change-questionnaire2021 in /opt/app-root/src/aicoe-osc-demo/data/infer_relevance/vodafone-group-cdp-climate-change-questionnaire2021_predictions_relevant.csv\n"
     ]
    },
    {
     "data": {
      "text/html": [
       "<div>\n",
       "<style scoped>\n",
       "    .dataframe tbody tr th:only-of-type {\n",
       "        vertical-align: middle;\n",
       "    }\n",
       "\n",
       "    .dataframe tbody tr th {\n",
       "        vertical-align: top;\n",
       "    }\n",
       "\n",
       "    .dataframe thead th {\n",
       "        text-align: right;\n",
       "    }\n",
       "</style>\n",
       "<table border=\"1\" class=\"dataframe\">\n",
       "  <thead>\n",
       "    <tr style=\"text-align: right;\">\n",
       "      <th></th>\n",
       "      <th>page</th>\n",
       "      <th>pdf_name</th>\n",
       "      <th>text</th>\n",
       "      <th>text_b</th>\n",
       "      <th>source</th>\n",
       "    </tr>\n",
       "  </thead>\n",
       "  <tbody>\n",
       "    <tr>\n",
       "      <th>0</th>\n",
       "      <td>0</td>\n",
       "      <td>2020-cdp-climate-response-checkpoint</td>\n",
       "      <td>What is the company name?</td>\n",
       "      <td>The Coca-Cola Company - Climate Change 2020</td>\n",
       "      <td>Text</td>\n",
       "    </tr>\n",
       "    <tr>\n",
       "      <th>1</th>\n",
       "      <td>0</td>\n",
       "      <td>2020-cdp-climate-response-checkpoint</td>\n",
       "      <td>What is the company name?</td>\n",
       "      <td>The Coca-Cola Company (NYSE: KO) is here to re...</td>\n",
       "      <td>Text</td>\n",
       "    </tr>\n",
       "    <tr>\n",
       "      <th>2</th>\n",
       "      <td>0</td>\n",
       "      <td>2020-cdp-climate-response-checkpoint</td>\n",
       "      <td>What is the company name?</td>\n",
       "      <td>The Coca-Cola Company is a total beverage comp...</td>\n",
       "      <td>Text</td>\n",
       "    </tr>\n",
       "    <tr>\n",
       "      <th>3</th>\n",
       "      <td>0</td>\n",
       "      <td>2020-cdp-climate-response-checkpoint</td>\n",
       "      <td>What is the company name?</td>\n",
       "      <td>Together with our approximately 225 bottling p...</td>\n",
       "      <td>Text</td>\n",
       "    </tr>\n",
       "    <tr>\n",
       "      <th>4</th>\n",
       "      <td>2</td>\n",
       "      <td>2020-cdp-climate-response-checkpoint</td>\n",
       "      <td>What is the company name?</td>\n",
       "      <td>Please explain At The Coca-Cola Company, we re...</td>\n",
       "      <td>Text</td>\n",
       "    </tr>\n",
       "    <tr>\n",
       "      <th>...</th>\n",
       "      <td>...</td>\n",
       "      <td>...</td>\n",
       "      <td>...</td>\n",
       "      <td>...</td>\n",
       "      <td>...</td>\n",
       "    </tr>\n",
       "    <tr>\n",
       "      <th>3743</th>\n",
       "      <td>75</td>\n",
       "      <td>vodafone-group-cdp-climate-change-questionnair...</td>\n",
       "      <td>Report your organization’s energy consumption ...</td>\n",
       "      <td>MWh consumed accounted for at a zero emission ...</td>\n",
       "      <td>Text</td>\n",
       "    </tr>\n",
       "    <tr>\n",
       "      <th>3744</th>\n",
       "      <td>76</td>\n",
       "      <td>vodafone-group-cdp-climate-change-questionnair...</td>\n",
       "      <td>Report your organization’s energy consumption ...</td>\n",
       "      <td>MWh consumed accounted for at a zero emission ...</td>\n",
       "      <td>Text</td>\n",
       "    </tr>\n",
       "    <tr>\n",
       "      <th>3745</th>\n",
       "      <td>76</td>\n",
       "      <td>vodafone-group-cdp-climate-change-questionnair...</td>\n",
       "      <td>Report your organization’s energy consumption ...</td>\n",
       "      <td>MWh consumed accounted for at a zero emission ...</td>\n",
       "      <td>Text</td>\n",
       "    </tr>\n",
       "    <tr>\n",
       "      <th>3746</th>\n",
       "      <td>76</td>\n",
       "      <td>vodafone-group-cdp-climate-change-questionnair...</td>\n",
       "      <td>Report your organization’s energy consumption ...</td>\n",
       "      <td>MWh consumed accounted for at a zero emission ...</td>\n",
       "      <td>Text</td>\n",
       "    </tr>\n",
       "    <tr>\n",
       "      <th>3747</th>\n",
       "      <td>77</td>\n",
       "      <td>vodafone-group-cdp-climate-change-questionnair...</td>\n",
       "      <td>Report your organization’s energy consumption ...</td>\n",
       "      <td>MWh consumed accounted for at a zero emission ...</td>\n",
       "      <td>Text</td>\n",
       "    </tr>\n",
       "  </tbody>\n",
       "</table>\n",
       "<p>29180 rows × 5 columns</p>\n",
       "</div>"
      ],
      "text/plain": [
       "     page                                           pdf_name  \\\n",
       "0       0               2020-cdp-climate-response-checkpoint   \n",
       "1       0               2020-cdp-climate-response-checkpoint   \n",
       "2       0               2020-cdp-climate-response-checkpoint   \n",
       "3       0               2020-cdp-climate-response-checkpoint   \n",
       "4       2               2020-cdp-climate-response-checkpoint   \n",
       "...   ...                                                ...   \n",
       "3743   75  vodafone-group-cdp-climate-change-questionnair...   \n",
       "3744   76  vodafone-group-cdp-climate-change-questionnair...   \n",
       "3745   76  vodafone-group-cdp-climate-change-questionnair...   \n",
       "3746   76  vodafone-group-cdp-climate-change-questionnair...   \n",
       "3747   77  vodafone-group-cdp-climate-change-questionnair...   \n",
       "\n",
       "                                                   text  \\\n",
       "0                             What is the company name?   \n",
       "1                             What is the company name?   \n",
       "2                             What is the company name?   \n",
       "3                             What is the company name?   \n",
       "4                             What is the company name?   \n",
       "...                                                 ...   \n",
       "3743  Report your organization’s energy consumption ...   \n",
       "3744  Report your organization’s energy consumption ...   \n",
       "3745  Report your organization’s energy consumption ...   \n",
       "3746  Report your organization’s energy consumption ...   \n",
       "3747  Report your organization’s energy consumption ...   \n",
       "\n",
       "                                                 text_b source  \n",
       "0           The Coca-Cola Company - Climate Change 2020   Text  \n",
       "1     The Coca-Cola Company (NYSE: KO) is here to re...   Text  \n",
       "2     The Coca-Cola Company is a total beverage comp...   Text  \n",
       "3     Together with our approximately 225 bottling p...   Text  \n",
       "4     Please explain At The Coca-Cola Company, we re...   Text  \n",
       "...                                                 ...    ...  \n",
       "3743  MWh consumed accounted for at a zero emission ...   Text  \n",
       "3744  MWh consumed accounted for at a zero emission ...   Text  \n",
       "3745  MWh consumed accounted for at a zero emission ...   Text  \n",
       "3746  MWh consumed accounted for at a zero emission ...   Text  \n",
       "3747  MWh consumed accounted for at a zero emission ...   Text  \n",
       "\n",
       "[29180 rows x 5 columns]"
      ]
     },
     "execution_count": 13,
     "metadata": {},
     "output_type": "execute_result"
    }
   ],
   "source": [
    "component.run_folder()"
   ]
  },
  {
   "cell_type": "markdown",
   "id": "2d78421f-ace9-4c19-ab0f-65e31fabcd06",
   "metadata": {
    "papermill": {
     "duration": null,
     "end_time": null,
     "exception": null,
     "start_time": null,
     "status": "pending"
    },
    "tags": []
   },
   "source": [
    "The results are saved in a CSV. For each table, the extracted text, as well as the page number from the source pdf file are saved."
   ]
  },
  {
   "cell_type": "code",
   "execution_count": 14,
   "id": "4ef54093-09ae-4fb9-bb77-6d71693a01ea",
   "metadata": {
    "papermill": {
     "duration": null,
     "end_time": null,
     "exception": null,
     "start_time": null,
     "status": "pending"
    },
    "tags": []
   },
   "outputs": [
    {
     "name": "stdout",
     "output_type": "stream",
     "text": [
      "for file /opt/app-root/src/aicoe-osc-demo/data/infer_relevance/sustainability-report-2019_predictions_relevant.csv:\n",
      "    Unnamed: 0  page                    pdf_name                       text  \\\n",
      "0            0     1  sustainability-report-2019  What is the company name?   \n",
      "1            1     1  sustainability-report-2019  What is the company name?   \n",
      "2            2     1  sustainability-report-2019  What is the company name?   \n",
      "3            3     1  sustainability-report-2019  What is the company name?   \n",
      "4            4     1  sustainability-report-2019  What is the company name?   \n",
      "5            5     1  sustainability-report-2019  What is the company name?   \n",
      "6            6     1  sustainability-report-2019  What is the company name?   \n",
      "7            7     1  sustainability-report-2019  What is the company name?   \n",
      "8            8     1  sustainability-report-2019  What is the company name?   \n",
      "9            9     2  sustainability-report-2019  What is the company name?   \n",
      "10          10     3  sustainability-report-2019  What is the company name?   \n",
      "11          11     4  sustainability-report-2019  What is the company name?   \n",
      "12          12     4  sustainability-report-2019  What is the company name?   \n",
      "13          13     5  sustainability-report-2019  What is the company name?   \n",
      "14          14     8  sustainability-report-2019  What is the company name?   \n",
      "15          15    10  sustainability-report-2019  What is the company name?   \n",
      "16          16    10  sustainability-report-2019  What is the company name?   \n",
      "17          17    10  sustainability-report-2019  What is the company name?   \n",
      "18          18    10  sustainability-report-2019  What is the company name?   \n",
      "19          19    11  sustainability-report-2019  What is the company name?   \n",
      "\n",
      "                                               text_b source  \n",
      "0   Equinor supports the Paris agreement and a net...   Text  \n",
      "1   broad energy company is founded on a strong co...   Text  \n",
      "2   Equinor and partners reached a final investmen...   Text  \n",
      "3   awarded five major contracts. Equinor is posit...   Text  \n",
      "4   Equinor is a values-based company. How we deli...   Text  \n",
      "5   2019 marked the start-up of Johan Sverdrup – t...   Text  \n",
      "6   For almost 50 years, Equinor has dedicated its...   Text  \n",
      "7   Equinor is partnering with SSE Renewables to d...   Text  \n",
      "8     Equinor Sustainability report 2019Introduction    Text  \n",
      "9   We are Equinor, an international energy compan...   Text  \n",
      "10  Equinor.com For further information about sust...   Text  \n",
      "11          Sustainability is embedded in Equinor's:    Text  \n",
      "12  Equinor’s purpose is to turn natural resources...   Text  \n",
      "13    To be an industry leader in safety and security   Text  \n",
      "14  us. Equinor has low carbon as one of the main ...   Text  \n",
      "15  In 2019, Equinor reviewed its climate ambition...   Text  \n",
      "16  Equinor’s Climate Roadmap sets out new short-,...   Text  \n",
      "17  Equinor aims to reduce the CO₂ intensity of it...   Text  \n",
      "18  Equinor Sustainability report 2019 Equinor Sus...   Text  \n",
      "19  Global offshore wind major The past few years ...   Text  \n",
      "for file /opt/app-root/src/aicoe-osc-demo/data/infer_relevance/2020-cdp-climate-response_predictions_relevant.csv:\n",
      "    Unnamed: 0  page                   pdf_name                       text  \\\n",
      "0            0     0  2020-cdp-climate-response  What is the company name?   \n",
      "1            1     0  2020-cdp-climate-response  What is the company name?   \n",
      "2            2     0  2020-cdp-climate-response  What is the company name?   \n",
      "3            3     0  2020-cdp-climate-response  What is the company name?   \n",
      "4            4     2  2020-cdp-climate-response  What is the company name?   \n",
      "5            5     7  2020-cdp-climate-response  What is the company name?   \n",
      "6            6     7  2020-cdp-climate-response  What is the company name?   \n",
      "7            7    33  2020-cdp-climate-response  What is the company name?   \n",
      "8            8    34  2020-cdp-climate-response  What is the company name?   \n",
      "9            9    35  2020-cdp-climate-response  What is the company name?   \n",
      "10          10    35  2020-cdp-climate-response  What is the company name?   \n",
      "11          11    35  2020-cdp-climate-response  What is the company name?   \n",
      "12          12    36  2020-cdp-climate-response  What is the company name?   \n",
      "13          13    38  2020-cdp-climate-response  What is the company name?   \n",
      "14          14    38  2020-cdp-climate-response  What is the company name?   \n",
      "15          15    38  2020-cdp-climate-response  What is the company name?   \n",
      "16          16    47  2020-cdp-climate-response  What is the company name?   \n",
      "17          17    52  2020-cdp-climate-response  What is the company name?   \n",
      "18          18    52  2020-cdp-climate-response  What is the company name?   \n",
      "19          19    54  2020-cdp-climate-response  What is the company name?   \n",
      "\n",
      "                                               text_b source  \n",
      "0         The Coca-Cola Company - Climate Change 2020   Text  \n",
      "1   The Coca-Cola Company (NYSE: KO) is here to re...   Text  \n",
      "2   The Coca-Cola Company is a total beverage comp...   Text  \n",
      "3   Together with our approximately 225 bottling p...   Text  \n",
      "4   Please explain At The Coca-Cola Company, we re...   Text  \n",
      "5   At an enterprise level, The Coca-Cola Company ...   Text  \n",
      "6   At an enterprise level, The Coca-Cola Company ...   Text  \n",
      "7   Please explain At current, The Coca-Cola Compa...   Text  \n",
      "8   Please explain To the best of our knowledge, t...   Text  \n",
      "9   Please explain To the best of our knowledge, t...   Text  \n",
      "10  Please explain To the best of our knowledge, t...   Text  \n",
      "11  Please explain To the best of our knowledge, t...   Text  \n",
      "12  Please explain To the best of our knowledge, t...   Text  \n",
      "13     IPCC Fourth Assessment Report (AR4 - 100 year)   Text  \n",
      "14     IPCC Fourth Assessment Report (AR4 - 100 year)   Text  \n",
      "15     IPCC Fourth Assessment Report (AR4 - 100 year)   Text  \n",
      "16           Scope 2 (location-based or market-based)   Text  \n",
      "17           Management practice reference number MP1   Text  \n",
      "18  (C12.3a) On what issues have you been engaging...   Text  \n",
      "19  Attach the document coca-cola-business-and-sus...   Text  \n",
      "for file /opt/app-root/src/aicoe-osc-demo/data/infer_relevance/PGE_Corporation_CDP_Climate_Change_Questionnaire_2021_predictions_relevant.csv:\n",
      "    Unnamed: 0  page                                           pdf_name  \\\n",
      "0            0     0  PGE_Corporation_CDP_Climate_Change_Questionnai...   \n",
      "1            1     0  PGE_Corporation_CDP_Climate_Change_Questionnai...   \n",
      "2            2     0  PGE_Corporation_CDP_Climate_Change_Questionnai...   \n",
      "3            3     1  PGE_Corporation_CDP_Climate_Change_Questionnai...   \n",
      "4            4     2  PGE_Corporation_CDP_Climate_Change_Questionnai...   \n",
      "5            5     2  PGE_Corporation_CDP_Climate_Change_Questionnai...   \n",
      "6            6     3  PGE_Corporation_CDP_Climate_Change_Questionnai...   \n",
      "7            7     4  PGE_Corporation_CDP_Climate_Change_Questionnai...   \n",
      "8            8     4  PGE_Corporation_CDP_Climate_Change_Questionnai...   \n",
      "9            9     4  PGE_Corporation_CDP_Climate_Change_Questionnai...   \n",
      "10          10     5  PGE_Corporation_CDP_Climate_Change_Questionnai...   \n",
      "11          11     6  PGE_Corporation_CDP_Climate_Change_Questionnai...   \n",
      "12          12     7  PGE_Corporation_CDP_Climate_Change_Questionnai...   \n",
      "13          13     7  PGE_Corporation_CDP_Climate_Change_Questionnai...   \n",
      "14          14     8  PGE_Corporation_CDP_Climate_Change_Questionnai...   \n",
      "15          15     9  PGE_Corporation_CDP_Climate_Change_Questionnai...   \n",
      "16          16    10  PGE_Corporation_CDP_Climate_Change_Questionnai...   \n",
      "17          17    10  PGE_Corporation_CDP_Climate_Change_Questionnai...   \n",
      "18          18    11  PGE_Corporation_CDP_Climate_Change_Questionnai...   \n",
      "19          19    11  PGE_Corporation_CDP_Climate_Change_Questionnai...   \n",
      "\n",
      "                         text  \\\n",
      "0   What is the company name?   \n",
      "1   What is the company name?   \n",
      "2   What is the company name?   \n",
      "3   What is the company name?   \n",
      "4   What is the company name?   \n",
      "5   What is the company name?   \n",
      "6   What is the company name?   \n",
      "7   What is the company name?   \n",
      "8   What is the company name?   \n",
      "9   What is the company name?   \n",
      "10  What is the company name?   \n",
      "11  What is the company name?   \n",
      "12  What is the company name?   \n",
      "13  What is the company name?   \n",
      "14  What is the company name?   \n",
      "15  What is the company name?   \n",
      "16  What is the company name?   \n",
      "17  What is the company name?   \n",
      "18  What is the company name?   \n",
      "19  What is the company name?   \n",
      "\n",
      "                                               text_b source  \n",
      "0   PG&E Corporation CDP Climate Change Questionna...   Text  \n",
      "1   PG&E Corporation is a holding company whose co...   Text  \n",
      "2   California has long been at the forefront of f...   Text  \n",
      "3   PG&E Corporation CDP Climate Change Questionna...   Text  \n",
      "4   PG&E Corporation CDP Climate Change Questionna...   Text  \n",
      "5   Led by the Committee Chair, the Sustainability...   Text  \n",
      "6   PG&E Corporation CDP Climate Change Questionna...   Text  \n",
      "7   PG&E Corporation CDP Climate Change Questionna...   Text  \n",
      "8   Given the strategic nature of climate change t...   Text  \n",
      "9   PG&E Corporation’s Executive Vice President of...   Text  \n",
      "10  PG&E Corporation CDP Climate Change Questionna...   Text  \n",
      "11  PG&E Corporation CDP Climate Change Questionna...   Text  \n",
      "12  PG&E Corporation CDP Climate Change Questionna...   Text  \n",
      "13  Climate risks for PG&E are defined as those th...   Text  \n",
      "14  PG&E Corporation CDP Climate Change Questionna...   Text  \n",
      "15  PG&E Corporation CDP Climate Change Questionna...   Text  \n",
      "16  PG&E Corporation CDP Climate Change Questionna...   Text  \n",
      "17  PG&E is taking steps to align its gas business...   Text  \n",
      "18  PG&E Corporation CDP Climate Change Questionna...   Text  \n",
      "19  PG&E routinely analyzes how potential and emer...   Text  \n",
      "for file /opt/app-root/src/aicoe-osc-demo/data/infer_relevance/vodafone-group-cdp-climate-change-questionnaire2021_predictions_relevant.csv:\n",
      "    Unnamed: 0  page                                           pdf_name  \\\n",
      "0            0     0  vodafone-group-cdp-climate-change-questionnair...   \n",
      "1            1     0  vodafone-group-cdp-climate-change-questionnair...   \n",
      "2            2     1  vodafone-group-cdp-climate-change-questionnair...   \n",
      "3            3     2  vodafone-group-cdp-climate-change-questionnair...   \n",
      "4            4     2  vodafone-group-cdp-climate-change-questionnair...   \n",
      "5            5     3  vodafone-group-cdp-climate-change-questionnair...   \n",
      "6            6     4  vodafone-group-cdp-climate-change-questionnair...   \n",
      "7            7     5  vodafone-group-cdp-climate-change-questionnair...   \n",
      "8            8     6  vodafone-group-cdp-climate-change-questionnair...   \n",
      "9            9     7  vodafone-group-cdp-climate-change-questionnair...   \n",
      "10          10     8  vodafone-group-cdp-climate-change-questionnair...   \n",
      "11          11     9  vodafone-group-cdp-climate-change-questionnair...   \n",
      "12          12    10  vodafone-group-cdp-climate-change-questionnair...   \n",
      "13          13    11  vodafone-group-cdp-climate-change-questionnair...   \n",
      "14          14    11  vodafone-group-cdp-climate-change-questionnair...   \n",
      "15          15    12  vodafone-group-cdp-climate-change-questionnair...   \n",
      "16          16    12  vodafone-group-cdp-climate-change-questionnair...   \n",
      "17          17    13  vodafone-group-cdp-climate-change-questionnair...   \n",
      "18          18    13  vodafone-group-cdp-climate-change-questionnair...   \n",
      "19          19    14  vodafone-group-cdp-climate-change-questionnair...   \n",
      "\n",
      "                         text  \\\n",
      "0   What is the company name?   \n",
      "1   What is the company name?   \n",
      "2   What is the company name?   \n",
      "3   What is the company name?   \n",
      "4   What is the company name?   \n",
      "5   What is the company name?   \n",
      "6   What is the company name?   \n",
      "7   What is the company name?   \n",
      "8   What is the company name?   \n",
      "9   What is the company name?   \n",
      "10  What is the company name?   \n",
      "11  What is the company name?   \n",
      "12  What is the company name?   \n",
      "13  What is the company name?   \n",
      "14  What is the company name?   \n",
      "15  What is the company name?   \n",
      "16  What is the company name?   \n",
      "17  What is the company name?   \n",
      "18  What is the company name?   \n",
      "19  What is the company name?   \n",
      "\n",
      "                                               text_b source  \n",
      "0   Vodafone Group CDP Climate Change Questionnair...   Text  \n",
      "1   Vodafone is a leading telecommunications compa...   Text  \n",
      "2   Vodafone Group CDP Climate Change Questionnair...   Text  \n",
      "3   Vodafone Group CDP Climate Change Questionnair...   Text  \n",
      "4   The Board reviewed and approved Vodafone Group...   Text  \n",
      "5   Vodafone Group CDP Climate Change Questionnair...   Text  \n",
      "6   Vodafone Group CDP Climate Change Questionnair...   Text  \n",
      "7   Vodafone Group CDP Climate Change Questionnair...   Text  \n",
      "8   Vodafone Group CDP Climate Change Questionnair...   Text  \n",
      "9   Vodafone Group CDP Climate Change Questionnair...   Text  \n",
      "10  Vodafone Group CDP Climate Change Questionnair...   Text  \n",
      "11  Vodafone Group CDP Climate Change Questionnair...   Text  \n",
      "12  Vodafone Group CDP Climate Change Questionnair...   Text  \n",
      "13  Vodafone Group CDP Climate Change Questionnair...   Text  \n",
      "14             Direct operations Upstream Downstream    Text  \n",
      "15  Vodafone Group CDP Climate Change Questionnair...   Text  \n",
      "16  At Vodafone, we believe our approach to busine...   Text  \n",
      "17  Vodafone Group CDP Climate Change Questionnair...   Text  \n",
      "18  Summary Vodafone engages with national and mul...   Text  \n",
      "19  Vodafone Group CDP Climate Change Questionnair...   Text  \n",
      "for file /opt/app-root/src/aicoe-osc-demo/data/infer_relevance/Unilever CDP Climate Response_predictions_relevant.csv:\n",
      "    Unnamed: 0  page                       pdf_name  \\\n",
      "0            0     0  Unilever CDP Climate Response   \n",
      "1            1     0  Unilever CDP Climate Response   \n",
      "2            2     0  Unilever CDP Climate Response   \n",
      "3            3     1  Unilever CDP Climate Response   \n",
      "4            4     2  Unilever CDP Climate Response   \n",
      "5            5     3  Unilever CDP Climate Response   \n",
      "6            6     4  Unilever CDP Climate Response   \n",
      "7            7     5  Unilever CDP Climate Response   \n",
      "8            8     5  Unilever CDP Climate Response   \n",
      "9            9     5  Unilever CDP Climate Response   \n",
      "10          10     6  Unilever CDP Climate Response   \n",
      "11          11     6  Unilever CDP Climate Response   \n",
      "12          12     7  Unilever CDP Climate Response   \n",
      "13          13     8  Unilever CDP Climate Response   \n",
      "14          14     8  Unilever CDP Climate Response   \n",
      "15          15     9  Unilever CDP Climate Response   \n",
      "16          16    10  Unilever CDP Climate Response   \n",
      "17          17    11  Unilever CDP Climate Response   \n",
      "18          18    12  Unilever CDP Climate Response   \n",
      "19          19    12  Unilever CDP Climate Response   \n",
      "\n",
      "                         text  \\\n",
      "0   What is the company name?   \n",
      "1   What is the company name?   \n",
      "2   What is the company name?   \n",
      "3   What is the company name?   \n",
      "4   What is the company name?   \n",
      "5   What is the company name?   \n",
      "6   What is the company name?   \n",
      "7   What is the company name?   \n",
      "8   What is the company name?   \n",
      "9   What is the company name?   \n",
      "10  What is the company name?   \n",
      "11  What is the company name?   \n",
      "12  What is the company name?   \n",
      "13  What is the company name?   \n",
      "14  What is the company name?   \n",
      "15  What is the company name?   \n",
      "16  What is the company name?   \n",
      "17  What is the company name?   \n",
      "18  What is the company name?   \n",
      "19  What is the company name?   \n",
      "\n",
      "                                               text_b source  \n",
      "0   Unilever plc CDP Climate Change Questionnaire ...   Text  \n",
      "1   BACKGROUND Unilever makes and sells more than ...   Text  \n",
      "2   OUR PURPOSE Unilever’s purpose is to make sust...   Text  \n",
      "3   Unilever plc CDP Climate Change Questionnaire ...   Text  \n",
      "4   Unilever plc CDP Climate Change Questionnaire ...   Text  \n",
      "5   Unilever plc CDP Climate Change Questionnaire ...   Text  \n",
      "6   Unilever plc CDP Climate Change Questionnaire ...   Text  \n",
      "7   Unilever plc CDP Climate Change Questionnaire ...   Text  \n",
      "8   The Unilever Board delegates the running of Un...   Text  \n",
      "9   The CEO can delegate responsibilities to the U...   Text  \n",
      "10  Unilever plc CDP Climate Change Questionnaire ...   Text  \n",
      "11  Unilever’s Board has ultimate responsibility f...   Text  \n",
      "12  Unilever plc CDP Climate Change Questionnaire ...   Text  \n",
      "13  Unilever plc CDP Climate Change Questionnaire ...   Text  \n",
      "14  Our Chief Executive Officer (CEO) and Chief Fi...   Text  \n",
      "15  Unilever plc CDP Climate Change Questionnaire ...   Text  \n",
      "16  Unilever plc CDP Climate Change Questionnaire ...   Text  \n",
      "17  Unilever plc CDP Climate Change Questionnaire ...   Text  \n",
      "18  Unilever plc CDP Climate Change Questionnaire ...   Text  \n",
      "19             Direct operations Upstream Downstream    Text  \n",
      "and file /opt/app-root/src/aicoe-osc-demo/data/infer_relevance/gap_inc-_cdp_climate_change_questionnaire_2021_predictions_relevant.csv (len = 1362)\n",
      "and file /opt/app-root/src/aicoe-osc-demo/data/infer_relevance/Corning_Incorporated_CDP_Climate_Change_Questionnaire_2021_FINAL_predictions_relevant.csv (len = 1133)\n",
      "and file /opt/app-root/src/aicoe-osc-demo/data/infer_relevance/Michelin-CDP-Climate-Change-2021_def_predictions_relevant.csv (len = 2600)\n",
      "and file /opt/app-root/src/aicoe-osc-demo/data/infer_relevance/bp-cdp-climate-change-questionnaire-2021_predictions_relevant.csv (len = 3005)\n",
      "and file /opt/app-root/src/aicoe-osc-demo/data/infer_relevance/Adobe_CDP_Climate_Change_Questionnaire_2021_predictions_relevant.csv (len = 2440)\n",
      "and file /opt/app-root/src/aicoe-osc-demo/data/infer_relevance/2020-cdp-climate-response-checkpoint_predictions_relevant.csv (len = 1719)\n",
      "and file /opt/app-root/src/aicoe-osc-demo/data/infer_relevance/Apple_CDP-Climate-Change-Questionnaire_2021_predictions_relevant.csv (len = 1457)\n",
      "and file /opt/app-root/src/aicoe-osc-demo/data/infer_relevance/NextEra Energy 2021 CDP Response_predictions_relevant.csv (len = 903)\n",
      "and file /opt/app-root/src/aicoe-osc-demo/data/infer_relevance/Bayer AG Climate Change 2021_predictions_relevant.csv (len = 2703)\n"
     ]
    }
   ],
   "source": [
    "csvfiles = [f for f in glob.glob(infer_config.result_dir['Text'] + \"/*.csv\")]\n",
    "for i in range(len(csvfiles)):\n",
    "    f = csvfiles[i]\n",
    "    df_table_results = pd.read_csv(f)\n",
    "    if i < 5:\n",
    "        print(f\"for file {f}:\")\n",
    "        print(df_table_results.head(20))\n",
    "    else:\n",
    "        print (f\"and file {f} (len = {len(df_table_results)})\")"
   ]
  },
  {
   "cell_type": "code",
   "execution_count": null,
   "id": "14ae0386-ae1c-4eff-b826-5e07d7f46f47",
   "metadata": {
    "papermill": {
     "duration": null,
     "end_time": null,
     "exception": null,
     "start_time": null,
     "status": "pending"
    },
    "tags": []
   },
   "outputs": [],
   "source": [
    "if os.getenv(\"AUTOMATION\"):\n",
    "    # upload the predicted files to s3\n",
    "    s3c.upload_files_in_dir_to_prefix(\n",
    "        infer_config.result_dir['Text'],\n",
    "        config.BASE_INFER_RELEVANCE_S3_PREFIX\n",
    "    )"
   ]
  },
  {
   "cell_type": "markdown",
   "id": "5226fc3d-87dc-432a-a571-5109d0ecfc86",
   "metadata": {
    "papermill": {
     "duration": null,
     "end_time": null,
     "exception": null,
     "start_time": null,
     "status": "pending"
    },
    "tags": []
   },
   "source": [
    "# Conclusion\n",
    "This notebook ran the _Relevance_ inference on a sample dataset and stored the output in a csv format."
   ]
  },
  {
   "cell_type": "code",
   "execution_count": 4,
   "id": "ac07fc72-0118-4d0a-a345-66a9c49cffb9",
   "metadata": {},
   "outputs": [
    {
     "data": {
      "text/plain": [
       "'test_cdp/pipeline_run/small/infer_relevance'"
      ]
     },
     "execution_count": 4,
     "metadata": {},
     "output_type": "execute_result"
    }
   ],
   "source": [
    "config.BASE_INFER_RELEVANCE_S3_PREFIX"
   ]
  },
  {
   "cell_type": "code",
   "execution_count": null,
   "id": "4ead5431-1a0e-4cc4-b903-39c8ebfcdc93",
   "metadata": {},
   "outputs": [],
   "source": []
  }
 ],
 "metadata": {
  "kernelspec": {
   "display_name": "Python 3 (ipykernel)",
   "language": "python",
   "name": "python3"
  },
  "language_info": {
   "codemirror_mode": {
    "name": "ipython",
    "version": 3
   },
   "file_extension": ".py",
   "mimetype": "text/x-python",
   "name": "python",
   "nbconvert_exporter": "python",
   "pygments_lexer": "ipython3",
   "version": "3.8.8"
  },
  "papermill": {
   "default_parameters": {},
   "duration": 13.822877,
   "end_time": "2022-07-09T15:06:54.417465",
   "environment_variables": {},
   "exception": true,
   "input_path": "/opt/app-root/src/aicoe-osc-demo/notebooks/demo2/infer_relevance.ipynb",
   "output_path": "/opt/app-root/src/aicoe-osc-demo/notebooks/demo2/infer_relevance.ipynb",
   "parameters": {},
   "start_time": "2022-07-09T15:06:40.594588",
   "version": "2.3.4"
  }
 },
 "nbformat": 4,
 "nbformat_minor": 5
}
