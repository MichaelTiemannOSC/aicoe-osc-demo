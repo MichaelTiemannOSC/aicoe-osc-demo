{
 "cells": [
  {
   "cell_type": "markdown",
   "metadata": {
    "tags": []
   },
   "source": [
    "# Text Curation\n",
    "As the second step of the pipeline, the notebook aims to take the extracted text from PDFs and annotated files to create the curated training set for the language model. The extracted text for this notebook is in the `ROOT/data/extraction` directory and the output csv dataset will be stored in `ROOT/data/curation` directory. The Curator class finds positive labels from annotated files and creates negative examples from the extracted text. The output dataset from this notebook will be used for the next step of the pipeline, i.e., training the model. "
   ]
  },
  {
   "cell_type": "code",
   "execution_count": 1,
   "metadata": {},
   "outputs": [],
   "source": [
    "# Author: ALLIANZ NLP esg data pipeline\n",
    "import os\n",
    "from os.path import exists\n",
    "import pathlib\n",
    "from dotenv import load_dotenv\n",
    "\n",
    "\n",
    "import config\n",
    "from src.components.preprocessing.curator import Curator\n",
    "from src.data.s3_communication import S3FileType, S3Communication"
   ]
  },
  {
   "cell_type": "markdown",
   "metadata": {},
   "source": [
    "### Injecting Credentials\n",
    "\n",
    "In order to run this notebook, we need credentials to connect with S3 storage to retrieve and store data.\n",
    "\n",
    "In an automated environment, the credentials can be specified in a pipeline's environment variables or through Openshift secrets.\n",
    "\n",
    "For running the notebook in automation in an elyra pipeline, the environment variables can be updated in the notebook \"Properties\" in the pipeline UI or under `\"env_vars\"` in the `demo2.pipeline yaml` file.\n",
    "\n",
    "For the purpose of running the elyra pipeline, you can configure the `DATA_S3_PREFIX` in the `config.py` as `\"corpdata/ESG/pipeline_run/sample_1\"` which consists of the pdf for which the annotation exists.\n",
    "\n",
    "For running the notebook in a local environment, we will define them as environment variables in a `credentials.env` file at the root of the project repository, and load them using dotenv. An example of what the contents of `credentials.env` could look like is shown below\n",
    "\n",
    "```\n",
    "# s3 credentials\n",
    "S3_ENDPOINT=https://s3.us-east-1.amazonaws.com\n",
    "S3_BUCKET=ocp-odh-os-demo-s3\n",
    "AWS_ACCESS_KEY_ID=xxx\n",
    "AWS_SECRET_ACCESS_KEY=xxx\n",
    "```"
   ]
  },
  {
   "cell_type": "code",
   "execution_count": 2,
   "metadata": {},
   "outputs": [],
   "source": [
    "# Load credentials\n",
    "dotenv_dir = os.environ.get(\n",
    "    \"CREDENTIAL_DOTENV_DIR\", os.environ.get(\"PWD\", \"/opt/app-root/src\")\n",
    ")\n",
    "dotenv_path = pathlib.Path(dotenv_dir) / \"credentials.env\"\n",
    "if os.path.exists(dotenv_path):\n",
    "    load_dotenv(dotenv_path=dotenv_path, override=True)"
   ]
  },
  {
   "cell_type": "code",
   "execution_count": 3,
   "metadata": {},
   "outputs": [],
   "source": [
    "# init s3 connector\n",
    "s3c = S3Communication(\n",
    "    s3_endpoint_url=os.getenv(\"S3_ENDPOINT\"),\n",
    "    aws_access_key_id=os.getenv(\"AWS_ACCESS_KEY_ID\"),\n",
    "    aws_secret_access_key=os.getenv(\"AWS_SECRET_ACCESS_KEY\"),\n",
    "    s3_bucket=os.getenv(\"S3_BUCKET\"),\n",
    ")"
   ]
  },
  {
   "cell_type": "code",
   "execution_count": 4,
   "metadata": {},
   "outputs": [],
   "source": [
    "# When running in Automation using Elyra and Kubeflow Pipelines,\n",
    "# set AUTOMATION = 1 as an environment variable\n",
    "if os.getenv(\"AUTOMATION\"):\n",
    "    if not os.path.exists(config.BASE_EXTRACTION_FOLDER):\n",
    "        config.BASE_EXTRACTION_FOLDER.mkdir(parents=True, exist_ok=True)\n",
    "\n",
    "    if not os.path.exists(config.BASE_ANNOTATION_FOLDER):\n",
    "        config.BASE_ANNOTATION_FOLDER.mkdir(parents=True, exist_ok=True)\n",
    "\n",
    "    if not os.path.exists(config.BASE_CURATION_FOLDER):\n",
    "        config.BASE_CURATION_FOLDER.mkdir(parents=True, exist_ok=True)\n",
    "\n",
    "    # download the files created by the extraction phase\n",
    "    s3c.download_files_in_prefix_to_dir(\n",
    "        config.BASE_EXTRACTION_S3_PREFIX,\n",
    "        config.BASE_EXTRACTION_FOLDER,\n",
    "    )"
   ]
  },
  {
   "cell_type": "code",
   "execution_count": 5,
   "metadata": {},
   "outputs": [
    {
     "data": {
      "text/plain": [
       "'test_cdp/pipeline_run/small/annotations'"
      ]
     },
     "execution_count": 5,
     "metadata": {},
     "output_type": "execute_result"
    }
   ],
   "source": [
    "config.BASE_ANNOTATION_S3_PREFIX"
   ]
  },
  {
   "cell_type": "code",
   "execution_count": 6,
   "metadata": {},
   "outputs": [],
   "source": [
    "# download the annoatation files\n",
    "s3c.download_files_in_prefix_to_dir(\n",
    "    config.BASE_ANNOTATION_S3_PREFIX,\n",
    "    config.BASE_ANNOTATION_FOLDER,\n",
    ")"
   ]
  },
  {
   "cell_type": "markdown",
   "metadata": {},
   "source": [
    "### Call text Curator"
   ]
  },
  {
   "cell_type": "code",
   "execution_count": 7,
   "metadata": {},
   "outputs": [],
   "source": [
    "SEED = 42\n",
    "TextCurator_kwargs = {\n",
    "    \"retrieve_paragraph\": False,\n",
    "    \"neg_pos_ratio\": 1,\n",
    "    \"columns_to_read\": [\n",
    "        \"company\",\n",
    "        \"source_file\",\n",
    "        \"source_page\",\n",
    "        \"kpi_id\",\n",
    "        \"year\",\n",
    "        \"answer\",\n",
    "        \"data_type\",\n",
    "        \"relevant_paragraphs\",\n",
    "    ],\n",
    "    \"company_to_exclude\": [],\n",
    "    \"create_neg_samples\": True,\n",
    "    \"seed\": SEED,\n",
    "}"
   ]
  },
  {
   "cell_type": "code",
   "execution_count": 8,
   "metadata": {},
   "outputs": [
    {
     "data": {
      "text/html": [
       "<div>\n",
       "<style scoped>\n",
       "    .dataframe tbody tr th:only-of-type {\n",
       "        vertical-align: middle;\n",
       "    }\n",
       "\n",
       "    .dataframe tbody tr th {\n",
       "        vertical-align: top;\n",
       "    }\n",
       "\n",
       "    .dataframe thead th {\n",
       "        text-align: right;\n",
       "    }\n",
       "</style>\n",
       "<table border=\"1\" class=\"dataframe\">\n",
       "  <thead>\n",
       "    <tr style=\"text-align: right;\">\n",
       "      <th></th>\n",
       "      <th>kpi_id</th>\n",
       "      <th>question</th>\n",
       "      <th>sectors</th>\n",
       "      <th>add_year</th>\n",
       "      <th>kpi_category</th>\n",
       "    </tr>\n",
       "  </thead>\n",
       "  <tbody>\n",
       "    <tr>\n",
       "      <th>0</th>\n",
       "      <td>1</td>\n",
       "      <td>What is the company name?</td>\n",
       "      <td>OG, CM, CU</td>\n",
       "      <td>False</td>\n",
       "      <td>TEXT</td>\n",
       "    </tr>\n",
       "    <tr>\n",
       "      <th>1</th>\n",
       "      <td>2</td>\n",
       "      <td>What is the Start Date of the CDP report publi...</td>\n",
       "      <td>OG, CM, CU</td>\n",
       "      <td>True</td>\n",
       "      <td>TEXT</td>\n",
       "    </tr>\n",
       "    <tr>\n",
       "      <th>2</th>\n",
       "      <td>3</td>\n",
       "      <td>What is the End Date of the CDP report published?</td>\n",
       "      <td>OG, CM, CU</td>\n",
       "      <td>True</td>\n",
       "      <td>TEXT</td>\n",
       "    </tr>\n",
       "    <tr>\n",
       "      <th>3</th>\n",
       "      <td>4</td>\n",
       "      <td>What is the currency used for all financial in...</td>\n",
       "      <td>OG, CM, CU</td>\n",
       "      <td>False</td>\n",
       "      <td>TEXT</td>\n",
       "    </tr>\n",
       "    <tr>\n",
       "      <th>4</th>\n",
       "      <td>5</td>\n",
       "      <td>Did you have an emissions target that was acti...</td>\n",
       "      <td>OG, CM, CU</td>\n",
       "      <td>True</td>\n",
       "      <td>TEXT</td>\n",
       "    </tr>\n",
       "  </tbody>\n",
       "</table>\n",
       "</div>"
      ],
      "text/plain": [
       "   kpi_id                                           question     sectors  \\\n",
       "0       1                          What is the company name?  OG, CM, CU   \n",
       "1       2  What is the Start Date of the CDP report publi...  OG, CM, CU   \n",
       "2       3  What is the End Date of the CDP report published?  OG, CM, CU   \n",
       "3       4  What is the currency used for all financial in...  OG, CM, CU   \n",
       "4       5  Did you have an emissions target that was acti...  OG, CM, CU   \n",
       "\n",
       "   add_year kpi_category  \n",
       "0     False         TEXT  \n",
       "1      True         TEXT  \n",
       "2      True         TEXT  \n",
       "3     False         TEXT  \n",
       "4      True         TEXT  "
      ]
     },
     "execution_count": 8,
     "metadata": {},
     "output_type": "execute_result"
    }
   ],
   "source": [
    "kpi_df = s3c.download_df_from_s3(\n",
    "    f\"{config.EXPERIMENT_NAME}/kpi_mapping\",\n",
    "    config.KPI_MAPPING_CSV,\n",
    "    filetype=S3FileType.CSV,\n",
    "    header=0,\n",
    ")\n",
    "kpi_df.head()"
   ]
  },
  {
   "cell_type": "code",
   "execution_count": 9,
   "metadata": {
    "tags": []
   },
   "outputs": [
    {
     "name": "stderr",
     "output_type": "stream",
     "text": [
      "Could not process row number 4 in 20220709 CDP aggregated_annotations_needs_correction.xlsx\n",
      "The corresponding KPIs can not be mapped             to any questions and the mapped question is empty\n",
      "[15 16 17 18 19 20 21 22 23 24 25 26 27 28 29 30 31 34 35 36 37 38 39 40\n",
      " 41 42 46 47 48 49 50 51 52 53 54 55 56 57 58 59 60 61 62 64]\n"
     ]
    }
   ],
   "source": [
    "cur = Curator([(\"TextCurator\", TextCurator_kwargs)])\n",
    "#pdb.set_trace()\n",
    "cur.run(config.BASE_EXTRACTION_FOLDER, config.BASE_ANNOTATION_FOLDER, config.BASE_CURATION_FOLDER, kpi_df)"
   ]
  },
  {
   "cell_type": "code",
   "execution_count": 10,
   "metadata": {},
   "outputs": [
    {
     "data": {
      "text/plain": [
       "200"
      ]
     },
     "execution_count": 10,
     "metadata": {},
     "output_type": "execute_result"
    }
   ],
   "source": [
    "# upload the curation file to s3\n",
    "ret = s3c.upload_file_to_s3(\n",
    "    config.BASE_CURATION_FOLDER / \"esg_TEXT_dataset.csv\",\n",
    "    config.BASE_CURATION_S3_PREFIX,\n",
    "    \"esg_TEXT_dataset.csv\",\n",
    ")\n",
    "ret['ResponseMetadata']['HTTPStatusCode']"
   ]
  },
  {
   "cell_type": "markdown",
   "metadata": {},
   "source": [
    "### Conclusion\n",
    "We called the Curator class to combine extracted text and annotated files and store the ouput in the `ROOT/data/curation` folder."
   ]
  },
  {
   "cell_type": "code",
   "execution_count": 11,
   "metadata": {},
   "outputs": [
    {
     "data": {
      "text/plain": [
       "'/opt/app-root/src/aicoe-osc-demo/data/curation/cdp_TEXT_dataset.csv'"
      ]
     },
     "execution_count": 11,
     "metadata": {},
     "output_type": "execute_result"
    }
   ],
   "source": [
    "str(config.BASE_CURATION_FOLDER / \"esg_TEXT_dataset.csv\")"
   ]
  },
  {
   "cell_type": "code",
   "execution_count": 12,
   "metadata": {},
   "outputs": [
    {
     "data": {
      "text/plain": [
       "'test_cdp/pipeline_run/small/curation'"
      ]
     },
     "execution_count": 12,
     "metadata": {},
     "output_type": "execute_result"
    }
   ],
   "source": [
    "config.BASE_CURATION_S3_PREFIX"
   ]
  },
  {
   "cell_type": "code",
   "execution_count": null,
   "metadata": {},
   "outputs": [],
   "source": []
  }
 ],
 "metadata": {
  "kernelspec": {
   "display_name": "Python 3 (ipykernel)",
   "language": "python",
   "name": "python3"
  },
  "language_info": {
   "codemirror_mode": {
    "name": "ipython",
    "version": 3
   },
   "file_extension": ".py",
   "mimetype": "text/x-python",
   "name": "python",
   "nbconvert_exporter": "python",
   "pygments_lexer": "ipython3",
   "version": "3.8.8"
  }
 },
 "nbformat": 4,
 "nbformat_minor": 4
}
