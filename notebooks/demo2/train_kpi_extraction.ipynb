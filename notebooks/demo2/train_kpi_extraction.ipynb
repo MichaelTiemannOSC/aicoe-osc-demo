{
 "cells": [
  {
   "cell_type": "markdown",
   "metadata": {},
   "source": [
    "# KPI Extraction\n",
    "\n",
    "At this point in the training pipeline, we have developed notebooks to curate the ESG data with annotations, and then training a relevance classifier on it to determine if a given paragraph is relevant to answering given a KPI question. In this notebook, we will train a model that, given a relevant paragraph and a KPI question, extracts the precise answer to that question from the paragraph.\n",
    "\n",
    "The KPI extraction model that we will be training for this task is a Question-Answering (QA) model. For training such models, the input data is generally required to be present in a specific format, such as that in the SQuAD dataset. SQuAD is a public dataset for the Question-Answering task. So the first section of this notebook deals with getting the ESG data curated in a SQuAD-like format. And then the subsequent sections consume this re-formatted data for training the model. \n",
    "\n",
    "The model training related classes being used in this notebook include components that are provided by the FARM library. FARM is a framework which facilitates transfer learning tasks for BERT based models. Documentation for FARM is available here: https://farm.deepset.ai."
   ]
  },
  {
   "cell_type": "code",
   "execution_count": 1,
   "metadata": {},
   "outputs": [
    {
     "name": "stderr",
     "output_type": "stream",
     "text": [
      "07/10/2022 01:42:38 - INFO - farm.modeling.prediction_head -   Better speed can be achieved with apex installed from https://www.github.com/nvidia/apex .\n"
     ]
    }
   ],
   "source": [
    "import os\n",
    "import json\n",
    "import pprint\n",
    "import pathlib\n",
    "import pandas as pd\n",
    "from dotenv import load_dotenv\n",
    "\n",
    "from farm.infer import QAInferencer\n",
    "from farm.evaluation import squad_evaluation\n",
    "from farm.data_handler.utils import write_squad_predictions\n",
    "\n",
    "from src.models.qa_farm_trainer import QAFARMTrainer\n",
    "from src.data.s3_communication import S3Communication, S3FileType\n",
    "from src.components.preprocessing.kpi_inference_curator import TextKPIInferenceCurator\n",
    "\n",
    "import config\n",
    "from config_qa_farm_train import (\n",
    "    QAFileConfig,\n",
    "    QATokenizerConfig,\n",
    "    QAProcessorConfig,\n",
    "    QAModelConfig,\n",
    "    QATrainingConfig,\n",
    "    QAMLFlowConfig,\n",
    ")"
   ]
  },
  {
   "cell_type": "code",
   "execution_count": 2,
   "metadata": {},
   "outputs": [],
   "source": [
    "# Load credentials\n",
    "dotenv_dir = os.environ.get(\n",
    "    \"CREDENTIAL_DOTENV_DIR\", os.environ.get(\"PWD\", \"/opt/app-root/src\")\n",
    ")\n",
    "dotenv_path = pathlib.Path(dotenv_dir) / \"credentials.env\"\n",
    "if os.path.exists(dotenv_path):\n",
    "    load_dotenv(dotenv_path=dotenv_path, override=True)"
   ]
  },
  {
   "cell_type": "code",
   "execution_count": 3,
   "metadata": {},
   "outputs": [],
   "source": [
    "# init s3 connector\n",
    "s3c = S3Communication(\n",
    "    s3_endpoint_url=os.getenv(\"S3_ENDPOINT\"),\n",
    "    aws_access_key_id=os.getenv(\"AWS_ACCESS_KEY_ID\"),\n",
    "    aws_secret_access_key=os.getenv(\"AWS_SECRET_ACCESS_KEY\"),\n",
    "    s3_bucket=os.getenv(\"S3_BUCKET\"),\n",
    ")"
   ]
  },
  {
   "cell_type": "code",
   "execution_count": 4,
   "metadata": {},
   "outputs": [
    {
     "data": {
      "text/html": [
       "<div>\n",
       "<style scoped>\n",
       "    .dataframe tbody tr th:only-of-type {\n",
       "        vertical-align: middle;\n",
       "    }\n",
       "\n",
       "    .dataframe tbody tr th {\n",
       "        vertical-align: top;\n",
       "    }\n",
       "\n",
       "    .dataframe thead th {\n",
       "        text-align: right;\n",
       "    }\n",
       "</style>\n",
       "<table border=\"1\" class=\"dataframe\">\n",
       "  <thead>\n",
       "    <tr style=\"text-align: right;\">\n",
       "      <th></th>\n",
       "      <th>kpi_id</th>\n",
       "      <th>question</th>\n",
       "      <th>sectors</th>\n",
       "      <th>add_year</th>\n",
       "      <th>kpi_category</th>\n",
       "    </tr>\n",
       "  </thead>\n",
       "  <tbody>\n",
       "    <tr>\n",
       "      <th>0</th>\n",
       "      <td>1</td>\n",
       "      <td>What is the company name?</td>\n",
       "      <td>OG, CM, CU</td>\n",
       "      <td>False</td>\n",
       "      <td>TEXT</td>\n",
       "    </tr>\n",
       "    <tr>\n",
       "      <th>1</th>\n",
       "      <td>2</td>\n",
       "      <td>What is the Start Date of the CDP report publi...</td>\n",
       "      <td>OG, CM, CU</td>\n",
       "      <td>True</td>\n",
       "      <td>TEXT</td>\n",
       "    </tr>\n",
       "    <tr>\n",
       "      <th>2</th>\n",
       "      <td>3</td>\n",
       "      <td>What is the End Date of the CDP report published?</td>\n",
       "      <td>OG, CM, CU</td>\n",
       "      <td>True</td>\n",
       "      <td>TEXT</td>\n",
       "    </tr>\n",
       "    <tr>\n",
       "      <th>3</th>\n",
       "      <td>4</td>\n",
       "      <td>What is the currency used for all financial in...</td>\n",
       "      <td>OG, CM, CU</td>\n",
       "      <td>False</td>\n",
       "      <td>TEXT</td>\n",
       "    </tr>\n",
       "    <tr>\n",
       "      <th>4</th>\n",
       "      <td>5</td>\n",
       "      <td>Did you have an emissions target that was acti...</td>\n",
       "      <td>OG, CM, CU</td>\n",
       "      <td>True</td>\n",
       "      <td>TEXT</td>\n",
       "    </tr>\n",
       "  </tbody>\n",
       "</table>\n",
       "</div>"
      ],
      "text/plain": [
       "   kpi_id                                           question     sectors  \\\n",
       "0       1                          What is the company name?  OG, CM, CU   \n",
       "1       2  What is the Start Date of the CDP report publi...  OG, CM, CU   \n",
       "2       3  What is the End Date of the CDP report published?  OG, CM, CU   \n",
       "3       4  What is the currency used for all financial in...  OG, CM, CU   \n",
       "4       5  Did you have an emissions target that was acti...  OG, CM, CU   \n",
       "\n",
       "   add_year kpi_category  \n",
       "0     False         TEXT  \n",
       "1      True         TEXT  \n",
       "2      True         TEXT  \n",
       "3     False         TEXT  \n",
       "4      True         TEXT  "
      ]
     },
     "execution_count": 4,
     "metadata": {},
     "output_type": "execute_result"
    }
   ],
   "source": [
    "kpi_df = s3c.download_df_from_s3(\n",
    "    f\"{EXPERIMENT_NAME}/kpi_mapping\",\n",
    "    config.KPI_MAPPING_CSV,\n",
    "    filetype=S3FileType.CSV,\n",
    "    header=0,\n",
    ")\n",
    "kpi_df.head()"
   ]
  },
  {
   "cell_type": "markdown",
   "metadata": {},
   "source": [
    "## Curate Data in SQuAD Format\n",
    "\n",
    "The following code will curate the data and output them as SQuAD-like format."
   ]
  },
  {
   "cell_type": "code",
   "execution_count": 5,
   "metadata": {},
   "outputs": [
    {
     "data": {
      "text/plain": [
       "{'annotation_folder': PosixPath('/opt/app-root/src/aicoe-osc-demo/data/annotations'),\n",
       " 'agg_annotation': PosixPath('/opt/app-root/src/aicoe-osc-demo/data/annotations/20220709 CDP aggregated_annotations_needs_correction.xlsx'),\n",
       " 'extracted_text_json_folder': PosixPath('/opt/app-root/src/aicoe-osc-demo/data/extraction'),\n",
       " 'output_squad_folder': PosixPath('/opt/app-root/src/aicoe-osc-demo/data/squad'),\n",
       " 'relevant_text_path': PosixPath('/opt/app-root/src/aicoe-osc-demo/data/infer_relevance/*.csv')}"
      ]
     },
     "execution_count": 5,
     "metadata": {},
     "output_type": "execute_result"
    }
   ],
   "source": [
    "# default settings for the curator\n",
    "config.TextKPIInferenceCurator_kwargs"
   ]
  },
  {
   "cell_type": "code",
   "execution_count": 6,
   "metadata": {
    "tags": []
   },
   "outputs": [
    {
     "name": "stderr",
     "output_type": "stream",
     "text": [
      "07/10/2022 01:42:39 - INFO - src.components.preprocessing.kpi_inference_curator -   15.0\n",
      "07/10/2022 01:42:39 - INFO - src.components.preprocessing.kpi_inference_curator -   16.0\n",
      "07/10/2022 01:42:39 - INFO - src.components.preprocessing.kpi_inference_curator -   17.0\n",
      "07/10/2022 01:42:39 - INFO - src.components.preprocessing.kpi_inference_curator -   18.0\n",
      "07/10/2022 01:42:39 - INFO - src.components.preprocessing.kpi_inference_curator -   19.0\n",
      "07/10/2022 01:42:39 - INFO - src.components.preprocessing.kpi_inference_curator -   20.0\n",
      "07/10/2022 01:42:39 - INFO - src.components.preprocessing.kpi_inference_curator -   21.0\n",
      "07/10/2022 01:42:39 - INFO - src.components.preprocessing.kpi_inference_curator -   22.0\n",
      "07/10/2022 01:42:39 - INFO - src.components.preprocessing.kpi_inference_curator -   23.0\n",
      "07/10/2022 01:42:39 - INFO - src.components.preprocessing.kpi_inference_curator -   24.0\n",
      "07/10/2022 01:42:39 - INFO - src.components.preprocessing.kpi_inference_curator -   25.0\n",
      "07/10/2022 01:42:39 - INFO - src.components.preprocessing.kpi_inference_curator -   26.0\n",
      "07/10/2022 01:42:39 - INFO - src.components.preprocessing.kpi_inference_curator -   27.0\n",
      "07/10/2022 01:42:39 - INFO - src.components.preprocessing.kpi_inference_curator -   28.0\n",
      "07/10/2022 01:42:39 - INFO - src.components.preprocessing.kpi_inference_curator -   29.0\n",
      "07/10/2022 01:42:39 - INFO - src.components.preprocessing.kpi_inference_curator -   30.0\n",
      "07/10/2022 01:42:39 - INFO - src.components.preprocessing.kpi_inference_curator -   31.0\n",
      "07/10/2022 01:42:39 - INFO - src.components.preprocessing.kpi_inference_curator -   34.0\n",
      "07/10/2022 01:42:39 - INFO - src.components.preprocessing.kpi_inference_curator -   35.0\n",
      "07/10/2022 01:42:39 - INFO - src.components.preprocessing.kpi_inference_curator -   36.0\n",
      "07/10/2022 01:42:39 - INFO - src.components.preprocessing.kpi_inference_curator -   37.0\n",
      "07/10/2022 01:42:39 - INFO - src.components.preprocessing.kpi_inference_curator -   38.0\n",
      "07/10/2022 01:42:39 - INFO - src.components.preprocessing.kpi_inference_curator -   39.0\n",
      "07/10/2022 01:42:39 - INFO - src.components.preprocessing.kpi_inference_curator -   40.0\n",
      "07/10/2022 01:42:39 - INFO - src.components.preprocessing.kpi_inference_curator -   41.0\n",
      "07/10/2022 01:42:39 - INFO - src.components.preprocessing.kpi_inference_curator -   42.0\n",
      "07/10/2022 01:42:39 - INFO - src.components.preprocessing.kpi_inference_curator -   46.0\n",
      "07/10/2022 01:42:39 - INFO - src.components.preprocessing.kpi_inference_curator -   47.0\n",
      "07/10/2022 01:42:39 - INFO - src.components.preprocessing.kpi_inference_curator -   48.0\n",
      "07/10/2022 01:42:39 - INFO - src.components.preprocessing.kpi_inference_curator -   49.0\n",
      "07/10/2022 01:42:39 - INFO - src.components.preprocessing.kpi_inference_curator -   50.0\n",
      "07/10/2022 01:42:39 - INFO - src.components.preprocessing.kpi_inference_curator -   51.0\n",
      "07/10/2022 01:42:39 - INFO - src.components.preprocessing.kpi_inference_curator -   52.0\n",
      "07/10/2022 01:42:39 - INFO - src.components.preprocessing.kpi_inference_curator -   53.0\n",
      "07/10/2022 01:42:39 - INFO - src.components.preprocessing.kpi_inference_curator -   54.0\n",
      "07/10/2022 01:42:39 - INFO - src.components.preprocessing.kpi_inference_curator -   55.0\n",
      "07/10/2022 01:42:39 - INFO - src.components.preprocessing.kpi_inference_curator -   56.0\n",
      "07/10/2022 01:42:39 - INFO - src.components.preprocessing.kpi_inference_curator -   57.0\n",
      "07/10/2022 01:42:39 - INFO - src.components.preprocessing.kpi_inference_curator -   58.0\n",
      "07/10/2022 01:42:39 - INFO - src.components.preprocessing.kpi_inference_curator -   59.0\n",
      "07/10/2022 01:42:39 - INFO - src.components.preprocessing.kpi_inference_curator -   60.0\n",
      "07/10/2022 01:42:39 - INFO - src.components.preprocessing.kpi_inference_curator -   61.0\n",
      "07/10/2022 01:42:39 - INFO - src.components.preprocessing.kpi_inference_curator -   62.0\n",
      "07/10/2022 01:42:39 - INFO - src.components.preprocessing.kpi_inference_curator -   64.0\n"
     ]
    }
   ],
   "source": [
    "# run data curation with default settings\n",
    "tkpi = TextKPIInferenceCurator(\n",
    "    **config.TextKPIInferenceCurator_kwargs,\n",
    "    kpi_df=kpi_df,\n",
    "    columns_to_read=config.TRAIN_KPI_INFERENCE_COLUMNS_TO_READ,\n",
    ")\n",
    "train_squad, val_squad = tkpi.curate(**config.CurateConfig().__dict__)"
   ]
  },
  {
   "cell_type": "markdown",
   "metadata": {},
   "source": [
    "Now, we have the data in SQuAD format, which is ready for training."
   ]
  },
  {
   "cell_type": "code",
   "execution_count": 7,
   "metadata": {},
   "outputs": [
    {
     "name": "stdout",
     "output_type": "stream",
     "text": [
      "kpi_train.json\t      kpi_val_split.json\n",
      "kpi_train_split.json  reference_kpi_10-07-2022.csv\n"
     ]
    }
   ],
   "source": [
    "# see that the data has been reformatted and placed in the output folder\n",
    "output_dir = str(config.TextKPIInferenceCurator_kwargs['output_squad_folder'])\n",
    "!ls $output_dir"
   ]
  },
  {
   "cell_type": "markdown",
   "metadata": {},
   "source": [
    "## Train Model\n",
    "\n",
    "Now that we have the data in an appropriate format, we will train a QA model (or rather, fine tune a pretrained QA model) in this section."
   ]
  },
  {
   "cell_type": "markdown",
   "metadata": {},
   "source": [
    "### Configure Training Parameters  \n",
    "Before start training, parameters for each component of the training pipeline must be set. For this we create `config` objects which hold these parameters. Default values have already been set but they can be easily changed."
   ]
  },
  {
   "cell_type": "code",
   "execution_count": 8,
   "metadata": {},
   "outputs": [],
   "source": [
    "# Settings data files and checkpoints parameters\n",
    "file_config = QAFileConfig(\"kpi_extraction_demo\")\n",
    "\n",
    "# Settings for the processor component\n",
    "processor_config = QAProcessorConfig(\"kpi_extraction_demo\")\n",
    "\n",
    "# Settings for the tokenizer\n",
    "tokenizer_config = QATokenizerConfig(\"kpi_extraction_demo\")\n",
    "\n",
    "# Settings for the model\n",
    "model_config = QAModelConfig(\"kpi_extraction_demo\")\n",
    "\n",
    "# Settings for training\n",
    "train_config = QATrainingConfig(\"kpi_extraction_demo\")\n",
    "\n",
    "# Settings for training\n",
    "mlflow_config = QAMLFlowConfig(\"kpi_extraction_demo\")"
   ]
  },
  {
   "cell_type": "markdown",
   "metadata": {},
   "source": [
    "Parameters can be changed as follows:"
   ]
  },
  {
   "cell_type": "code",
   "execution_count": 9,
   "metadata": {},
   "outputs": [],
   "source": [
    "file_config.experiment_name = \"kpi_extraction_demo\""
   ]
  },
  {
   "cell_type": "markdown",
   "metadata": {},
   "source": [
    "However, we advise that you manually update the parameters in the corresponding config file:\n",
    "\n",
    "`./config_qa_farm_trainer.py`"
   ]
  },
  {
   "cell_type": "code",
   "execution_count": 10,
   "metadata": {},
   "outputs": [
    {
     "name": "stdout",
     "output_type": "stream",
     "text": [
      "Experiment_name: \n",
      " kpi_extraction_demo \n",
      "\n",
      "Data directory: \n",
      " /opt/app-root/src/aicoe-osc-demo/data \n",
      "\n",
      "Curated dataset path: \n",
      " /opt/app-root/src/aicoe-osc-demo/data/squad/kpi_train.json \n",
      "\n",
      "Split train/validation ratio: \n",
      "0.2 \n",
      "\n",
      "Training dataset path: \n",
      " /opt/app-root/src/aicoe-osc-demo/data/squad/kpi_train_split.json \n",
      "\n",
      "Validation dataset path: \n",
      " /opt/app-root/src/aicoe-osc-demo/data/squad/kpi_val_split.json \n",
      "\n",
      "Directory where trained model is saved: \n",
      " /opt/app-root/src/aicoe-osc-demo/models/KPI_EXTRACTION \n",
      "\n"
     ]
    }
   ],
   "source": [
    "print(f\"Experiment_name: \\n {file_config.experiment_name} \\n\")\n",
    "print(f\"Data directory: \\n {file_config.data_dir} \\n\")\n",
    "print(f\"Curated dataset path: \\n {file_config.curated_data} \\n\")\n",
    "print(f\"Split train/validation ratio: \\n{file_config.dev_split} \\n\")\n",
    "print(f\"Training dataset path: \\n {file_config.train_filename} \\n\")\n",
    "print(f\"Validation dataset path: \\n {file_config.dev_filename} \\n\")\n",
    "print(f\"Directory where trained model is saved: \\n {file_config.saved_models_dir} \\n\")"
   ]
  },
  {
   "cell_type": "code",
   "execution_count": 11,
   "metadata": {},
   "outputs": [
    {
     "name": "stdout",
     "output_type": "stream",
     "text": [
      "Max number of tokens per example: 384 \n",
      "\n"
     ]
    }
   ],
   "source": [
    "print(f\"Max number of tokens per example: {processor_config.max_seq_len} \\n\")"
   ]
  },
  {
   "cell_type": "code",
   "execution_count": 12,
   "metadata": {},
   "outputs": [
    {
     "name": "stdout",
     "output_type": "stream",
     "text": [
      "Use GPU: True \n",
      "\n"
     ]
    }
   ],
   "source": [
    "print(f\"Use GPU: {train_config.use_cuda} \\n\")"
   ]
  },
  {
   "cell_type": "code",
   "execution_count": 13,
   "metadata": {},
   "outputs": [
    {
     "name": "stdout",
     "output_type": "stream",
     "text": [
      "Learning_rate: 2e-05 \n",
      "\n",
      "Number of epochs for fine tuning: 1 \n",
      "\n",
      "Batch size: 4 \n",
      "\n",
      "Perform Cross validation: False \n",
      "\n"
     ]
    }
   ],
   "source": [
    "print(f\"Learning_rate: {train_config.learning_rate} \\n\")\n",
    "print(f\"Number of epochs for fine tuning: {train_config.n_epochs} \\n\")\n",
    "print(f\"Batch size: {train_config.batch_size} \\n\")\n",
    "print(f\"Perform Cross validation: {train_config.run_cv} \\n\")"
   ]
  },
  {
   "cell_type": "markdown",
   "metadata": {},
   "source": [
    "### Fine Tune on Curated Dataset"
   ]
  },
  {
   "cell_type": "markdown",
   "metadata": {},
   "source": [
    "Now, we will fine tune the model on the curated ESG data. In the following section, a a `QAFARMTrainer` object can be instantiated by passing all the configuration objects. This object defines the model, which is essentially a bert-based model with extra dense layers for the question answering task. The weights of this model are initialized from the pretrained model on SQuAD dataset. In addition to the model, some other necessary components such as the Tokenizer and Processor will also be loaded. These components are used to create features from the input text"
   ]
  },
  {
   "cell_type": "code",
   "execution_count": 14,
   "metadata": {},
   "outputs": [],
   "source": [
    "# need to convert root directory location from PosixPath to str\n",
    "# otherwise transformers lib is unable to serialize and save the tokenizer\n",
    "tokenizer_config.root = str(tokenizer_config.root)"
   ]
  },
  {
   "cell_type": "code",
   "execution_count": 15,
   "metadata": {},
   "outputs": [],
   "source": [
    "# init trainer / fine-tuner\n",
    "farm_trainer = QAFARMTrainer(\n",
    "    file_config=file_config,\n",
    "    tokenizer_config=tokenizer_config,\n",
    "    model_config=model_config,\n",
    "    processor_config=processor_config,\n",
    "    training_config=train_config,\n",
    "    mlflow_config=mlflow_config,\n",
    ")"
   ]
  },
  {
   "cell_type": "markdown",
   "metadata": {},
   "source": [
    "Call the method `run()` to start training"
   ]
  },
  {
   "cell_type": "markdown",
   "metadata": {},
   "source": [
    "**Note** For the first time, loading the model will take a little longer, for download the checkpoints. The model will be cached after that. "
   ]
  },
  {
   "cell_type": "code",
   "execution_count": 16,
   "metadata": {
    "scrolled": true
   },
   "outputs": [
    {
     "name": "stderr",
     "output_type": "stream",
     "text": [
      "07/10/2022 01:43:00 - INFO - src.models.qa_farm_trainer -   Loading the /opt/app-root/src/aicoe-osc-demo/data/squad/kpi_train.json data and splitting to train and val...\n",
      "07/10/2022 01:43:00 - INFO - farm.utils -   device: cuda n_gpu: 1, distributed training: False, automatic mixed precision training: True\n",
      "07/10/2022 01:43:00 - INFO - farm.modeling.tokenization -   Loading tokenizer of type 'RobertaTokenizer'\n",
      "07/10/2022 01:43:01 - INFO - farm.data_handler.data_silo -   \n",
      "Loading data into the data silo ... \n",
      "              ______\n",
      "               |o  |   !\n",
      "   __          |:`_|---'-.\n",
      "  |__|______.-/ _ \\-----.|       \n",
      " (o)(o)------'\\ _ /     ( )      \n",
      " \n",
      "07/10/2022 01:43:01 - INFO - farm.data_handler.data_silo -   Loading train set from: /opt/app-root/src/aicoe-osc-demo/data/squad/kpi_train_split.json \n",
      "07/10/2022 01:43:01 - INFO - farm.data_handler.data_silo -   Got ya 7 parallel workers to convert 127 dictionaries to pytorch datasets (chunksize = 4)...\n",
      "07/10/2022 01:43:01 - INFO - farm.data_handler.data_silo -    0    0    0    0    0    0    0 \n",
      "07/10/2022 01:43:01 - INFO - farm.data_handler.data_silo -   /|\\  /|\\  /|\\  /w\\  /|\\  /w\\  /w\\\n",
      "07/10/2022 01:43:01 - INFO - farm.data_handler.data_silo -   /'\\  /'\\  /'\\  /'\\  /'\\  /'\\  / \\\n",
      "07/10/2022 01:43:01 - INFO - farm.data_handler.data_silo -               \n",
      "Preprocessing Dataset /opt/app-root/src/aicoe-osc-demo/data/squad/kpi_train_split.json:   0%|          | 0/127 [00:00<?, ? Dicts/s]07/10/2022 01:43:01 - INFO - farm.data_handler.processor -   *** Show 2 random examples ***\n",
      "07/10/2022 01:43:01 - INFO - farm.data_handler.processor -   \n",
      "\n",
      "      .--.        _____                       _      \n",
      "    .'_\\/_'.     / ____|                     | |     \n",
      "    '. /\\ .'    | (___   __ _ _ __ ___  _ __ | | ___ \n",
      "      \"||\"       \\___ \\ / _` | '_ ` _ \\| '_ \\| |/ _ \\ \n",
      "       || /\\     ____) | (_| | | | | | | |_) | |  __/\n",
      "    /\\ ||//\\)   |_____/ \\__,_|_| |_| |_| .__/|_|\\___|\n",
      "   (/\\||/                             |_|           \n",
      "______\\||/___________________________________________                     \n",
      "\n",
      "ID: 1-1-0\n",
      "Clear Text: \n",
      " \tpassage_text: strategy to realize opportunity and explanation of cost calculation the cost to realize the opportunity above represents the amount of capital investment in nextera energy resources’ plan 2019-2022 for renewables development wind and solar as estimated at the june 2019 investor conference. specifically, the annual breakdown estimate at that time was as follows: 2019: 3.7 billion, 2020: 5.2 billion, 2021: 4.6 billion and 2022: 5.7 billion, resulting in a projected total investment from 2019-2022 of 19.2 billion. these costs are estimated capital costs for wind and solar project development and construction, based on the number of facilities in our development expectations from 2019 for 2019-2022, average capital costs per unit, and updated cost assumptions e.g., labor and materials. with the increasing and significant demand for renewables, the financial numbers above may prove conservative. with continued technology improvements and cost declines, we believe that by the middle of this decade, assuming u.s. federal tax credits phase down, new near-firm wind with battery storage will be a 20 to 30 per mwh product and new near-firm solar with battery storage will be a 30 to 40 per mwh product, continuing to be the low- cost generation alternative. these cost projections indicate that renewable energy sources will continue to be a significant driver of disruption in the energy industry. over the past 10 years, renewable energy has shifted from a business that was driven by compliance to one that is driven by economics. today, new renewable energy resources are cheaper than the operating costs of nuclear generation units in some parts of the country and older, inefficient coal and fossil and generation units. with continued technology improvements and cost declines, renewable energy sources will continue to be a significant driver of disruption in the energy industry. the capital investments at nextera energy\n",
      " \tquestion_text: What is the base year for carbon reduction commitment?\n",
      " \tpassage_id: 0\n",
      " \tanswers: []\n",
      "Tokenized: \n",
      " \tpassage_start_t: 0\n",
      " \tpassage_tokens: ['str', 'ategy', 'Ġto', 'Ġrealize', 'Ġopportunity', 'Ġand', 'Ġexplanation', 'Ġof', 'Ġcost', 'Ġcalculation', 'Ġthe', 'Ġcost', 'Ġto', 'Ġrealize', 'Ġthe', 'Ġopportunity', 'Ġabove', 'Ġrepresents', 'Ġthe', 'Ġamount', 'Ġof', 'Ġcapital', 'Ġinvestment', 'Ġin', 'Ġne', 'x', 'tera', 'Ġenergy', 'Ġresources', 'âĢ', 'Ļ', 'Ġplan', 'Ġ2019', '-', '20', '22', 'Ġfor', 'Ġrenewables', 'Ġdevelopment', 'Ġwind', 'Ġand', 'Ġsolar', 'Ġas', 'Ġestimated', 'Ġat', 'Ġthe', 'Ġj', 'une', 'Ġ2019', 'Ġinvestor', 'Ġconference', '.', 'Ġspecifically', ',', 'Ġthe', 'Ġannual', 'Ġbreakdown', 'Ġestimate', 'Ġat', 'Ġthat', 'Ġtime', 'Ġwas', 'Ġas', 'Ġfollows', ':', 'Ġ2019', ':', 'Ġ3', '.', '7', 'Ġbillion', ',', 'Ġ2020', ':', 'Ġ5', '.', '2', 'Ġbillion', ',', 'Ġ2021', ':', 'Ġ4', '.', '6', 'Ġbillion', 'Ġand', 'Ġ2022', ':', 'Ġ5', '.', '7', 'Ġbillion', ',', 'Ġresulting', 'Ġin', 'Ġa', 'Ġprojected', 'Ġtotal', 'Ġinvestment', 'Ġfrom', 'Ġ2019', '-', '20', '22', 'Ġof', 'Ġ19', '.', '2', 'Ġbillion', '.', 'Ġthese', 'Ġcosts', 'Ġare', 'Ġestimated', 'Ġcapital', 'Ġcosts', 'Ġfor', 'Ġwind', 'Ġand', 'Ġsolar', 'Ġproject', 'Ġdevelopment', 'Ġand', 'Ġconstruction', ',', 'Ġbased', 'Ġon', 'Ġthe', 'Ġnumber', 'Ġof', 'Ġfacilities', 'Ġin', 'Ġour', 'Ġdevelopment', 'Ġexpectations', 'Ġfrom', 'Ġ2019', 'Ġfor', 'Ġ2019', '-', '20', '22', ',', 'Ġaverage', 'Ġcapital', 'Ġcosts', 'Ġper', 'Ġunit', ',', 'Ġand', 'Ġupdated', 'Ġcost', 'Ġassumptions', 'Ġe', '.', 'g', '.,', 'Ġlabor', 'Ġand', 'Ġmaterials', '.', 'Ġwith', 'Ġthe', 'Ġincreasing', 'Ġand', 'Ġsignificant', 'Ġdemand', 'Ġfor', 'Ġrenewables', ',', 'Ġthe', 'Ġfinancial', 'Ġnumbers', 'Ġabove', 'Ġmay', 'Ġprove', 'Ġconservative', '.', 'Ġwith', 'Ġcontinued', 'Ġtechnology', 'Ġimprovements', 'Ġand', 'Ġcost', 'Ġdeclines', ',', 'Ġwe', 'Ġbelieve', 'Ġthat', 'Ġby', 'Ġthe', 'Ġmiddle', 'Ġof', 'Ġthis', 'Ġdecade', ',', 'Ġassuming', 'Ġu', '.', 's', '.', 'Ġfederal', 'Ġtax', 'Ġcredits', 'Ġphase', 'Ġdown', ',', 'Ġnew', 'Ġnear', '-', 'f', 'irm', 'Ġwind', 'Ġwith', 'Ġbattery', 'Ġstorage', 'Ġwill', 'Ġbe', 'Ġa', 'Ġ20', 'Ġto', 'Ġ30', 'Ġper', 'Ġm', 'wh', 'Ġproduct', 'Ġand', 'Ġnew', 'Ġnear', '-', 'f', 'irm', 'Ġsolar', 'Ġwith', 'Ġbattery', 'Ġstorage', 'Ġwill', 'Ġbe', 'Ġa', 'Ġ30', 'Ġto', 'Ġ40', 'Ġper', 'Ġm', 'wh', 'Ġproduct', ',', 'Ġcontinuing', 'Ġto', 'Ġbe', 'Ġthe', 'Ġlow', '-', 'Ġcost', 'Ġgeneration', 'Ġalternative', '.', 'Ġthese', 'Ġcost', 'Ġprojections', 'Ġindicate', 'Ġthat', 'Ġrenewable', 'Ġenergy', 'Ġsources', 'Ġwill', 'Ġcontinue', 'Ġto', 'Ġbe', 'Ġa', 'Ġsignificant', 'Ġdriver', 'Ġof', 'Ġdisruption', 'Ġin', 'Ġthe', 'Ġenergy', 'Ġindustry', '.', 'Ġover', 'Ġthe', 'Ġpast', 'Ġ10', 'Ġyears', ',', 'Ġrenewable', 'Ġenergy', 'Ġhas', 'Ġshifted', 'Ġfrom', 'Ġa', 'Ġbusiness', 'Ġthat', 'Ġwas', 'Ġdriven', 'Ġby', 'Ġcompliance', 'Ġto', 'Ġone', 'Ġthat', 'Ġis', 'Ġdriven', 'Ġby', 'Ġeconomics', '.', 'Ġtoday', ',', 'Ġnew', 'Ġrenewable', 'Ġenergy', 'Ġresources', 'Ġare', 'Ġcheaper', 'Ġthan', 'Ġthe', 'Ġoperating', 'Ġcosts', 'Ġof', 'Ġnuclear', 'Ġgeneration', 'Ġunits', 'Ġin', 'Ġsome', 'Ġparts', 'Ġof', 'Ġthe', 'Ġcountry', 'Ġand', 'Ġolder', ',', 'Ġinefficient', 'Ġcoal', 'Ġand', 'Ġfossil', 'Ġand', 'Ġgeneration', 'Ġunits', '.', 'Ġwith', 'Ġcontinued', 'Ġtechnology', 'Ġimprovements', 'Ġand', 'Ġcost', 'Ġdeclines', ',', 'Ġrenewable', 'Ġenergy', 'Ġsources', 'Ġwill', 'Ġcontinue', 'Ġto', 'Ġbe', 'Ġa', 'Ġsignificant', 'Ġdriver', 'Ġof', 'Ġdisruption', 'Ġin', 'Ġthe', 'Ġenergy', 'Ġindustry', '.', 'Ġthe', 'Ġcapital', 'Ġinvestments', 'Ġat', 'Ġne', 'x', 'tera']\n",
      " \tpassage_offsets: [0, 3, 9, 12, 20, 32, 36, 48, 51, 56, 68, 72, 77, 80, 88, 92, 104, 110, 121, 125, 132, 135, 143, 154, 157, 159, 160, 165, 172, 181, 183, 183, 188, 192, 193, 195, 198, 202, 213, 225, 230, 234, 240, 243, 253, 256, 260, 261, 265, 270, 279, 289, 291, 303, 305, 309, 316, 326, 335, 338, 343, 348, 352, 355, 362, 364, 368, 370, 371, 372, 374, 381, 383, 387, 389, 390, 391, 393, 400, 402, 406, 408, 409, 410, 412, 420, 424, 428, 430, 431, 432, 434, 441, 443, 453, 456, 458, 468, 474, 485, 490, 494, 495, 497, 500, 503, 505, 506, 508, 515, 517, 523, 529, 533, 543, 551, 557, 561, 566, 570, 576, 584, 596, 600, 612, 614, 620, 623, 627, 634, 637, 648, 651, 655, 667, 680, 685, 690, 694, 698, 699, 701, 703, 705, 713, 721, 727, 731, 735, 737, 741, 749, 754, 766, 767, 768, 769, 772, 778, 782, 791, 793, 798, 802, 813, 817, 829, 836, 840, 850, 852, 856, 866, 874, 880, 884, 890, 902, 904, 909, 919, 930, 943, 947, 952, 960, 962, 965, 973, 978, 981, 985, 992, 995, 1000, 1006, 1008, 1017, 1018, 1019, 1020, 1022, 1030, 1034, 1042, 1048, 1052, 1054, 1058, 1062, 1063, 1064, 1068, 1073, 1078, 1086, 1094, 1099, 1102, 1104, 1107, 1110, 1113, 1117, 1118, 1121, 1129, 1133, 1137, 1141, 1142, 1143, 1147, 1153, 1158, 1166, 1174, 1179, 1182, 1184, 1187, 1190, 1193, 1197, 1198, 1201, 1208, 1210, 1221, 1224, 1227, 1231, 1234, 1236, 1241, 1252, 1263, 1265, 1271, 1276, 1288, 1297, 1302, 1312, 1319, 1327, 1332, 1341, 1344, 1347, 1349, 1361, 1368, 1371, 1382, 1385, 1389, 1396, 1404, 1406, 1411, 1415, 1420, 1423, 1428, 1430, 1440, 1447, 1451, 1459, 1464, 1466, 1475, 1480, 1484, 1491, 1494, 1505, 1508, 1512, 1517, 1520, 1527, 1530, 1539, 1541, 1546, 1548, 1552, 1562, 1569, 1579, 1583, 1591, 1596, 1600, 1610, 1616, 1619, 1627, 1638, 1644, 1647, 1652, 1658, 1661, 1665, 1673, 1677, 1682, 1684, 1696, 1701, 1705, 1712, 1716, 1727, 1732, 1734, 1739, 1749, 1760, 1773, 1777, 1782, 1790, 1792, 1802, 1809, 1817, 1822, 1831, 1834, 1837, 1839, 1851, 1858, 1861, 1872, 1875, 1879, 1886, 1894, 1896, 1900, 1908, 1920, 1923, 1925, 1926]\n",
      " \tpassage_start_of_word: [1, 0, 1, 1, 1, 1, 1, 1, 1, 1, 1, 1, 1, 1, 1, 1, 1, 1, 1, 1, 1, 1, 1, 1, 1, 0, 0, 1, 1, 0, 0, 1, 1, 0, 0, 0, 1, 1, 1, 1, 1, 1, 1, 1, 1, 1, 1, 0, 1, 1, 1, 0, 1, 0, 1, 1, 1, 1, 1, 1, 1, 1, 1, 1, 0, 1, 0, 1, 0, 0, 1, 0, 1, 0, 1, 0, 0, 1, 0, 1, 0, 1, 0, 0, 1, 1, 1, 0, 1, 0, 0, 1, 0, 1, 1, 1, 1, 1, 1, 1, 1, 0, 0, 0, 1, 1, 0, 0, 1, 0, 1, 1, 1, 1, 1, 1, 1, 1, 1, 1, 1, 1, 1, 1, 0, 1, 1, 1, 1, 1, 1, 1, 1, 1, 1, 1, 1, 1, 1, 0, 0, 0, 0, 1, 1, 1, 1, 1, 0, 1, 1, 1, 1, 1, 0, 0, 0, 1, 1, 1, 0, 1, 1, 1, 1, 1, 1, 1, 1, 0, 1, 1, 1, 1, 1, 1, 1, 0, 1, 1, 1, 1, 1, 1, 1, 0, 1, 1, 1, 1, 1, 1, 1, 1, 1, 0, 1, 1, 0, 0, 0, 1, 1, 1, 1, 1, 0, 1, 1, 0, 0, 0, 1, 1, 1, 1, 1, 1, 1, 1, 1, 1, 1, 1, 0, 1, 1, 1, 1, 0, 0, 0, 1, 1, 1, 1, 1, 1, 1, 1, 1, 1, 1, 1, 0, 1, 0, 1, 1, 1, 1, 1, 0, 1, 1, 1, 0, 1, 1, 1, 1, 1, 1, 1, 1, 1, 1, 1, 1, 1, 1, 1, 1, 1, 1, 1, 1, 1, 0, 1, 1, 1, 1, 1, 0, 1, 1, 1, 1, 1, 1, 1, 1, 1, 1, 1, 1, 1, 1, 1, 1, 1, 1, 1, 0, 1, 0, 1, 1, 1, 1, 1, 1, 1, 1, 1, 1, 1, 1, 1, 1, 1, 1, 1, 1, 1, 1, 1, 1, 0, 1, 1, 1, 1, 1, 1, 1, 0, 1, 1, 1, 1, 1, 1, 1, 0, 1, 1, 1, 1, 1, 1, 1, 1, 1, 1, 1, 1, 1, 1, 1, 1, 0, 1, 1, 1, 1, 1, 0, 0]\n",
      " \tquestion_tokens: ['What', 'Ġis', 'Ġthe', 'Ġbase', 'Ġyear', 'Ġfor', 'Ġcarbon', 'Ġreduction', 'Ġcommitment', '?']\n",
      " \tquestion_offsets: [0, 5, 8, 12, 17, 22, 26, 33, 43, 53]\n",
      " \tquestion_start_of_word: [1, 1, 1, 1, 1, 1, 1, 1, 1, 0]\n",
      " \tanswers: []\n",
      " \tdocument_offsets: [0, 3, 9, 12, 20, 32, 36, 48, 51, 56, 68, 72, 77, 80, 88, 92, 104, 110, 121, 125, 132, 135, 143, 154, 157, 159, 160, 165, 172, 181, 183, 183, 188, 192, 193, 195, 198, 202, 213, 225, 230, 234, 240, 243, 253, 256, 260, 261, 265, 270, 279, 289, 291, 303, 305, 309, 316, 326, 335, 338, 343, 348, 352, 355, 362, 364, 368, 370, 371, 372, 374, 381, 383, 387, 389, 390, 391, 393, 400, 402, 406, 408, 409, 410, 412, 420, 424, 428, 430, 431, 432, 434, 441, 443, 453, 456, 458, 468, 474, 485, 490, 494, 495, 497, 500, 503, 505, 506, 508, 515, 517, 523, 529, 533, 543, 551, 557, 561, 566, 570, 576, 584, 596, 600, 612, 614, 620, 623, 627, 634, 637, 648, 651, 655, 667, 680, 685, 690, 694, 698, 699, 701, 703, 705, 713, 721, 727, 731, 735, 737, 741, 749, 754, 766, 767, 768, 769, 772, 778, 782, 791, 793, 798, 802, 813, 817, 829, 836, 840, 850, 852, 856, 866, 874, 880, 884, 890, 902, 904, 909, 919, 930, 943, 947, 952, 960, 962, 965, 973, 978, 981, 985, 992, 995, 1000, 1006, 1008, 1017, 1018, 1019, 1020, 1022, 1030, 1034, 1042, 1048, 1052, 1054, 1058, 1062, 1063, 1064, 1068, 1073, 1078, 1086, 1094, 1099, 1102, 1104, 1107, 1110, 1113, 1117, 1118, 1121, 1129, 1133, 1137, 1141, 1142, 1143, 1147, 1153, 1158, 1166, 1174, 1179, 1182, 1184, 1187, 1190, 1193, 1197, 1198, 1201, 1208, 1210, 1221, 1224, 1227, 1231, 1234, 1236, 1241, 1252, 1263, 1265, 1271, 1276, 1288, 1297, 1302, 1312, 1319, 1327, 1332, 1341, 1344, 1347, 1349, 1361, 1368, 1371, 1382, 1385, 1389, 1396, 1404, 1406, 1411, 1415, 1420, 1423, 1428, 1430, 1440, 1447, 1451, 1459, 1464, 1466, 1475, 1480, 1484, 1491, 1494, 1505, 1508, 1512, 1517, 1520, 1527, 1530, 1539, 1541, 1546, 1548, 1552, 1562, 1569, 1579, 1583, 1591, 1596, 1600, 1610, 1616, 1619, 1627, 1638, 1644, 1647, 1652, 1658, 1661, 1665, 1673, 1677, 1682, 1684, 1696, 1701, 1705, 1712, 1716, 1727, 1732, 1734, 1739, 1749, 1760, 1773, 1777, 1782, 1790, 1792, 1802, 1809, 1817, 1822, 1831, 1834, 1837, 1839, 1851, 1858, 1861, 1872, 1875, 1879, 1886, 1894, 1896, 1900, 1908, 1920, 1923, 1925, 1926, 1931, 1938, 1948, 1953, 1957, 1960, 1972, 1982, 1989, 2001, 2004, 2006, 2007, 2012, 2019, 2028, 2030, 2033, 2037, 2039, 2041, 2042, 2047, 2054, 2064, 2077, 2091, 2092, 2093, 2097, 2098, 2100, 2103, 2113, 2120, 2129, 2136, 2140, 2144, 2146, 2151, 2156, 2165, 2169, 2176, 2179, 2185, 2195, 2202, 2215, 2218, 2223, 2227, 2233, 2240, 2241, 2242, 2246, 2247, 2249, 2252, 2256, 2263, 2265, 2268, 2270, 2276, 2278, 2281, 2284, 2288, 2289, 2293, 2297, 2299, 2301, 2302, 2307, 2314, 2324, 2330, 2333, 2342, 2344, 2354, 2357, 2362, 2365, 2366, 2368, 2371, 2376, 2380]\n",
      "Features: \n",
      " \tinput_ids: [0, 2264, 16, 5, 1542, 76, 13, 4363, 4878, 2720, 116, 2, 2, 6031, 41220, 7, 4883, 945, 8, 8257, 9, 701, 21586, 5, 701, 7, 4883, 5, 945, 1065, 3372, 5, 1280, 9, 812, 915, 11, 3087, 1178, 31672, 1007, 1915, 17, 27, 563, 954, 12, 844, 2036, 13, 26618, 709, 2508, 8, 4118, 25, 2319, 23, 5, 1236, 4438, 954, 3942, 1019, 4, 4010, 6, 5, 1013, 9336, 3278, 23, 14, 86, 21, 25, 3905, 35, 954, 35, 155, 4, 406, 325, 6, 2760, 35, 195, 4, 176, 325, 6, 8835, 35, 204, 4, 401, 325, 8, 8157, 35, 195, 4, 406, 325, 6, 5203, 11, 10, 5635, 746, 915, 31, 954, 12, 844, 2036, 9, 753, 4, 176, 325, 4, 209, 1042, 32, 2319, 812, 1042, 13, 2508, 8, 4118, 695, 709, 8, 1663, 6, 716, 15, 5, 346, 9, 2644, 11, 84, 709, 2113, 31, 954, 13, 954, 12, 844, 2036, 6, 674, 812, 1042, 228, 1933, 6, 8, 4752, 701, 10576, 364, 4, 571, 482, 4178, 8, 3183, 4, 19, 5, 2284, 8, 1233, 1077, 13, 26618, 6, 5, 613, 1530, 1065, 189, 3364, 3354, 4, 19, 1143, 806, 5139, 8, 701, 11081, 6, 52, 679, 14, 30, 5, 1692, 9, 42, 2202, 6, 12483, 1717, 4, 29, 4, 752, 629, 7751, 4359, 159, 6, 92, 583, 12, 506, 9856, 2508, 19, 3822, 3521, 40, 28, 10, 291, 7, 389, 228, 475, 11613, 1152, 8, 92, 583, 12, 506, 9856, 4118, 19, 3822, 3521, 40, 28, 10, 389, 7, 843, 228, 475, 11613, 1152, 6, 3348, 7, 28, 5, 614, 12, 701, 2706, 3626, 4, 209, 701, 8979, 6364, 14, 8741, 1007, 1715, 40, 535, 7, 28, 10, 1233, 1393, 9, 10044, 11, 5, 1007, 539, 4, 81, 5, 375, 158, 107, 6, 8741, 1007, 34, 9679, 31, 10, 265, 14, 21, 3185, 30, 6265, 7, 65, 14, 16, 3185, 30, 10492, 4, 452, 6, 92, 8741, 1007, 1915, 32, 7246, 87, 5, 1633, 1042, 9, 1748, 2706, 2833, 11, 103, 1667, 9, 5, 247, 8, 2530, 6, 29958, 4051, 8, 11422, 8, 2706, 2833, 4, 19, 1143, 806, 5139, 8, 701, 11081, 6, 8741, 1007, 1715, 40, 535, 7, 28, 10, 1233, 1393, 9, 10044, 11, 5, 1007, 539, 4, 5, 812, 3227, 23, 3087, 1178, 31672, 2]\n",
      " \tpadding_mask: [1, 1, 1, 1, 1, 1, 1, 1, 1, 1, 1, 1, 1, 1, 1, 1, 1, 1, 1, 1, 1, 1, 1, 1, 1, 1, 1, 1, 1, 1, 1, 1, 1, 1, 1, 1, 1, 1, 1, 1, 1, 1, 1, 1, 1, 1, 1, 1, 1, 1, 1, 1, 1, 1, 1, 1, 1, 1, 1, 1, 1, 1, 1, 1, 1, 1, 1, 1, 1, 1, 1, 1, 1, 1, 1, 1, 1, 1, 1, 1, 1, 1, 1, 1, 1, 1, 1, 1, 1, 1, 1, 1, 1, 1, 1, 1, 1, 1, 1, 1, 1, 1, 1, 1, 1, 1, 1, 1, 1, 1, 1, 1, 1, 1, 1, 1, 1, 1, 1, 1, 1, 1, 1, 1, 1, 1, 1, 1, 1, 1, 1, 1, 1, 1, 1, 1, 1, 1, 1, 1, 1, 1, 1, 1, 1, 1, 1, 1, 1, 1, 1, 1, 1, 1, 1, 1, 1, 1, 1, 1, 1, 1, 1, 1, 1, 1, 1, 1, 1, 1, 1, 1, 1, 1, 1, 1, 1, 1, 1, 1, 1, 1, 1, 1, 1, 1, 1, 1, 1, 1, 1, 1, 1, 1, 1, 1, 1, 1, 1, 1, 1, 1, 1, 1, 1, 1, 1, 1, 1, 1, 1, 1, 1, 1, 1, 1, 1, 1, 1, 1, 1, 1, 1, 1, 1, 1, 1, 1, 1, 1, 1, 1, 1, 1, 1, 1, 1, 1, 1, 1, 1, 1, 1, 1, 1, 1, 1, 1, 1, 1, 1, 1, 1, 1, 1, 1, 1, 1, 1, 1, 1, 1, 1, 1, 1, 1, 1, 1, 1, 1, 1, 1, 1, 1, 1, 1, 1, 1, 1, 1, 1, 1, 1, 1, 1, 1, 1, 1, 1, 1, 1, 1, 1, 1, 1, 1, 1, 1, 1, 1, 1, 1, 1, 1, 1, 1, 1, 1, 1, 1, 1, 1, 1, 1, 1, 1, 1, 1, 1, 1, 1, 1, 1, 1, 1, 1, 1, 1, 1, 1, 1, 1, 1, 1, 1, 1, 1, 1, 1, 1, 1, 1, 1, 1, 1, 1, 1, 1, 1, 1, 1, 1, 1, 1, 1, 1, 1, 1, 1, 1, 1, 1, 1, 1, 1, 1, 1, 1, 1, 1, 1, 1, 1, 1, 1, 1, 1, 1, 1, 1, 1, 1, 1, 1]\n",
      " \tsegment_ids: [0 0 0 0 0 0 0 0 0 0 0 0 0 0 0 0 0 0 0 0 0 0 0 0 0 0 0 0 0 0 0 0 0 0 0 0 0\n",
      " 0 0 0 0 0 0 0 0 0 0 0 0 0 0 0 0 0 0 0 0 0 0 0 0 0 0 0 0 0 0 0 0 0 0 0 0 0\n",
      " 0 0 0 0 0 0 0 0 0 0 0 0 0 0 0 0 0 0 0 0 0 0 0 0 0 0 0 0 0 0 0 0 0 0 0 0 0\n",
      " 0 0 0 0 0 0 0 0 0 0 0 0 0 0 0 0 0 0 0 0 0 0 0 0 0 0 0 0 0 0 0 0 0 0 0 0 0\n",
      " 0 0 0 0 0 0 0 0 0 0 0 0 0 0 0 0 0 0 0 0 0 0 0 0 0 0 0 0 0 0 0 0 0 0 0 0 0\n",
      " 0 0 0 0 0 0 0 0 0 0 0 0 0 0 0 0 0 0 0 0 0 0 0 0 0 0 0 0 0 0 0 0 0 0 0 0 0\n",
      " 0 0 0 0 0 0 0 0 0 0 0 0 0 0 0 0 0 0 0 0 0 0 0 0 0 0 0 0 0 0 0 0 0 0 0 0 0\n",
      " 0 0 0 0 0 0 0 0 0 0 0 0 0 0 0 0 0 0 0 0 0 0 0 0 0 0 0 0 0 0 0 0 0 0 0 0 0\n",
      " 0 0 0 0 0 0 0 0 0 0 0 0 0 0 0 0 0 0 0 0 0 0 0 0 0 0 0 0 0 0 0 0 0 0 0 0 0\n",
      " 0 0 0 0 0 0 0 0 0 0 0 0 0 0 0 0 0 0 0 0 0 0 0 0 0 0 0 0 0 0 0 0 0 0 0 0 0\n",
      " 0 0 0 0 0 0 0 0 0 0 0 0 0 0]\n",
      " \tanswer_type_ids: [0]\n",
      " \tpassage_start_t: 0\n",
      " \tstart_of_word: [0, 1, 1, 1, 1, 1, 1, 1, 1, 1, 0, 0, 0, 1, 0, 1, 1, 1, 1, 1, 1, 1, 1, 1, 1, 1, 1, 1, 1, 1, 1, 1, 1, 1, 1, 1, 1, 1, 0, 0, 1, 1, 0, 0, 1, 1, 0, 0, 0, 1, 1, 1, 1, 1, 1, 1, 1, 1, 1, 1, 0, 1, 1, 1, 0, 1, 0, 1, 1, 1, 1, 1, 1, 1, 1, 1, 1, 0, 1, 0, 1, 0, 0, 1, 0, 1, 0, 1, 0, 0, 1, 0, 1, 0, 1, 0, 0, 1, 1, 1, 0, 1, 0, 0, 1, 0, 1, 1, 1, 1, 1, 1, 1, 1, 0, 0, 0, 1, 1, 0, 0, 1, 0, 1, 1, 1, 1, 1, 1, 1, 1, 1, 1, 1, 1, 1, 1, 0, 1, 1, 1, 1, 1, 1, 1, 1, 1, 1, 1, 1, 1, 1, 0, 0, 0, 0, 1, 1, 1, 1, 1, 0, 1, 1, 1, 1, 1, 0, 0, 0, 1, 1, 1, 0, 1, 1, 1, 1, 1, 1, 1, 1, 0, 1, 1, 1, 1, 1, 1, 1, 0, 1, 1, 1, 1, 1, 1, 1, 0, 1, 1, 1, 1, 1, 1, 1, 1, 1, 0, 1, 1, 0, 0, 0, 1, 1, 1, 1, 1, 0, 1, 1, 0, 0, 0, 1, 1, 1, 1, 1, 1, 1, 1, 1, 1, 1, 1, 0, 1, 1, 1, 1, 0, 0, 0, 1, 1, 1, 1, 1, 1, 1, 1, 1, 1, 1, 1, 0, 1, 0, 1, 1, 1, 1, 1, 0, 1, 1, 1, 0, 1, 1, 1, 1, 1, 1, 1, 1, 1, 1, 1, 1, 1, 1, 1, 1, 1, 1, 1, 1, 1, 0, 1, 1, 1, 1, 1, 0, 1, 1, 1, 1, 1, 1, 1, 1, 1, 1, 1, 1, 1, 1, 1, 1, 1, 1, 1, 0, 1, 0, 1, 1, 1, 1, 1, 1, 1, 1, 1, 1, 1, 1, 1, 1, 1, 1, 1, 1, 1, 1, 1, 1, 0, 1, 1, 1, 1, 1, 1, 1, 0, 1, 1, 1, 1, 1, 1, 1, 0, 1, 1, 1, 1, 1, 1, 1, 1, 1, 1, 1, 1, 1, 1, 1, 1, 0, 1, 1, 1, 1, 1, 0, 0, 0]\n",
      " \tlabels: [[ 0  0]\n",
      " [-1 -1]\n",
      " [-1 -1]\n",
      " [-1 -1]\n",
      " [-1 -1]\n",
      " [-1 -1]]\n",
      " \tid: [1, 1, 0]\n",
      " \tseq_2_start_t: 13\n",
      " \tspan_mask: [1, 0, 0, 0, 0, 0, 0, 0, 0, 0, 0, 0, 0, 1, 1, 1, 1, 1, 1, 1, 1, 1, 1, 1, 1, 1, 1, 1, 1, 1, 1, 1, 1, 1, 1, 1, 1, 1, 1, 1, 1, 1, 1, 1, 1, 1, 1, 1, 1, 1, 1, 1, 1, 1, 1, 1, 1, 1, 1, 1, 1, 1, 1, 1, 1, 1, 1, 1, 1, 1, 1, 1, 1, 1, 1, 1, 1, 1, 1, 1, 1, 1, 1, 1, 1, 1, 1, 1, 1, 1, 1, 1, 1, 1, 1, 1, 1, 1, 1, 1, 1, 1, 1, 1, 1, 1, 1, 1, 1, 1, 1, 1, 1, 1, 1, 1, 1, 1, 1, 1, 1, 1, 1, 1, 1, 1, 1, 1, 1, 1, 1, 1, 1, 1, 1, 1, 1, 1, 1, 1, 1, 1, 1, 1, 1, 1, 1, 1, 1, 1, 1, 1, 1, 1, 1, 1, 1, 1, 1, 1, 1, 1, 1, 1, 1, 1, 1, 1, 1, 1, 1, 1, 1, 1, 1, 1, 1, 1, 1, 1, 1, 1, 1, 1, 1, 1, 1, 1, 1, 1, 1, 1, 1, 1, 1, 1, 1, 1, 1, 1, 1, 1, 1, 1, 1, 1, 1, 1, 1, 1, 1, 1, 1, 1, 1, 1, 1, 1, 1, 1, 1, 1, 1, 1, 1, 1, 1, 1, 1, 1, 1, 1, 1, 1, 1, 1, 1, 1, 1, 1, 1, 1, 1, 1, 1, 1, 1, 1, 1, 1, 1, 1, 1, 1, 1, 1, 1, 1, 1, 1, 1, 1, 1, 1, 1, 1, 1, 1, 1, 1, 1, 1, 1, 1, 1, 1, 1, 1, 1, 1, 1, 1, 1, 1, 1, 1, 1, 1, 1, 1, 1, 1, 1, 1, 1, 1, 1, 1, 1, 1, 1, 1, 1, 1, 1, 1, 1, 1, 1, 1, 1, 1, 1, 1, 1, 1, 1, 1, 1, 1, 1, 1, 1, 1, 1, 1, 1, 1, 1, 1, 1, 1, 1, 1, 1, 1, 1, 1, 1, 1, 1, 1, 1, 1, 1, 1, 1, 1, 1, 1, 1, 1, 1, 1, 1, 1, 1, 1, 1, 1, 1, 1, 1, 1, 1, 1, 1, 1, 1, 1, 1, 1, 1, 1, 1, 1, 1, 1, 1, 1, 1, 1, 1, 0]\n",
      "_____________________________________________________\n",
      "07/10/2022 01:43:01 - INFO - farm.data_handler.processor -   \n",
      "\n",
      "      .--.        _____                       _      \n",
      "    .'_\\/_'.     / ____|                     | |     \n",
      "    '. /\\ .'    | (___   __ _ _ __ ___  _ __ | | ___ \n",
      "      \"||\"       \\___ \\ / _` | '_ ` _ \\| '_ \\| |/ _ \\ \n",
      "       || /\\     ____) | (_| | | | | | | |_) | |  __/\n",
      "    /\\ ||//\\)   |_____/ \\__,_|_| |_| |_| .__/|_|\\___|\n",
      "   (/\\||/                             |_|           \n",
      "______\\||/___________________________________________                     \n",
      "\n",
      "ID: 3-0-0\n",
      "Clear Text: \n",
      " \tpassage_text: trade association edison electric institute eei\n",
      " \tquestion_text: What is the company name?\n",
      " \tpassage_id: 0\n",
      " \tanswers: []\n",
      "Tokenized: \n",
      " \tpassage_start_t: 0\n",
      " \tpassage_tokens: ['trade', 'Ġassociation', 'Ġed', 'ison', 'Ġelectric', 'Ġinstitute', 'Ġe', 'ei']\n",
      " \tpassage_offsets: [0, 6, 18, 20, 25, 34, 44, 45]\n",
      " \tpassage_start_of_word: [1, 1, 1, 0, 1, 1, 1, 0]\n",
      " \tquestion_tokens: ['What', 'Ġis', 'Ġthe', 'Ġcompany', 'Ġname', '?']\n",
      " \tquestion_offsets: [0, 5, 8, 12, 20, 24]\n",
      " \tquestion_start_of_word: [1, 1, 1, 1, 1, 0]\n",
      " \tanswers: []\n",
      " \tdocument_offsets: [0, 6, 18, 20, 25, 34, 44, 45]\n",
      "Features: \n",
      " \tinput_ids: [0, 2264, 16, 5, 138, 766, 116, 2, 2, 18582, 5259, 4803, 4060, 3459, 14619, 364, 13862, 2, 1, 1, 1, 1, 1, 1, 1, 1, 1, 1, 1, 1, 1, 1, 1, 1, 1, 1, 1, 1, 1, 1, 1, 1, 1, 1, 1, 1, 1, 1, 1, 1, 1, 1, 1, 1, 1, 1, 1, 1, 1, 1, 1, 1, 1, 1, 1, 1, 1, 1, 1, 1, 1, 1, 1, 1, 1, 1, 1, 1, 1, 1, 1, 1, 1, 1, 1, 1, 1, 1, 1, 1, 1, 1, 1, 1, 1, 1, 1, 1, 1, 1, 1, 1, 1, 1, 1, 1, 1, 1, 1, 1, 1, 1, 1, 1, 1, 1, 1, 1, 1, 1, 1, 1, 1, 1, 1, 1, 1, 1, 1, 1, 1, 1, 1, 1, 1, 1, 1, 1, 1, 1, 1, 1, 1, 1, 1, 1, 1, 1, 1, 1, 1, 1, 1, 1, 1, 1, 1, 1, 1, 1, 1, 1, 1, 1, 1, 1, 1, 1, 1, 1, 1, 1, 1, 1, 1, 1, 1, 1, 1, 1, 1, 1, 1, 1, 1, 1, 1, 1, 1, 1, 1, 1, 1, 1, 1, 1, 1, 1, 1, 1, 1, 1, 1, 1, 1, 1, 1, 1, 1, 1, 1, 1, 1, 1, 1, 1, 1, 1, 1, 1, 1, 1, 1, 1, 1, 1, 1, 1, 1, 1, 1, 1, 1, 1, 1, 1, 1, 1, 1, 1, 1, 1, 1, 1, 1, 1, 1, 1, 1, 1, 1, 1, 1, 1, 1, 1, 1, 1, 1, 1, 1, 1, 1, 1, 1, 1, 1, 1, 1, 1, 1, 1, 1, 1, 1, 1, 1, 1, 1, 1, 1, 1, 1, 1, 1, 1, 1, 1, 1, 1, 1, 1, 1, 1, 1, 1, 1, 1, 1, 1, 1, 1, 1, 1, 1, 1, 1, 1, 1, 1, 1, 1, 1, 1, 1, 1, 1, 1, 1, 1, 1, 1, 1, 1, 1, 1, 1, 1, 1, 1, 1, 1, 1, 1, 1, 1, 1, 1, 1, 1, 1, 1, 1, 1, 1, 1, 1, 1, 1, 1, 1, 1, 1, 1, 1, 1, 1, 1, 1, 1, 1, 1, 1, 1, 1, 1, 1, 1, 1, 1, 1, 1, 1, 1, 1, 1, 1, 1, 1, 1, 1, 1, 1, 1]\n",
      " \tpadding_mask: [1, 1, 1, 1, 1, 1, 1, 1, 1, 1, 1, 1, 1, 1, 1, 1, 1, 1, 0, 0, 0, 0, 0, 0, 0, 0, 0, 0, 0, 0, 0, 0, 0, 0, 0, 0, 0, 0, 0, 0, 0, 0, 0, 0, 0, 0, 0, 0, 0, 0, 0, 0, 0, 0, 0, 0, 0, 0, 0, 0, 0, 0, 0, 0, 0, 0, 0, 0, 0, 0, 0, 0, 0, 0, 0, 0, 0, 0, 0, 0, 0, 0, 0, 0, 0, 0, 0, 0, 0, 0, 0, 0, 0, 0, 0, 0, 0, 0, 0, 0, 0, 0, 0, 0, 0, 0, 0, 0, 0, 0, 0, 0, 0, 0, 0, 0, 0, 0, 0, 0, 0, 0, 0, 0, 0, 0, 0, 0, 0, 0, 0, 0, 0, 0, 0, 0, 0, 0, 0, 0, 0, 0, 0, 0, 0, 0, 0, 0, 0, 0, 0, 0, 0, 0, 0, 0, 0, 0, 0, 0, 0, 0, 0, 0, 0, 0, 0, 0, 0, 0, 0, 0, 0, 0, 0, 0, 0, 0, 0, 0, 0, 0, 0, 0, 0, 0, 0, 0, 0, 0, 0, 0, 0, 0, 0, 0, 0, 0, 0, 0, 0, 0, 0, 0, 0, 0, 0, 0, 0, 0, 0, 0, 0, 0, 0, 0, 0, 0, 0, 0, 0, 0, 0, 0, 0, 0, 0, 0, 0, 0, 0, 0, 0, 0, 0, 0, 0, 0, 0, 0, 0, 0, 0, 0, 0, 0, 0, 0, 0, 0, 0, 0, 0, 0, 0, 0, 0, 0, 0, 0, 0, 0, 0, 0, 0, 0, 0, 0, 0, 0, 0, 0, 0, 0, 0, 0, 0, 0, 0, 0, 0, 0, 0, 0, 0, 0, 0, 0, 0, 0, 0, 0, 0, 0, 0, 0, 0, 0, 0, 0, 0, 0, 0, 0, 0, 0, 0, 0, 0, 0, 0, 0, 0, 0, 0, 0, 0, 0, 0, 0, 0, 0, 0, 0, 0, 0, 0, 0, 0, 0, 0, 0, 0, 0, 0, 0, 0, 0, 0, 0, 0, 0, 0, 0, 0, 0, 0, 0, 0, 0, 0, 0, 0, 0, 0, 0, 0, 0, 0, 0, 0, 0, 0, 0, 0, 0, 0, 0, 0, 0, 0, 0, 0, 0, 0, 0, 0, 0, 0, 0, 0, 0, 0, 0]\n",
      " \tsegment_ids: [0 0 0 0 0 0 0 0 0 0 0 0 0 0 0 0 0 0 0 0 0 0 0 0 0 0 0 0 0 0 0 0 0 0 0 0 0\n",
      " 0 0 0 0 0 0 0 0 0 0 0 0 0 0 0 0 0 0 0 0 0 0 0 0 0 0 0 0 0 0 0 0 0 0 0 0 0\n",
      " 0 0 0 0 0 0 0 0 0 0 0 0 0 0 0 0 0 0 0 0 0 0 0 0 0 0 0 0 0 0 0 0 0 0 0 0 0\n",
      " 0 0 0 0 0 0 0 0 0 0 0 0 0 0 0 0 0 0 0 0 0 0 0 0 0 0 0 0 0 0 0 0 0 0 0 0 0\n",
      " 0 0 0 0 0 0 0 0 0 0 0 0 0 0 0 0 0 0 0 0 0 0 0 0 0 0 0 0 0 0 0 0 0 0 0 0 0\n",
      " 0 0 0 0 0 0 0 0 0 0 0 0 0 0 0 0 0 0 0 0 0 0 0 0 0 0 0 0 0 0 0 0 0 0 0 0 0\n",
      " 0 0 0 0 0 0 0 0 0 0 0 0 0 0 0 0 0 0 0 0 0 0 0 0 0 0 0 0 0 0 0 0 0 0 0 0 0\n",
      " 0 0 0 0 0 0 0 0 0 0 0 0 0 0 0 0 0 0 0 0 0 0 0 0 0 0 0 0 0 0 0 0 0 0 0 0 0\n",
      " 0 0 0 0 0 0 0 0 0 0 0 0 0 0 0 0 0 0 0 0 0 0 0 0 0 0 0 0 0 0 0 0 0 0 0 0 0\n",
      " 0 0 0 0 0 0 0 0 0 0 0 0 0 0 0 0 0 0 0 0 0 0 0 0 0 0 0 0 0 0 0 0 0 0 0 0 0\n",
      " 0 0 0 0 0 0 0 0 0 0 0 0 0 0]\n",
      " \tanswer_type_ids: [0]\n",
      " \tpassage_start_t: 0\n",
      " \tstart_of_word: [0, 1, 1, 1, 1, 1, 0, 0, 0, 1, 1, 1, 0, 1, 1, 1, 0, 0, 0, 0, 0, 0, 0, 0, 0, 0, 0, 0, 0, 0, 0, 0, 0, 0, 0, 0, 0, 0, 0, 0, 0, 0, 0, 0, 0, 0, 0, 0, 0, 0, 0, 0, 0, 0, 0, 0, 0, 0, 0, 0, 0, 0, 0, 0, 0, 0, 0, 0, 0, 0, 0, 0, 0, 0, 0, 0, 0, 0, 0, 0, 0, 0, 0, 0, 0, 0, 0, 0, 0, 0, 0, 0, 0, 0, 0, 0, 0, 0, 0, 0, 0, 0, 0, 0, 0, 0, 0, 0, 0, 0, 0, 0, 0, 0, 0, 0, 0, 0, 0, 0, 0, 0, 0, 0, 0, 0, 0, 0, 0, 0, 0, 0, 0, 0, 0, 0, 0, 0, 0, 0, 0, 0, 0, 0, 0, 0, 0, 0, 0, 0, 0, 0, 0, 0, 0, 0, 0, 0, 0, 0, 0, 0, 0, 0, 0, 0, 0, 0, 0, 0, 0, 0, 0, 0, 0, 0, 0, 0, 0, 0, 0, 0, 0, 0, 0, 0, 0, 0, 0, 0, 0, 0, 0, 0, 0, 0, 0, 0, 0, 0, 0, 0, 0, 0, 0, 0, 0, 0, 0, 0, 0, 0, 0, 0, 0, 0, 0, 0, 0, 0, 0, 0, 0, 0, 0, 0, 0, 0, 0, 0, 0, 0, 0, 0, 0, 0, 0, 0, 0, 0, 0, 0, 0, 0, 0, 0, 0, 0, 0, 0, 0, 0, 0, 0, 0, 0, 0, 0, 0, 0, 0, 0, 0, 0, 0, 0, 0, 0, 0, 0, 0, 0, 0, 0, 0, 0, 0, 0, 0, 0, 0, 0, 0, 0, 0, 0, 0, 0, 0, 0, 0, 0, 0, 0, 0, 0, 0, 0, 0, 0, 0, 0, 0, 0, 0, 0, 0, 0, 0, 0, 0, 0, 0, 0, 0, 0, 0, 0, 0, 0, 0, 0, 0, 0, 0, 0, 0, 0, 0, 0, 0, 0, 0, 0, 0, 0, 0, 0, 0, 0, 0, 0, 0, 0, 0, 0, 0, 0, 0, 0, 0, 0, 0, 0, 0, 0, 0, 0, 0, 0, 0, 0, 0, 0, 0, 0, 0, 0, 0, 0, 0, 0, 0, 0, 0, 0, 0, 0, 0, 0, 0, 0, 0, 0]\n",
      " \tlabels: [[ 0  0]\n",
      " [-1 -1]\n",
      " [-1 -1]\n",
      " [-1 -1]\n",
      " [-1 -1]\n",
      " [-1 -1]]\n",
      " \tid: [3, 0, 0]\n",
      " \tseq_2_start_t: 9\n",
      " \tspan_mask: [1, 0, 0, 0, 0, 0, 0, 0, 0, 1, 1, 1, 1, 1, 1, 1, 1, 0, 0, 0, 0, 0, 0, 0, 0, 0, 0, 0, 0, 0, 0, 0, 0, 0, 0, 0, 0, 0, 0, 0, 0, 0, 0, 0, 0, 0, 0, 0, 0, 0, 0, 0, 0, 0, 0, 0, 0, 0, 0, 0, 0, 0, 0, 0, 0, 0, 0, 0, 0, 0, 0, 0, 0, 0, 0, 0, 0, 0, 0, 0, 0, 0, 0, 0, 0, 0, 0, 0, 0, 0, 0, 0, 0, 0, 0, 0, 0, 0, 0, 0, 0, 0, 0, 0, 0, 0, 0, 0, 0, 0, 0, 0, 0, 0, 0, 0, 0, 0, 0, 0, 0, 0, 0, 0, 0, 0, 0, 0, 0, 0, 0, 0, 0, 0, 0, 0, 0, 0, 0, 0, 0, 0, 0, 0, 0, 0, 0, 0, 0, 0, 0, 0, 0, 0, 0, 0, 0, 0, 0, 0, 0, 0, 0, 0, 0, 0, 0, 0, 0, 0, 0, 0, 0, 0, 0, 0, 0, 0, 0, 0, 0, 0, 0, 0, 0, 0, 0, 0, 0, 0, 0, 0, 0, 0, 0, 0, 0, 0, 0, 0, 0, 0, 0, 0, 0, 0, 0, 0, 0, 0, 0, 0, 0, 0, 0, 0, 0, 0, 0, 0, 0, 0, 0, 0, 0, 0, 0, 0, 0, 0, 0, 0, 0, 0, 0, 0, 0, 0, 0, 0, 0, 0, 0, 0, 0, 0, 0, 0, 0, 0, 0, 0, 0, 0, 0, 0, 0, 0, 0, 0, 0, 0, 0, 0, 0, 0, 0, 0, 0, 0, 0, 0, 0, 0, 0, 0, 0, 0, 0, 0, 0, 0, 0, 0, 0, 0, 0, 0, 0, 0, 0, 0, 0, 0, 0, 0, 0, 0, 0, 0, 0, 0, 0, 0, 0, 0, 0, 0, 0, 0, 0, 0, 0, 0, 0, 0, 0, 0, 0, 0, 0, 0, 0, 0, 0, 0, 0, 0, 0, 0, 0, 0, 0, 0, 0, 0, 0, 0, 0, 0, 0, 0, 0, 0, 0, 0, 0, 0, 0, 0, 0, 0, 0, 0, 0, 0, 0, 0, 0, 0, 0, 0, 0, 0, 0, 0, 0, 0, 0, 0, 0, 0, 0, 0, 0, 0, 0, 0, 0, 0, 0, 0, 0, 0]\n",
      "_____________________________________________________\n",
      "Preprocessing Dataset /opt/app-root/src/aicoe-osc-demo/data/squad/kpi_train_split.json: 100%|██████████| 127/127 [00:07<00:00, 18.06 Dicts/s]\n",
      "07/10/2022 01:43:08 - INFO - farm.data_handler.data_silo -   Loading dev set from: /opt/app-root/src/aicoe-osc-demo/data/squad/kpi_val_split.json\n",
      "07/10/2022 01:43:08 - INFO - farm.data_handler.data_silo -   Got ya 7 parallel workers to convert 32 dictionaries to pytorch datasets (chunksize = 4)...\n",
      "07/10/2022 01:43:08 - INFO - farm.data_handler.data_silo -    0    0    0    0    0    0    0 \n",
      "07/10/2022 01:43:08 - INFO - farm.data_handler.data_silo -   /w\\  /|\\  /w\\  /w\\  /w\\  /w\\  /|\\\n",
      "07/10/2022 01:43:08 - INFO - farm.data_handler.data_silo -   /'\\  /'\\  / \\  / \\  / \\  /'\\  /'\\\n",
      "07/10/2022 01:43:08 - INFO - farm.data_handler.data_silo -               \n",
      "Preprocessing Dataset /opt/app-root/src/aicoe-osc-demo/data/squad/kpi_val_split.json:   0%|          | 0/32 [00:00<?, ? Dicts/s]07/10/2022 01:43:08 - INFO - farm.data_handler.processor -   *** Show 2 random examples ***\n",
      "07/10/2022 01:43:08 - INFO - farm.data_handler.processor -   \n",
      "\n",
      "      .--.        _____                       _      \n",
      "    .'_\\/_'.     / ____|                     | |     \n",
      "    '. /\\ .'    | (___   __ _ _ __ ___  _ __ | | ___ \n",
      "      \"||\"       \\___ \\ / _` | '_ ` _ \\| '_ \\| |/ _ \\ \n",
      "       || /\\     ____) | (_| | | | | | | |_) | |  __/\n",
      "    /\\ ||//\\)   |_____/ \\__,_|_| |_| |_| .__/|_|\\___|\n",
      "   (/\\||/                             |_|           \n",
      "______\\||/___________________________________________                     \n",
      "\n",
      "ID: 1-3-0\n",
      "Clear Text: \n",
      " \tpassage_text: c6.5 account for your organization’s gross global scope 3 emissions, disclosing and explaining any exclusions.\n",
      " \tquestion_text: What is the total amount of scope 1 and 2 greenhouse gases emissions?\n",
      " \tpassage_id: 0\n",
      " \tanswers: []\n",
      "Tokenized: \n",
      " \tpassage_start_t: 0\n",
      " \tpassage_tokens: ['c', '6', '.', '5', 'Ġaccount', 'Ġfor', 'Ġyour', 'Ġorganization', 'âĢ', 'Ļ', 's', 'Ġgross', 'Ġglobal', 'Ġscope', 'Ġ3', 'Ġemissions', ',', 'Ġdisclosing', 'Ġand', 'Ġexplaining', 'Ġany', 'Ġexclus', 'ions', '.']\n",
      " \tpassage_offsets: [0, 1, 2, 3, 5, 13, 17, 22, 34, 36, 37, 37, 43, 50, 56, 58, 67, 69, 80, 84, 95, 99, 105, 109]\n",
      " \tpassage_start_of_word: [1, 0, 0, 0, 1, 1, 1, 1, 0, 0, 0, 1, 1, 1, 1, 1, 0, 1, 1, 1, 1, 1, 0, 0]\n",
      " \tquestion_tokens: ['What', 'Ġis', 'Ġthe', 'Ġtotal', 'Ġamount', 'Ġof', 'Ġscope', 'Ġ1', 'Ġand', 'Ġ2', 'Ġgreenhouse', 'Ġgases', 'Ġemissions', '?']\n",
      " \tquestion_offsets: [0, 5, 8, 12, 18, 25, 28, 34, 36, 40, 42, 53, 59, 68]\n",
      " \tquestion_start_of_word: [1, 1, 1, 1, 1, 1, 1, 1, 1, 1, 1, 1, 1, 0]\n",
      " \tanswers: []\n",
      " \tdocument_offsets: [0, 1, 2, 3, 5, 13, 17, 22, 34, 36, 37, 37, 43, 50, 56, 58, 67, 69, 80, 84, 95, 99, 105, 109]\n",
      "Features: \n",
      " \tinput_ids: [0, 2264, 16, 5, 746, 1280, 9, 7401, 112, 8, 132, 11832, 20038, 5035, 116, 2, 2, 438, 401, 4, 245, 1316, 13, 110, 1651, 17, 27, 29, 4200, 720, 7401, 155, 5035, 6, 26344, 8, 8926, 143, 25948, 2485, 4, 2, 1, 1, 1, 1, 1, 1, 1, 1, 1, 1, 1, 1, 1, 1, 1, 1, 1, 1, 1, 1, 1, 1, 1, 1, 1, 1, 1, 1, 1, 1, 1, 1, 1, 1, 1, 1, 1, 1, 1, 1, 1, 1, 1, 1, 1, 1, 1, 1, 1, 1, 1, 1, 1, 1, 1, 1, 1, 1, 1, 1, 1, 1, 1, 1, 1, 1, 1, 1, 1, 1, 1, 1, 1, 1, 1, 1, 1, 1, 1, 1, 1, 1, 1, 1, 1, 1, 1, 1, 1, 1, 1, 1, 1, 1, 1, 1, 1, 1, 1, 1, 1, 1, 1, 1, 1, 1, 1, 1, 1, 1, 1, 1, 1, 1, 1, 1, 1, 1, 1, 1, 1, 1, 1, 1, 1, 1, 1, 1, 1, 1, 1, 1, 1, 1, 1, 1, 1, 1, 1, 1, 1, 1, 1, 1, 1, 1, 1, 1, 1, 1, 1, 1, 1, 1, 1, 1, 1, 1, 1, 1, 1, 1, 1, 1, 1, 1, 1, 1, 1, 1, 1, 1, 1, 1, 1, 1, 1, 1, 1, 1, 1, 1, 1, 1, 1, 1, 1, 1, 1, 1, 1, 1, 1, 1, 1, 1, 1, 1, 1, 1, 1, 1, 1, 1, 1, 1, 1, 1, 1, 1, 1, 1, 1, 1, 1, 1, 1, 1, 1, 1, 1, 1, 1, 1, 1, 1, 1, 1, 1, 1, 1, 1, 1, 1, 1, 1, 1, 1, 1, 1, 1, 1, 1, 1, 1, 1, 1, 1, 1, 1, 1, 1, 1, 1, 1, 1, 1, 1, 1, 1, 1, 1, 1, 1, 1, 1, 1, 1, 1, 1, 1, 1, 1, 1, 1, 1, 1, 1, 1, 1, 1, 1, 1, 1, 1, 1, 1, 1, 1, 1, 1, 1, 1, 1, 1, 1, 1, 1, 1, 1, 1, 1, 1, 1, 1, 1, 1, 1, 1, 1, 1, 1, 1, 1, 1, 1, 1, 1, 1, 1, 1, 1, 1, 1, 1, 1, 1, 1, 1, 1, 1, 1, 1, 1, 1, 1, 1, 1, 1, 1, 1, 1]\n",
      " \tpadding_mask: [1, 1, 1, 1, 1, 1, 1, 1, 1, 1, 1, 1, 1, 1, 1, 1, 1, 1, 1, 1, 1, 1, 1, 1, 1, 1, 1, 1, 1, 1, 1, 1, 1, 1, 1, 1, 1, 1, 1, 1, 1, 1, 0, 0, 0, 0, 0, 0, 0, 0, 0, 0, 0, 0, 0, 0, 0, 0, 0, 0, 0, 0, 0, 0, 0, 0, 0, 0, 0, 0, 0, 0, 0, 0, 0, 0, 0, 0, 0, 0, 0, 0, 0, 0, 0, 0, 0, 0, 0, 0, 0, 0, 0, 0, 0, 0, 0, 0, 0, 0, 0, 0, 0, 0, 0, 0, 0, 0, 0, 0, 0, 0, 0, 0, 0, 0, 0, 0, 0, 0, 0, 0, 0, 0, 0, 0, 0, 0, 0, 0, 0, 0, 0, 0, 0, 0, 0, 0, 0, 0, 0, 0, 0, 0, 0, 0, 0, 0, 0, 0, 0, 0, 0, 0, 0, 0, 0, 0, 0, 0, 0, 0, 0, 0, 0, 0, 0, 0, 0, 0, 0, 0, 0, 0, 0, 0, 0, 0, 0, 0, 0, 0, 0, 0, 0, 0, 0, 0, 0, 0, 0, 0, 0, 0, 0, 0, 0, 0, 0, 0, 0, 0, 0, 0, 0, 0, 0, 0, 0, 0, 0, 0, 0, 0, 0, 0, 0, 0, 0, 0, 0, 0, 0, 0, 0, 0, 0, 0, 0, 0, 0, 0, 0, 0, 0, 0, 0, 0, 0, 0, 0, 0, 0, 0, 0, 0, 0, 0, 0, 0, 0, 0, 0, 0, 0, 0, 0, 0, 0, 0, 0, 0, 0, 0, 0, 0, 0, 0, 0, 0, 0, 0, 0, 0, 0, 0, 0, 0, 0, 0, 0, 0, 0, 0, 0, 0, 0, 0, 0, 0, 0, 0, 0, 0, 0, 0, 0, 0, 0, 0, 0, 0, 0, 0, 0, 0, 0, 0, 0, 0, 0, 0, 0, 0, 0, 0, 0, 0, 0, 0, 0, 0, 0, 0, 0, 0, 0, 0, 0, 0, 0, 0, 0, 0, 0, 0, 0, 0, 0, 0, 0, 0, 0, 0, 0, 0, 0, 0, 0, 0, 0, 0, 0, 0, 0, 0, 0, 0, 0, 0, 0, 0, 0, 0, 0, 0, 0, 0, 0, 0, 0, 0, 0, 0, 0, 0, 0, 0, 0, 0, 0, 0, 0, 0]\n",
      " \tsegment_ids: [0 0 0 0 0 0 0 0 0 0 0 0 0 0 0 0 0 0 0 0 0 0 0 0 0 0 0 0 0 0 0 0 0 0 0 0 0\n",
      " 0 0 0 0 0 0 0 0 0 0 0 0 0 0 0 0 0 0 0 0 0 0 0 0 0 0 0 0 0 0 0 0 0 0 0 0 0\n",
      " 0 0 0 0 0 0 0 0 0 0 0 0 0 0 0 0 0 0 0 0 0 0 0 0 0 0 0 0 0 0 0 0 0 0 0 0 0\n",
      " 0 0 0 0 0 0 0 0 0 0 0 0 0 0 0 0 0 0 0 0 0 0 0 0 0 0 0 0 0 0 0 0 0 0 0 0 0\n",
      " 0 0 0 0 0 0 0 0 0 0 0 0 0 0 0 0 0 0 0 0 0 0 0 0 0 0 0 0 0 0 0 0 0 0 0 0 0\n",
      " 0 0 0 0 0 0 0 0 0 0 0 0 0 0 0 0 0 0 0 0 0 0 0 0 0 0 0 0 0 0 0 0 0 0 0 0 0\n",
      " 0 0 0 0 0 0 0 0 0 0 0 0 0 0 0 0 0 0 0 0 0 0 0 0 0 0 0 0 0 0 0 0 0 0 0 0 0\n",
      " 0 0 0 0 0 0 0 0 0 0 0 0 0 0 0 0 0 0 0 0 0 0 0 0 0 0 0 0 0 0 0 0 0 0 0 0 0\n",
      " 0 0 0 0 0 0 0 0 0 0 0 0 0 0 0 0 0 0 0 0 0 0 0 0 0 0 0 0 0 0 0 0 0 0 0 0 0\n",
      " 0 0 0 0 0 0 0 0 0 0 0 0 0 0 0 0 0 0 0 0 0 0 0 0 0 0 0 0 0 0 0 0 0 0 0 0 0\n",
      " 0 0 0 0 0 0 0 0 0 0 0 0 0 0]\n",
      " \tanswer_type_ids: [0]\n",
      " \tpassage_start_t: 0\n",
      " \tstart_of_word: [0, 1, 1, 1, 1, 1, 1, 1, 1, 1, 1, 1, 1, 1, 0, 0, 0, 1, 0, 0, 0, 1, 1, 1, 1, 0, 0, 0, 1, 1, 1, 1, 1, 0, 1, 1, 1, 1, 1, 0, 0, 0, 0, 0, 0, 0, 0, 0, 0, 0, 0, 0, 0, 0, 0, 0, 0, 0, 0, 0, 0, 0, 0, 0, 0, 0, 0, 0, 0, 0, 0, 0, 0, 0, 0, 0, 0, 0, 0, 0, 0, 0, 0, 0, 0, 0, 0, 0, 0, 0, 0, 0, 0, 0, 0, 0, 0, 0, 0, 0, 0, 0, 0, 0, 0, 0, 0, 0, 0, 0, 0, 0, 0, 0, 0, 0, 0, 0, 0, 0, 0, 0, 0, 0, 0, 0, 0, 0, 0, 0, 0, 0, 0, 0, 0, 0, 0, 0, 0, 0, 0, 0, 0, 0, 0, 0, 0, 0, 0, 0, 0, 0, 0, 0, 0, 0, 0, 0, 0, 0, 0, 0, 0, 0, 0, 0, 0, 0, 0, 0, 0, 0, 0, 0, 0, 0, 0, 0, 0, 0, 0, 0, 0, 0, 0, 0, 0, 0, 0, 0, 0, 0, 0, 0, 0, 0, 0, 0, 0, 0, 0, 0, 0, 0, 0, 0, 0, 0, 0, 0, 0, 0, 0, 0, 0, 0, 0, 0, 0, 0, 0, 0, 0, 0, 0, 0, 0, 0, 0, 0, 0, 0, 0, 0, 0, 0, 0, 0, 0, 0, 0, 0, 0, 0, 0, 0, 0, 0, 0, 0, 0, 0, 0, 0, 0, 0, 0, 0, 0, 0, 0, 0, 0, 0, 0, 0, 0, 0, 0, 0, 0, 0, 0, 0, 0, 0, 0, 0, 0, 0, 0, 0, 0, 0, 0, 0, 0, 0, 0, 0, 0, 0, 0, 0, 0, 0, 0, 0, 0, 0, 0, 0, 0, 0, 0, 0, 0, 0, 0, 0, 0, 0, 0, 0, 0, 0, 0, 0, 0, 0, 0, 0, 0, 0, 0, 0, 0, 0, 0, 0, 0, 0, 0, 0, 0, 0, 0, 0, 0, 0, 0, 0, 0, 0, 0, 0, 0, 0, 0, 0, 0, 0, 0, 0, 0, 0, 0, 0, 0, 0, 0, 0, 0, 0, 0, 0, 0, 0, 0, 0, 0, 0, 0, 0, 0, 0, 0, 0, 0, 0, 0, 0, 0, 0]\n",
      " \tlabels: [[ 0  0]\n",
      " [-1 -1]\n",
      " [-1 -1]\n",
      " [-1 -1]\n",
      " [-1 -1]\n",
      " [-1 -1]]\n",
      " \tid: [1, 3, 0]\n",
      " \tseq_2_start_t: 17\n",
      " \tspan_mask: [1, 0, 0, 0, 0, 0, 0, 0, 0, 0, 0, 0, 0, 0, 0, 0, 0, 1, 1, 1, 1, 1, 1, 1, 1, 1, 1, 1, 1, 1, 1, 1, 1, 1, 1, 1, 1, 1, 1, 1, 1, 0, 0, 0, 0, 0, 0, 0, 0, 0, 0, 0, 0, 0, 0, 0, 0, 0, 0, 0, 0, 0, 0, 0, 0, 0, 0, 0, 0, 0, 0, 0, 0, 0, 0, 0, 0, 0, 0, 0, 0, 0, 0, 0, 0, 0, 0, 0, 0, 0, 0, 0, 0, 0, 0, 0, 0, 0, 0, 0, 0, 0, 0, 0, 0, 0, 0, 0, 0, 0, 0, 0, 0, 0, 0, 0, 0, 0, 0, 0, 0, 0, 0, 0, 0, 0, 0, 0, 0, 0, 0, 0, 0, 0, 0, 0, 0, 0, 0, 0, 0, 0, 0, 0, 0, 0, 0, 0, 0, 0, 0, 0, 0, 0, 0, 0, 0, 0, 0, 0, 0, 0, 0, 0, 0, 0, 0, 0, 0, 0, 0, 0, 0, 0, 0, 0, 0, 0, 0, 0, 0, 0, 0, 0, 0, 0, 0, 0, 0, 0, 0, 0, 0, 0, 0, 0, 0, 0, 0, 0, 0, 0, 0, 0, 0, 0, 0, 0, 0, 0, 0, 0, 0, 0, 0, 0, 0, 0, 0, 0, 0, 0, 0, 0, 0, 0, 0, 0, 0, 0, 0, 0, 0, 0, 0, 0, 0, 0, 0, 0, 0, 0, 0, 0, 0, 0, 0, 0, 0, 0, 0, 0, 0, 0, 0, 0, 0, 0, 0, 0, 0, 0, 0, 0, 0, 0, 0, 0, 0, 0, 0, 0, 0, 0, 0, 0, 0, 0, 0, 0, 0, 0, 0, 0, 0, 0, 0, 0, 0, 0, 0, 0, 0, 0, 0, 0, 0, 0, 0, 0, 0, 0, 0, 0, 0, 0, 0, 0, 0, 0, 0, 0, 0, 0, 0, 0, 0, 0, 0, 0, 0, 0, 0, 0, 0, 0, 0, 0, 0, 0, 0, 0, 0, 0, 0, 0, 0, 0, 0, 0, 0, 0, 0, 0, 0, 0, 0, 0, 0, 0, 0, 0, 0, 0, 0, 0, 0, 0, 0, 0, 0, 0, 0, 0, 0, 0, 0, 0, 0, 0, 0, 0, 0, 0, 0, 0, 0, 0, 0, 0, 0, 0, 0, 0]\n",
      "_____________________________________________________\n",
      "07/10/2022 01:43:08 - INFO - farm.data_handler.processor -   \n",
      "\n",
      "      .--.        _____                       _      \n",
      "    .'_\\/_'.     / ____|                     | |     \n",
      "    '. /\\ .'    | (___   __ _ _ __ ___  _ __ | | ___ \n",
      "      \"||\"       \\___ \\ / _` | '_ ` _ \\| '_ \\| |/ _ \\ \n",
      "       || /\\     ____) | (_| | | | | | | |_) | |  __/\n",
      "    /\\ ||//\\)   |_____/ \\__,_|_| |_| |_| .__/|_|\\___|\n",
      "   (/\\||/                             |_|           \n",
      "______\\||/___________________________________________                     \n",
      "\n",
      "ID: 1-2-0\n",
      "Clear Text: \n",
      " \tpassage_text: c6.5 account for your organization’s gross global scope 3 emissions, disclosing and explaining any exclusions.\n",
      " \tquestion_text: What is the total amount of upstream energy indirect greenhouse gases emissions referred to as scope 3 emissions?\n",
      " \tpassage_id: 0\n",
      " \tanswers: []\n",
      "Tokenized: \n",
      " \tpassage_start_t: 0\n",
      " \tpassage_tokens: ['c', '6', '.', '5', 'Ġaccount', 'Ġfor', 'Ġyour', 'Ġorganization', 'âĢ', 'Ļ', 's', 'Ġgross', 'Ġglobal', 'Ġscope', 'Ġ3', 'Ġemissions', ',', 'Ġdisclosing', 'Ġand', 'Ġexplaining', 'Ġany', 'Ġexclus', 'ions', '.']\n",
      " \tpassage_offsets: [0, 1, 2, 3, 5, 13, 17, 22, 34, 36, 37, 37, 43, 50, 56, 58, 67, 69, 80, 84, 95, 99, 105, 109]\n",
      " \tpassage_start_of_word: [1, 0, 0, 0, 1, 1, 1, 1, 0, 0, 0, 1, 1, 1, 1, 1, 0, 1, 1, 1, 1, 1, 0, 0]\n",
      " \tquestion_tokens: ['What', 'Ġis', 'Ġthe', 'Ġtotal', 'Ġamount', 'Ġof', 'Ġupstream', 'Ġenergy', 'Ġindirect', 'Ġgreenhouse', 'Ġgases', 'Ġemissions', 'Ġreferred', 'Ġto', 'Ġas', 'Ġscope', 'Ġ3', 'Ġemissions', '?']\n",
      " \tquestion_offsets: [0, 5, 8, 12, 18, 25, 28, 37, 44, 53, 64, 70, 80, 89, 92, 95, 101, 103, 112]\n",
      " \tquestion_start_of_word: [1, 1, 1, 1, 1, 1, 1, 1, 1, 1, 1, 1, 1, 1, 1, 1, 1, 1, 0]\n",
      " \tanswers: []\n",
      " \tdocument_offsets: [0, 1, 2, 3, 5, 13, 17, 22, 34, 36, 37, 37, 43, 50, 56, 58, 67, 69, 80, 84, 95, 99, 105, 109]\n",
      "Features: \n",
      " \tinput_ids: [0, 2264, 16, 5, 746, 1280, 9, 21561, 1007, 18677, 11832, 20038, 5035, 4997, 7, 25, 7401, 155, 5035, 116, 2, 2, 438, 401, 4, 245, 1316, 13, 110, 1651, 17, 27, 29, 4200, 720, 7401, 155, 5035, 6, 26344, 8, 8926, 143, 25948, 2485, 4, 2, 1, 1, 1, 1, 1, 1, 1, 1, 1, 1, 1, 1, 1, 1, 1, 1, 1, 1, 1, 1, 1, 1, 1, 1, 1, 1, 1, 1, 1, 1, 1, 1, 1, 1, 1, 1, 1, 1, 1, 1, 1, 1, 1, 1, 1, 1, 1, 1, 1, 1, 1, 1, 1, 1, 1, 1, 1, 1, 1, 1, 1, 1, 1, 1, 1, 1, 1, 1, 1, 1, 1, 1, 1, 1, 1, 1, 1, 1, 1, 1, 1, 1, 1, 1, 1, 1, 1, 1, 1, 1, 1, 1, 1, 1, 1, 1, 1, 1, 1, 1, 1, 1, 1, 1, 1, 1, 1, 1, 1, 1, 1, 1, 1, 1, 1, 1, 1, 1, 1, 1, 1, 1, 1, 1, 1, 1, 1, 1, 1, 1, 1, 1, 1, 1, 1, 1, 1, 1, 1, 1, 1, 1, 1, 1, 1, 1, 1, 1, 1, 1, 1, 1, 1, 1, 1, 1, 1, 1, 1, 1, 1, 1, 1, 1, 1, 1, 1, 1, 1, 1, 1, 1, 1, 1, 1, 1, 1, 1, 1, 1, 1, 1, 1, 1, 1, 1, 1, 1, 1, 1, 1, 1, 1, 1, 1, 1, 1, 1, 1, 1, 1, 1, 1, 1, 1, 1, 1, 1, 1, 1, 1, 1, 1, 1, 1, 1, 1, 1, 1, 1, 1, 1, 1, 1, 1, 1, 1, 1, 1, 1, 1, 1, 1, 1, 1, 1, 1, 1, 1, 1, 1, 1, 1, 1, 1, 1, 1, 1, 1, 1, 1, 1, 1, 1, 1, 1, 1, 1, 1, 1, 1, 1, 1, 1, 1, 1, 1, 1, 1, 1, 1, 1, 1, 1, 1, 1, 1, 1, 1, 1, 1, 1, 1, 1, 1, 1, 1, 1, 1, 1, 1, 1, 1, 1, 1, 1, 1, 1, 1, 1, 1, 1, 1, 1, 1, 1, 1, 1, 1, 1, 1, 1, 1, 1, 1, 1, 1, 1, 1, 1, 1, 1, 1, 1, 1, 1, 1, 1, 1, 1, 1, 1, 1, 1, 1, 1, 1]\n",
      " \tpadding_mask: [1, 1, 1, 1, 1, 1, 1, 1, 1, 1, 1, 1, 1, 1, 1, 1, 1, 1, 1, 1, 1, 1, 1, 1, 1, 1, 1, 1, 1, 1, 1, 1, 1, 1, 1, 1, 1, 1, 1, 1, 1, 1, 1, 1, 1, 1, 1, 0, 0, 0, 0, 0, 0, 0, 0, 0, 0, 0, 0, 0, 0, 0, 0, 0, 0, 0, 0, 0, 0, 0, 0, 0, 0, 0, 0, 0, 0, 0, 0, 0, 0, 0, 0, 0, 0, 0, 0, 0, 0, 0, 0, 0, 0, 0, 0, 0, 0, 0, 0, 0, 0, 0, 0, 0, 0, 0, 0, 0, 0, 0, 0, 0, 0, 0, 0, 0, 0, 0, 0, 0, 0, 0, 0, 0, 0, 0, 0, 0, 0, 0, 0, 0, 0, 0, 0, 0, 0, 0, 0, 0, 0, 0, 0, 0, 0, 0, 0, 0, 0, 0, 0, 0, 0, 0, 0, 0, 0, 0, 0, 0, 0, 0, 0, 0, 0, 0, 0, 0, 0, 0, 0, 0, 0, 0, 0, 0, 0, 0, 0, 0, 0, 0, 0, 0, 0, 0, 0, 0, 0, 0, 0, 0, 0, 0, 0, 0, 0, 0, 0, 0, 0, 0, 0, 0, 0, 0, 0, 0, 0, 0, 0, 0, 0, 0, 0, 0, 0, 0, 0, 0, 0, 0, 0, 0, 0, 0, 0, 0, 0, 0, 0, 0, 0, 0, 0, 0, 0, 0, 0, 0, 0, 0, 0, 0, 0, 0, 0, 0, 0, 0, 0, 0, 0, 0, 0, 0, 0, 0, 0, 0, 0, 0, 0, 0, 0, 0, 0, 0, 0, 0, 0, 0, 0, 0, 0, 0, 0, 0, 0, 0, 0, 0, 0, 0, 0, 0, 0, 0, 0, 0, 0, 0, 0, 0, 0, 0, 0, 0, 0, 0, 0, 0, 0, 0, 0, 0, 0, 0, 0, 0, 0, 0, 0, 0, 0, 0, 0, 0, 0, 0, 0, 0, 0, 0, 0, 0, 0, 0, 0, 0, 0, 0, 0, 0, 0, 0, 0, 0, 0, 0, 0, 0, 0, 0, 0, 0, 0, 0, 0, 0, 0, 0, 0, 0, 0, 0, 0, 0, 0, 0, 0, 0, 0, 0, 0, 0, 0, 0, 0, 0, 0, 0, 0, 0, 0, 0, 0, 0, 0, 0, 0, 0, 0, 0]\n",
      " \tsegment_ids: [0 0 0 0 0 0 0 0 0 0 0 0 0 0 0 0 0 0 0 0 0 0 0 0 0 0 0 0 0 0 0 0 0 0 0 0 0\n",
      " 0 0 0 0 0 0 0 0 0 0 0 0 0 0 0 0 0 0 0 0 0 0 0 0 0 0 0 0 0 0 0 0 0 0 0 0 0\n",
      " 0 0 0 0 0 0 0 0 0 0 0 0 0 0 0 0 0 0 0 0 0 0 0 0 0 0 0 0 0 0 0 0 0 0 0 0 0\n",
      " 0 0 0 0 0 0 0 0 0 0 0 0 0 0 0 0 0 0 0 0 0 0 0 0 0 0 0 0 0 0 0 0 0 0 0 0 0\n",
      " 0 0 0 0 0 0 0 0 0 0 0 0 0 0 0 0 0 0 0 0 0 0 0 0 0 0 0 0 0 0 0 0 0 0 0 0 0\n",
      " 0 0 0 0 0 0 0 0 0 0 0 0 0 0 0 0 0 0 0 0 0 0 0 0 0 0 0 0 0 0 0 0 0 0 0 0 0\n",
      " 0 0 0 0 0 0 0 0 0 0 0 0 0 0 0 0 0 0 0 0 0 0 0 0 0 0 0 0 0 0 0 0 0 0 0 0 0\n",
      " 0 0 0 0 0 0 0 0 0 0 0 0 0 0 0 0 0 0 0 0 0 0 0 0 0 0 0 0 0 0 0 0 0 0 0 0 0\n",
      " 0 0 0 0 0 0 0 0 0 0 0 0 0 0 0 0 0 0 0 0 0 0 0 0 0 0 0 0 0 0 0 0 0 0 0 0 0\n",
      " 0 0 0 0 0 0 0 0 0 0 0 0 0 0 0 0 0 0 0 0 0 0 0 0 0 0 0 0 0 0 0 0 0 0 0 0 0\n",
      " 0 0 0 0 0 0 0 0 0 0 0 0 0 0]\n",
      " \tanswer_type_ids: [0]\n",
      " \tpassage_start_t: 0\n",
      " \tstart_of_word: [0, 1, 1, 1, 1, 1, 1, 1, 1, 1, 1, 1, 1, 1, 1, 1, 1, 1, 1, 0, 0, 0, 1, 0, 0, 0, 1, 1, 1, 1, 0, 0, 0, 1, 1, 1, 1, 1, 0, 1, 1, 1, 1, 1, 0, 0, 0, 0, 0, 0, 0, 0, 0, 0, 0, 0, 0, 0, 0, 0, 0, 0, 0, 0, 0, 0, 0, 0, 0, 0, 0, 0, 0, 0, 0, 0, 0, 0, 0, 0, 0, 0, 0, 0, 0, 0, 0, 0, 0, 0, 0, 0, 0, 0, 0, 0, 0, 0, 0, 0, 0, 0, 0, 0, 0, 0, 0, 0, 0, 0, 0, 0, 0, 0, 0, 0, 0, 0, 0, 0, 0, 0, 0, 0, 0, 0, 0, 0, 0, 0, 0, 0, 0, 0, 0, 0, 0, 0, 0, 0, 0, 0, 0, 0, 0, 0, 0, 0, 0, 0, 0, 0, 0, 0, 0, 0, 0, 0, 0, 0, 0, 0, 0, 0, 0, 0, 0, 0, 0, 0, 0, 0, 0, 0, 0, 0, 0, 0, 0, 0, 0, 0, 0, 0, 0, 0, 0, 0, 0, 0, 0, 0, 0, 0, 0, 0, 0, 0, 0, 0, 0, 0, 0, 0, 0, 0, 0, 0, 0, 0, 0, 0, 0, 0, 0, 0, 0, 0, 0, 0, 0, 0, 0, 0, 0, 0, 0, 0, 0, 0, 0, 0, 0, 0, 0, 0, 0, 0, 0, 0, 0, 0, 0, 0, 0, 0, 0, 0, 0, 0, 0, 0, 0, 0, 0, 0, 0, 0, 0, 0, 0, 0, 0, 0, 0, 0, 0, 0, 0, 0, 0, 0, 0, 0, 0, 0, 0, 0, 0, 0, 0, 0, 0, 0, 0, 0, 0, 0, 0, 0, 0, 0, 0, 0, 0, 0, 0, 0, 0, 0, 0, 0, 0, 0, 0, 0, 0, 0, 0, 0, 0, 0, 0, 0, 0, 0, 0, 0, 0, 0, 0, 0, 0, 0, 0, 0, 0, 0, 0, 0, 0, 0, 0, 0, 0, 0, 0, 0, 0, 0, 0, 0, 0, 0, 0, 0, 0, 0, 0, 0, 0, 0, 0, 0, 0, 0, 0, 0, 0, 0, 0, 0, 0, 0, 0, 0, 0, 0, 0, 0, 0, 0, 0, 0, 0, 0, 0, 0, 0, 0, 0, 0, 0, 0]\n",
      " \tlabels: [[ 0  0]\n",
      " [-1 -1]\n",
      " [-1 -1]\n",
      " [-1 -1]\n",
      " [-1 -1]\n",
      " [-1 -1]]\n",
      " \tid: [1, 2, 0]\n",
      " \tseq_2_start_t: 22\n",
      " \tspan_mask: [1, 0, 0, 0, 0, 0, 0, 0, 0, 0, 0, 0, 0, 0, 0, 0, 0, 0, 0, 0, 0, 0, 1, 1, 1, 1, 1, 1, 1, 1, 1, 1, 1, 1, 1, 1, 1, 1, 1, 1, 1, 1, 1, 1, 1, 1, 0, 0, 0, 0, 0, 0, 0, 0, 0, 0, 0, 0, 0, 0, 0, 0, 0, 0, 0, 0, 0, 0, 0, 0, 0, 0, 0, 0, 0, 0, 0, 0, 0, 0, 0, 0, 0, 0, 0, 0, 0, 0, 0, 0, 0, 0, 0, 0, 0, 0, 0, 0, 0, 0, 0, 0, 0, 0, 0, 0, 0, 0, 0, 0, 0, 0, 0, 0, 0, 0, 0, 0, 0, 0, 0, 0, 0, 0, 0, 0, 0, 0, 0, 0, 0, 0, 0, 0, 0, 0, 0, 0, 0, 0, 0, 0, 0, 0, 0, 0, 0, 0, 0, 0, 0, 0, 0, 0, 0, 0, 0, 0, 0, 0, 0, 0, 0, 0, 0, 0, 0, 0, 0, 0, 0, 0, 0, 0, 0, 0, 0, 0, 0, 0, 0, 0, 0, 0, 0, 0, 0, 0, 0, 0, 0, 0, 0, 0, 0, 0, 0, 0, 0, 0, 0, 0, 0, 0, 0, 0, 0, 0, 0, 0, 0, 0, 0, 0, 0, 0, 0, 0, 0, 0, 0, 0, 0, 0, 0, 0, 0, 0, 0, 0, 0, 0, 0, 0, 0, 0, 0, 0, 0, 0, 0, 0, 0, 0, 0, 0, 0, 0, 0, 0, 0, 0, 0, 0, 0, 0, 0, 0, 0, 0, 0, 0, 0, 0, 0, 0, 0, 0, 0, 0, 0, 0, 0, 0, 0, 0, 0, 0, 0, 0, 0, 0, 0, 0, 0, 0, 0, 0, 0, 0, 0, 0, 0, 0, 0, 0, 0, 0, 0, 0, 0, 0, 0, 0, 0, 0, 0, 0, 0, 0, 0, 0, 0, 0, 0, 0, 0, 0, 0, 0, 0, 0, 0, 0, 0, 0, 0, 0, 0, 0, 0, 0, 0, 0, 0, 0, 0, 0, 0, 0, 0, 0, 0, 0, 0, 0, 0, 0, 0, 0, 0, 0, 0, 0, 0, 0, 0, 0, 0, 0, 0, 0, 0, 0, 0, 0, 0, 0, 0, 0, 0, 0, 0, 0, 0, 0, 0, 0, 0, 0, 0, 0, 0, 0]\n",
      "_____________________________________________________\n",
      "Preprocessing Dataset /opt/app-root/src/aicoe-osc-demo/data/squad/kpi_val_split.json: 100%|██████████| 32/32 [00:02<00:00, 15.69 Dicts/s]\n",
      "07/10/2022 01:43:10 - INFO - farm.data_handler.data_silo -   No test set is being loaded\n",
      "07/10/2022 01:43:10 - INFO - farm.data_handler.data_silo -   Examples in train: 481\n",
      "07/10/2022 01:43:10 - INFO - farm.data_handler.data_silo -   Examples in dev  : 155\n",
      "07/10/2022 01:43:10 - INFO - farm.data_handler.data_silo -   Examples in test : 0\n",
      "07/10/2022 01:43:10 - INFO - farm.data_handler.data_silo -   \n",
      "07/10/2022 01:43:10 - INFO - farm.data_handler.data_silo -   Longest sequence length observed after clipping:     384\n",
      "07/10/2022 01:43:10 - INFO - farm.data_handler.data_silo -   Average sequence length after clipping: 114.02079002079002\n",
      "07/10/2022 01:43:10 - INFO - farm.data_handler.data_silo -   Proportion clipped:      0.08316008316008316\n",
      "07/10/2022 01:43:24 - INFO - farm.modeling.prediction_head -   Prediction head initialized with size [1024, 2]\n",
      "07/10/2022 01:43:33 - WARNING - farm.modeling.language_model -   Could not automatically detect from language model name what language it is. \n",
      "\t We guess it's an *ENGLISH* model ... \n",
      "\t If not: Init the language model by supplying the 'language' param.\n",
      "07/10/2022 01:43:36 - INFO - farm.modeling.optimization -   Loading optimizer `TransformersAdamW`: '{'correct_bias': False, 'weight_decay': 0.01, 'lr': 2e-05}'\n",
      "07/10/2022 01:43:36 - INFO - farm.modeling.optimization -   Using scheduler 'get_linear_schedule_with_warmup'\n",
      "07/10/2022 01:43:36 - INFO - farm.modeling.optimization -   Loading schedule `get_linear_schedule_with_warmup`: '{'num_warmup_steps': 1.5, 'num_training_steps': 15}'\n",
      "07/10/2022 01:43:36 - INFO - farm.train -   \n",
      " \n",
      "\n",
      "          &&& &&  & &&             _____                   _             \n",
      "      && &\\/&\\|& ()|/ @, &&       / ____|                 (_)            \n",
      "      &\\/(/&/&||/& /_/)_&/_&     | |  __ _ __ _____      ___ _ __   __ _ \n",
      "   &() &\\/&|()|/&\\/ '%\" & ()     | | |_ | '__/ _ \\ \\ /\\ / / | '_ \\ / _` |\n",
      "  &_\\_&&_\\ |& |&&/&__%_/_& &&    | |__| | | | (_) \\ V  V /| | | | | (_| |\n",
      "&&   && & &| &| /& & % ()& /&&    \\_____|_|  \\___/ \\_/\\_/ |_|_| |_|\\__, |\n",
      " ()&_---()&\\&\\|&&-&&--%---()~                                       __/ |\n",
      "     &&     \\|||                                                   |___/\n",
      "             |||\n",
      "             |||\n",
      "             |||\n",
      "       , -=-~  .-^- _\n",
      "              `\n",
      "\n",
      "Train epoch 0/0 (Cur. train loss: 0.0036):  41%|████▏     | 50/121 [00:14<00:21,  3.36it/s]\n",
      "Evaluating: 100%|██████████| 39/39 [00:03<00:00, 10.51it/s]\n",
      "07/10/2022 01:43:55 - INFO - farm.eval -   \n",
      "\n",
      "\\\\|//       \\\\|//      \\\\|//       \\\\|//     \\\\|//\n",
      "^^^^^^^^^^^^^^^^^^^^^^^^^^^^^^^^^^^^^^^^^^^^^^^^^^^^^^\n",
      "***************************************************\n",
      "***** EVALUATION | DEV SET | AFTER 50 BATCHES *****\n",
      "***************************************************\n",
      "\\\\|//       \\\\|//      \\\\|//       \\\\|//     \\\\|//\n",
      "^^^^^^^^^^^^^^^^^^^^^^^^^^^^^^^^^^^^^^^^^^^^^^^^^^^^^^\n",
      "\n",
      "07/10/2022 01:43:55 - INFO - farm.eval -   \n",
      " _________ question_answering _________\n",
      "07/10/2022 01:43:55 - INFO - farm.eval -   loss: 0.23157032764246388\n",
      "07/10/2022 01:43:55 - INFO - farm.eval -   task_name: question_answering\n",
      "07/10/2022 01:43:55 - INFO - farm.eval -   EM: 0.948905109489051\n",
      "07/10/2022 01:43:55 - INFO - farm.eval -   f1: 0.948905109489051\n",
      "07/10/2022 01:43:55 - INFO - farm.eval -   top_n_accuracy: 1.0\n",
      "07/10/2022 01:43:55 - INFO - farm.eval -   report: \n",
      " Not Implemented\n",
      "Train epoch 0/0 (Cur. train loss: 0.0001):  83%|████████▎ | 100/121 [00:32<00:05,  3.55it/s]\n",
      "Evaluating: 100%|██████████| 39/39 [00:03<00:00, 10.51it/s]\n",
      "07/10/2022 01:44:13 - INFO - farm.eval -   \n",
      "\n",
      "\\\\|//       \\\\|//      \\\\|//       \\\\|//     \\\\|//\n",
      "^^^^^^^^^^^^^^^^^^^^^^^^^^^^^^^^^^^^^^^^^^^^^^^^^^^^^^\n",
      "***************************************************\n",
      "***** EVALUATION | DEV SET | AFTER 100 BATCHES *****\n",
      "***************************************************\n",
      "\\\\|//       \\\\|//      \\\\|//       \\\\|//     \\\\|//\n",
      "^^^^^^^^^^^^^^^^^^^^^^^^^^^^^^^^^^^^^^^^^^^^^^^^^^^^^^\n",
      "\n",
      "07/10/2022 01:44:13 - INFO - farm.eval -   \n",
      " _________ question_answering _________\n",
      "07/10/2022 01:44:13 - INFO - farm.eval -   loss: 0.04425859977904287\n",
      "07/10/2022 01:44:13 - INFO - farm.eval -   task_name: question_answering\n",
      "07/10/2022 01:44:13 - INFO - farm.eval -   EM: 1.0\n",
      "07/10/2022 01:44:13 - INFO - farm.eval -   f1: 1.0\n",
      "07/10/2022 01:44:13 - INFO - farm.eval -   top_n_accuracy: 1.0\n",
      "07/10/2022 01:44:13 - INFO - farm.eval -   report: \n",
      " Not Implemented\n",
      "Train epoch 0/0 (Cur. train loss: 0.0023): 100%|██████████| 121/121 [00:42<00:00,  2.86it/s]\n",
      "Evaluating: 100%|██████████| 39/39 [00:03<00:00, 10.44it/s]\n",
      "07/10/2022 01:44:22 - INFO - farm.eval -   \n",
      "\n",
      "\\\\|//       \\\\|//      \\\\|//       \\\\|//     \\\\|//\n",
      "^^^^^^^^^^^^^^^^^^^^^^^^^^^^^^^^^^^^^^^^^^^^^^^^^^^^^^\n",
      "***************************************************\n",
      "***** EVALUATION | DEV SET | AFTER 39 BATCHES *****\n",
      "***************************************************\n",
      "\\\\|//       \\\\|//      \\\\|//       \\\\|//     \\\\|//\n",
      "^^^^^^^^^^^^^^^^^^^^^^^^^^^^^^^^^^^^^^^^^^^^^^^^^^^^^^\n",
      "\n",
      "07/10/2022 01:44:22 - INFO - farm.eval -   \n",
      " _________ question_answering _________\n",
      "07/10/2022 01:44:22 - INFO - farm.eval -   loss: 0.048540815844147975\n",
      "07/10/2022 01:44:22 - INFO - farm.eval -   task_name: question_answering\n",
      "07/10/2022 01:44:22 - INFO - farm.eval -   EM: 1.0\n",
      "07/10/2022 01:44:22 - INFO - farm.eval -   f1: 1.0\n",
      "07/10/2022 01:44:22 - INFO - farm.eval -   top_n_accuracy: 1.0\n",
      "07/10/2022 01:44:22 - INFO - farm.eval -   report: \n",
      " Not Implemented\n",
      "07/10/2022 01:44:22 - INFO - src.models.qa_farm_trainer -   Extended Results:\n",
      "07/10/2022 01:44:22 - INFO - src.models.qa_farm_trainer -   {'TN': 130, 'FP': 0, 'FN': 0, 'TP': 7, 'relaxed_f1_answerable': 1.0, 'em_answerable': 1.0, 'f1_answerable': 1.0}\n",
      "07/10/2022 01:44:34 - INFO - src.models.farm_trainer -   Trained model saved to /opt/app-root/src/aicoe-osc-demo/models/KPI_EXTRACTION\n",
      "07/10/2022 01:44:34 - INFO - src.models.farm_trainer -   Processor vocabulary saved to /opt/app-root/src/aicoe-osc-demo/models/KPI_EXTRACTION\n"
     ]
    },
    {
     "data": {
      "text/plain": [
       "1.0"
      ]
     },
     "execution_count": 16,
     "metadata": {},
     "output_type": "execute_result"
    }
   ],
   "source": [
    "# start training\n",
    "farm_trainer.run(metric=\"f1\")"
   ]
  },
  {
   "cell_type": "markdown",
   "metadata": {},
   "source": [
    "At the end of the training process, the model and the processor vocabulary are saved into the directory `file_config.saved_models_dir`"
   ]
  },
  {
   "cell_type": "code",
   "execution_count": 17,
   "metadata": {},
   "outputs": [
    {
     "name": "stdout",
     "output_type": "stream",
     "text": [
      "total 1389660\n",
      "drwxr-sr-x. 2 1000630000 1000630000       4096 Jul  9 09:49 .\n",
      "drwxr-sr-x. 7 1000630000 1000630000       4096 Jul  9 23:38 ..\n",
      "-rw-r--r--. 1 1000630000 1000630000 1421605239 Jul 10 01:44 language_model.bin\n",
      "-rw-r--r--. 1 1000630000 1000630000        572 Jul 10 01:44 language_model_config.json\n",
      "-rw-r--r--. 1 1000630000 1000630000     456318 Jul 10 01:44 merges.txt\n",
      "-rw-r--r--. 1 1000630000 1000630000       9473 Jul 10 01:44 prediction_head_0.bin\n",
      "-rw-r--r--. 1 1000630000 1000630000        405 Jul 10 01:44 prediction_head_0_config.json\n",
      "-rw-r--r--. 1 1000630000 1000630000        825 Jul 10 01:44 processor_config.json\n",
      "-rw-r--r--. 1 1000630000 1000630000        150 Jul 10 01:44 special_tokens_map.json\n",
      "-rw-r--r--. 1 1000630000 1000630000        620 Jul 10 01:44 tokenizer_config.json\n",
      "-rw-r--r--. 1 1000630000 1000630000     898822 Jul 10 01:44 vocab.json\n"
     ]
    }
   ],
   "source": [
    "!ls -al $file_config.saved_models_dir"
   ]
  },
  {
   "cell_type": "markdown",
   "metadata": {},
   "source": [
    "You can find the developement dataset at `file_config.dev_filename`. This dataset has not been seen by the model."
   ]
  },
  {
   "cell_type": "code",
   "execution_count": 18,
   "metadata": {},
   "outputs": [
    {
     "data": {
      "text/plain": [
       "'/opt/app-root/src/aicoe-osc-demo/data/squad/kpi_val_split.json'"
      ]
     },
     "execution_count": 18,
     "metadata": {},
     "output_type": "execute_result"
    }
   ],
   "source": [
    "file_config.dev_filename"
   ]
  },
  {
   "cell_type": "markdown",
   "metadata": {},
   "source": [
    "## Run Inference on Samples\n",
    "\n",
    "At this point we have a fine tuned model that can be used to extract answers to KPI questions! Let's use the saved model and test it on some real examples (that the model has not seen before)"
   ]
  },
  {
   "cell_type": "code",
   "execution_count": 19,
   "metadata": {
    "tags": []
   },
   "outputs": [
    {
     "name": "stderr",
     "output_type": "stream",
     "text": [
      "07/10/2022 01:44:41 - INFO - farm.utils -   device: cuda n_gpu: 1, distributed training: False, automatic mixed precision training: None\n",
      "07/10/2022 01:44:50 - INFO - farm.modeling.adaptive_model -   Found files for loading 1 prediction heads\n",
      "07/10/2022 01:44:50 - WARNING - farm.modeling.prediction_head -   Some unused parameters are passed to the QuestionAnsweringHead. Might not be a problem. Params: {\"training\": false, \"num_labels\": 2, \"ph_output_type\": \"per_token_squad\", \"model_type\": \"span_classification\", \"label_tensor_name\": \"question_answering_label_ids\", \"label_list\": [\"start_token\", \"end_token\"], \"metric\": \"squad\", \"name\": \"QuestionAnsweringHead\"}\n",
      "07/10/2022 01:44:50 - INFO - farm.modeling.prediction_head -   Prediction head initialized with size [1024, 2]\n",
      "07/10/2022 01:44:50 - INFO - farm.modeling.prediction_head -   Loading prediction head from /opt/app-root/src/aicoe-osc-demo/models/KPI_EXTRACTION/prediction_head_0.bin\n",
      "07/10/2022 01:44:50 - INFO - farm.modeling.tokenization -   Loading tokenizer of type 'RobertaTokenizer'\n",
      "07/10/2022 01:44:51 - INFO - farm.data_handler.processor -   Initialized processor without tasks. Supply `metric` and `label_list` to the constructor for using the default task or add a custom task later via processor.add_task()\n",
      "07/10/2022 01:44:51 - INFO - farm.utils -   device: cuda n_gpu: 1, distributed training: False, automatic mixed precision training: None\n",
      "07/10/2022 01:44:51 - INFO - farm.infer -   Got ya 7 parallel workers to do inference ...\n",
      "07/10/2022 01:44:51 - INFO - farm.infer -    0    0    0    0    0    0    0 \n",
      "07/10/2022 01:44:51 - INFO - farm.infer -   /w\\  /w\\  /w\\  /w\\  /w\\  /w\\  /w\\\n",
      "07/10/2022 01:44:51 - INFO - farm.infer -   /'\\  / \\  /'\\  /'\\  / \\  / \\  /'\\\n",
      "07/10/2022 01:44:51 - INFO - farm.infer -               \n",
      "07/10/2022 01:44:51 - WARNING - farm.infer -   QAInferencer always has task_type='question_answering' even if another value is provided to Inferencer.load() or QAInferencer()\n",
      "07/10/2022 01:46:14 - INFO - farm.data_handler.processor -   *** Show 2 random examples ***\n",
      "07/10/2022 01:46:14 - INFO - farm.data_handler.processor -   \n",
      "\n",
      "      .--.        _____                       _      \n",
      "    .'_\\/_'.     / ____|                     | |     \n",
      "    '. /\\ .'    | (___   __ _ _ __ ___  _ __ | | ___ \n",
      "      \"||\"       \\___ \\ / _` | '_ ` _ \\| '_ \\| |/ _ \\ \n",
      "       || /\\     ____) | (_| | | | | | | |_) | |  __/\n",
      "    /\\ ||//\\)   |_____/ \\__,_|_| |_| |_| .__/|_|\\___|\n",
      "   (/\\||/                             |_|           \n",
      "______\\||/___________________________________________                     \n",
      "\n",
      "ID: 0-0-0\n",
      "Clear Text: \n",
      " \tpassage_text: the paris agreement on climate change drafted in 2015 aims to reduce worldwide emissions of greenhouse\n",
      "gases to a level intended to limit a rise in global temperatures to below 2 degrees or, better still,\n",
      "to below 1.5 degrees. verbund’s target of reducing greenhouse gas emissions by 90% measured beginning from\n",
      "the basis year 2011 5 million tonnes co2e until 2021 includes scope 1, scope 2 market- based and parts of scope 3 emissions\n",
      "for energy and air travel. the science based targets initiative validated this goal as science-based in october 2016,\n",
      "i.e. it meets global standards. according to current planning, the target can be achieved.\n",
      "however, if the grid operator requires higher generation volumes\n",
      "\n",
      " \tquestion_text: What is the target year for climate commitment?\n",
      " \tpassage_id: 0\n",
      " \tanswers: []\n",
      "Tokenized: \n",
      " \tpassage_start_t: 0\n",
      " \tpassage_tokens: ['the', 'Ġpar', 'is', 'Ġagreement', 'Ġon', 'Ġclimate', 'Ġchange', 'Ġdrafted', 'Ġin', 'Ġ2015', 'Ġaims', 'Ġto', 'Ġreduce', 'Ġworldwide', 'Ġemissions', 'Ġof', 'Ġgreenhouse', 'Ġgases', 'Ġto', 'Ġa', 'Ġlevel', 'Ġintended', 'Ġto', 'Ġlimit', 'Ġa', 'Ġrise', 'Ġin', 'Ġglobal', 'Ġtemperatures', 'Ġto', 'Ġbelow', 'Ġ2', 'Ġdegrees', 'Ġor', ',', 'Ġbetter', 'Ġstill', ',', 'Ġto', 'Ġbelow', 'Ġ1', '.', '5', 'Ġdegrees', '.', 'Ġverb', 'und', 'âĢ', 'Ļ', 's', 'Ġtarget', 'Ġof', 'Ġreducing', 'Ġgreenhouse', 'Ġgas', 'Ġemissions', 'Ġby', 'Ġ90', '%', 'Ġmeasured', 'Ġbeginning', 'Ġfrom', 'Ġthe', 'Ġbasis', 'Ġyear', 'Ġ2011', 'Ġ5', 'Ġmillion', 'Ġtonnes', 'Ġco', '2', 'e', 'Ġuntil', 'Ġ2021', 'Ġincludes', 'Ġscope', 'Ġ1', ',', 'Ġscope', 'Ġ2', 'Ġmarket', '-', 'Ġbased', 'Ġand', 'Ġparts', 'Ġof', 'Ġscope', 'Ġ3', 'Ġemissions', 'Ġfor', 'Ġenergy', 'Ġand', 'Ġair', 'Ġtravel', '.', 'Ġthe', 'Ġscience', 'Ġbased', 'Ġtargets', 'Ġinitiative', 'Ġvalidated', 'Ġthis', 'Ġgoal', 'Ġas', 'Ġscience', '-', 'based', 'Ġin', 'Ġoct', 'ober', 'Ġ2016', ',', 'Ġi', '.', 'e', '.', 'Ġit', 'Ġmeets', 'Ġglobal', 'Ġstandards', '.', 'Ġaccording', 'Ġto', 'Ġcurrent', 'Ġplanning', ',', 'Ġthe', 'Ġtarget', 'Ġcan', 'Ġbe', 'Ġachieved', '.', 'Ġhowever', ',', 'Ġif', 'Ġthe', 'Ġgrid', 'Ġoperator', 'Ġrequires', 'Ġhigher', 'Ġgeneration', 'Ġvolumes']\n",
      " \tpassage_offsets: [0, 4, 7, 10, 20, 23, 31, 38, 46, 49, 54, 59, 62, 69, 79, 89, 92, 103, 109, 112, 114, 120, 129, 132, 138, 140, 145, 148, 155, 168, 171, 177, 179, 187, 189, 191, 198, 203, 205, 208, 214, 215, 216, 218, 225, 227, 231, 234, 236, 237, 237, 244, 247, 256, 267, 271, 281, 284, 286, 288, 297, 307, 312, 316, 322, 327, 332, 334, 342, 349, 351, 352, 354, 360, 365, 374, 380, 381, 383, 389, 391, 397, 399, 405, 409, 415, 418, 424, 426, 436, 440, 447, 451, 455, 461, 463, 467, 475, 481, 489, 500, 510, 515, 520, 523, 530, 531, 537, 540, 543, 548, 552, 554, 555, 556, 557, 559, 562, 568, 575, 584, 586, 596, 599, 607, 615, 617, 621, 628, 632, 635, 643, 645, 652, 654, 657, 661, 666, 675, 684, 691, 702]\n",
      " \tpassage_start_of_word: [1, 1, 0, 1, 1, 1, 1, 1, 1, 1, 1, 1, 1, 1, 1, 1, 1, 1, 1, 1, 1, 1, 1, 1, 1, 1, 1, 1, 1, 1, 1, 1, 1, 1, 0, 1, 1, 0, 1, 1, 1, 0, 0, 1, 0, 1, 0, 0, 0, 0, 1, 1, 1, 1, 1, 1, 1, 1, 0, 1, 1, 1, 1, 1, 1, 1, 1, 1, 1, 1, 0, 0, 1, 1, 1, 1, 1, 0, 1, 1, 1, 0, 1, 1, 1, 1, 1, 1, 1, 1, 1, 1, 1, 1, 0, 1, 1, 1, 1, 1, 1, 1, 1, 1, 1, 0, 0, 1, 1, 0, 1, 0, 1, 0, 0, 0, 1, 1, 1, 1, 0, 1, 1, 1, 1, 0, 1, 1, 1, 1, 1, 0, 1, 0, 1, 1, 1, 1, 1, 1, 1, 1]\n",
      " \tquestion_tokens: ['What', 'Ġis', 'Ġthe', 'Ġtarget', 'Ġyear', 'Ġfor', 'Ġclimate', 'Ġcommitment', '?']\n",
      " \tquestion_offsets: [0, 5, 8, 12, 19, 24, 28, 36, 46]\n",
      " \tquestion_start_of_word: [1, 1, 1, 1, 1, 1, 1, 1, 0]\n",
      " \tanswers: []\n",
      " \tdocument_offsets: [0, 4, 7, 10, 20, 23, 31, 38, 46, 49, 54, 59, 62, 69, 79, 89, 92, 103, 109, 112, 114, 120, 129, 132, 138, 140, 145, 148, 155, 168, 171, 177, 179, 187, 189, 191, 198, 203, 205, 208, 214, 215, 216, 218, 225, 227, 231, 234, 236, 237, 237, 244, 247, 256, 267, 271, 281, 284, 286, 288, 297, 307, 312, 316, 322, 327, 332, 334, 342, 349, 351, 352, 354, 360, 365, 374, 380, 381, 383, 389, 391, 397, 399, 405, 409, 415, 418, 424, 426, 436, 440, 447, 451, 455, 461, 463, 467, 475, 481, 489, 500, 510, 515, 520, 523, 530, 531, 537, 540, 543, 548, 552, 554, 555, 556, 557, 559, 562, 568, 575, 584, 586, 596, 599, 607, 615, 617, 621, 628, 632, 635, 643, 645, 652, 654, 657, 661, 666, 675, 684, 691, 702]\n",
      "Features: \n",
      " \tinput_ids: [0, 2264, 16, 5, 1002, 76, 13, 2147, 2720, 116, 2, 2, 627, 2242, 354, 1288, 15, 2147, 464, 9559, 11, 570, 5026, 7, 1888, 3612, 5035, 9, 11832, 20038, 7, 10, 672, 3833, 7, 3000, 10, 1430, 11, 720, 3971, 7, 874, 132, 4176, 50, 6, 357, 202, 6, 7, 874, 112, 4, 245, 4176, 4, 33760, 3194, 17, 27, 29, 1002, 9, 4881, 11832, 1123, 5035, 30, 1814, 207, 9550, 1786, 31, 5, 1453, 76, 1466, 195, 153, 5657, 1029, 176, 242, 454, 8835, 1171, 7401, 112, 6, 7401, 132, 210, 12, 716, 8, 1667, 9, 7401, 155, 5035, 13, 1007, 8, 935, 1504, 4, 5, 2866, 716, 3247, 3893, 29548, 42, 724, 25, 2866, 12, 805, 11, 16874, 24761, 336, 6, 939, 4, 242, 4, 24, 6616, 720, 2820, 4, 309, 7, 595, 1884, 6, 5, 1002, 64, 28, 4824, 4, 959, 6, 114, 5, 7961, 5364, 3441, 723, 2706, 7267, 2, 1, 1, 1, 1, 1, 1, 1, 1, 1, 1, 1, 1, 1, 1, 1, 1, 1, 1, 1, 1, 1, 1, 1, 1, 1, 1, 1, 1, 1, 1, 1, 1, 1, 1, 1, 1, 1, 1, 1, 1, 1, 1, 1, 1, 1, 1, 1, 1, 1, 1, 1, 1, 1, 1, 1, 1, 1, 1, 1, 1, 1, 1, 1, 1, 1, 1, 1, 1, 1, 1, 1, 1, 1, 1, 1, 1, 1, 1, 1, 1, 1, 1, 1, 1, 1, 1, 1, 1, 1, 1, 1, 1, 1, 1, 1, 1, 1, 1, 1, 1, 1]\n",
      " \tpadding_mask: [1, 1, 1, 1, 1, 1, 1, 1, 1, 1, 1, 1, 1, 1, 1, 1, 1, 1, 1, 1, 1, 1, 1, 1, 1, 1, 1, 1, 1, 1, 1, 1, 1, 1, 1, 1, 1, 1, 1, 1, 1, 1, 1, 1, 1, 1, 1, 1, 1, 1, 1, 1, 1, 1, 1, 1, 1, 1, 1, 1, 1, 1, 1, 1, 1, 1, 1, 1, 1, 1, 1, 1, 1, 1, 1, 1, 1, 1, 1, 1, 1, 1, 1, 1, 1, 1, 1, 1, 1, 1, 1, 1, 1, 1, 1, 1, 1, 1, 1, 1, 1, 1, 1, 1, 1, 1, 1, 1, 1, 1, 1, 1, 1, 1, 1, 1, 1, 1, 1, 1, 1, 1, 1, 1, 1, 1, 1, 1, 1, 1, 1, 1, 1, 1, 1, 1, 1, 1, 1, 1, 1, 1, 1, 1, 1, 1, 1, 1, 1, 1, 1, 1, 1, 1, 1, 0, 0, 0, 0, 0, 0, 0, 0, 0, 0, 0, 0, 0, 0, 0, 0, 0, 0, 0, 0, 0, 0, 0, 0, 0, 0, 0, 0, 0, 0, 0, 0, 0, 0, 0, 0, 0, 0, 0, 0, 0, 0, 0, 0, 0, 0, 0, 0, 0, 0, 0, 0, 0, 0, 0, 0, 0, 0, 0, 0, 0, 0, 0, 0, 0, 0, 0, 0, 0, 0, 0, 0, 0, 0, 0, 0, 0, 0, 0, 0, 0, 0, 0, 0, 0, 0, 0, 0, 0, 0, 0, 0, 0, 0, 0, 0, 0, 0, 0, 0, 0]\n",
      " \tsegment_ids: [0 0 0 0 0 0 0 0 0 0 0 0 0 0 0 0 0 0 0 0 0 0 0 0 0 0 0 0 0 0 0 0 0 0 0 0 0\n",
      " 0 0 0 0 0 0 0 0 0 0 0 0 0 0 0 0 0 0 0 0 0 0 0 0 0 0 0 0 0 0 0 0 0 0 0 0 0\n",
      " 0 0 0 0 0 0 0 0 0 0 0 0 0 0 0 0 0 0 0 0 0 0 0 0 0 0 0 0 0 0 0 0 0 0 0 0 0\n",
      " 0 0 0 0 0 0 0 0 0 0 0 0 0 0 0 0 0 0 0 0 0 0 0 0 0 0 0 0 0 0 0 0 0 0 0 0 0\n",
      " 0 0 0 0 0 0 0 0 0 0 0 0 0 0 0 0 0 0 0 0 0 0 0 0 0 0 0 0 0 0 0 0 0 0 0 0 0\n",
      " 0 0 0 0 0 0 0 0 0 0 0 0 0 0 0 0 0 0 0 0 0 0 0 0 0 0 0 0 0 0 0 0 0 0 0 0 0\n",
      " 0 0 0 0 0 0 0 0 0 0 0 0 0 0 0 0 0 0 0 0 0 0 0 0 0 0 0 0 0 0 0 0 0 0]\n",
      " \tanswer_type_ids: [0]\n",
      " \tpassage_start_t: 0\n",
      " \tstart_of_word: [0, 1, 1, 1, 1, 1, 1, 1, 1, 0, 0, 0, 1, 1, 0, 1, 1, 1, 1, 1, 1, 1, 1, 1, 1, 1, 1, 1, 1, 1, 1, 1, 1, 1, 1, 1, 1, 1, 1, 1, 1, 1, 1, 1, 1, 1, 0, 1, 1, 0, 1, 1, 1, 0, 0, 1, 0, 1, 0, 0, 0, 0, 1, 1, 1, 1, 1, 1, 1, 1, 0, 1, 1, 1, 1, 1, 1, 1, 1, 1, 1, 1, 0, 0, 1, 1, 1, 1, 1, 0, 1, 1, 1, 0, 1, 1, 1, 1, 1, 1, 1, 1, 1, 1, 1, 1, 0, 1, 1, 1, 1, 1, 1, 1, 1, 1, 1, 0, 0, 1, 1, 0, 1, 0, 1, 0, 0, 0, 1, 1, 1, 1, 0, 1, 1, 1, 1, 0, 1, 1, 1, 1, 1, 0, 1, 0, 1, 1, 1, 1, 1, 1, 1, 1, 0, 0, 0, 0, 0, 0, 0, 0, 0, 0, 0, 0, 0, 0, 0, 0, 0, 0, 0, 0, 0, 0, 0, 0, 0, 0, 0, 0, 0, 0, 0, 0, 0, 0, 0, 0, 0, 0, 0, 0, 0, 0, 0, 0, 0, 0, 0, 0, 0, 0, 0, 0, 0, 0, 0, 0, 0, 0, 0, 0, 0, 0, 0, 0, 0, 0, 0, 0, 0, 0, 0, 0, 0, 0, 0, 0, 0, 0, 0, 0, 0, 0, 0, 0, 0, 0, 0, 0, 0, 0, 0, 0, 0, 0, 0, 0, 0, 0, 0, 0, 0, 0]\n",
      " \tlabels: [[ 0  0]\n",
      " [-1 -1]\n",
      " [-1 -1]\n",
      " [-1 -1]\n",
      " [-1 -1]\n",
      " [-1 -1]]\n",
      " \tid: [0, 0, 0]\n",
      " \tseq_2_start_t: 12\n",
      " \tspan_mask: [1, 0, 0, 0, 0, 0, 0, 0, 0, 0, 0, 0, 1, 1, 1, 1, 1, 1, 1, 1, 1, 1, 1, 1, 1, 1, 1, 1, 1, 1, 1, 1, 1, 1, 1, 1, 1, 1, 1, 1, 1, 1, 1, 1, 1, 1, 1, 1, 1, 1, 1, 1, 1, 1, 1, 1, 1, 1, 1, 1, 1, 1, 1, 1, 1, 1, 1, 1, 1, 1, 1, 1, 1, 1, 1, 1, 1, 1, 1, 1, 1, 1, 1, 1, 1, 1, 1, 1, 1, 1, 1, 1, 1, 1, 1, 1, 1, 1, 1, 1, 1, 1, 1, 1, 1, 1, 1, 1, 1, 1, 1, 1, 1, 1, 1, 1, 1, 1, 1, 1, 1, 1, 1, 1, 1, 1, 1, 1, 1, 1, 1, 1, 1, 1, 1, 1, 1, 1, 1, 1, 1, 1, 1, 1, 1, 1, 1, 1, 1, 1, 1, 1, 1, 1, 0, 0, 0, 0, 0, 0, 0, 0, 0, 0, 0, 0, 0, 0, 0, 0, 0, 0, 0, 0, 0, 0, 0, 0, 0, 0, 0, 0, 0, 0, 0, 0, 0, 0, 0, 0, 0, 0, 0, 0, 0, 0, 0, 0, 0, 0, 0, 0, 0, 0, 0, 0, 0, 0, 0, 0, 0, 0, 0, 0, 0, 0, 0, 0, 0, 0, 0, 0, 0, 0, 0, 0, 0, 0, 0, 0, 0, 0, 0, 0, 0, 0, 0, 0, 0, 0, 0, 0, 0, 0, 0, 0, 0, 0, 0, 0, 0, 0, 0, 0, 0, 0]\n",
      "_____________________________________________________\n",
      "07/10/2022 01:46:14 - INFO - farm.data_handler.processor -   \n",
      "\n",
      "      .--.        _____                       _      \n",
      "    .'_\\/_'.     / ____|                     | |     \n",
      "    '. /\\ .'    | (___   __ _ _ __ ___  _ __ | | ___ \n",
      "      \"||\"       \\___ \\ / _` | '_ ` _ \\| '_ \\| |/ _ \\ \n",
      "       || /\\     ____) | (_| | | | | | | |_) | |  __/\n",
      "    /\\ ||//\\)   |_____/ \\__,_|_| |_| |_| .__/|_|\\___|\n",
      "   (/\\||/                             |_|           \n",
      "______\\||/___________________________________________                     \n",
      "\n",
      "ID: 0-0-0\n",
      "Clear Text: \n",
      " \tpassage_text: the paris agreement on climate change drafted in 2015 aims to reduce worldwide emissions of greenhouse\n",
      "gases to a level intended to limit a rise in global temperatures to below 2 degrees or, better still,\n",
      "to below 1.5 degrees. verbund’s target of reducing greenhouse gas emissions by 90% measured beginning from\n",
      "the basis year 2011 5 million tonnes co2e until 2021 includes scope 1, scope 2 market- based and parts of scope 3 emissions\n",
      "for energy and air travel. the science based targets initiative validated this goal as science-based in october 2016,\n",
      "i.e. it meets global standards. according to current planning, the target can be achieved.\n",
      "however, if the grid operator requires higher generation volumes\n",
      "\n",
      " \tquestion_text: What is the target year for climate commitment?\n",
      " \tpassage_id: 0\n",
      " \tanswers: []\n",
      "Tokenized: \n",
      " \tpassage_start_t: 0\n",
      " \tpassage_tokens: ['the', 'Ġpar', 'is', 'Ġagreement', 'Ġon', 'Ġclimate', 'Ġchange', 'Ġdrafted', 'Ġin', 'Ġ2015', 'Ġaims', 'Ġto', 'Ġreduce', 'Ġworldwide', 'Ġemissions', 'Ġof', 'Ġgreenhouse', 'Ġgases', 'Ġto', 'Ġa', 'Ġlevel', 'Ġintended', 'Ġto', 'Ġlimit', 'Ġa', 'Ġrise', 'Ġin', 'Ġglobal', 'Ġtemperatures', 'Ġto', 'Ġbelow', 'Ġ2', 'Ġdegrees', 'Ġor', ',', 'Ġbetter', 'Ġstill', ',', 'Ġto', 'Ġbelow', 'Ġ1', '.', '5', 'Ġdegrees', '.', 'Ġverb', 'und', 'âĢ', 'Ļ', 's', 'Ġtarget', 'Ġof', 'Ġreducing', 'Ġgreenhouse', 'Ġgas', 'Ġemissions', 'Ġby', 'Ġ90', '%', 'Ġmeasured', 'Ġbeginning', 'Ġfrom', 'Ġthe', 'Ġbasis', 'Ġyear', 'Ġ2011', 'Ġ5', 'Ġmillion', 'Ġtonnes', 'Ġco', '2', 'e', 'Ġuntil', 'Ġ2021', 'Ġincludes', 'Ġscope', 'Ġ1', ',', 'Ġscope', 'Ġ2', 'Ġmarket', '-', 'Ġbased', 'Ġand', 'Ġparts', 'Ġof', 'Ġscope', 'Ġ3', 'Ġemissions', 'Ġfor', 'Ġenergy', 'Ġand', 'Ġair', 'Ġtravel', '.', 'Ġthe', 'Ġscience', 'Ġbased', 'Ġtargets', 'Ġinitiative', 'Ġvalidated', 'Ġthis', 'Ġgoal', 'Ġas', 'Ġscience', '-', 'based', 'Ġin', 'Ġoct', 'ober', 'Ġ2016', ',', 'Ġi', '.', 'e', '.', 'Ġit', 'Ġmeets', 'Ġglobal', 'Ġstandards', '.', 'Ġaccording', 'Ġto', 'Ġcurrent', 'Ġplanning', ',', 'Ġthe', 'Ġtarget', 'Ġcan', 'Ġbe', 'Ġachieved', '.', 'Ġhowever', ',', 'Ġif', 'Ġthe', 'Ġgrid', 'Ġoperator', 'Ġrequires', 'Ġhigher', 'Ġgeneration', 'Ġvolumes']\n",
      " \tpassage_offsets: [0, 4, 7, 10, 20, 23, 31, 38, 46, 49, 54, 59, 62, 69, 79, 89, 92, 103, 109, 112, 114, 120, 129, 132, 138, 140, 145, 148, 155, 168, 171, 177, 179, 187, 189, 191, 198, 203, 205, 208, 214, 215, 216, 218, 225, 227, 231, 234, 236, 237, 237, 244, 247, 256, 267, 271, 281, 284, 286, 288, 297, 307, 312, 316, 322, 327, 332, 334, 342, 349, 351, 352, 354, 360, 365, 374, 380, 381, 383, 389, 391, 397, 399, 405, 409, 415, 418, 424, 426, 436, 440, 447, 451, 455, 461, 463, 467, 475, 481, 489, 500, 510, 515, 520, 523, 530, 531, 537, 540, 543, 548, 552, 554, 555, 556, 557, 559, 562, 568, 575, 584, 586, 596, 599, 607, 615, 617, 621, 628, 632, 635, 643, 645, 652, 654, 657, 661, 666, 675, 684, 691, 702]\n",
      " \tpassage_start_of_word: [1, 1, 0, 1, 1, 1, 1, 1, 1, 1, 1, 1, 1, 1, 1, 1, 1, 1, 1, 1, 1, 1, 1, 1, 1, 1, 1, 1, 1, 1, 1, 1, 1, 1, 0, 1, 1, 0, 1, 1, 1, 0, 0, 1, 0, 1, 0, 0, 0, 0, 1, 1, 1, 1, 1, 1, 1, 1, 0, 1, 1, 1, 1, 1, 1, 1, 1, 1, 1, 1, 0, 0, 1, 1, 1, 1, 1, 0, 1, 1, 1, 0, 1, 1, 1, 1, 1, 1, 1, 1, 1, 1, 1, 1, 0, 1, 1, 1, 1, 1, 1, 1, 1, 1, 1, 0, 0, 1, 1, 0, 1, 0, 1, 0, 0, 0, 1, 1, 1, 1, 0, 1, 1, 1, 1, 0, 1, 1, 1, 1, 1, 0, 1, 0, 1, 1, 1, 1, 1, 1, 1, 1]\n",
      " \tquestion_tokens: ['What', 'Ġis', 'Ġthe', 'Ġtarget', 'Ġyear', 'Ġfor', 'Ġclimate', 'Ġcommitment', '?']\n",
      " \tquestion_offsets: [0, 5, 8, 12, 19, 24, 28, 36, 46]\n",
      " \tquestion_start_of_word: [1, 1, 1, 1, 1, 1, 1, 1, 0]\n",
      " \tanswers: []\n",
      " \tdocument_offsets: [0, 4, 7, 10, 20, 23, 31, 38, 46, 49, 54, 59, 62, 69, 79, 89, 92, 103, 109, 112, 114, 120, 129, 132, 138, 140, 145, 148, 155, 168, 171, 177, 179, 187, 189, 191, 198, 203, 205, 208, 214, 215, 216, 218, 225, 227, 231, 234, 236, 237, 237, 244, 247, 256, 267, 271, 281, 284, 286, 288, 297, 307, 312, 316, 322, 327, 332, 334, 342, 349, 351, 352, 354, 360, 365, 374, 380, 381, 383, 389, 391, 397, 399, 405, 409, 415, 418, 424, 426, 436, 440, 447, 451, 455, 461, 463, 467, 475, 481, 489, 500, 510, 515, 520, 523, 530, 531, 537, 540, 543, 548, 552, 554, 555, 556, 557, 559, 562, 568, 575, 584, 586, 596, 599, 607, 615, 617, 621, 628, 632, 635, 643, 645, 652, 654, 657, 661, 666, 675, 684, 691, 702]\n",
      "Features: \n",
      " \tinput_ids: [0, 2264, 16, 5, 1002, 76, 13, 2147, 2720, 116, 2, 2, 627, 2242, 354, 1288, 15, 2147, 464, 9559, 11, 570, 5026, 7, 1888, 3612, 5035, 9, 11832, 20038, 7, 10, 672, 3833, 7, 3000, 10, 1430, 11, 720, 3971, 7, 874, 132, 4176, 50, 6, 357, 202, 6, 7, 874, 112, 4, 245, 4176, 4, 33760, 3194, 17, 27, 29, 1002, 9, 4881, 11832, 1123, 5035, 30, 1814, 207, 9550, 1786, 31, 5, 1453, 76, 1466, 195, 153, 5657, 1029, 176, 242, 454, 8835, 1171, 7401, 112, 6, 7401, 132, 210, 12, 716, 8, 1667, 9, 7401, 155, 5035, 13, 1007, 8, 935, 1504, 4, 5, 2866, 716, 3247, 3893, 29548, 42, 724, 25, 2866, 12, 805, 11, 16874, 24761, 336, 6, 939, 4, 242, 4, 24, 6616, 720, 2820, 4, 309, 7, 595, 1884, 6, 5, 1002, 64, 28, 4824, 4, 959, 6, 114, 5, 7961, 5364, 3441, 723, 2706, 7267, 2, 1, 1, 1, 1, 1, 1, 1, 1, 1, 1, 1, 1, 1, 1, 1, 1, 1, 1, 1, 1, 1, 1, 1, 1, 1, 1, 1, 1, 1, 1, 1, 1, 1, 1, 1, 1, 1, 1, 1, 1, 1, 1, 1, 1, 1, 1, 1, 1, 1, 1, 1, 1, 1, 1, 1, 1, 1, 1, 1, 1, 1, 1, 1, 1, 1, 1, 1, 1, 1, 1, 1, 1, 1, 1, 1, 1, 1, 1, 1, 1, 1, 1, 1, 1, 1, 1, 1, 1, 1, 1, 1, 1, 1, 1, 1, 1, 1, 1, 1, 1, 1]\n",
      " \tpadding_mask: [1, 1, 1, 1, 1, 1, 1, 1, 1, 1, 1, 1, 1, 1, 1, 1, 1, 1, 1, 1, 1, 1, 1, 1, 1, 1, 1, 1, 1, 1, 1, 1, 1, 1, 1, 1, 1, 1, 1, 1, 1, 1, 1, 1, 1, 1, 1, 1, 1, 1, 1, 1, 1, 1, 1, 1, 1, 1, 1, 1, 1, 1, 1, 1, 1, 1, 1, 1, 1, 1, 1, 1, 1, 1, 1, 1, 1, 1, 1, 1, 1, 1, 1, 1, 1, 1, 1, 1, 1, 1, 1, 1, 1, 1, 1, 1, 1, 1, 1, 1, 1, 1, 1, 1, 1, 1, 1, 1, 1, 1, 1, 1, 1, 1, 1, 1, 1, 1, 1, 1, 1, 1, 1, 1, 1, 1, 1, 1, 1, 1, 1, 1, 1, 1, 1, 1, 1, 1, 1, 1, 1, 1, 1, 1, 1, 1, 1, 1, 1, 1, 1, 1, 1, 1, 1, 0, 0, 0, 0, 0, 0, 0, 0, 0, 0, 0, 0, 0, 0, 0, 0, 0, 0, 0, 0, 0, 0, 0, 0, 0, 0, 0, 0, 0, 0, 0, 0, 0, 0, 0, 0, 0, 0, 0, 0, 0, 0, 0, 0, 0, 0, 0, 0, 0, 0, 0, 0, 0, 0, 0, 0, 0, 0, 0, 0, 0, 0, 0, 0, 0, 0, 0, 0, 0, 0, 0, 0, 0, 0, 0, 0, 0, 0, 0, 0, 0, 0, 0, 0, 0, 0, 0, 0, 0, 0, 0, 0, 0, 0, 0, 0, 0, 0, 0, 0, 0]\n",
      " \tsegment_ids: [0 0 0 0 0 0 0 0 0 0 0 0 0 0 0 0 0 0 0 0 0 0 0 0 0 0 0 0 0 0 0 0 0 0 0 0 0\n",
      " 0 0 0 0 0 0 0 0 0 0 0 0 0 0 0 0 0 0 0 0 0 0 0 0 0 0 0 0 0 0 0 0 0 0 0 0 0\n",
      " 0 0 0 0 0 0 0 0 0 0 0 0 0 0 0 0 0 0 0 0 0 0 0 0 0 0 0 0 0 0 0 0 0 0 0 0 0\n",
      " 0 0 0 0 0 0 0 0 0 0 0 0 0 0 0 0 0 0 0 0 0 0 0 0 0 0 0 0 0 0 0 0 0 0 0 0 0\n",
      " 0 0 0 0 0 0 0 0 0 0 0 0 0 0 0 0 0 0 0 0 0 0 0 0 0 0 0 0 0 0 0 0 0 0 0 0 0\n",
      " 0 0 0 0 0 0 0 0 0 0 0 0 0 0 0 0 0 0 0 0 0 0 0 0 0 0 0 0 0 0 0 0 0 0 0 0 0\n",
      " 0 0 0 0 0 0 0 0 0 0 0 0 0 0 0 0 0 0 0 0 0 0 0 0 0 0 0 0 0 0 0 0 0 0]\n",
      " \tanswer_type_ids: [0]\n",
      " \tpassage_start_t: 0\n",
      " \tstart_of_word: [0, 1, 1, 1, 1, 1, 1, 1, 1, 0, 0, 0, 1, 1, 0, 1, 1, 1, 1, 1, 1, 1, 1, 1, 1, 1, 1, 1, 1, 1, 1, 1, 1, 1, 1, 1, 1, 1, 1, 1, 1, 1, 1, 1, 1, 1, 0, 1, 1, 0, 1, 1, 1, 0, 0, 1, 0, 1, 0, 0, 0, 0, 1, 1, 1, 1, 1, 1, 1, 1, 0, 1, 1, 1, 1, 1, 1, 1, 1, 1, 1, 1, 0, 0, 1, 1, 1, 1, 1, 0, 1, 1, 1, 0, 1, 1, 1, 1, 1, 1, 1, 1, 1, 1, 1, 1, 0, 1, 1, 1, 1, 1, 1, 1, 1, 1, 1, 0, 0, 1, 1, 0, 1, 0, 1, 0, 0, 0, 1, 1, 1, 1, 0, 1, 1, 1, 1, 0, 1, 1, 1, 1, 1, 0, 1, 0, 1, 1, 1, 1, 1, 1, 1, 1, 0, 0, 0, 0, 0, 0, 0, 0, 0, 0, 0, 0, 0, 0, 0, 0, 0, 0, 0, 0, 0, 0, 0, 0, 0, 0, 0, 0, 0, 0, 0, 0, 0, 0, 0, 0, 0, 0, 0, 0, 0, 0, 0, 0, 0, 0, 0, 0, 0, 0, 0, 0, 0, 0, 0, 0, 0, 0, 0, 0, 0, 0, 0, 0, 0, 0, 0, 0, 0, 0, 0, 0, 0, 0, 0, 0, 0, 0, 0, 0, 0, 0, 0, 0, 0, 0, 0, 0, 0, 0, 0, 0, 0, 0, 0, 0, 0, 0, 0, 0, 0, 0]\n",
      " \tlabels: [[ 0  0]\n",
      " [-1 -1]\n",
      " [-1 -1]\n",
      " [-1 -1]\n",
      " [-1 -1]\n",
      " [-1 -1]]\n",
      " \tid: [0, 0, 0]\n",
      " \tseq_2_start_t: 12\n",
      " \tspan_mask: [1, 0, 0, 0, 0, 0, 0, 0, 0, 0, 0, 0, 1, 1, 1, 1, 1, 1, 1, 1, 1, 1, 1, 1, 1, 1, 1, 1, 1, 1, 1, 1, 1, 1, 1, 1, 1, 1, 1, 1, 1, 1, 1, 1, 1, 1, 1, 1, 1, 1, 1, 1, 1, 1, 1, 1, 1, 1, 1, 1, 1, 1, 1, 1, 1, 1, 1, 1, 1, 1, 1, 1, 1, 1, 1, 1, 1, 1, 1, 1, 1, 1, 1, 1, 1, 1, 1, 1, 1, 1, 1, 1, 1, 1, 1, 1, 1, 1, 1, 1, 1, 1, 1, 1, 1, 1, 1, 1, 1, 1, 1, 1, 1, 1, 1, 1, 1, 1, 1, 1, 1, 1, 1, 1, 1, 1, 1, 1, 1, 1, 1, 1, 1, 1, 1, 1, 1, 1, 1, 1, 1, 1, 1, 1, 1, 1, 1, 1, 1, 1, 1, 1, 1, 1, 0, 0, 0, 0, 0, 0, 0, 0, 0, 0, 0, 0, 0, 0, 0, 0, 0, 0, 0, 0, 0, 0, 0, 0, 0, 0, 0, 0, 0, 0, 0, 0, 0, 0, 0, 0, 0, 0, 0, 0, 0, 0, 0, 0, 0, 0, 0, 0, 0, 0, 0, 0, 0, 0, 0, 0, 0, 0, 0, 0, 0, 0, 0, 0, 0, 0, 0, 0, 0, 0, 0, 0, 0, 0, 0, 0, 0, 0, 0, 0, 0, 0, 0, 0, 0, 0, 0, 0, 0, 0, 0, 0, 0, 0, 0, 0, 0, 0, 0, 0, 0, 0]\n",
      "_____________________________________________________\n",
      "07/10/2022 01:46:39 - INFO - farm.data_handler.processor -   *** Show 2 random examples ***\n",
      "07/10/2022 01:46:39 - INFO - farm.data_handler.processor -   \n",
      "\n",
      "      .--.        _____                       _      \n",
      "    .'_\\/_'.     / ____|                     | |     \n",
      "    '. /\\ .'    | (___   __ _ _ __ ___  _ __ | | ___ \n",
      "      \"||\"       \\___ \\ / _` | '_ ` _ \\| '_ \\| |/ _ \\ \n",
      "       || /\\     ____) | (_| | | | | | | |_) | |  __/\n",
      "    /\\ ||//\\)   |_____/ \\__,_|_| |_| |_| .__/|_|\\___|\n",
      "   (/\\||/                             |_|           \n",
      "______\\||/___________________________________________                     \n",
      "\n",
      "ID: 2-4-0\n",
      "Clear Text: \n",
      " \tpassage_text: % of customer - related scope 3 emissions as reported in c6.5 0\n",
      " \tquestion_text: What is the total amount of scope 1, scope 2 and scope 3 greenhouse gases emissions?\n",
      " \tpassage_id: 0\n",
      " \tanswers: []\n",
      "Tokenized: \n",
      " \tpassage_start_t: 0\n",
      " \tpassage_tokens: ['%', 'Ġof', 'Ġcustomer', 'Ġ-', 'Ġrelated', 'Ġscope', 'Ġ3', 'Ġemissions', 'Ġas', 'Ġreported', 'Ġin', 'Ġc', '6', '.', '5', 'Ġ0']\n",
      " \tpassage_offsets: [0, 2, 5, 14, 16, 24, 30, 32, 42, 45, 54, 57, 58, 59, 60, 62]\n",
      " \tpassage_start_of_word: [1, 1, 1, 1, 1, 1, 1, 1, 1, 1, 1, 1, 0, 0, 0, 1]\n",
      " \tquestion_tokens: ['What', 'Ġis', 'Ġthe', 'Ġtotal', 'Ġamount', 'Ġof', 'Ġscope', 'Ġ1', ',', 'Ġscope', 'Ġ2', 'Ġand', 'Ġscope', 'Ġ3', 'Ġgreenhouse', 'Ġgases', 'Ġemissions', '?']\n",
      " \tquestion_offsets: [0, 5, 8, 12, 18, 25, 28, 34, 35, 37, 43, 45, 49, 55, 57, 68, 74, 83]\n",
      " \tquestion_start_of_word: [1, 1, 1, 1, 1, 1, 1, 1, 0, 1, 1, 1, 1, 1, 1, 1, 1, 0]\n",
      " \tanswers: []\n",
      " \tdocument_offsets: [0, 2, 5, 14, 16, 24, 30, 32, 42, 45, 54, 57, 58, 59, 60, 62]\n",
      "Features: \n",
      " \tinput_ids: [0, 2264, 16, 5, 746, 1280, 9, 7401, 112, 6, 7401, 132, 8, 7401, 155, 11832, 20038, 5035, 116, 2, 2, 207, 9, 2111, 111, 1330, 7401, 155, 5035, 25, 431, 11, 740, 401, 4, 245, 321, 2, 1, 1, 1, 1, 1, 1, 1, 1, 1, 1, 1, 1, 1, 1, 1, 1, 1, 1, 1, 1, 1, 1, 1, 1, 1, 1, 1, 1, 1, 1, 1, 1, 1, 1, 1, 1, 1, 1, 1, 1, 1, 1, 1, 1, 1, 1, 1, 1, 1, 1, 1, 1, 1, 1, 1, 1, 1, 1, 1, 1, 1, 1, 1, 1, 1, 1, 1, 1, 1, 1, 1, 1, 1, 1, 1, 1, 1, 1, 1, 1, 1, 1, 1, 1, 1, 1, 1, 1, 1, 1, 1, 1, 1, 1, 1, 1, 1, 1, 1, 1, 1, 1, 1, 1, 1, 1, 1, 1, 1, 1, 1, 1, 1, 1, 1, 1, 1, 1, 1, 1, 1, 1, 1, 1, 1, 1, 1, 1, 1, 1, 1, 1, 1, 1, 1, 1, 1, 1, 1, 1, 1, 1, 1, 1, 1, 1, 1, 1, 1, 1, 1, 1, 1, 1, 1, 1, 1, 1, 1, 1, 1, 1, 1, 1, 1, 1, 1, 1, 1, 1, 1, 1, 1, 1, 1, 1, 1, 1, 1, 1, 1, 1, 1, 1, 1, 1, 1, 1, 1, 1, 1, 1, 1, 1, 1, 1, 1, 1, 1, 1, 1, 1, 1, 1, 1, 1, 1, 1, 1, 1, 1, 1, 1, 1, 1, 1, 1, 1]\n",
      " \tpadding_mask: [1, 1, 1, 1, 1, 1, 1, 1, 1, 1, 1, 1, 1, 1, 1, 1, 1, 1, 1, 1, 1, 1, 1, 1, 1, 1, 1, 1, 1, 1, 1, 1, 1, 1, 1, 1, 1, 1, 0, 0, 0, 0, 0, 0, 0, 0, 0, 0, 0, 0, 0, 0, 0, 0, 0, 0, 0, 0, 0, 0, 0, 0, 0, 0, 0, 0, 0, 0, 0, 0, 0, 0, 0, 0, 0, 0, 0, 0, 0, 0, 0, 0, 0, 0, 0, 0, 0, 0, 0, 0, 0, 0, 0, 0, 0, 0, 0, 0, 0, 0, 0, 0, 0, 0, 0, 0, 0, 0, 0, 0, 0, 0, 0, 0, 0, 0, 0, 0, 0, 0, 0, 0, 0, 0, 0, 0, 0, 0, 0, 0, 0, 0, 0, 0, 0, 0, 0, 0, 0, 0, 0, 0, 0, 0, 0, 0, 0, 0, 0, 0, 0, 0, 0, 0, 0, 0, 0, 0, 0, 0, 0, 0, 0, 0, 0, 0, 0, 0, 0, 0, 0, 0, 0, 0, 0, 0, 0, 0, 0, 0, 0, 0, 0, 0, 0, 0, 0, 0, 0, 0, 0, 0, 0, 0, 0, 0, 0, 0, 0, 0, 0, 0, 0, 0, 0, 0, 0, 0, 0, 0, 0, 0, 0, 0, 0, 0, 0, 0, 0, 0, 0, 0, 0, 0, 0, 0, 0, 0, 0, 0, 0, 0, 0, 0, 0, 0, 0, 0, 0, 0, 0, 0, 0, 0, 0, 0, 0, 0, 0, 0, 0, 0, 0, 0, 0, 0]\n",
      " \tsegment_ids: [0 0 0 0 0 0 0 0 0 0 0 0 0 0 0 0 0 0 0 0 0 0 0 0 0 0 0 0 0 0 0 0 0 0 0 0 0\n",
      " 0 0 0 0 0 0 0 0 0 0 0 0 0 0 0 0 0 0 0 0 0 0 0 0 0 0 0 0 0 0 0 0 0 0 0 0 0\n",
      " 0 0 0 0 0 0 0 0 0 0 0 0 0 0 0 0 0 0 0 0 0 0 0 0 0 0 0 0 0 0 0 0 0 0 0 0 0\n",
      " 0 0 0 0 0 0 0 0 0 0 0 0 0 0 0 0 0 0 0 0 0 0 0 0 0 0 0 0 0 0 0 0 0 0 0 0 0\n",
      " 0 0 0 0 0 0 0 0 0 0 0 0 0 0 0 0 0 0 0 0 0 0 0 0 0 0 0 0 0 0 0 0 0 0 0 0 0\n",
      " 0 0 0 0 0 0 0 0 0 0 0 0 0 0 0 0 0 0 0 0 0 0 0 0 0 0 0 0 0 0 0 0 0 0 0 0 0\n",
      " 0 0 0 0 0 0 0 0 0 0 0 0 0 0 0 0 0 0 0 0 0 0 0 0 0 0 0 0 0 0 0 0 0 0]\n",
      " \tanswer_type_ids: [0]\n",
      " \tpassage_start_t: 0\n",
      " \tstart_of_word: [0, 1, 1, 1, 1, 1, 1, 1, 1, 0, 1, 1, 1, 1, 1, 1, 1, 1, 0, 0, 0, 1, 1, 1, 1, 1, 1, 1, 1, 1, 1, 1, 1, 0, 0, 0, 1, 0, 0, 0, 0, 0, 0, 0, 0, 0, 0, 0, 0, 0, 0, 0, 0, 0, 0, 0, 0, 0, 0, 0, 0, 0, 0, 0, 0, 0, 0, 0, 0, 0, 0, 0, 0, 0, 0, 0, 0, 0, 0, 0, 0, 0, 0, 0, 0, 0, 0, 0, 0, 0, 0, 0, 0, 0, 0, 0, 0, 0, 0, 0, 0, 0, 0, 0, 0, 0, 0, 0, 0, 0, 0, 0, 0, 0, 0, 0, 0, 0, 0, 0, 0, 0, 0, 0, 0, 0, 0, 0, 0, 0, 0, 0, 0, 0, 0, 0, 0, 0, 0, 0, 0, 0, 0, 0, 0, 0, 0, 0, 0, 0, 0, 0, 0, 0, 0, 0, 0, 0, 0, 0, 0, 0, 0, 0, 0, 0, 0, 0, 0, 0, 0, 0, 0, 0, 0, 0, 0, 0, 0, 0, 0, 0, 0, 0, 0, 0, 0, 0, 0, 0, 0, 0, 0, 0, 0, 0, 0, 0, 0, 0, 0, 0, 0, 0, 0, 0, 0, 0, 0, 0, 0, 0, 0, 0, 0, 0, 0, 0, 0, 0, 0, 0, 0, 0, 0, 0, 0, 0, 0, 0, 0, 0, 0, 0, 0, 0, 0, 0, 0, 0, 0, 0, 0, 0, 0, 0, 0, 0, 0, 0, 0, 0, 0, 0, 0, 0]\n",
      " \tlabels: [[ 0  0]\n",
      " [-1 -1]\n",
      " [-1 -1]\n",
      " [-1 -1]\n",
      " [-1 -1]\n",
      " [-1 -1]]\n",
      " \tid: [2, 4, 0]\n",
      " \tseq_2_start_t: 21\n",
      " \tspan_mask: [1, 0, 0, 0, 0, 0, 0, 0, 0, 0, 0, 0, 0, 0, 0, 0, 0, 0, 0, 0, 0, 1, 1, 1, 1, 1, 1, 1, 1, 1, 1, 1, 1, 1, 1, 1, 1, 0, 0, 0, 0, 0, 0, 0, 0, 0, 0, 0, 0, 0, 0, 0, 0, 0, 0, 0, 0, 0, 0, 0, 0, 0, 0, 0, 0, 0, 0, 0, 0, 0, 0, 0, 0, 0, 0, 0, 0, 0, 0, 0, 0, 0, 0, 0, 0, 0, 0, 0, 0, 0, 0, 0, 0, 0, 0, 0, 0, 0, 0, 0, 0, 0, 0, 0, 0, 0, 0, 0, 0, 0, 0, 0, 0, 0, 0, 0, 0, 0, 0, 0, 0, 0, 0, 0, 0, 0, 0, 0, 0, 0, 0, 0, 0, 0, 0, 0, 0, 0, 0, 0, 0, 0, 0, 0, 0, 0, 0, 0, 0, 0, 0, 0, 0, 0, 0, 0, 0, 0, 0, 0, 0, 0, 0, 0, 0, 0, 0, 0, 0, 0, 0, 0, 0, 0, 0, 0, 0, 0, 0, 0, 0, 0, 0, 0, 0, 0, 0, 0, 0, 0, 0, 0, 0, 0, 0, 0, 0, 0, 0, 0, 0, 0, 0, 0, 0, 0, 0, 0, 0, 0, 0, 0, 0, 0, 0, 0, 0, 0, 0, 0, 0, 0, 0, 0, 0, 0, 0, 0, 0, 0, 0, 0, 0, 0, 0, 0, 0, 0, 0, 0, 0, 0, 0, 0, 0, 0, 0, 0, 0, 0, 0, 0, 0, 0, 0, 0]\n",
      "_____________________________________________________\n",
      "07/10/2022 01:46:39 - INFO - farm.data_handler.processor -   \n",
      "\n",
      "      .--.        _____                       _      \n",
      "    .'_\\/_'.     / ____|                     | |     \n",
      "    '. /\\ .'    | (___   __ _ _ __ ___  _ __ | | ___ \n",
      "      \"||\"       \\___ \\ / _` | '_ ` _ \\| '_ \\| |/ _ \\ \n",
      "       || /\\     ____) | (_| | | | | | | |_) | |  __/\n",
      "    /\\ ||//\\)   |_____/ \\__,_|_| |_| |_| .__/|_|\\___|\n",
      "   (/\\||/                             |_|           \n",
      "______\\||/___________________________________________                     \n",
      "\n",
      "ID: 3-4-0\n",
      "Clear Text: \n",
      " \tpassage_text: scope 1 emissions intensity metric tons co2e per gwh 194.67\n",
      " \tquestion_text: What is the total amount of direct greenhouse gases emissions referred to as scope 1 emissions?\n",
      " \tpassage_id: 0\n",
      " \tanswers: []\n",
      "Tokenized: \n",
      " \tpassage_start_t: 0\n",
      " \tpassage_tokens: ['scope', 'Ġ1', 'Ġemissions', 'Ġintensity', 'Ġmetric', 'Ġtons', 'Ġco', '2', 'e', 'Ġper', 'Ġg', 'wh', 'Ġ194', '.', '67']\n",
      " \tpassage_offsets: [0, 6, 8, 18, 28, 35, 40, 42, 43, 45, 49, 50, 53, 56, 57]\n",
      " \tpassage_start_of_word: [1, 1, 1, 1, 1, 1, 1, 0, 0, 1, 1, 0, 1, 0, 0]\n",
      " \tquestion_tokens: ['What', 'Ġis', 'Ġthe', 'Ġtotal', 'Ġamount', 'Ġof', 'Ġdirect', 'Ġgreenhouse', 'Ġgases', 'Ġemissions', 'Ġreferred', 'Ġto', 'Ġas', 'Ġscope', 'Ġ1', 'Ġemissions', '?']\n",
      " \tquestion_offsets: [0, 5, 8, 12, 18, 25, 28, 35, 46, 52, 62, 71, 74, 77, 83, 85, 94]\n",
      " \tquestion_start_of_word: [1, 1, 1, 1, 1, 1, 1, 1, 1, 1, 1, 1, 1, 1, 1, 1, 0]\n",
      " \tanswers: []\n",
      " \tdocument_offsets: [0, 6, 8, 18, 28, 35, 40, 42, 43, 45, 49, 50, 53, 56, 57]\n",
      "Features: \n",
      " \tinput_ids: [0, 2264, 16, 5, 746, 1280, 9, 2228, 11832, 20038, 5035, 4997, 7, 25, 7401, 112, 5035, 116, 2, 2, 39576, 112, 5035, 10603, 14823, 7741, 1029, 176, 242, 228, 821, 11613, 31300, 4, 4111, 2, 1, 1, 1, 1, 1, 1, 1, 1, 1, 1, 1, 1, 1, 1, 1, 1, 1, 1, 1, 1, 1, 1, 1, 1, 1, 1, 1, 1, 1, 1, 1, 1, 1, 1, 1, 1, 1, 1, 1, 1, 1, 1, 1, 1, 1, 1, 1, 1, 1, 1, 1, 1, 1, 1, 1, 1, 1, 1, 1, 1, 1, 1, 1, 1, 1, 1, 1, 1, 1, 1, 1, 1, 1, 1, 1, 1, 1, 1, 1, 1, 1, 1, 1, 1, 1, 1, 1, 1, 1, 1, 1, 1, 1, 1, 1, 1, 1, 1, 1, 1, 1, 1, 1, 1, 1, 1, 1, 1, 1, 1, 1, 1, 1, 1, 1, 1, 1, 1, 1, 1, 1, 1, 1, 1, 1, 1, 1, 1, 1, 1, 1, 1, 1, 1, 1, 1, 1, 1, 1, 1, 1, 1, 1, 1, 1, 1, 1, 1, 1, 1, 1, 1, 1, 1, 1, 1, 1, 1, 1, 1, 1, 1, 1, 1, 1, 1, 1, 1, 1, 1, 1, 1, 1, 1, 1, 1, 1, 1, 1, 1, 1, 1, 1, 1, 1, 1, 1, 1, 1, 1, 1, 1, 1, 1, 1, 1, 1, 1, 1, 1, 1, 1, 1, 1, 1, 1, 1, 1, 1, 1, 1, 1, 1, 1, 1, 1, 1, 1, 1, 1]\n",
      " \tpadding_mask: [1, 1, 1, 1, 1, 1, 1, 1, 1, 1, 1, 1, 1, 1, 1, 1, 1, 1, 1, 1, 1, 1, 1, 1, 1, 1, 1, 1, 1, 1, 1, 1, 1, 1, 1, 1, 0, 0, 0, 0, 0, 0, 0, 0, 0, 0, 0, 0, 0, 0, 0, 0, 0, 0, 0, 0, 0, 0, 0, 0, 0, 0, 0, 0, 0, 0, 0, 0, 0, 0, 0, 0, 0, 0, 0, 0, 0, 0, 0, 0, 0, 0, 0, 0, 0, 0, 0, 0, 0, 0, 0, 0, 0, 0, 0, 0, 0, 0, 0, 0, 0, 0, 0, 0, 0, 0, 0, 0, 0, 0, 0, 0, 0, 0, 0, 0, 0, 0, 0, 0, 0, 0, 0, 0, 0, 0, 0, 0, 0, 0, 0, 0, 0, 0, 0, 0, 0, 0, 0, 0, 0, 0, 0, 0, 0, 0, 0, 0, 0, 0, 0, 0, 0, 0, 0, 0, 0, 0, 0, 0, 0, 0, 0, 0, 0, 0, 0, 0, 0, 0, 0, 0, 0, 0, 0, 0, 0, 0, 0, 0, 0, 0, 0, 0, 0, 0, 0, 0, 0, 0, 0, 0, 0, 0, 0, 0, 0, 0, 0, 0, 0, 0, 0, 0, 0, 0, 0, 0, 0, 0, 0, 0, 0, 0, 0, 0, 0, 0, 0, 0, 0, 0, 0, 0, 0, 0, 0, 0, 0, 0, 0, 0, 0, 0, 0, 0, 0, 0, 0, 0, 0, 0, 0, 0, 0, 0, 0, 0, 0, 0, 0, 0, 0, 0, 0, 0]\n",
      " \tsegment_ids: [0 0 0 0 0 0 0 0 0 0 0 0 0 0 0 0 0 0 0 0 0 0 0 0 0 0 0 0 0 0 0 0 0 0 0 0 0\n",
      " 0 0 0 0 0 0 0 0 0 0 0 0 0 0 0 0 0 0 0 0 0 0 0 0 0 0 0 0 0 0 0 0 0 0 0 0 0\n",
      " 0 0 0 0 0 0 0 0 0 0 0 0 0 0 0 0 0 0 0 0 0 0 0 0 0 0 0 0 0 0 0 0 0 0 0 0 0\n",
      " 0 0 0 0 0 0 0 0 0 0 0 0 0 0 0 0 0 0 0 0 0 0 0 0 0 0 0 0 0 0 0 0 0 0 0 0 0\n",
      " 0 0 0 0 0 0 0 0 0 0 0 0 0 0 0 0 0 0 0 0 0 0 0 0 0 0 0 0 0 0 0 0 0 0 0 0 0\n",
      " 0 0 0 0 0 0 0 0 0 0 0 0 0 0 0 0 0 0 0 0 0 0 0 0 0 0 0 0 0 0 0 0 0 0 0 0 0\n",
      " 0 0 0 0 0 0 0 0 0 0 0 0 0 0 0 0 0 0 0 0 0 0 0 0 0 0 0 0 0 0 0 0 0 0]\n",
      " \tanswer_type_ids: [0]\n",
      " \tpassage_start_t: 0\n",
      " \tstart_of_word: [0, 1, 1, 1, 1, 1, 1, 1, 1, 1, 1, 1, 1, 1, 1, 1, 1, 0, 0, 0, 1, 1, 1, 1, 1, 1, 1, 0, 0, 1, 1, 0, 1, 0, 0, 0, 0, 0, 0, 0, 0, 0, 0, 0, 0, 0, 0, 0, 0, 0, 0, 0, 0, 0, 0, 0, 0, 0, 0, 0, 0, 0, 0, 0, 0, 0, 0, 0, 0, 0, 0, 0, 0, 0, 0, 0, 0, 0, 0, 0, 0, 0, 0, 0, 0, 0, 0, 0, 0, 0, 0, 0, 0, 0, 0, 0, 0, 0, 0, 0, 0, 0, 0, 0, 0, 0, 0, 0, 0, 0, 0, 0, 0, 0, 0, 0, 0, 0, 0, 0, 0, 0, 0, 0, 0, 0, 0, 0, 0, 0, 0, 0, 0, 0, 0, 0, 0, 0, 0, 0, 0, 0, 0, 0, 0, 0, 0, 0, 0, 0, 0, 0, 0, 0, 0, 0, 0, 0, 0, 0, 0, 0, 0, 0, 0, 0, 0, 0, 0, 0, 0, 0, 0, 0, 0, 0, 0, 0, 0, 0, 0, 0, 0, 0, 0, 0, 0, 0, 0, 0, 0, 0, 0, 0, 0, 0, 0, 0, 0, 0, 0, 0, 0, 0, 0, 0, 0, 0, 0, 0, 0, 0, 0, 0, 0, 0, 0, 0, 0, 0, 0, 0, 0, 0, 0, 0, 0, 0, 0, 0, 0, 0, 0, 0, 0, 0, 0, 0, 0, 0, 0, 0, 0, 0, 0, 0, 0, 0, 0, 0, 0, 0, 0, 0, 0, 0]\n",
      " \tlabels: [[ 0  0]\n",
      " [-1 -1]\n",
      " [-1 -1]\n",
      " [-1 -1]\n",
      " [-1 -1]\n",
      " [-1 -1]]\n",
      " \tid: [3, 4, 0]\n",
      " \tseq_2_start_t: 20\n",
      " \tspan_mask: [1, 0, 0, 0, 0, 0, 0, 0, 0, 0, 0, 0, 0, 0, 0, 0, 0, 0, 0, 0, 1, 1, 1, 1, 1, 1, 1, 1, 1, 1, 1, 1, 1, 1, 1, 0, 0, 0, 0, 0, 0, 0, 0, 0, 0, 0, 0, 0, 0, 0, 0, 0, 0, 0, 0, 0, 0, 0, 0, 0, 0, 0, 0, 0, 0, 0, 0, 0, 0, 0, 0, 0, 0, 0, 0, 0, 0, 0, 0, 0, 0, 0, 0, 0, 0, 0, 0, 0, 0, 0, 0, 0, 0, 0, 0, 0, 0, 0, 0, 0, 0, 0, 0, 0, 0, 0, 0, 0, 0, 0, 0, 0, 0, 0, 0, 0, 0, 0, 0, 0, 0, 0, 0, 0, 0, 0, 0, 0, 0, 0, 0, 0, 0, 0, 0, 0, 0, 0, 0, 0, 0, 0, 0, 0, 0, 0, 0, 0, 0, 0, 0, 0, 0, 0, 0, 0, 0, 0, 0, 0, 0, 0, 0, 0, 0, 0, 0, 0, 0, 0, 0, 0, 0, 0, 0, 0, 0, 0, 0, 0, 0, 0, 0, 0, 0, 0, 0, 0, 0, 0, 0, 0, 0, 0, 0, 0, 0, 0, 0, 0, 0, 0, 0, 0, 0, 0, 0, 0, 0, 0, 0, 0, 0, 0, 0, 0, 0, 0, 0, 0, 0, 0, 0, 0, 0, 0, 0, 0, 0, 0, 0, 0, 0, 0, 0, 0, 0, 0, 0, 0, 0, 0, 0, 0, 0, 0, 0, 0, 0, 0, 0, 0, 0, 0, 0, 0]\n",
      "_____________________________________________________\n",
      "Process ForkPoolWorker-15:\n",
      "Process ForkPoolWorker-16:\n",
      "Process ForkPoolWorker-21:\n",
      "Process ForkPoolWorker-18:\n",
      "Process ForkPoolWorker-19:\n",
      "Process ForkPoolWorker-20:\n",
      "Process ForkPoolWorker-17:\n",
      "Traceback (most recent call last):\n",
      "Traceback (most recent call last):\n",
      "Traceback (most recent call last):\n",
      "  File \"/usr/lib64/python3.8/multiprocessing/process.py\", line 315, in _bootstrap\n",
      "    self.run()\n",
      "Traceback (most recent call last):\n",
      "Traceback (most recent call last):\n",
      "  File \"/usr/lib64/python3.8/multiprocessing/process.py\", line 315, in _bootstrap\n",
      "    self.run()\n",
      "Traceback (most recent call last):\n",
      "Traceback (most recent call last):\n",
      "  File \"/usr/lib64/python3.8/multiprocessing/queues.py\", line 355, in get\n",
      "    with self._rlock:\n",
      "  File \"/usr/lib64/python3.8/multiprocessing/process.py\", line 315, in _bootstrap\n",
      "    self.run()\n",
      "  File \"/usr/lib64/python3.8/multiprocessing/process.py\", line 315, in _bootstrap\n",
      "    self.run()\n",
      "  File \"/usr/lib64/python3.8/multiprocessing/process.py\", line 315, in _bootstrap\n",
      "    self.run()\n",
      "  File \"/usr/lib64/python3.8/multiprocessing/process.py\", line 315, in _bootstrap\n",
      "    self.run()\n",
      "  File \"/usr/lib64/python3.8/multiprocessing/process.py\", line 315, in _bootstrap\n",
      "    self.run()\n",
      "  File \"/usr/lib64/python3.8/multiprocessing/process.py\", line 108, in run\n",
      "    self._target(*self._args, **self._kwargs)\n",
      "  File \"/usr/lib64/python3.8/multiprocessing/process.py\", line 108, in run\n",
      "    self._target(*self._args, **self._kwargs)\n",
      "  File \"/usr/lib64/python3.8/multiprocessing/process.py\", line 108, in run\n",
      "    self._target(*self._args, **self._kwargs)\n",
      "  File \"/usr/lib64/python3.8/multiprocessing/synchronize.py\", line 95, in __enter__\n",
      "    return self._semlock.__enter__()\n",
      "  File \"/usr/lib64/python3.8/multiprocessing/pool.py\", line 114, in worker\n",
      "    task = get()\n",
      "  File \"/usr/lib64/python3.8/multiprocessing/process.py\", line 108, in run\n",
      "    self._target(*self._args, **self._kwargs)\n"
     ]
    }
   ],
   "source": [
    "# load model\n",
    "model = QAInferencer.load(file_config.saved_models_dir, batch_size=40, gpu=True)"
   ]
  },
  {
   "cell_type": "markdown",
   "metadata": {},
   "source": [
    "Now, let's make prediction on a pair of paragraph and question."
   ]
  },
  {
   "cell_type": "code",
   "execution_count": 20,
   "metadata": {},
   "outputs": [],
   "source": [
    "# sample context and question\n",
    "context = \"\"\"the paris agreement on climate change drafted in 2015 aims to reduce worldwide emissions of greenhouse\n",
    "gases to a level intended to limit a rise in global temperatures to below 2 degrees or, better still,\n",
    "to below 1.5 degrees. verbund’s target of reducing greenhouse gas emissions by 90% measured beginning from\n",
    "the basis year 2011 5 million tonnes co2e until 2021 includes scope 1, scope 2 market- based and parts of scope 3 emissions\n",
    "for energy and air travel. the science based targets initiative validated this goal as science-based in october 2016,\n",
    "i.e. it meets global standards. according to current planning, the target can be achieved.\n",
    "however, if the grid operator requires higher generation volumes\n",
    "\"\"\"\n",
    "question = \"What is the target year for climate commitment?\""
   ]
  },
  {
   "cell_type": "code",
   "execution_count": 21,
   "metadata": {},
   "outputs": [
    {
     "name": "stderr",
     "output_type": "stream",
     "text": [
      "Inferencing Samples: 100%|██████████| 1/1 [00:00<00:00, 25.48 Batches/s]"
     ]
    },
    {
     "name": "stdout",
     "output_type": "stream",
     "text": [
      "{'predictions': [{'answers': [{'answer': 'no_answer',\n",
      "                               'context': '',\n",
      "                               'document_id': '0-0',\n",
      "                               'offset_answer_end': 0,\n",
      "                               'offset_answer_start': 0,\n",
      "                               'offset_context_end': 0,\n",
      "                               'offset_context_start': 0,\n",
      "                               'probability': None,\n",
      "                               'score': 8.289518356323242},\n",
      "                              {'answer': '2021',\n",
      "                               'context': 'the basis year 2011 5 million '\n",
      "                                          'tonnes co2e until 2021 includes '\n",
      "                                          'scope 1, scope 2 market- based and '\n",
      "                                          'par',\n",
      "                               'document_id': '0-0',\n",
      "                               'offset_answer_end': 364,\n",
      "                               'offset_answer_start': 360,\n",
      "                               'offset_context_end': 412,\n",
      "                               'offset_context_start': 312,\n",
      "                               'probability': None,\n",
      "                               'score': -3.186553478240967}],\n",
      "                  'ground_truth': [],\n",
      "                  'id': '0-0',\n",
      "                  'no_ans_gap': -11.476071834564209,\n",
      "                  'question': 'What is the target year for climate '\n",
      "                              'commitment?'}],\n",
      " 'task': 'qa'}\n"
     ]
    },
    {
     "name": "stderr",
     "output_type": "stream",
     "text": [
      "\n"
     ]
    }
   ],
   "source": [
    "# model response\n",
    "QA_input = [\n",
    "    {\n",
    "        \"qas\": [question],\n",
    "        \"context\":  context\n",
    "    }\n",
    "]\n",
    "\n",
    "result = model.inference_from_dicts(dicts=QA_input)[0]\n",
    "pprint.pprint(result)"
   ]
  },
  {
   "cell_type": "markdown",
   "metadata": {},
   "source": [
    "What does the prediction result show? "
   ]
  },
  {
   "cell_type": "code",
   "execution_count": 22,
   "metadata": {},
   "outputs": [
    {
     "data": {
      "text/plain": [
       "{'score': 8.289518356323242,\n",
       " 'probability': None,\n",
       " 'answer': 'no_answer',\n",
       " 'offset_answer_start': 0,\n",
       " 'offset_answer_end': 0,\n",
       " 'context': '',\n",
       " 'offset_context_start': 0,\n",
       " 'offset_context_end': 0,\n",
       " 'document_id': '0-0'}"
      ]
     },
     "execution_count": 22,
     "metadata": {},
     "output_type": "execute_result"
    }
   ],
   "source": [
    "# This is the best answer. Generally it can be span-based or it can be no-answer, which ever is higher\n",
    "# Here the top answer is the span '2021'\n",
    "result['predictions'][0]['answers'][0]"
   ]
  },
  {
   "cell_type": "code",
   "execution_count": 23,
   "metadata": {},
   "outputs": [
    {
     "data": {
      "text/plain": [
       "{'score': -3.186553478240967,\n",
       " 'probability': None,\n",
       " 'answer': '2021',\n",
       " 'offset_answer_start': 360,\n",
       " 'offset_answer_end': 364,\n",
       " 'context': 'the basis year 2011 5 million tonnes co2e until 2021 includes scope 1, scope 2 market- based and par',\n",
       " 'offset_context_start': 312,\n",
       " 'offset_context_end': 412,\n",
       " 'document_id': '0-0'}"
      ]
     },
     "execution_count": 23,
     "metadata": {},
     "output_type": "execute_result"
    }
   ],
   "source": [
    "# Non-answerable score: The model is pretty confident that the answer to the question can be in the context.\n",
    "result['predictions'][0]['answers'][1]"
   ]
  },
  {
   "cell_type": "markdown",
   "metadata": {},
   "source": [
    "## Evaluate Model\n",
    "\n",
    "Next, we will make the predictions on the squad-formatted validation file."
   ]
  },
  {
   "cell_type": "code",
   "execution_count": 24,
   "metadata": {
    "scrolled": true
   },
   "outputs": [
    {
     "name": "stderr",
     "output_type": "stream",
     "text": [
      "Inferencing Samples: 100%|██████████| 1/1 [00:00<00:00,  1.25 Batches/s]\n",
      "Inferencing Samples: 100%|██████████| 1/1 [00:00<00:00,  4.72 Batches/s]\n",
      "Inferencing Samples: 100%|██████████| 1/1 [00:00<00:00,  6.95 Batches/s]\n",
      "Inferencing Samples: 100%|██████████| 1/1 [00:00<00:00,  3.74 Batches/s]\n",
      "Inferencing Samples: 100%|██████████| 1/1 [00:00<00:00,  2.68 Batches/s]\n",
      "Inferencing Samples: 100%|██████████| 1/1 [00:00<00:00,  3.94 Batches/s]\n",
      "Inferencing Samples: 100%|██████████| 1/1 [00:00<00:00,  1.84 Batches/s]\n",
      "Inferencing Samples: 100%|██████████| 1/1 [00:00<00:00,  3.26 Batches/s]\n",
      "07/10/2022 01:46:43 - INFO - farm.data_handler.utils -   Written Squad predictions to: /opt/app-root/src/aicoe-osc-demo/reports/qa_predictions.json\n"
     ]
    }
   ],
   "source": [
    "# run inference on validation dataset\n",
    "results = model.inference_from_file(\n",
    "    file=file_config.dev_filename,\n",
    "    return_json=False,\n",
    ")\n",
    "result_squad = [x.to_squad_eval() for x in results]\n",
    "\n",
    "write_squad_predictions(\n",
    "    predictions=result_squad,\n",
    "    predictions_filename=file_config.dev_filename,\n",
    "    out_filename=file_config.dev_predictions_filename,\n",
    ")"
   ]
  },
  {
   "cell_type": "markdown",
   "metadata": {},
   "source": [
    "The result is written in the `out_filename`"
   ]
  },
  {
   "cell_type": "code",
   "execution_count": 25,
   "metadata": {
    "tags": []
   },
   "outputs": [],
   "source": [
    "# evaluate the model usong the squad evaluation tool provided by farm\n",
    "# settings for squad evaluation\n",
    "eval_params = {\n",
    "    \"data_file\": file_config.dev_filename,\n",
    "    \"pred_file\": file_config.dev_predictions_filename,\n",
    "    \"out_file\": file_config.model_performance_metrics_filename,\n",
    "    \"na_prob_thresh\": 1,\n",
    "    \"na_prob_file\": False,\n",
    "}"
   ]
  },
  {
   "cell_type": "code",
   "execution_count": 26,
   "metadata": {},
   "outputs": [
    {
     "data": {
      "text/html": [
       "<div>\n",
       "<style scoped>\n",
       "    .dataframe tbody tr th:only-of-type {\n",
       "        vertical-align: middle;\n",
       "    }\n",
       "\n",
       "    .dataframe tbody tr th {\n",
       "        vertical-align: top;\n",
       "    }\n",
       "\n",
       "    .dataframe thead th {\n",
       "        text-align: right;\n",
       "    }\n",
       "</style>\n",
       "<table border=\"1\" class=\"dataframe\">\n",
       "  <thead>\n",
       "    <tr style=\"text-align: right;\">\n",
       "      <th></th>\n",
       "      <th>exact</th>\n",
       "      <th>f1</th>\n",
       "      <th>total</th>\n",
       "      <th>HasAns_exact</th>\n",
       "      <th>HasAns_f1</th>\n",
       "      <th>HasAns_total</th>\n",
       "      <th>NoAns_exact</th>\n",
       "      <th>NoAns_f1</th>\n",
       "      <th>NoAns_total</th>\n",
       "    </tr>\n",
       "  </thead>\n",
       "  <tbody>\n",
       "    <tr>\n",
       "      <th>0</th>\n",
       "      <td>99.270073</td>\n",
       "      <td>99.320413</td>\n",
       "      <td>137</td>\n",
       "      <td>85.714286</td>\n",
       "      <td>86.699507</td>\n",
       "      <td>7</td>\n",
       "      <td>100.0</td>\n",
       "      <td>100.0</td>\n",
       "      <td>130</td>\n",
       "    </tr>\n",
       "  </tbody>\n",
       "</table>\n",
       "</div>"
      ],
      "text/plain": [
       "       exact         f1  total  HasAns_exact  HasAns_f1  HasAns_total  \\\n",
       "0  99.270073  99.320413    137     85.714286  86.699507             7   \n",
       "\n",
       "   NoAns_exact  NoAns_f1  NoAns_total  \n",
       "0        100.0     100.0          130  "
      ]
     },
     "execution_count": 26,
     "metadata": {},
     "output_type": "execute_result"
    }
   ],
   "source": [
    "with open(eval_params['data_file']) as f:\n",
    "    dataset_json = json.load(f)\n",
    "    dataset = dataset_json['data']\n",
    "\n",
    "with open(eval_params['pred_file']) as f:\n",
    "    preds = json.load(f)\n",
    "\n",
    "# NOTE: in predictions, the keys are strings but need to be converted to ints\n",
    "# if we want to use squad evaluation file provided by farm\n",
    "preds = {int(k): v for k, v in preds.items()}\n",
    "\n",
    "if eval_params['na_prob_file']:\n",
    "    with open(eval_params['na_prob_file']) as f:\n",
    "        na_probs = json.load(f)\n",
    "else:\n",
    "    na_probs = {k: 0.0 for k in preds}\n",
    "\n",
    "# maps qid to True/False\n",
    "qid_to_has_ans = squad_evaluation.make_qid_to_has_ans(dataset)\n",
    "has_ans_qids = [k for k, v in qid_to_has_ans.items() if v]\n",
    "no_ans_qids = [k for k, v in qid_to_has_ans.items() if not v]\n",
    "\n",
    "# get raw scores\n",
    "exact_raw, f1_raw = squad_evaluation.get_raw_scores_extended(dataset, preds)\n",
    "\n",
    "# apply thresholds\n",
    "exact_thresh = squad_evaluation.apply_no_ans_threshold(\n",
    "    exact_raw,\n",
    "    na_probs,\n",
    "    qid_to_has_ans,\n",
    "    eval_params['na_prob_thresh'],\n",
    ")\n",
    "f1_thresh = squad_evaluation.apply_no_ans_threshold(\n",
    "    f1_raw,\n",
    "    na_probs,\n",
    "    qid_to_has_ans,\n",
    "    eval_params['na_prob_thresh'],\n",
    ")\n",
    "\n",
    "# create results dict\n",
    "results_squad = squad_evaluation.make_eval_dict(exact_thresh, f1_thresh)\n",
    "if has_ans_qids:\n",
    "    has_ans_eval = squad_evaluation.make_eval_dict(exact_thresh, f1_thresh, qid_list=has_ans_qids)\n",
    "    squad_evaluation.merge_eval(results_squad, has_ans_eval, 'HasAns')\n",
    "if no_ans_qids:\n",
    "    no_ans_eval = squad_evaluation.make_eval_dict(exact_thresh, f1_thresh, qid_list=no_ans_qids)\n",
    "    squad_evaluation.merge_eval(results_squad, no_ans_eval, 'NoAns')\n",
    "\n",
    "# covert to df\n",
    "scores_df = pd.DataFrame(results_squad, index=[0])\n",
    "scores_df"
   ]
  },
  {
   "cell_type": "code",
   "execution_count": 27,
   "metadata": {},
   "outputs": [
    {
     "data": {
      "text/plain": [
       "{'ResponseMetadata': {'RequestId': 'J85A7XXQ02VAPBMG',\n",
       "  'HostId': 'oPepS9ea1mZah2jcX9X1jdOGdag6fPn9HDGWBqzfQCZvsViKSzBBMMPzeEM+O5WyPijpG0NgGiqcjOQMK7vhvg==',\n",
       "  'HTTPStatusCode': 200,\n",
       "  'HTTPHeaders': {'x-amz-id-2': 'oPepS9ea1mZah2jcX9X1jdOGdag6fPn9HDGWBqzfQCZvsViKSzBBMMPzeEM+O5WyPijpG0NgGiqcjOQMK7vhvg==',\n",
       "   'x-amz-request-id': 'J85A7XXQ02VAPBMG',\n",
       "   'date': 'Sun, 10 Jul 2022 01:47:16 GMT',\n",
       "   'etag': '\"06e8d005d15016b818e0239304f6c087\"',\n",
       "   'server': 'AmazonS3',\n",
       "   'content-length': '0'},\n",
       "  'RetryAttempts': 0},\n",
       " 'ETag': '\"06e8d005d15016b818e0239304f6c087\"'}"
      ]
     },
     "execution_count": 27,
     "metadata": {},
     "output_type": "execute_result"
    }
   ],
   "source": [
    "# save locally and upload to s3\n",
    "scores_df.to_csv(file_config.model_performance_metrics_filename)\n",
    "\n",
    "# upload performance files to s3\n",
    "s3c.upload_df_to_s3(\n",
    "    scores_df,\n",
    "    s3_prefix=f\"{config.CHECKPOINT_S3_PREFIX}/{file_config.experiment_name}\",\n",
    "    s3_key=\"scores.csv\",\n",
    "    filetype=S3FileType.CSV,\n",
    ")"
   ]
  },
  {
   "cell_type": "markdown",
   "metadata": {},
   "source": [
    "## Save Model to s3"
   ]
  },
  {
   "cell_type": "code",
   "execution_count": 28,
   "metadata": {},
   "outputs": [],
   "source": [
    "# upload model to s3\n",
    "s3c.upload_files_in_dir_to_prefix(\n",
    "    source_dir=file_config.saved_models_dir,\n",
    "    s3_prefix=f\"{config.CHECKPOINT_S3_PREFIX}/{file_config.experiment_name}/KPI_EXTRACTION\",\n",
    ")"
   ]
  },
  {
   "cell_type": "markdown",
   "metadata": {},
   "source": [
    "# Conclusion\n",
    "\n",
    "In this notebook, we developed a model that can be used for answering a KPI question, given a relevant paragraph (context). With this model in place, the training pipeline is now complete. That is, we have a pipeline that takes a set of raw PDFs, runs extraction, curates the data for relevance training, trains a relevance model, curates the relevance results for question-answering training, and finally trains a question-answering model."
   ]
  },
  {
   "cell_type": "code",
   "execution_count": null,
   "metadata": {},
   "outputs": [],
   "source": []
  }
 ],
 "metadata": {
  "kernelspec": {
   "display_name": "Python 3 (ipykernel)",
   "language": "python",
   "name": "python3"
  },
  "language_info": {
   "codemirror_mode": {
    "name": "ipython",
    "version": 3
   },
   "file_extension": ".py",
   "mimetype": "text/x-python",
   "name": "python",
   "nbconvert_exporter": "python",
   "pygments_lexer": "ipython3",
   "version": "3.8.8"
  }
 },
 "nbformat": 4,
 "nbformat_minor": 4
}
