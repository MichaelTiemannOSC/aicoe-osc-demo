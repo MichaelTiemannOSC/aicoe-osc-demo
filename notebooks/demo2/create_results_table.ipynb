{
 "cells": [
  {
   "cell_type": "markdown",
   "id": "84740bba",
   "metadata": {
    "tags": [
     "papermill-error-cell-tag"
    ]
   },
   "source": [
    "<span style=\"color:red; font-family:Helvetica Neue, Helvetica, Arial, sans-serif; font-size:2em;\">An Exception was encountered at '<a href=\"#papermill-error-cell\">In [10]</a>'.</span>"
   ]
  },
  {
   "cell_type": "markdown",
   "id": "395f44cf",
   "metadata": {
    "papermill": {
     "duration": 0.004758,
     "end_time": "2022-07-09T14:19:52.021239",
     "exception": false,
     "start_time": "2022-07-09T14:19:52.016481",
     "status": "completed"
    },
    "tags": []
   },
   "source": [
    "# Demo 3 - Data Ingestion\n",
    "\n",
    "This notebook reads the inference from ceph s3 storage for demo2 and will ingest these inference as a table to trino. These tables will be used for creating visualizations using Apache Superset."
   ]
  },
  {
   "cell_type": "code",
   "execution_count": 1,
   "id": "dd4bb47d",
   "metadata": {
    "execution": {
     "iopub.execute_input": "2022-07-09T14:19:52.029188Z",
     "iopub.status.busy": "2022-07-09T14:19:52.028532Z",
     "iopub.status.idle": "2022-07-09T14:19:53.472603Z",
     "shell.execute_reply": "2022-07-09T14:19:53.471706Z"
    },
    "papermill": {
     "duration": 1.451786,
     "end_time": "2022-07-09T14:19:53.476063",
     "exception": false,
     "start_time": "2022-07-09T14:19:52.024277",
     "status": "completed"
    },
    "tags": []
   },
   "outputs": [],
   "source": [
    "import os\n",
    "import pathlib\n",
    "from dotenv import load_dotenv\n",
    "import trino\n",
    "import pandas as pd\n",
    "import glob\n",
    "import config\n",
    "from src.data.s3_communication import S3Communication, S3FileType"
   ]
  },
  {
   "cell_type": "markdown",
   "id": "3f2fe317",
   "metadata": {
    "papermill": {
     "duration": 0.002738,
     "end_time": "2022-07-09T14:19:53.482060",
     "exception": false,
     "start_time": "2022-07-09T14:19:53.479322",
     "status": "completed"
    },
    "tags": []
   },
   "source": [
    "### Injecting Credentials\n",
    "\n",
    "In order to run this notebook, we need credentials to connect with S3 storage to retrieve data and the Trino server to create tables.\n",
    "\n",
    "In an automated environment, the credentials can be specified in a pipeline's environment variables or through Openshift secrets.\n",
    "\n",
    "For running the notebook in a local environment, we will define them as environment variables in a `credentials.env` file at the root of the project repository, and load them using dotenv. An example of what the contents of `credentials.env` could look like is shown below\n",
    "\n",
    "```\n",
    "# s3 credentials\n",
    "S3_ENDPOINT=https://s3.us-east-1.amazonaws.com\n",
    "S3_BUCKET=ocp-odh-os-demo-s3\n",
    "AWS_ACCESS_KEY_ID=xxx\n",
    "AWS_SECRET_ACCESS_KEY=xxx\n",
    "\n",
    "# trino credentials\n",
    "TRINO_USER=xxx\n",
    "TRINO_PASSWD=xxx\n",
    "TRINO_HOST=trino-secure-odh-trino.apps.odh-cl1.apps.os-climate.org\n",
    "TRINO_PORT=443\n",
    "```"
   ]
  },
  {
   "cell_type": "code",
   "execution_count": 2,
   "id": "a84efa52",
   "metadata": {
    "execution": {
     "iopub.execute_input": "2022-07-09T14:19:53.488965Z",
     "iopub.status.busy": "2022-07-09T14:19:53.488492Z",
     "iopub.status.idle": "2022-07-09T14:19:53.500069Z",
     "shell.execute_reply": "2022-07-09T14:19:53.499252Z"
    },
    "papermill": {
     "duration": 0.016907,
     "end_time": "2022-07-09T14:19:53.501752",
     "exception": false,
     "start_time": "2022-07-09T14:19:53.484845",
     "status": "completed"
    },
    "tags": []
   },
   "outputs": [],
   "source": [
    "# Load credentials\n",
    "dotenv_dir = os.environ.get(\n",
    "    \"CREDENTIAL_DOTENV_DIR\", os.environ.get(\"PWD\", \"/opt/app-root/src\")\n",
    ")\n",
    "dotenv_path = pathlib.Path(dotenv_dir) / \"credentials.env\"\n",
    "if os.path.exists(dotenv_path):\n",
    "    load_dotenv(dotenv_path=dotenv_path, override=True)"
   ]
  },
  {
   "cell_type": "markdown",
   "id": "d78368e2",
   "metadata": {
    "papermill": {
     "duration": 0.005104,
     "end_time": "2022-07-09T14:19:53.509632",
     "exception": false,
     "start_time": "2022-07-09T14:19:53.504528",
     "status": "completed"
    },
    "tags": []
   },
   "source": [
    "## Read Raw Data from S3\n",
    "\n",
    "First, we will read some sample data from s3. We will format the column data types to ensure they can be understood by Trino, as well as rename the columns so that they are compatible with SQL naming conventions."
   ]
  },
  {
   "cell_type": "code",
   "execution_count": 3,
   "id": "466e8eaf",
   "metadata": {
    "execution": {
     "iopub.execute_input": "2022-07-09T14:19:53.573219Z",
     "iopub.status.busy": "2022-07-09T14:19:53.572768Z",
     "iopub.status.idle": "2022-07-09T14:19:53.709980Z",
     "shell.execute_reply": "2022-07-09T14:19:53.709346Z"
    },
    "papermill": {
     "duration": 0.197872,
     "end_time": "2022-07-09T14:19:53.711885",
     "exception": false,
     "start_time": "2022-07-09T14:19:53.514013",
     "status": "completed"
    },
    "tags": []
   },
   "outputs": [],
   "source": [
    "# init s3 connector\n",
    "s3c = S3Communication(\n",
    "    s3_endpoint_url=os.getenv(\"S3_ENDPOINT\"),\n",
    "    aws_access_key_id=os.getenv(\"AWS_ACCESS_KEY_ID\"),\n",
    "    aws_secret_access_key=os.getenv(\"AWS_SECRET_ACCESS_KEY\"),\n",
    "    s3_bucket=os.getenv(\"S3_BUCKET\"),\n",
    ")"
   ]
  },
  {
   "cell_type": "code",
   "execution_count": 4,
   "id": "269aa2fb-e410-49b5-a80e-42fba3874604",
   "metadata": {
    "execution": {
     "iopub.execute_input": "2022-07-09T14:19:53.719283Z",
     "iopub.status.busy": "2022-07-09T14:19:53.718831Z",
     "iopub.status.idle": "2022-07-09T14:19:53.988950Z",
     "shell.execute_reply": "2022-07-09T14:19:53.988107Z"
    },
    "papermill": {
     "duration": 0.275875,
     "end_time": "2022-07-09T14:19:53.990980",
     "exception": false,
     "start_time": "2022-07-09T14:19:53.715105",
     "status": "completed"
    },
    "tags": []
   },
   "outputs": [],
   "source": [
    "if os.getenv(\"AUTOMATION\"):\n",
    "    if not os.path.exists(config.BASE_INFER_KPI_FOLDER):\n",
    "        pathlib.Path(config.BASE_INFER_KPI_FOLDER).mkdir(parents=True, exist_ok=True)\n",
    "\n",
    "    # Download a sample dataset file from s3\n",
    "    s3c.download_files_in_prefix_to_dir(\n",
    "        s3_prefix=config.BASE_INFER_KPI_S3_PREFIX,\n",
    "        destination_dir=config.BASE_INFER_KPI_FOLDER\n",
    "    )"
   ]
  },
  {
   "cell_type": "code",
   "execution_count": 5,
   "id": "f4f4bdf6-8b20-42a4-9a74-552bfbcec2f0",
   "metadata": {
    "execution": {
     "iopub.execute_input": "2022-07-09T14:19:53.999692Z",
     "iopub.status.busy": "2022-07-09T14:19:53.999033Z",
     "iopub.status.idle": "2022-07-09T14:19:54.088597Z",
     "shell.execute_reply": "2022-07-09T14:19:54.087804Z"
    },
    "papermill": {
     "duration": 0.096007,
     "end_time": "2022-07-09T14:19:54.090472",
     "exception": false,
     "start_time": "2022-07-09T14:19:53.994465",
     "status": "completed"
    },
    "tags": []
   },
   "outputs": [
    {
     "data": {
      "text/html": [
       "<div>\n",
       "<style scoped>\n",
       "    .dataframe tbody tr th:only-of-type {\n",
       "        vertical-align: middle;\n",
       "    }\n",
       "\n",
       "    .dataframe tbody tr th {\n",
       "        vertical-align: top;\n",
       "    }\n",
       "\n",
       "    .dataframe thead th {\n",
       "        text-align: right;\n",
       "    }\n",
       "</style>\n",
       "<table border=\"1\" class=\"dataframe\">\n",
       "  <thead>\n",
       "    <tr style=\"text-align: right;\">\n",
       "      <th></th>\n",
       "      <th>pdf_name</th>\n",
       "      <th>kpi</th>\n",
       "      <th>kpi_id</th>\n",
       "      <th>answer</th>\n",
       "      <th>page</th>\n",
       "      <th>paragraph</th>\n",
       "      <th>source</th>\n",
       "      <th>score</th>\n",
       "      <th>no_ans_score</th>\n",
       "      <th>no_answer_score_plus_boost</th>\n",
       "    </tr>\n",
       "  </thead>\n",
       "  <tbody>\n",
       "    <tr>\n",
       "      <th>0</th>\n",
       "      <td>sustainability-report-2019</td>\n",
       "      <td>In which year was the annual report or the sus...</td>\n",
       "      <td>&lt;NA&gt;</td>\n",
       "      <td>2019</td>\n",
       "      <td>3</td>\n",
       "      <td>This report focuses on the sustainability topi...</td>\n",
       "      <td>Text</td>\n",
       "      <td>12.819067</td>\n",
       "      <td>-11.38402</td>\n",
       "      <td>-26.38402</td>\n",
       "    </tr>\n",
       "    <tr>\n",
       "      <th>1</th>\n",
       "      <td>sustainability-report-2019</td>\n",
       "      <td>In which year was the annual report or the sus...</td>\n",
       "      <td>&lt;NA&gt;</td>\n",
       "      <td>2018</td>\n",
       "      <td>7</td>\n",
       "      <td>According to IPCC’s 1.5 C report from 2018 and...</td>\n",
       "      <td>Text</td>\n",
       "      <td>12.508747</td>\n",
       "      <td>-6.967487</td>\n",
       "      <td>-21.967487</td>\n",
       "    </tr>\n",
       "    <tr>\n",
       "      <th>2</th>\n",
       "      <td>sustainability-report-2019</td>\n",
       "      <td>In which year was the annual report or the sus...</td>\n",
       "      <td>&lt;NA&gt;</td>\n",
       "      <td>2019</td>\n",
       "      <td>26</td>\n",
       "      <td>Equinor Sustainability report 2019 High value ...</td>\n",
       "      <td>Text</td>\n",
       "      <td>12.427499</td>\n",
       "      <td>-9.680321</td>\n",
       "      <td>-24.680321</td>\n",
       "    </tr>\n",
       "    <tr>\n",
       "      <th>3</th>\n",
       "      <td>sustainability-report-2019</td>\n",
       "      <td>In which year was the annual report or the sus...</td>\n",
       "      <td>&lt;NA&gt;</td>\n",
       "      <td>2019</td>\n",
       "      <td>8</td>\n",
       "      <td>Equinor Sustainability report 2019Low carbon —...</td>\n",
       "      <td>Text</td>\n",
       "      <td>12.356201</td>\n",
       "      <td>-8.748014</td>\n",
       "      <td>-23.748014</td>\n",
       "    </tr>\n",
       "    <tr>\n",
       "      <th>4</th>\n",
       "      <td>sustainability-report-2019</td>\n",
       "      <td>What is the annual total production from coal?</td>\n",
       "      <td>&lt;NA&gt;</td>\n",
       "      <td>no_answer</td>\n",
       "      <td>&lt;NA&gt;</td>\n",
       "      <td>&lt;NA&gt;</td>\n",
       "      <td>Text</td>\n",
       "      <td>2.840456</td>\n",
       "      <td>&lt;NA&gt;</td>\n",
       "      <td>&lt;NA&gt;</td>\n",
       "    </tr>\n",
       "  </tbody>\n",
       "</table>\n",
       "</div>"
      ],
      "text/plain": [
       "                     pdf_name  \\\n",
       "0  sustainability-report-2019   \n",
       "1  sustainability-report-2019   \n",
       "2  sustainability-report-2019   \n",
       "3  sustainability-report-2019   \n",
       "4  sustainability-report-2019   \n",
       "\n",
       "                                                 kpi  kpi_id     answer  page  \\\n",
       "0  In which year was the annual report or the sus...    <NA>       2019     3   \n",
       "1  In which year was the annual report or the sus...    <NA>       2018     7   \n",
       "2  In which year was the annual report or the sus...    <NA>       2019    26   \n",
       "3  In which year was the annual report or the sus...    <NA>       2019     8   \n",
       "4     What is the annual total production from coal?    <NA>  no_answer  <NA>   \n",
       "\n",
       "                                           paragraph source      score  \\\n",
       "0  This report focuses on the sustainability topi...   Text  12.819067   \n",
       "1  According to IPCC’s 1.5 C report from 2018 and...   Text  12.508747   \n",
       "2  Equinor Sustainability report 2019 High value ...   Text  12.427499   \n",
       "3  Equinor Sustainability report 2019Low carbon —...   Text  12.356201   \n",
       "4                                               <NA>   Text   2.840456   \n",
       "\n",
       "   no_ans_score  no_answer_score_plus_boost  \n",
       "0     -11.38402                   -26.38402  \n",
       "1     -6.967487                  -21.967487  \n",
       "2     -9.680321                  -24.680321  \n",
       "3     -8.748014                  -23.748014  \n",
       "4          <NA>                        <NA>  "
      ]
     },
     "execution_count": 5,
     "metadata": {},
     "output_type": "execute_result"
    }
   ],
   "source": [
    "all_files = glob.glob(str(config.BASE_INFER_KPI_FOLDER / \"*.csv\"))\n",
    "list_of_files =  []\n",
    "\n",
    "for filename in all_files:\n",
    "    df = pd.read_csv(filename, index_col=None, header=0).convert_dtypes().drop(columns=['Unnamed: 0'],axis=1)\n",
    "    list_of_files.append(df)\n",
    "\n",
    "preds_kpi = pd.concat(list_of_files, axis=0, ignore_index=True)\n",
    "\n",
    "len_preds_kpi = len(preds_kpi)\n",
    "\n",
    "# convert columns to specific data types\n",
    "preds_kpi = preds_kpi.convert_dtypes().drop(['index'], axis=1, errors='ignore')\n",
    "preds_kpi.head()"
   ]
  },
  {
   "cell_type": "code",
   "execution_count": 6,
   "id": "f87ac21e",
   "metadata": {
    "execution": {
     "iopub.execute_input": "2022-07-09T14:19:54.098649Z",
     "iopub.status.busy": "2022-07-09T14:19:54.097896Z",
     "iopub.status.idle": "2022-07-09T14:19:54.104400Z",
     "shell.execute_reply": "2022-07-09T14:19:54.103639Z"
    },
    "papermill": {
     "duration": 0.012322,
     "end_time": "2022-07-09T14:19:54.106161",
     "exception": false,
     "start_time": "2022-07-09T14:19:54.093839",
     "status": "completed"
    },
    "tags": []
   },
   "outputs": [],
   "source": [
    "# Author: Erik Erlandson <eje@redhat.com>\n",
    "\n",
    "_p2smap = {\"string\": \"varchar\", \"Float64\": \"double\", \"Int64\": \"bigint\"}\n",
    "\n",
    "\n",
    "def pandas_type_to_sql(pt):\n",
    "    st = _p2smap.get(pt)\n",
    "    if st is not None:\n",
    "        return st\n",
    "    raise ValueError(\"unexpected pandas column type '{pt}'\".format(pt=pt))\n",
    "\n",
    "\n",
    "# add ability to specify optional dict for specific fields?\n",
    "# if column name is present, use specified value?\n",
    "def generate_table_schema_pairs(df):\n",
    "    ptypes = [str(e) for e in df.dtypes.to_list()]\n",
    "    stypes = [pandas_type_to_sql(e) for e in ptypes]\n",
    "    pz = list(zip(df.columns.to_list(), stypes))\n",
    "    return \",\\n\".join([\"    {n} {t}\".format(n=e[0], t=e[1]) for e in pz])"
   ]
  },
  {
   "cell_type": "code",
   "execution_count": 7,
   "id": "c5230c3f",
   "metadata": {
    "execution": {
     "iopub.execute_input": "2022-07-09T14:19:54.114045Z",
     "iopub.status.busy": "2022-07-09T14:19:54.113850Z",
     "iopub.status.idle": "2022-07-09T14:19:54.182672Z",
     "shell.execute_reply": "2022-07-09T14:19:54.181833Z"
    },
    "papermill": {
     "duration": 0.0751,
     "end_time": "2022-07-09T14:19:54.184555",
     "exception": false,
     "start_time": "2022-07-09T14:19:54.109455",
     "status": "completed"
    },
    "tags": []
   },
   "outputs": [
    {
     "name": "stdout",
     "output_type": "stream",
     "text": [
      "<class 'pandas.core.frame.DataFrame'>\n",
      "RangeIndex: 166 entries, 0 to 165\n",
      "Data columns (total 10 columns):\n",
      " #   Column                      Non-Null Count  Dtype  \n",
      "---  ------                      --------------  -----  \n",
      " 0   pdf_name                    166 non-null    string \n",
      " 1   kpi                         166 non-null    string \n",
      " 2   kpi_id                      0 non-null      Int64  \n",
      " 3   answer                      166 non-null    string \n",
      " 4   page                        139 non-null    Int64  \n",
      " 5   paragraph                   139 non-null    string \n",
      " 6   source                      166 non-null    string \n",
      " 7   score                       166 non-null    Float64\n",
      " 8   no_ans_score                139 non-null    Float64\n",
      " 9   no_answer_score_plus_boost  139 non-null    Float64\n",
      "dtypes: Float64(3), Int64(2), string(5)\n",
      "memory usage: 13.9 KB\n"
     ]
    }
   ],
   "source": [
    "# a way to examine the structure of a pandas data frame\n",
    "preds_kpi.info(verbose=True)"
   ]
  },
  {
   "cell_type": "markdown",
   "id": "4078824e",
   "metadata": {
    "papermill": {
     "duration": 0.003381,
     "end_time": "2022-07-09T14:19:54.191903",
     "exception": false,
     "start_time": "2022-07-09T14:19:54.188522",
     "status": "completed"
    },
    "tags": []
   },
   "source": [
    "## Save Processed Data to S3\n",
    "\n",
    "Now that our data is in a form ingestible by Trino, we will upload it back into our s3 bucket. This will be the data source for our Trino table."
   ]
  },
  {
   "cell_type": "code",
   "execution_count": 8,
   "id": "72b3795f",
   "metadata": {
    "execution": {
     "iopub.execute_input": "2022-07-09T14:19:54.199820Z",
     "iopub.status.busy": "2022-07-09T14:19:54.199323Z",
     "iopub.status.idle": "2022-07-09T14:19:54.415902Z",
     "shell.execute_reply": "2022-07-09T14:19:54.415051Z"
    },
    "papermill": {
     "duration": 0.22251,
     "end_time": "2022-07-09T14:19:54.417639",
     "exception": false,
     "start_time": "2022-07-09T14:19:54.195129",
     "status": "completed"
    },
    "tags": []
   },
   "outputs": [
    {
     "name": "stdout",
     "output_type": "stream",
     "text": [
      "200\n",
      "200\n"
     ]
    }
   ],
   "source": [
    "# parquet has multiple options for appending or updating data\n",
    "# including adding new files, or appending, sharding directory trees, etc\n",
    "for filename in all_files:\n",
    "    df = pd.read_csv(filename, index_col=None, header=0).convert_dtypes().drop(columns=['Unnamed: 0'],axis=1)\n",
    "    ret = s3c.upload_df_to_s3(\n",
    "        df,\n",
    "        s3_prefix=config.BASE_INFER_KPI_TABLE_S3_PREFIX,\n",
    "        s3_key=f\"{os.path.basename(filename).split('.')[0]}.parquet\",\n",
    "        filetype=S3FileType.PARQUET,\n",
    "        index=False,\n",
    "    )\n",
    "    print(ret['ResponseMetadata']['HTTPStatusCode'])"
   ]
  },
  {
   "cell_type": "markdown",
   "id": "72b8af31",
   "metadata": {
    "papermill": {
     "duration": 0.003403,
     "end_time": "2022-07-09T14:19:54.424980",
     "exception": false,
     "start_time": "2022-07-09T14:19:54.421577",
     "status": "completed"
    },
    "tags": []
   },
   "source": [
    "## Create a Table on Trino\n",
    "\n",
    "Finally, we will create a table in our Trino database that uses the parquet files we uploaded in the previous section as the data source."
   ]
  },
  {
   "cell_type": "code",
   "execution_count": 9,
   "id": "950868a0",
   "metadata": {
    "execution": {
     "iopub.execute_input": "2022-07-09T14:19:54.433924Z",
     "iopub.status.busy": "2022-07-09T14:19:54.433252Z",
     "iopub.status.idle": "2022-07-09T14:19:54.438564Z",
     "shell.execute_reply": "2022-07-09T14:19:54.437748Z"
    },
    "papermill": {
     "duration": 0.043669,
     "end_time": "2022-07-09T14:19:54.472046",
     "exception": false,
     "start_time": "2022-07-09T14:19:54.428377",
     "status": "completed"
    },
    "tags": []
   },
   "outputs": [],
   "source": [
    "# use trino password env-var to hold token values\n",
    "JWT_TOKEN = os.environ['TRINO_PASSWD']\n",
    "conn = trino.dbapi.connect(\n",
    "    host=os.environ['TRINO_HOST'],\n",
    "    port=os.environ['TRINO_PORT'],\n",
    "    user=os.environ['TRINO_USER'],\n",
    "    http_scheme='https',\n",
    "    auth=trino.auth.JWTAuthentication(JWT_TOKEN),\n",
    ")\n",
    "cur = conn.cursor()"
   ]
  },
  {
   "cell_type": "markdown",
   "id": "c6fbdbde",
   "metadata": {
    "tags": [
     "papermill-error-cell-tag"
    ]
   },
   "source": [
    "<span id=\"papermill-error-cell\" style=\"color:red; font-family:Helvetica Neue, Helvetica, Arial, sans-serif; font-size:2em;\">Execution using papermill encountered an exception here and stopped:</span>"
   ]
  },
  {
   "cell_type": "code",
   "execution_count": 10,
   "id": "0d4860b8",
   "metadata": {
    "execution": {
     "iopub.execute_input": "2022-07-09T14:19:54.480404Z",
     "iopub.status.busy": "2022-07-09T14:19:54.479801Z",
     "iopub.status.idle": "2022-07-09T14:19:56.115846Z",
     "shell.execute_reply": "2022-07-09T14:19:56.114480Z"
    },
    "papermill": {
     "duration": 1.641952,
     "end_time": "2022-07-09T14:19:56.117543",
     "exception": true,
     "start_time": "2022-07-09T14:19:54.475591",
     "status": "failed"
    },
    "tags": []
   },
   "outputs": [
    {
     "ename": "HttpError",
     "evalue": "error 401: b'Invalid credentials'",
     "output_type": "error",
     "traceback": [
      "\u001b[0;31m---------------------------------------------------------------------------\u001b[0m",
      "\u001b[0;31mHttpError\u001b[0m                                 Traceback (most recent call last)",
      "Input \u001b[0;32mIn [10]\u001b[0m, in \u001b[0;36m<cell line: 18>\u001b[0;34m()\u001b[0m\n\u001b[1;32m      7\u001b[0m tabledef \u001b[38;5;241m=\u001b[39m \u001b[38;5;124m\"\"\"\u001b[39m\u001b[38;5;124mcreate table if not exists osc_datacommons_dev.urgentem.infer_kpi(\u001b[39m\n\u001b[1;32m      8\u001b[0m \u001b[38;5;132;01m{schema}\u001b[39;00m\n\u001b[1;32m      9\u001b[0m \u001b[38;5;124m) with (\u001b[39m\n\u001b[0;32m   (...)\u001b[0m\n\u001b[1;32m     15\u001b[0m     kpi_table_s3_prefix\u001b[38;5;241m=\u001b[39mconfig\u001b[38;5;241m.\u001b[39mBASE_INFER_KPI_TABLE_S3_PREFIX,\n\u001b[1;32m     16\u001b[0m )\n\u001b[1;32m     17\u001b[0m \u001b[38;5;66;03m# tables created externally may not show up immediately in cloud-beaver\u001b[39;00m\n\u001b[0;32m---> 18\u001b[0m \u001b[43mcur\u001b[49m\u001b[38;5;241;43m.\u001b[39;49m\u001b[43mexecute\u001b[49m\u001b[43m(\u001b[49m\u001b[43mtabledef\u001b[49m\u001b[43m)\u001b[49m\n\u001b[1;32m     19\u001b[0m cur\u001b[38;5;241m.\u001b[39mfetchall()\n",
      "File \u001b[0;32m/opt/app-root/lib64/python3.8/site-packages/trino/dbapi.py:463\u001b[0m, in \u001b[0;36mCursor.execute\u001b[0;34m(self, operation, params)\u001b[0m\n\u001b[1;32m    460\u001b[0m \u001b[38;5;28;01melse\u001b[39;00m:\n\u001b[1;32m    461\u001b[0m     \u001b[38;5;28mself\u001b[39m\u001b[38;5;241m.\u001b[39m_query \u001b[38;5;241m=\u001b[39m trino\u001b[38;5;241m.\u001b[39mclient\u001b[38;5;241m.\u001b[39mTrinoQuery(\u001b[38;5;28mself\u001b[39m\u001b[38;5;241m.\u001b[39m_request, sql\u001b[38;5;241m=\u001b[39moperation,\n\u001b[1;32m    462\u001b[0m                                           experimental_python_types\u001b[38;5;241m=\u001b[39m\u001b[38;5;28mself\u001b[39m\u001b[38;5;241m.\u001b[39m_experimental_pyton_types)\n\u001b[0;32m--> 463\u001b[0m     result \u001b[38;5;241m=\u001b[39m \u001b[38;5;28;43mself\u001b[39;49m\u001b[38;5;241;43m.\u001b[39;49m\u001b[43m_query\u001b[49m\u001b[38;5;241;43m.\u001b[39;49m\u001b[43mexecute\u001b[49m\u001b[43m(\u001b[49m\u001b[43m)\u001b[49m\n\u001b[1;32m    464\u001b[0m \u001b[38;5;28mself\u001b[39m\u001b[38;5;241m.\u001b[39m_iterator \u001b[38;5;241m=\u001b[39m \u001b[38;5;28miter\u001b[39m(result)\n\u001b[1;32m    465\u001b[0m \u001b[38;5;28;01mreturn\u001b[39;00m result\n",
      "File \u001b[0;32m/opt/app-root/lib64/python3.8/site-packages/trino/client.py:617\u001b[0m, in \u001b[0;36mTrinoQuery.execute\u001b[0;34m(self, additional_http_headers)\u001b[0m\n\u001b[1;32m    614\u001b[0m     \u001b[38;5;28;01mraise\u001b[39;00m exceptions\u001b[38;5;241m.\u001b[39mTrinoUserError(\u001b[38;5;124m\"\u001b[39m\u001b[38;5;124mQuery has been cancelled\u001b[39m\u001b[38;5;124m\"\u001b[39m, \u001b[38;5;28mself\u001b[39m\u001b[38;5;241m.\u001b[39mquery_id)\n\u001b[1;32m    616\u001b[0m response \u001b[38;5;241m=\u001b[39m \u001b[38;5;28mself\u001b[39m\u001b[38;5;241m.\u001b[39m_request\u001b[38;5;241m.\u001b[39mpost(\u001b[38;5;28mself\u001b[39m\u001b[38;5;241m.\u001b[39m_sql, additional_http_headers)\n\u001b[0;32m--> 617\u001b[0m status \u001b[38;5;241m=\u001b[39m \u001b[38;5;28;43mself\u001b[39;49m\u001b[38;5;241;43m.\u001b[39;49m\u001b[43m_request\u001b[49m\u001b[38;5;241;43m.\u001b[39;49m\u001b[43mprocess\u001b[49m\u001b[43m(\u001b[49m\u001b[43mresponse\u001b[49m\u001b[43m)\u001b[49m\n\u001b[1;32m    618\u001b[0m \u001b[38;5;28mself\u001b[39m\u001b[38;5;241m.\u001b[39m_info_uri \u001b[38;5;241m=\u001b[39m status\u001b[38;5;241m.\u001b[39minfo_uri\n\u001b[1;32m    619\u001b[0m \u001b[38;5;28mself\u001b[39m\u001b[38;5;241m.\u001b[39mquery_id \u001b[38;5;241m=\u001b[39m status\u001b[38;5;241m.\u001b[39mid\n",
      "File \u001b[0;32m/opt/app-root/lib64/python3.8/site-packages/trino/client.py:423\u001b[0m, in \u001b[0;36mTrinoRequest.process\u001b[0;34m(self, http_response)\u001b[0m\n\u001b[1;32m    421\u001b[0m \u001b[38;5;28;01mdef\u001b[39;00m \u001b[38;5;21mprocess\u001b[39m(\u001b[38;5;28mself\u001b[39m, http_response) \u001b[38;5;241m-\u001b[39m\u001b[38;5;241m>\u001b[39m TrinoStatus:\n\u001b[1;32m    422\u001b[0m     \u001b[38;5;28;01mif\u001b[39;00m \u001b[38;5;129;01mnot\u001b[39;00m http_response\u001b[38;5;241m.\u001b[39mok:\n\u001b[0;32m--> 423\u001b[0m         \u001b[38;5;28;43mself\u001b[39;49m\u001b[38;5;241;43m.\u001b[39;49m\u001b[43mraise_response_error\u001b[49m\u001b[43m(\u001b[49m\u001b[43mhttp_response\u001b[49m\u001b[43m)\u001b[49m\n\u001b[1;32m    425\u001b[0m     http_response\u001b[38;5;241m.\u001b[39mencoding \u001b[38;5;241m=\u001b[39m \u001b[38;5;124m\"\u001b[39m\u001b[38;5;124mutf-8\u001b[39m\u001b[38;5;124m\"\u001b[39m\n\u001b[1;32m    426\u001b[0m     response \u001b[38;5;241m=\u001b[39m http_response\u001b[38;5;241m.\u001b[39mjson()\n",
      "File \u001b[0;32m/opt/app-root/lib64/python3.8/site-packages/trino/client.py:414\u001b[0m, in \u001b[0;36mTrinoRequest.raise_response_error\u001b[0;34m(self, http_response)\u001b[0m\n\u001b[1;32m    411\u001b[0m \u001b[38;5;28;01mif\u001b[39;00m http_response\u001b[38;5;241m.\u001b[39mstatus_code \u001b[38;5;241m==\u001b[39m \u001b[38;5;241m504\u001b[39m:\n\u001b[1;32m    412\u001b[0m     \u001b[38;5;28;01mraise\u001b[39;00m exceptions\u001b[38;5;241m.\u001b[39mHttp504Error(\u001b[38;5;124m\"\u001b[39m\u001b[38;5;124merror 504: gateway timeout\u001b[39m\u001b[38;5;124m\"\u001b[39m)\n\u001b[0;32m--> 414\u001b[0m \u001b[38;5;28;01mraise\u001b[39;00m exceptions\u001b[38;5;241m.\u001b[39mHttpError(\n\u001b[1;32m    415\u001b[0m     \u001b[38;5;124m\"\u001b[39m\u001b[38;5;124merror \u001b[39m\u001b[38;5;132;01m{}\u001b[39;00m\u001b[38;5;132;01m{}\u001b[39;00m\u001b[38;5;124m\"\u001b[39m\u001b[38;5;241m.\u001b[39mformat(\n\u001b[1;32m    416\u001b[0m         http_response\u001b[38;5;241m.\u001b[39mstatus_code,\n\u001b[1;32m    417\u001b[0m         \u001b[38;5;124m\"\u001b[39m\u001b[38;5;124m: \u001b[39m\u001b[38;5;132;01m{}\u001b[39;00m\u001b[38;5;124m\"\u001b[39m\u001b[38;5;241m.\u001b[39mformat(http_response\u001b[38;5;241m.\u001b[39mcontent) \u001b[38;5;28;01mif\u001b[39;00m http_response\u001b[38;5;241m.\u001b[39mcontent \u001b[38;5;28;01melse\u001b[39;00m \u001b[38;5;124m\"\u001b[39m\u001b[38;5;124m\"\u001b[39m,\n\u001b[1;32m    418\u001b[0m     )\n\u001b[1;32m    419\u001b[0m )\n",
      "\u001b[0;31mHttpError\u001b[0m: error 401: b'Invalid credentials'"
     ]
    }
   ],
   "source": [
    "# generate a sql schema that will correspond to the data types\n",
    "# of columns in the pandas DF\n",
    "# to-do: add some mechanisms for overriding types, either here\n",
    "# or on the pandas data-frame itself before we write it out\n",
    "schema = generate_table_schema_pairs(preds_kpi)\n",
    "\n",
    "tabledef = \"\"\"create table if not exists osc_datacommons_dev.urgentem.infer_kpi(\n",
    "{schema}\n",
    ") with (\n",
    "    format = 'parquet',\n",
    "    external_location = 's3a://{s3_bucket}/{kpi_table_s3_prefix}/'\n",
    ")\"\"\".format(\n",
    "    schema=schema,\n",
    "    s3_bucket=os.environ[\"S3_BUCKET\"],\n",
    "    kpi_table_s3_prefix=config.BASE_INFER_KPI_TABLE_S3_PREFIX,\n",
    ")\n",
    "# tables created externally may not show up immediately in cloud-beaver\n",
    "cur.execute(tabledef)\n",
    "cur.fetchall()"
   ]
  },
  {
   "cell_type": "code",
   "execution_count": null,
   "id": "ee568250",
   "metadata": {
    "papermill": {
     "duration": null,
     "end_time": null,
     "exception": null,
     "start_time": null,
     "status": "pending"
    },
    "tags": []
   },
   "outputs": [],
   "source": [
    "## Check if infer_kpi table is there\n",
    "cur.execute(\"select * from osc_datacommons_dev.urgentem.infer_kpi LIMIT 5\")\n",
    "cur.fetchall()[1]"
   ]
  },
  {
   "cell_type": "markdown",
   "id": "85d0d0a0",
   "metadata": {
    "papermill": {
     "duration": null,
     "end_time": null,
     "exception": null,
     "start_time": null,
     "status": "pending"
    },
    "tags": []
   },
   "source": [
    "# Conclusion\n",
    "\n",
    "In this notebook, we read inference for KPI sustainability report, 2019 which follows the same format as the output of the KPI Inference model in Demo 2. After reading the report, we automatically infer the data schema from the report, preprocess it and create a table in trino that could be used for visualization in Apache Superset."
   ]
  }
 ],
 "metadata": {
  "kernelspec": {
   "display_name": "Python 3 (ipykernel)",
   "language": "python",
   "name": "python3"
  },
  "language_info": {
   "codemirror_mode": {
    "name": "ipython",
    "version": 3
   },
   "file_extension": ".py",
   "mimetype": "text/x-python",
   "name": "python",
   "nbconvert_exporter": "python",
   "pygments_lexer": "ipython3",
   "version": "3.8.8"
  },
  "papermill": {
   "default_parameters": {},
   "duration": 6.820689,
   "end_time": "2022-07-09T14:19:56.892036",
   "environment_variables": {},
   "exception": true,
   "input_path": "/opt/app-root/src/aicoe-osc-demo/notebooks/demo2/create_results_table.ipynb",
   "output_path": "/opt/app-root/src/aicoe-osc-demo/notebooks/demo2/create_results_table.ipynb",
   "parameters": {},
   "start_time": "2022-07-09T14:19:50.071347",
   "version": "2.3.4"
  }
 },
 "nbformat": 4,
 "nbformat_minor": 5
}
